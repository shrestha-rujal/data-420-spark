{
 "cells": [
  {
   "cell_type": "markdown",
   "id": "a6995bc8-e95a-417b-9705-729c90308545",
   "metadata": {},
   "source": [
    "## Question 1(a)"
   ]
  },
  {
   "cell_type": "code",
   "execution_count": null,
   "id": "ea4ce56a-43a7-45bd-b976-1eb1f838439a",
   "metadata": {},
   "outputs": [],
   "source": []
  }
 ],
 "metadata": {
  "kernelspec": {
   "display_name": "Python 3 (ipykernel)",
   "language": "python",
   "name": "python3"
  },
  "language_info": {
   "codemirror_mode": {
    "name": "ipython",
    "version": 3
   },
   "file_extension": ".py",
   "mimetype": "text/x-python",
   "name": "python",
   "nbconvert_exporter": "python",
   "pygments_lexer": "ipython3",
   "version": "3.8.10"
  }
 },
 "nbformat": 4,
 "nbformat_minor": 5
}
