{
 "cells": [
  {
   "cell_type": "markdown",
   "id": "30bbb004-5a22-4f65-b400-cb2bc3edf217",
   "metadata": {},
   "source": [
    "### Spark notebook ###\n",
    "\n",
    "This notebook will only work in a Jupyter notebook or Jupyter lab session running on the cluster master node in the cloud.\n",
    "\n",
    "Follow the instructions on the computing resources page to start a cluster and open this notebook.\n",
    "\n",
    "**Steps**\n",
    "\n",
    "1. Connect to the Windows server using Windows App.\n",
    "2. Connect to Kubernetes.\n",
    "3. Start Jupyter and open this notebook from Jupyter in order to connect to Spark."
   ]
  },
  {
   "cell_type": "code",
   "execution_count": 1,
   "id": "017705b0-281d-4565-abe1-852ebc5ca888",
   "metadata": {},
   "outputs": [
    {
     "data": {
      "text/html": [
       "<style>pre { white-space: pre !important; }table.dataframe td { white-space: nowrap !important; }table.dataframe thead th:first-child, table.dataframe tbody th { display: none; }</style>"
      ],
      "text/plain": [
       "<IPython.core.display.HTML object>"
      ]
     },
     "metadata": {},
     "output_type": "display_data"
    }
   ],
   "source": [
    "# Run this cell to import pyspark and to define start_spark() and stop_spark()\n",
    "\n",
    "import findspark\n",
    "\n",
    "findspark.init()\n",
    "\n",
    "import getpass\n",
    "import pandas\n",
    "import pyspark\n",
    "import random\n",
    "import re\n",
    "\n",
    "from IPython.display import display, HTML\n",
    "from pyspark import SparkContext\n",
    "from pyspark.sql import SparkSession\n",
    "import pyspark.sql.functions as F\n",
    "\n",
    "\n",
    "# Constants used to interact with Azure Blob Storage using the hdfs command or Spark\n",
    "\n",
    "global username\n",
    "\n",
    "username = re.sub('@.*', '', getpass.getuser())\n",
    "\n",
    "global azure_account_name\n",
    "global azure_data_container_name\n",
    "global azure_user_container_name\n",
    "global azure_user_token\n",
    "\n",
    "azure_account_name = \"madsstorage002\"\n",
    "azure_data_container_name = \"campus-data\"\n",
    "azure_user_container_name = \"campus-user\"\n",
    "azure_user_token = r\"sp=racwdl&st=2025-08-01T09:41:33Z&se=2026-12-30T16:56:33Z&spr=https&sv=2024-11-04&sr=c&sig=GzR1hq7EJ0lRHj92oDO1MBNjkc602nrpfB5H8Cl7FFY%3D\"\n",
    "\n",
    "\n",
    "# Functions used below\n",
    "\n",
    "def dict_to_html(d):\n",
    "    \"\"\"Convert a Python dictionary into a two column table for display.\n",
    "    \"\"\"\n",
    "\n",
    "    html = []\n",
    "\n",
    "    html.append(f'<table width=\"100%\" style=\"width:100%; font-family: monospace;\">')\n",
    "    for k, v in d.items():\n",
    "        html.append(f'<tr><td style=\"text-align:left;\">{k}</td><td>{v}</td></tr>')\n",
    "    html.append(f'</table>')\n",
    "\n",
    "    return ''.join(html)\n",
    "\n",
    "\n",
    "def show_as_html(df, n=20):\n",
    "    \"\"\"Leverage existing pandas jupyter integration to show a spark dataframe as html.\n",
    "    \n",
    "    Args:\n",
    "        n (int): number of rows to show (default: 20)\n",
    "    \"\"\"\n",
    "\n",
    "    display(df.limit(n).toPandas())\n",
    "\n",
    "    \n",
    "def display_spark():\n",
    "    \"\"\"Display the status of the active Spark session if one is currently running.\n",
    "    \"\"\"\n",
    "    \n",
    "    if 'spark' in globals() and 'sc' in globals():\n",
    "\n",
    "        name = sc.getConf().get(\"spark.app.name\")\n",
    "\n",
    "        html = [\n",
    "            f'<p><b>Spark</b></p>',\n",
    "            f'<p>The spark session is <b><span style=\"color:green\">active</span></b>, look for <code>{name}</code> under the running applications section in the Spark UI.</p>',\n",
    "            f'<ul>',\n",
    "            f'<li><a href=\"http://localhost:{sc.uiWebUrl.split(\":\")[-1]}\" target=\"_blank\">Spark Application UI</a></li>',\n",
    "            f'</ul>',\n",
    "            f'<p><b>Config</b></p>',\n",
    "            dict_to_html(dict(sc.getConf().getAll())),\n",
    "            f'<p><b>Notes</b></p>',\n",
    "            f'<ul>',\n",
    "            f'<li>The spark session <code>spark</code> and spark context <code>sc</code> global variables have been defined by <code>start_spark()</code>.</li>',\n",
    "            f'<li>Please run <code>stop_spark()</code> before closing the notebook or restarting the kernel or kill <code>{name}</code> by hand using the link in the Spark UI.</li>',\n",
    "            f'</ul>',\n",
    "        ]\n",
    "        display(HTML(''.join(html)))\n",
    "        \n",
    "    else:\n",
    "        \n",
    "        html = [\n",
    "            f'<p><b>Spark</b></p>',\n",
    "            f'<p>The spark session is <b><span style=\"color:red\">stopped</span></b>, confirm that <code>{username} (notebook)</code> is under the completed applications section in the Spark UI.</p>',\n",
    "            f'<ul>',\n",
    "            f'<li><a href=\"http://mathmadslinux2p.canterbury.ac.nz:8080/\" target=\"_blank\">Spark UI</a></li>',\n",
    "            f'</ul>',\n",
    "        ]\n",
    "        display(HTML(''.join(html)))\n",
    "\n",
    "\n",
    "# Functions to start and stop spark\n",
    "\n",
    "def start_spark(executor_instances=2, executor_cores=1, worker_memory=1, master_memory=1):\n",
    "    \"\"\"Start a new Spark session and define globals for SparkSession (spark) and SparkContext (sc).\n",
    "    \n",
    "    Args:\n",
    "        executor_instances (int): number of executors (default: 2)\n",
    "        executor_cores (int): number of cores per executor (default: 1)\n",
    "        worker_memory (float): worker memory (default: 1)\n",
    "        master_memory (float): master memory (default: 1)\n",
    "    \"\"\"\n",
    "\n",
    "    global spark\n",
    "    global sc\n",
    "\n",
    "    cores = executor_instances * executor_cores\n",
    "    partitions = cores * 4\n",
    "    port = 4000 + random.randint(1, 999)\n",
    "\n",
    "    spark = (\n",
    "        SparkSession.builder\n",
    "        .config(\"spark.driver.extraJavaOptions\", f\"-Dderby.system.home=/tmp/{username}/spark/\")\n",
    "        .config(\"spark.dynamicAllocation.enabled\", \"false\")\n",
    "        .config(\"spark.executor.instances\", str(executor_instances))\n",
    "        .config(\"spark.executor.cores\", str(executor_cores))\n",
    "        .config(\"spark.cores.max\", str(cores))\n",
    "        .config(\"spark.driver.memory\", f'{master_memory}g')\n",
    "        .config(\"spark.executor.memory\", f'{worker_memory}g')\n",
    "        .config(\"spark.driver.maxResultSize\", \"0\")\n",
    "        .config(\"spark.sql.shuffle.partitions\", str(partitions))\n",
    "        .config(\"spark.kubernetes.container.image\", \"madsregistry001.azurecr.io/hadoop-spark:v3.3.5-openjdk-8\")\n",
    "        .config(\"spark.kubernetes.container.image.pullPolicy\", \"IfNotPresent\")\n",
    "        .config(\"spark.kubernetes.memoryOverheadFactor\", \"0.3\")\n",
    "        .config(\"spark.memory.fraction\", \"0.1\")\n",
    "        .config(f\"fs.azure.sas.{azure_user_container_name}.{azure_account_name}.blob.core.windows.net\",  azure_user_token)\n",
    "        .config(\"spark.app.name\", f\"{username} (notebook)\")\n",
    "        .getOrCreate()\n",
    "    )\n",
    "    sc = SparkContext.getOrCreate()\n",
    "    \n",
    "    display_spark()\n",
    "\n",
    "    \n",
    "def stop_spark():\n",
    "    \"\"\"Stop the active Spark session and delete globals for SparkSession (spark) and SparkContext (sc).\n",
    "    \"\"\"\n",
    "\n",
    "    global spark\n",
    "    global sc\n",
    "\n",
    "    if 'spark' in globals() and 'sc' in globals():\n",
    "\n",
    "        spark.stop()\n",
    "\n",
    "        del spark\n",
    "        del sc\n",
    "\n",
    "    display_spark()\n",
    "\n",
    "\n",
    "# Make css changes to improve spark output readability\n",
    "\n",
    "html = [\n",
    "    '<style>',\n",
    "    'pre { white-space: pre !important; }',\n",
    "    'table.dataframe td { white-space: nowrap !important; }',\n",
    "    'table.dataframe thead th:first-child, table.dataframe tbody th { display: none; }',\n",
    "    '</style>',\n",
    "]\n",
    "display(HTML(''.join(html)))"
   ]
  },
  {
   "cell_type": "markdown",
   "id": "e59e2f6d-f8f0-4150-8eec-e5bb2b0471e4",
   "metadata": {},
   "source": [
    "### Assignment 1 ###\n",
    "\n",
    "The code below demonstrates how to explore and load the data provided for the assignment from Azure Blob Storage and how to save any outputs that you generate to a separate user container.\n",
    "\n",
    "**Key points**\n",
    "\n",
    "- The data provided for the assignment is stored in Azure Blob Storage and outputs that you generate will be stored in Azure Blob Storage as well. Hadoop and Spark can both interact with Azure Blob Storage similar to how they interact with HDFS, but where the replication and distribution is handled by Azure instead. This makes it possible to read or write data in Azure over HTTPS where the path is prefixed by `wasbs://`.\n",
    "- There are two containers, one for the data which is read only and one for any outputs that you generate,\n",
    "  - `wasbs://campus-data@madsstorage002.blob.core.windows.net/`\n",
    "  - `wasbs://campus-user@madsstorage002.blob.core.windows.net/`\n",
    "- You can use variable interpolation to insert your global username variable into paths automatically.\n",
    "  - This works for bash commands as well."
   ]
  },
  {
   "cell_type": "code",
   "execution_count": 2,
   "id": "f06343f5-a638-4f7f-ade5-5f564a068bc0",
   "metadata": {
    "scrolled": true
   },
   "outputs": [
    {
     "name": "stderr",
     "output_type": "stream",
     "text": [
      "Warning: Ignoring non-Spark config property: fs.azure.sas.campus-user.madsstorage002.blob.core.windows.net\n",
      "Warning: Ignoring non-Spark config property: SPARK_DRIVER_BIND_ADDRESS\n",
      "25/09/11 12:32:30 WARN NativeCodeLoader: Unable to load native-hadoop library for your platform... using builtin-java classes where applicable\n",
      "Setting default log level to \"WARN\".\n",
      "To adjust logging level use sc.setLogLevel(newLevel). For SparkR, use setLogLevel(newLevel).\n"
     ]
    },
    {
     "data": {
      "text/html": [
       "<p><b>Spark</b></p><p>The spark session is <b><span style=\"color:green\">active</span></b>, look for <code>rsh224 (notebook)</code> under the running applications section in the Spark UI.</p><ul><li><a href=\"http://localhost:4044\" target=\"_blank\">Spark Application UI</a></li></ul><p><b>Config</b></p><table width=\"100%\" style=\"width:100%; font-family: monospace;\"><tr><td style=\"text-align:left;\">spark.app.submitTime</td><td>1757550750344</td></tr><tr><td style=\"text-align:left;\">spark.dynamicAllocation.enabled</td><td>false</td></tr><tr><td style=\"text-align:left;\">spark.fs.azure.sas.uco-user.madsstorage002.blob.core.windows.net</td><td>\"sp=racwdl&st=2024-09-19T08:00:18Z&se=2025-09-19T16:00:18Z&spr=https&sv=2022-11-02&sr=c&sig=qtg6fCdoFz6k3EJLw7dA8D3D8wN0neAYw8yG4z4Lw2o%3D\"</td></tr><tr><td style=\"text-align:left;\">spark.kubernetes.driver.pod.name</td><td>spark-master-driver</td></tr><tr><td style=\"text-align:left;\">spark.executor.instances</td><td>4</td></tr><tr><td style=\"text-align:left;\">spark.app.startTime</td><td>1757550750466</td></tr><tr><td style=\"text-align:left;\">spark.driver.memory</td><td>4g</td></tr><tr><td style=\"text-align:left;\">spark.app.name</td><td>rsh224 (notebook)</td></tr><tr><td style=\"text-align:left;\">spark.fs.azure.sas.campus-user.madsstorage002.blob.core.windows.net</td><td>\"sp=racwdl&st=2024-09-19T08:03:31Z&se=2025-09-19T16:03:31Z&spr=https&sv=2022-11-02&sr=c&sig=kMP%2BsBsRzdVVR8rrg%2BNbDhkRBNs6Q98kYY695XMRFDU%3D\"</td></tr><tr><td style=\"text-align:left;\">spark.kubernetes.container.image.pullPolicy</td><td>IfNotPresent</td></tr><tr><td style=\"text-align:left;\">spark.kubernetes.namespace</td><td>rsh224</td></tr><tr><td style=\"text-align:left;\">spark.sql.shuffle.partitions</td><td>32</td></tr><tr><td style=\"text-align:left;\">spark.kubernetes.executor.podNamePrefix</td><td>rsh224-notebook-18f25b9936302e1c</td></tr><tr><td style=\"text-align:left;\">spark.serializer.objectStreamReset</td><td>100</td></tr><tr><td style=\"text-align:left;\">spark.driver.maxResultSize</td><td>0</td></tr><tr><td style=\"text-align:left;\">spark.submit.deployMode</td><td>client</td></tr><tr><td style=\"text-align:left;\">spark.master</td><td>k8s://https://kubernetes.default.svc.cluster.local:443</td></tr><tr><td style=\"text-align:left;\">spark.fs.azure</td><td>org.apache.hadoop.fs.azure.NativeAzureFileSystem</td></tr><tr><td style=\"text-align:left;\">spark.app.id</td><td>spark-be52080d9f1c44bd9ec411aaee5403e4</td></tr><tr><td style=\"text-align:left;\">spark.driver.extraJavaOptions</td><td>-Djava.net.preferIPv6Addresses=false -XX:+IgnoreUnrecognizedVMOptions --add-opens=java.base/java.lang=ALL-UNNAMED --add-opens=java.base/java.lang.invoke=ALL-UNNAMED --add-opens=java.base/java.lang.reflect=ALL-UNNAMED --add-opens=java.base/java.io=ALL-UNNAMED --add-opens=java.base/java.net=ALL-UNNAMED --add-opens=java.base/java.nio=ALL-UNNAMED --add-opens=java.base/java.util=ALL-UNNAMED --add-opens=java.base/java.util.concurrent=ALL-UNNAMED --add-opens=java.base/java.util.concurrent.atomic=ALL-UNNAMED --add-opens=java.base/jdk.internal.ref=ALL-UNNAMED --add-opens=java.base/sun.nio.ch=ALL-UNNAMED --add-opens=java.base/sun.nio.cs=ALL-UNNAMED --add-opens=java.base/sun.security.action=ALL-UNNAMED --add-opens=java.base/sun.util.calendar=ALL-UNNAMED --add-opens=java.security.jgss/sun.security.krb5=ALL-UNNAMED -Djdk.reflect.useDirectMethodHandle=false -Dderby.system.home=/tmp/rsh224/spark/</td></tr><tr><td style=\"text-align:left;\">spark.memory.fraction</td><td>0.1</td></tr><tr><td style=\"text-align:left;\">spark.executor.memory</td><td>4g</td></tr><tr><td style=\"text-align:left;\">spark.executor.id</td><td>driver</td></tr><tr><td style=\"text-align:left;\">spark.kubernetes.executor.container.image</td><td>madsregistry001.azurecr.io/hadoop-spark:v3.3.5-openjdk-8-1.0.16</td></tr><tr><td style=\"text-align:left;\">spark.executor.cores</td><td>2</td></tr><tr><td style=\"text-align:left;\">spark.kubernetes.memoryOverheadFactor</td><td>0.3</td></tr><tr><td style=\"text-align:left;\">spark.driver.host</td><td>spark-master-svc</td></tr><tr><td style=\"text-align:left;\">spark.ui.port</td><td>${env:SPARK_UI_PORT}</td></tr><tr><td style=\"text-align:left;\">spark.kubernetes.container.image</td><td>madsregistry001.azurecr.io/hadoop-spark:v3.3.5-openjdk-8</td></tr><tr><td style=\"text-align:left;\">spark.kubernetes.executor.podTemplateFile</td><td>/opt/spark/conf/executor-pod-template.yaml</td></tr><tr><td style=\"text-align:left;\">fs.azure.sas.campus-user.madsstorage002.blob.core.windows.net</td><td>sp=racwdl&st=2025-08-01T09:41:33Z&se=2026-12-30T16:56:33Z&spr=https&sv=2024-11-04&sr=c&sig=GzR1hq7EJ0lRHj92oDO1MBNjkc602nrpfB5H8Cl7FFY%3D</td></tr><tr><td style=\"text-align:left;\">spark.rdd.compress</td><td>True</td></tr><tr><td style=\"text-align:left;\">spark.executor.extraJavaOptions</td><td>-Djava.net.preferIPv6Addresses=false -XX:+IgnoreUnrecognizedVMOptions --add-opens=java.base/java.lang=ALL-UNNAMED --add-opens=java.base/java.lang.invoke=ALL-UNNAMED --add-opens=java.base/java.lang.reflect=ALL-UNNAMED --add-opens=java.base/java.io=ALL-UNNAMED --add-opens=java.base/java.net=ALL-UNNAMED --add-opens=java.base/java.nio=ALL-UNNAMED --add-opens=java.base/java.util=ALL-UNNAMED --add-opens=java.base/java.util.concurrent=ALL-UNNAMED --add-opens=java.base/java.util.concurrent.atomic=ALL-UNNAMED --add-opens=java.base/jdk.internal.ref=ALL-UNNAMED --add-opens=java.base/sun.nio.ch=ALL-UNNAMED --add-opens=java.base/sun.nio.cs=ALL-UNNAMED --add-opens=java.base/sun.security.action=ALL-UNNAMED --add-opens=java.base/sun.util.calendar=ALL-UNNAMED --add-opens=java.security.jgss/sun.security.krb5=ALL-UNNAMED -Djdk.reflect.useDirectMethodHandle=false</td></tr><tr><td style=\"text-align:left;\">spark.cores.max</td><td>8</td></tr><tr><td style=\"text-align:left;\">spark.driver.port</td><td>7077</td></tr><tr><td style=\"text-align:left;\">spark.submit.pyFiles</td><td></td></tr><tr><td style=\"text-align:left;\">spark.ui.showConsoleProgress</td><td>true</td></tr></table><p><b>Notes</b></p><ul><li>The spark session <code>spark</code> and spark context <code>sc</code> global variables have been defined by <code>start_spark()</code>.</li><li>Please run <code>stop_spark()</code> before closing the notebook or restarting the kernel or kill <code>rsh224 (notebook)</code> by hand using the link in the Spark UI.</li></ul>"
      ],
      "text/plain": [
       "<IPython.core.display.HTML object>"
      ]
     },
     "metadata": {},
     "output_type": "display_data"
    }
   ],
   "source": [
    "# Run this cell to start a spark session in this notebook\n",
    "\n",
    "start_spark(executor_instances=4, executor_cores=2, worker_memory=4, master_memory=4)"
   ]
  },
  {
   "cell_type": "code",
   "execution_count": 3,
   "id": "a00a161b-0750-4616-8ecd-7b908e37aa7e",
   "metadata": {},
   "outputs": [],
   "source": [
    "# Write your imports here or insert cells below\n",
    "\n",
    "from pyspark.sql import functions as F\n",
    "from pyspark.sql.types import *"
   ]
  },
  {
   "cell_type": "code",
   "execution_count": 4,
   "id": "82f471d7-0c71-4c69-919f-fe3e71aadf18",
   "metadata": {},
   "outputs": [],
   "source": [
    "directory_path = f'wasbs://{azure_data_container_name}@{azure_account_name}.blob.core.windows.net/ghcnd'"
   ]
  },
  {
   "cell_type": "code",
   "execution_count": 5,
   "id": "6c17a55d-1556-4079-88c8-cb56f5dadebf",
   "metadata": {},
   "outputs": [
    {
     "name": "stdout",
     "output_type": "stream",
     "text": [
      "wasbs://campus-data@madsstorage002.blob.core.windows.net/ghcnd/daily/2025.csv.gz\n"
     ]
    }
   ],
   "source": [
    "# Define the input path for the last year in daily\n",
    "\n",
    "daily_relative_path = f'ghcnd/daily/2025.csv.gz'\n",
    "daily_path = f'wasbs://{azure_data_container_name}@{azure_account_name}.blob.core.windows.net/{daily_relative_path}'\n",
    "\n",
    "print(daily_path)"
   ]
  },
  {
   "cell_type": "code",
   "execution_count": 6,
   "id": "5926e311-de42-46e2-a907-a082659f11f1",
   "metadata": {
    "scrolled": true
   },
   "outputs": [
    {
     "name": "stdout",
     "output_type": "stream",
     "text": [
      "<class 'pyspark.sql.dataframe.DataFrame'>\n",
      "root\n",
      " |-- ID: string (nullable = true)\n",
      " |-- DATE: string (nullable = true)\n",
      " |-- ELEMENT: string (nullable = true)\n",
      " |-- VALUE: double (nullable = true)\n",
      " |-- MEASUREMENT: string (nullable = true)\n",
      " |-- QUALITY: string (nullable = true)\n",
      " |-- SOURCE: string (nullable = true)\n",
      " |-- TIME: string (nullable = true)\n",
      "\n",
      "DataFrame[ID: string, DATE: string, ELEMENT: string, VALUE: double, MEASUREMENT: string, QUALITY: string, SOURCE: string, TIME: string]\n"
     ]
    },
    {
     "name": "stderr",
     "output_type": "stream",
     "text": [
      "                                                                                "
     ]
    },
    {
     "name": "stdout",
     "output_type": "stream",
     "text": [
      "+-----------+--------+-------+------+-----------+-------+------+----+\n",
      "|ID         |DATE    |ELEMENT|VALUE |MEASUREMENT|QUALITY|SOURCE|TIME|\n",
      "+-----------+--------+-------+------+-----------+-------+------+----+\n",
      "|ASN00030019|20100101|PRCP   |24.0  |NULL       |NULL   |a     |NULL|\n",
      "|ASN00030021|20100101|PRCP   |200.0 |NULL       |NULL   |a     |NULL|\n",
      "|ASN00030022|20100101|TMAX   |294.0 |NULL       |NULL   |a     |NULL|\n",
      "|ASN00030022|20100101|TMIN   |215.0 |NULL       |NULL   |a     |NULL|\n",
      "|ASN00030022|20100101|PRCP   |408.0 |NULL       |NULL   |a     |NULL|\n",
      "|ASN00029121|20100101|PRCP   |820.0 |NULL       |NULL   |a     |NULL|\n",
      "|ASN00029126|20100101|TMAX   |371.0 |NULL       |NULL   |S     |NULL|\n",
      "|ASN00029126|20100101|TMIN   |225.0 |NULL       |NULL   |S     |NULL|\n",
      "|ASN00029126|20100101|PRCP   |0.0   |NULL       |NULL   |a     |NULL|\n",
      "|ASN00029126|20100101|TAVG   |298.0 |H          |NULL   |S     |NULL|\n",
      "|ASN00029127|20100101|TMAX   |371.0 |NULL       |NULL   |a     |NULL|\n",
      "|ASN00029127|20100101|TMIN   |225.0 |NULL       |NULL   |a     |NULL|\n",
      "|ASN00029127|20100101|PRCP   |8.0   |NULL       |NULL   |a     |NULL|\n",
      "|ASN00029129|20100101|PRCP   |174.0 |NULL       |NULL   |a     |NULL|\n",
      "|ASN00029130|20100101|PRCP   |86.0  |NULL       |NULL   |a     |NULL|\n",
      "|ASN00029131|20100101|PRCP   |56.0  |NULL       |NULL   |a     |NULL|\n",
      "|ASN00029132|20100101|PRCP   |800.0 |NULL       |NULL   |a     |NULL|\n",
      "|ASN00029136|20100101|PRCP   |22.0  |NULL       |NULL   |a     |NULL|\n",
      "|ASN00029137|20100101|PRCP   |0.0   |NULL       |NULL   |a     |NULL|\n",
      "|ASN00029139|20100101|TMAX   |298.0 |NULL       |NULL   |a     |NULL|\n",
      "|ASN00029139|20100101|TMIN   |270.0 |NULL       |NULL   |a     |NULL|\n",
      "|ASN00029139|20100101|PRCP   |30.0  |NULL       |NULL   |a     |NULL|\n",
      "|ASN00029141|20100101|TMAX   |360.0 |NULL       |NULL   |a     |NULL|\n",
      "|ASN00029141|20100101|TMIN   |249.0 |NULL       |NULL   |a     |NULL|\n",
      "|ASN00029141|20100101|PRCP   |12.0  |NULL       |NULL   |a     |NULL|\n",
      "|ASN00029150|20100101|PRCP   |84.0  |NULL       |NULL   |a     |NULL|\n",
      "|ASN00029152|20100101|PRCP   |560.0 |NULL       |NULL   |a     |NULL|\n",
      "|ASN00029154|20100101|PRCP   |420.0 |NULL       |NULL   |a     |NULL|\n",
      "|ASN00029161|20100101|PRCP   |40.0  |NULL       |NULL   |a     |NULL|\n",
      "|ASN00029163|20100101|PRCP   |70.0  |NULL       |NULL   |a     |NULL|\n",
      "|ASN00029167|20100101|TMAX   |334.0 |NULL       |NULL   |a     |NULL|\n",
      "|ASN00029167|20100101|TMIN   |242.0 |NULL       |NULL   |a     |NULL|\n",
      "|ASN00029167|20100101|PRCP   |166.0 |NULL       |NULL   |a     |NULL|\n",
      "|ASN00029069|20100101|PRCP   |40.0  |NULL       |NULL   |a     |NULL|\n",
      "|ASN00029077|20100101|TMAX   |292.0 |NULL       |NULL   |a     |NULL|\n",
      "|ASN00029077|20100101|TMIN   |259.0 |NULL       |NULL   |a     |NULL|\n",
      "|ASN00029077|20100101|PRCP   |12.0  |NULL       |NULL   |a     |NULL|\n",
      "|ASN00029077|20100101|TAVG   |265.0 |H          |NULL   |S     |NULL|\n",
      "|ASN00029080|20100101|PRCP   |70.0  |NULL       |NULL   |a     |NULL|\n",
      "|ASN00029081|20100101|PRCP   |120.0 |NULL       |NULL   |a     |NULL|\n",
      "|ASN00029086|20100101|PRCP   |220.0 |NULL       |NULL   |a     |NULL|\n",
      "|ASN00029089|20100101|PRCP   |140.0 |NULL       |NULL   |a     |NULL|\n",
      "|ASN00029090|20100101|PRCP   |206.0 |NULL       |NULL   |a     |NULL|\n",
      "|ASN00029100|20100101|PRCP   |0.0   |NULL       |NULL   |a     |NULL|\n",
      "|ASN00029011|20100101|PRCP   |1618.0|NULL       |NULL   |a     |NULL|\n",
      "|ASN00029012|20100101|TMAX   |310.0 |NULL       |NULL   |a     |NULL|\n",
      "|ASN00029012|20100101|TMIN   |239.0 |NULL       |NULL   |a     |NULL|\n",
      "|ASN00029012|20100101|PRCP   |86.0  |NULL       |NULL   |a     |NULL|\n",
      "|ASN00029014|20100101|PRCP   |320.0 |NULL       |NULL   |a     |NULL|\n",
      "|ASN00029015|20100101|PRCP   |0.0   |NULL       |NULL   |a     |NULL|\n",
      "|ASN00029016|20100101|PRCP   |50.0  |NULL       |NULL   |a     |NULL|\n",
      "|ASN00029027|20100101|PRCP   |0.0   |NULL       |NULL   |a     |NULL|\n",
      "|ASN00029030|20100101|PRCP   |42.0  |NULL       |NULL   |a     |NULL|\n",
      "|ASN00029031|20100101|PRCP   |490.0 |NULL       |NULL   |a     |NULL|\n",
      "|ASN00029032|20100101|PRCP   |320.0 |NULL       |NULL   |a     |NULL|\n",
      "|ASN00029036|20100101|PRCP   |78.0  |NULL       |NULL   |a     |NULL|\n",
      "|ASN00029037|20100101|PRCP   |70.0  |NULL       |NULL   |a     |NULL|\n",
      "|ASN00029038|20100101|TMAX   |335.0 |NULL       |NULL   |a     |NULL|\n",
      "|ASN00029038|20100101|TMIN   |247.0 |NULL       |NULL   |a     |NULL|\n",
      "|ASN00029038|20100101|PRCP   |34.0  |NULL       |NULL   |a     |NULL|\n",
      "|ASN00029039|20100101|TMAX   |297.0 |NULL       |NULL   |a     |NULL|\n",
      "|ASN00029039|20100101|TMIN   |254.0 |NULL       |NULL   |a     |NULL|\n",
      "|ASN00029039|20100101|PRCP   |116.0 |NULL       |NULL   |a     |NULL|\n",
      "|ASN00029047|20100101|PRCP   |0.0   |NULL       |NULL   |a     |NULL|\n",
      "|ASN00029048|20100101|PRCP   |165.0 |NULL       |NULL   |a     |NULL|\n",
      "|ASN00029051|20100101|PRCP   |480.0 |NULL       |NULL   |a     |NULL|\n",
      "|ASN00029052|20100101|PRCP   |18.0  |NULL       |NULL   |a     |NULL|\n",
      "|ASN00029054|20100101|PRCP   |0.0   |NULL       |NULL   |a     |NULL|\n",
      "|ASN00029058|20100101|TMAX   |356.0 |NULL       |NULL   |a     |NULL|\n",
      "|ASN00029058|20100101|TMIN   |228.0 |NULL       |NULL   |a     |NULL|\n",
      "|ASN00029058|20100101|PRCP   |66.0  |NULL       |NULL   |a     |NULL|\n",
      "|ASN00029061|20100101|PRCP   |0.0   |NULL       |NULL   |a     |NULL|\n",
      "|ASN00029063|20100101|TMAX   |312.0 |NULL       |NULL   |a     |NULL|\n",
      "|ASN00029063|20100101|TMIN   |244.0 |NULL       |NULL   |a     |NULL|\n",
      "|ASN00029063|20100101|PRCP   |158.0 |NULL       |NULL   |a     |NULL|\n",
      "|ASN00029065|20100101|PRCP   |260.0 |NULL       |NULL   |a     |NULL|\n",
      "|ASN00027064|20100101|PRCP   |630.0 |NULL       |NULL   |a     |NULL|\n",
      "|ASN00027069|20100101|PRCP   |546.0 |NULL       |NULL   |a     |NULL|\n",
      "|ASN00027072|20100101|PRCP   |325.0 |NULL       |NULL   |a     |NULL|\n",
      "|ASN00027073|20100101|TMAX   |336.0 |NULL       |NULL   |a     |NULL|\n",
      "|ASN00027073|20100101|TMIN   |242.0 |NULL       |NULL   |a     |NULL|\n",
      "|ASN00027073|20100101|PRCP   |44.0  |NULL       |NULL   |a     |NULL|\n",
      "|ASN00027075|20100101|TMAX   |334.0 |NULL       |NULL   |a     |NULL|\n",
      "|ASN00027075|20100101|TMIN   |241.0 |NULL       |NULL   |a     |NULL|\n",
      "|ASN00027075|20100101|PRCP   |298.0 |NULL       |NULL   |a     |NULL|\n",
      "|ASN00028000|20100101|PRCP   |224.0 |NULL       |NULL   |a     |NULL|\n",
      "|ASN00028004|20100101|TMAX   |335.0 |NULL       |NULL   |a     |NULL|\n",
      "|ASN00028004|20100101|TMIN   |248.0 |NULL       |NULL   |a     |NULL|\n",
      "|ASN00028004|20100101|PRCP   |130.0 |NULL       |NULL   |a     |NULL|\n",
      "|ASN00028007|20100101|TMAX   |348.0 |NULL       |NULL   |a     |NULL|\n",
      "|ASN00028007|20100101|TMIN   |250.0 |NULL       |NULL   |a     |NULL|\n",
      "|ASN00028007|20100101|PRCP   |25.0  |NULL       |NULL   |a     |NULL|\n",
      "|ASN00028008|20100101|TMAX   |315.0 |NULL       |NULL   |a     |NULL|\n",
      "|ASN00028008|20100101|TMIN   |248.0 |NULL       |NULL   |a     |NULL|\n",
      "|ASN00028008|20100101|PRCP   |276.0 |NULL       |NULL   |a     |NULL|\n",
      "|ASN00028013|20100101|PRCP   |0.0   |NULL       |NULL   |a     |NULL|\n",
      "|ASN00028015|20100101|PRCP   |380.0 |NULL       |NULL   |a     |NULL|\n",
      "|ASN00028022|20100101|PRCP   |100.0 |NULL       |NULL   |a     |NULL|\n",
      "|ASN00028023|20100101|PRCP   |12.0  |NULL       |NULL   |a     |NULL|\n",
      "|ASN00028031|20100101|PRCP   |30.0  |NULL       |NULL   |a     |NULL|\n",
      "+-----------+--------+-------+------+-----------+-------+------+----+\n",
      "only showing top 100 rows\n",
      "\n"
     ]
    }
   ],
   "source": [
    "# Load a subset of the last year in daily into Spark from Azure Blob Storage using spark.read.csv\n",
    "\n",
    "schema = StructType([\n",
    "    StructField(\"ID\", StringType()),           # Character Station code\n",
    "    StructField(\"DATE\", StringType()),         # Date Observation date formatted as YYYYMMDD\n",
    "    StructField(\"ELEMENT\", StringType()),      # Character Element type indicator\n",
    "    StructField(\"VALUE\", DoubleType()),        # Real Data value for ELEMENT\n",
    "    StructField(\"MEASUREMENT\", StringType()),  # Character Measurement Flag\n",
    "    StructField(\"QUALITY\", StringType()),      # Character Quality Flag\n",
    "    StructField(\"SOURCE\", StringType()),       # Character Source Flag\n",
    "    StructField(\"TIME\", StringType()),         # Time Observation time formatted as HHMM\n",
    "])\n",
    "\n",
    "daily = spark.read.csv(\n",
    "    path=f'wasbs://{azure_data_container_name}@{azure_account_name}.blob.core.windows.net/ghcnd/daily/',\n",
    "    schema=schema\n",
    ")\n",
    "\n",
    "print(type(daily))\n",
    "daily.printSchema()\n",
    "print(daily)\n",
    "daily.show(100, False)"
   ]
  },
  {
   "cell_type": "code",
   "execution_count": 8,
   "id": "4abb44c8-a6bb-4688-aac9-8ddb57d2e1e3",
   "metadata": {},
   "outputs": [
    {
     "name": "stderr",
     "output_type": "stream",
     "text": [
      "[Stage 1:>                                                          (0 + 1) / 1]"
     ]
    },
    {
     "name": "stdout",
     "output_type": "stream",
     "text": [
      "+-----------+----------+-------+-----+-----------+-------+------+----+-------------------+\n",
      "|ID         |DATE      |ELEMENT|VALUE|MEASUREMENT|QUALITY|SOURCE|TIME|DATETIME           |\n",
      "+-----------+----------+-------+-----+-----------+-------+------+----+-------------------+\n",
      "|ASN00030019|2010-01-01|PRCP   |24.0 |NULL       |NULL   |a     |NULL|2010-01-01 00:00:00|\n",
      "|ASN00030021|2010-01-01|PRCP   |200.0|NULL       |NULL   |a     |NULL|2010-01-01 00:00:00|\n",
      "|ASN00030022|2010-01-01|TMAX   |294.0|NULL       |NULL   |a     |NULL|2010-01-01 00:00:00|\n",
      "|ASN00030022|2010-01-01|TMIN   |215.0|NULL       |NULL   |a     |NULL|2010-01-01 00:00:00|\n",
      "|ASN00030022|2010-01-01|PRCP   |408.0|NULL       |NULL   |a     |NULL|2010-01-01 00:00:00|\n",
      "|ASN00029121|2010-01-01|PRCP   |820.0|NULL       |NULL   |a     |NULL|2010-01-01 00:00:00|\n",
      "|ASN00029126|2010-01-01|TMAX   |371.0|NULL       |NULL   |S     |NULL|2010-01-01 00:00:00|\n",
      "|ASN00029126|2010-01-01|TMIN   |225.0|NULL       |NULL   |S     |NULL|2010-01-01 00:00:00|\n",
      "|ASN00029126|2010-01-01|PRCP   |0.0  |NULL       |NULL   |a     |NULL|2010-01-01 00:00:00|\n",
      "|ASN00029126|2010-01-01|TAVG   |298.0|H          |NULL   |S     |NULL|2010-01-01 00:00:00|\n",
      "|ASN00029127|2010-01-01|TMAX   |371.0|NULL       |NULL   |a     |NULL|2010-01-01 00:00:00|\n",
      "|ASN00029127|2010-01-01|TMIN   |225.0|NULL       |NULL   |a     |NULL|2010-01-01 00:00:00|\n",
      "|ASN00029127|2010-01-01|PRCP   |8.0  |NULL       |NULL   |a     |NULL|2010-01-01 00:00:00|\n",
      "|ASN00029129|2010-01-01|PRCP   |174.0|NULL       |NULL   |a     |NULL|2010-01-01 00:00:00|\n",
      "|ASN00029130|2010-01-01|PRCP   |86.0 |NULL       |NULL   |a     |NULL|2010-01-01 00:00:00|\n",
      "|ASN00029131|2010-01-01|PRCP   |56.0 |NULL       |NULL   |a     |NULL|2010-01-01 00:00:00|\n",
      "|ASN00029132|2010-01-01|PRCP   |800.0|NULL       |NULL   |a     |NULL|2010-01-01 00:00:00|\n",
      "|ASN00029136|2010-01-01|PRCP   |22.0 |NULL       |NULL   |a     |NULL|2010-01-01 00:00:00|\n",
      "|ASN00029137|2010-01-01|PRCP   |0.0  |NULL       |NULL   |a     |NULL|2010-01-01 00:00:00|\n",
      "|ASN00029139|2010-01-01|TMAX   |298.0|NULL       |NULL   |a     |NULL|2010-01-01 00:00:00|\n",
      "+-----------+----------+-------+-----+-----------+-------+------+----+-------------------+\n",
      "only showing top 20 rows\n",
      "\n"
     ]
    },
    {
     "name": "stderr",
     "output_type": "stream",
     "text": [
      "                                                                                "
     ]
    }
   ],
   "source": [
    "daily = daily.withColumn(\n",
    "    'DATETIME',\n",
    "    F.to_timestamp(\n",
    "        F.concat_ws(\n",
    "            \" \",\n",
    "            F.col('DATE'),\n",
    "            F.when(F.col('TIME') == '2400', F.lit('0000')).otherwise(F.coalesce(F.col('TIME'), F.lit('0000')))),\n",
    "        'yyyyMMdd HHmm'\n",
    "    )\n",
    ")\n",
    "\n",
    "daily = daily.withColumn('DATE', F.to_date(F.col('DATE'), 'yyyyMMdd'))\n",
    "\n",
    "daily.show(20, False)"
   ]
  },
  {
   "cell_type": "markdown",
   "id": "91f0b053-7f9e-4cdb-bde8-602c4f0d80ca",
   "metadata": {},
   "source": [
    "## Question 2(b)"
   ]
  },
  {
   "cell_type": "markdown",
   "id": "a3e9eeac-990d-45e0-8be6-e919c82fe9bb",
   "metadata": {},
   "source": [
    "get the last file containing the latest data file"
   ]
  },
  {
   "cell_type": "code",
   "execution_count": 9,
   "id": "004b904b-f368-4e97-96b5-9417f451ce51",
   "metadata": {},
   "outputs": [
    {
     "name": "stdout",
     "output_type": "stream",
     "text": [
      "-rwxrwxrwx   1   85656432 2025-08-01 21:30 wasbs://campus-data@madsstorage002.blob.core.windows.net/ghcnd/daily/2025.csv.gz\n"
     ]
    }
   ],
   "source": [
    "!hdfs dfs -ls {directory_path}/daily | tail -n 1"
   ]
  },
  {
   "cell_type": "code",
   "execution_count": 7,
   "id": "31416390-4399-4666-85fb-601f115c248a",
   "metadata": {},
   "outputs": [
    {
     "name": "stderr",
     "output_type": "stream",
     "text": [
      "[Stage 1:>                                                          (0 + 1) / 1]"
     ]
    },
    {
     "name": "stdout",
     "output_type": "stream",
     "text": [
      "+-----------+--------+-------+-----+-----------+-------+------+----+\n",
      "|ID         |DATE    |ELEMENT|VALUE|MEASUREMENT|QUALITY|SOURCE|TIME|\n",
      "+-----------+--------+-------+-----+-----------+-------+------+----+\n",
      "|ASN00030019|20250101|PRCP   |0.0  |NULL       |NULL   |a     |NULL|\n",
      "|ASN00030021|20250101|PRCP   |0.0  |NULL       |NULL   |a     |NULL|\n",
      "|ASN00030022|20250101|TMAX   |414.0|NULL       |NULL   |a     |NULL|\n",
      "|ASN00030022|20250101|TMIN   |247.0|NULL       |NULL   |a     |NULL|\n",
      "|ASN00030022|20250101|PRCP   |0.0  |NULL       |NULL   |a     |NULL|\n",
      "|ASN00030025|20250101|PRCP   |0.0  |NULL       |NULL   |a     |NULL|\n",
      "|ASN00029118|20250101|PRCP   |0.0  |NULL       |NULL   |a     |NULL|\n",
      "|ASN00029121|20250101|PRCP   |0.0  |NULL       |NULL   |a     |NULL|\n",
      "|ASN00029126|20250101|TMAX   |414.0|NULL       |NULL   |S     |NULL|\n",
      "|ASN00029126|20250101|TMIN   |198.0|NULL       |NULL   |S     |NULL|\n",
      "|ASN00029126|20250101|PRCP   |0.0  |NULL       |NULL   |a     |NULL|\n",
      "|ASN00029126|20250101|TAVG   |321.0|H          |NULL   |S     |NULL|\n",
      "|ASN00029127|20250101|TMAX   |414.0|NULL       |NULL   |a     |NULL|\n",
      "|ASN00029127|20250101|TMIN   |198.0|NULL       |NULL   |a     |NULL|\n",
      "|ASN00029127|20250101|PRCP   |0.0  |NULL       |NULL   |a     |NULL|\n",
      "|ASN00029129|20250101|PRCP   |0.0  |NULL       |NULL   |a     |NULL|\n",
      "|ASN00029131|20250101|PRCP   |0.0  |NULL       |NULL   |a     |NULL|\n",
      "|ASN00029132|20250101|PRCP   |0.0  |NULL       |NULL   |a     |NULL|\n",
      "|ASN00029136|20250101|PRCP   |0.0  |NULL       |NULL   |a     |NULL|\n",
      "|ASN00029139|20250101|TMAX   |347.0|NULL       |NULL   |a     |NULL|\n",
      "+-----------+--------+-------+-----+-----------+-------+------+----+\n",
      "only showing top 20 rows\n",
      "\n"
     ]
    },
    {
     "name": "stderr",
     "output_type": "stream",
     "text": [
      "                                                                                "
     ]
    }
   ],
   "source": [
    "daily_latest = spark.read.csv(\n",
    "    path=f'{directory_path}/daily/2025.csv.gz',\n",
    "    schema = schema,\n",
    ")\n",
    "\n",
    "daily_latest.show(20, False)"
   ]
  },
  {
   "cell_type": "markdown",
   "id": "ceb5e0d5-cb31-4929-87b6-99ec4355ce78",
   "metadata": {},
   "source": [
    "## Question 2(c)"
   ]
  },
  {
   "cell_type": "code",
   "execution_count": 8,
   "id": "731e5a3f-67e4-4ef9-a704-f4ed240302e8",
   "metadata": {},
   "outputs": [
    {
     "name": "stdout",
     "output_type": "stream",
     "text": [
      "wasbs://campus-data@madsstorage002.blob.core.windows.net/ghcnd/ghcnd-stations.txt\n"
     ]
    }
   ],
   "source": [
    "# Define the input path for stations\n",
    "\n",
    "stations_relative_path = f'ghcnd/ghcnd-stations.txt'\n",
    "stations_path = f'wasbs://{azure_data_container_name}@{azure_account_name}.blob.core.windows.net/{stations_relative_path}'\n",
    "\n",
    "print(stations_path)"
   ]
  },
  {
   "cell_type": "code",
   "execution_count": 9,
   "id": "a5146854-c4bf-4929-a400-fce422369251",
   "metadata": {},
   "outputs": [
    {
     "name": "stdout",
     "output_type": "stream",
     "text": [
      "<class 'pyspark.sql.dataframe.DataFrame'>\n",
      "root\n",
      " |-- value: string (nullable = true)\n",
      "\n",
      "DataFrame[value: string]\n"
     ]
    },
    {
     "name": "stderr",
     "output_type": "stream",
     "text": [
      "[Stage 2:>                                                          (0 + 1) / 1]"
     ]
    },
    {
     "name": "stdout",
     "output_type": "stream",
     "text": [
      "+-------------------------------------------------------------------------------------+\n",
      "|value                                                                                |\n",
      "+-------------------------------------------------------------------------------------+\n",
      "|ACW00011604  17.1167  -61.7833   10.1    ST JOHNS COOLIDGE FLD                       |\n",
      "|ACW00011647  17.1333  -61.7833   19.2    ST JOHNS                                    |\n",
      "|AE000041196  25.3330   55.5170   34.0    SHARJAH INTER. AIRP            GSN     41196|\n",
      "|AEM00041194  25.2550   55.3640   10.4    DUBAI INTL                             41194|\n",
      "|AEM00041217  24.4330   54.6510   26.8    ABU DHABI INTL                         41217|\n",
      "|AEM00041218  24.2620   55.6090  264.9    AL AIN INTL                            41218|\n",
      "|AF000040930  35.3170   69.0170 3366.0    NORTH-SALANG                   GSN     40930|\n",
      "|AFM00040938  34.2100   62.2280  977.2    HERAT                                  40938|\n",
      "|AFM00040948  34.5660   69.2120 1791.3    KABUL INTL                             40948|\n",
      "|AFM00040990  31.5000   65.8500 1010.0    KANDAHAR AIRPORT                       40990|\n",
      "|AG000060390  36.7167    3.2500   24.0    ALGER-DAR EL BEIDA             GSN     60390|\n",
      "|AG000060590  30.5667    2.8667  397.0    EL-GOLEA                       GSN     60590|\n",
      "|AG000060611  28.0500    9.6331  561.0    IN-AMENAS                      GSN     60611|\n",
      "|AG000060680  22.8000    5.4331 1362.0    TAMANRASSET                    GSN     60680|\n",
      "|AGE00135039  35.7297    0.6500   50.0    ORAN-HOPITAL MILITAIRE                      |\n",
      "|AGE00147704  36.9700    7.7900  161.0    ANNABA-CAP DE GARDE                         |\n",
      "|AGE00147705  36.7800    3.0700   59.0    ALGIERS-VILLE/UNIVERSITE                    |\n",
      "|AGE00147706  36.8000    3.0300  344.0    ALGIERS-BOUZAREAH                           |\n",
      "|AGE00147707  36.8000    3.0400   38.0    ALGIERS-CAP CAXINE                          |\n",
      "|AGE00147708  36.7200    4.0500  222.0    TIZI OUZOU                             60395|\n",
      "+-------------------------------------------------------------------------------------+\n",
      "only showing top 20 rows\n",
      "\n"
     ]
    },
    {
     "name": "stderr",
     "output_type": "stream",
     "text": [
      "                                                                                "
     ]
    }
   ],
   "source": [
    "# Load the stations metadata into Spark from Azure Blob Storage using spark.read.text without any other processing\n",
    "\n",
    "stations_txt = spark.read.text(stations_path)\n",
    "\n",
    "print(type(stations_txt))\n",
    "stations_txt.printSchema()\n",
    "print(stations_txt)\n",
    "stations_txt.show(20, False)"
   ]
  },
  {
   "cell_type": "code",
   "execution_count": 10,
   "id": "a6c7b8ad-25b8-47ad-b72d-87bda0041c47",
   "metadata": {},
   "outputs": [
    {
     "name": "stdout",
     "output_type": "stream",
     "text": [
      "root\n",
      " |-- ID: string (nullable = true)\n",
      " |-- LATITUDE: double (nullable = true)\n",
      " |-- LONGITUDE: double (nullable = true)\n",
      " |-- ELEVATION: double (nullable = true)\n",
      " |-- STATE: string (nullable = true)\n",
      " |-- NAME: string (nullable = true)\n",
      " |-- GSN: string (nullable = true)\n",
      " |-- HCN_CRN_FLAG: string (nullable = true)\n",
      " |-- WMO_ID: integer (nullable = true)\n",
      "\n",
      "DataFrame[ID: string, LATITUDE: double, LONGITUDE: double, ELEVATION: double, STATE: string, NAME: string, GSN: string, HCN_CRN_FLAG: string, WMO_ID: int]\n",
      "+-----------+--------+---------+---------+-----+------------------------------+---+------------+------+\n",
      "|ID         |LATITUDE|LONGITUDE|ELEVATION|STATE|NAME                          |GSN|HCN_CRN_FLAG|WMO_ID|\n",
      "+-----------+--------+---------+---------+-----+------------------------------+---+------------+------+\n",
      "|ACW00011604|17.1167 |-61.7833 |10.1     |     |ST JOHNS COOLIDGE FLD         |   |            |NULL  |\n",
      "|ACW00011647|17.1333 |-61.7833 |19.2     |     |ST JOHNS                      |   |            |NULL  |\n",
      "|AE000041196|25.333  |55.517   |34.0     |     |SHARJAH INTER. AIRP           |GSN|            |41196 |\n",
      "|AEM00041194|25.255  |55.364   |10.4     |     |DUBAI INTL                    |   |            |41194 |\n",
      "|AEM00041217|24.433  |54.651   |26.8     |     |ABU DHABI INTL                |   |            |41217 |\n",
      "|AEM00041218|24.262  |55.609   |264.9    |     |AL AIN INTL                   |   |            |41218 |\n",
      "|AF000040930|35.317  |69.017   |3366.0   |     |NORTH-SALANG                  |GSN|            |40930 |\n",
      "|AFM00040938|34.21   |62.228   |977.2    |     |HERAT                         |   |            |40938 |\n",
      "|AFM00040948|34.566  |69.212   |1791.3   |     |KABUL INTL                    |   |            |40948 |\n",
      "|AFM00040990|31.5    |65.85    |1010.0   |     |KANDAHAR AIRPORT              |   |            |40990 |\n",
      "|AG000060390|36.7167 |3.25     |24.0     |     |ALGER-DAR EL BEIDA            |GSN|            |60390 |\n",
      "|AG000060590|30.5667 |2.8667   |397.0    |     |EL-GOLEA                      |GSN|            |60590 |\n",
      "|AG000060611|28.05   |9.6331   |561.0    |     |IN-AMENAS                     |GSN|            |60611 |\n",
      "|AG000060680|22.8    |5.4331   |1362.0   |     |TAMANRASSET                   |GSN|            |60680 |\n",
      "|AGE00135039|35.7297 |0.65     |50.0     |     |ORAN-HOPITAL MILITAIRE        |   |            |NULL  |\n",
      "|AGE00147704|36.97   |7.79     |161.0    |     |ANNABA-CAP DE GARDE           |   |            |NULL  |\n",
      "|AGE00147705|36.78   |3.07     |59.0     |     |ALGIERS-VILLE/UNIVERSITE      |   |            |NULL  |\n",
      "|AGE00147706|36.8    |3.03     |344.0    |     |ALGIERS-BOUZAREAH             |   |            |NULL  |\n",
      "|AGE00147707|36.8    |3.04     |38.0     |     |ALGIERS-CAP CAXINE            |   |            |NULL  |\n",
      "|AGE00147708|36.72   |4.05     |222.0    |     |TIZI OUZOU                    |   |            |60395 |\n",
      "+-----------+--------+---------+---------+-----+------------------------------+---+------------+------+\n",
      "only showing top 20 rows\n",
      "\n"
     ]
    }
   ],
   "source": [
    "stations = stations_txt.select(\n",
    "    F.substring('value', 1,11).alias(\"ID\"),\n",
    "    F.substring('value', 13,8).cast(\"double\").alias(\"LATITUDE\"),\n",
    "    F.substring('value', 22,9).cast(\"double\").alias(\"LONGITUDE\"),\n",
    "    F.substring('value', 32,6).cast(\"double\").alias(\"ELEVATION\"),\n",
    "    F.substring('value', 39,2).alias(\"STATE\"),\n",
    "    F.substring('value', 42,30).alias(\"NAME\"),\n",
    "    F.substring('value', 73,3).alias(\"GSN\"),\n",
    "    F.substring('value', 77,3).alias(\"HCN_CRN_FLAG\"),\n",
    "    F.substring('value', 81,5).cast(\"int\").alias(\"WMO_ID\"),\n",
    ")\n",
    "\n",
    "stations.printSchema()\n",
    "print(stations)\n",
    "stations.show(20, False)"
   ]
  },
  {
   "cell_type": "code",
   "execution_count": 11,
   "id": "a45d3511-8a3e-4bac-9179-2e2c95a2149d",
   "metadata": {},
   "outputs": [
    {
     "name": "stdout",
     "output_type": "stream",
     "text": [
      "root\n",
      " |-- value: string (nullable = true)\n",
      "\n",
      "+----------------------------------+\n",
      "|value                             |\n",
      "+----------------------------------+\n",
      "|AC Antigua and Barbuda            |\n",
      "|AE United Arab Emirates           |\n",
      "|AF Afghanistan                    |\n",
      "|AG Algeria                        |\n",
      "|AJ Azerbaijan                     |\n",
      "|AL Albania                        |\n",
      "|AM Armenia                        |\n",
      "|AO Angola                         |\n",
      "|AQ American Samoa [United States] |\n",
      "|AR Argentina                      |\n",
      "|AS Australia                      |\n",
      "|AU Austria                        |\n",
      "|AY Antarctica                     |\n",
      "|BA Bahrain                        |\n",
      "|BB Barbados                       |\n",
      "|BC Botswana                       |\n",
      "|BD Bermuda [United Kingdom]       |\n",
      "|BE Belgium                        |\n",
      "|BF Bahamas, The                   |\n",
      "|BG Bangladesh                     |\n",
      "+----------------------------------+\n",
      "only showing top 20 rows\n",
      "\n"
     ]
    }
   ],
   "source": [
    "countries_path = f'{directory_path}/ghcnd-countries.txt'\n",
    "\n",
    "countries_txt = spark.read.text(countries_path)\n",
    "\n",
    "countries_txt.printSchema()\n",
    "\n",
    "countries_txt.show(20, False)"
   ]
  },
  {
   "cell_type": "code",
   "execution_count": 12,
   "id": "ee79d269-6810-48eb-a776-2ff72c73ca07",
   "metadata": {},
   "outputs": [
    {
     "name": "stdout",
     "output_type": "stream",
     "text": [
      "root\n",
      " |-- COUNTRY_CODE: string (nullable = true)\n",
      " |-- COUNTRY_NAME: string (nullable = true)\n",
      "\n",
      "+------------+-------------------------------+\n",
      "|COUNTRY_CODE|COUNTRY_NAME                   |\n",
      "+------------+-------------------------------+\n",
      "|AC          |Antigua and Barbuda            |\n",
      "|AE          |United Arab Emirates           |\n",
      "|AF          |Afghanistan                    |\n",
      "|AG          |Algeria                        |\n",
      "|AJ          |Azerbaijan                     |\n",
      "|AL          |Albania                        |\n",
      "|AM          |Armenia                        |\n",
      "|AO          |Angola                         |\n",
      "|AQ          |American Samoa [United States] |\n",
      "|AR          |Argentina                      |\n",
      "|AS          |Australia                      |\n",
      "|AU          |Austria                        |\n",
      "|AY          |Antarctica                     |\n",
      "|BA          |Bahrain                        |\n",
      "|BB          |Barbados                       |\n",
      "|BC          |Botswana                       |\n",
      "|BD          |Bermuda [United Kingdom]       |\n",
      "|BE          |Belgium                        |\n",
      "|BF          |Bahamas, The                   |\n",
      "|BG          |Bangladesh                     |\n",
      "+------------+-------------------------------+\n",
      "only showing top 20 rows\n",
      "\n"
     ]
    }
   ],
   "source": [
    "countries = countries_txt.select(\n",
    "    F.substring('value', 1,2).alias('COUNTRY_CODE'),\n",
    "    F.substring('value', 4,61).alias('COUNTRY_NAME')\n",
    ")\n",
    "\n",
    "countries.printSchema()\n",
    "\n",
    "countries.show(20, False)"
   ]
  },
  {
   "cell_type": "code",
   "execution_count": 13,
   "id": "b04ba11d-e457-4e3b-87e9-1b256392bdd8",
   "metadata": {
    "scrolled": true
   },
   "outputs": [
    {
     "name": "stderr",
     "output_type": "stream",
     "text": [
      "[Stage 6:>                                                          (0 + 1) / 1]"
     ]
    },
    {
     "name": "stdout",
     "output_type": "stream",
     "text": [
      "+--------------------------------------------------+\n",
      "|value                                             |\n",
      "+--------------------------------------------------+\n",
      "|AB ALBERTA                                        |\n",
      "|AK ALASKA                                         |\n",
      "|AL ALABAMA                                        |\n",
      "|AR ARKANSAS                                       |\n",
      "|AS AMERICAN SAMOA                                 |\n",
      "|AZ ARIZONA                                        |\n",
      "|BC BRITISH COLUMBIA                               |\n",
      "|CA CALIFORNIA                                     |\n",
      "|CO COLORADO                                       |\n",
      "|CT CONNECTICUT                                    |\n",
      "|DC DISTRICT OF COLUMBIA                           |\n",
      "|DE DELAWARE                                       |\n",
      "|FL FLORIDA                                        |\n",
      "|FM MICRONESIA                                     |\n",
      "|GA GEORGIA                                        |\n",
      "|GU GUAM                                           |\n",
      "|HI HAWAII                                         |\n",
      "|IA IOWA                                           |\n",
      "|ID IDAHO                                          |\n",
      "|IL ILLINOIS                                       |\n",
      "+--------------------------------------------------+\n",
      "only showing top 20 rows\n",
      "\n"
     ]
    },
    {
     "name": "stderr",
     "output_type": "stream",
     "text": [
      "                                                                                "
     ]
    }
   ],
   "source": [
    "states_path = f'{directory_path}/ghcnd-states.txt'\n",
    "\n",
    "states_txt = spark.read.text(states_path)\n",
    "\n",
    "states_txt.show(20, False)"
   ]
  },
  {
   "cell_type": "code",
   "execution_count": 14,
   "id": "f4487c49-51e3-4d26-8955-0c1ecd94f49e",
   "metadata": {},
   "outputs": [
    {
     "name": "stdout",
     "output_type": "stream",
     "text": [
      "root\n",
      " |-- CODE: string (nullable = true)\n",
      " |-- NAME: string (nullable = true)\n",
      "\n",
      "+----+-----------------------------------------------+\n",
      "|CODE|NAME                                           |\n",
      "+----+-----------------------------------------------+\n",
      "|AB  |ALBERTA                                        |\n",
      "|AK  |ALASKA                                         |\n",
      "|AL  |ALABAMA                                        |\n",
      "|AR  |ARKANSAS                                       |\n",
      "|AS  |AMERICAN SAMOA                                 |\n",
      "|AZ  |ARIZONA                                        |\n",
      "|BC  |BRITISH COLUMBIA                               |\n",
      "|CA  |CALIFORNIA                                     |\n",
      "|CO  |COLORADO                                       |\n",
      "|CT  |CONNECTICUT                                    |\n",
      "|DC  |DISTRICT OF COLUMBIA                           |\n",
      "|DE  |DELAWARE                                       |\n",
      "|FL  |FLORIDA                                        |\n",
      "|FM  |MICRONESIA                                     |\n",
      "|GA  |GEORGIA                                        |\n",
      "|GU  |GUAM                                           |\n",
      "|HI  |HAWAII                                         |\n",
      "|IA  |IOWA                                           |\n",
      "|ID  |IDAHO                                          |\n",
      "|IL  |ILLINOIS                                       |\n",
      "+----+-----------------------------------------------+\n",
      "only showing top 20 rows\n",
      "\n"
     ]
    }
   ],
   "source": [
    "states = states_txt.select(\n",
    "    F.substring('value', 1,2).alias('CODE'),\n",
    "    F.substring('value', 4,47).alias('NAME')\n",
    ")\n",
    "\n",
    "states.printSchema()\n",
    "states.show(20, False)"
   ]
  },
  {
   "cell_type": "code",
   "execution_count": 15,
   "id": "56e68fba-f763-4d9a-85ed-fa9ae39fb7df",
   "metadata": {},
   "outputs": [
    {
     "name": "stdout",
     "output_type": "stream",
     "text": [
      "+---------------------------------------------+\n",
      "|value                                        |\n",
      "+---------------------------------------------+\n",
      "|ACW00011604  17.1167  -61.7833 TMAX 1949 1949|\n",
      "|ACW00011604  17.1167  -61.7833 TMIN 1949 1949|\n",
      "|ACW00011604  17.1167  -61.7833 PRCP 1949 1949|\n",
      "|ACW00011604  17.1167  -61.7833 SNOW 1949 1949|\n",
      "|ACW00011604  17.1167  -61.7833 SNWD 1949 1949|\n",
      "|ACW00011604  17.1167  -61.7833 PGTM 1949 1949|\n",
      "|ACW00011604  17.1167  -61.7833 WDFG 1949 1949|\n",
      "|ACW00011604  17.1167  -61.7833 WSFG 1949 1949|\n",
      "|ACW00011604  17.1167  -61.7833 WT03 1949 1949|\n",
      "|ACW00011604  17.1167  -61.7833 WT08 1949 1949|\n",
      "|ACW00011604  17.1167  -61.7833 WT16 1949 1949|\n",
      "|ACW00011647  17.1333  -61.7833 TMAX 1961 1961|\n",
      "|ACW00011647  17.1333  -61.7833 TMIN 1961 1961|\n",
      "|ACW00011647  17.1333  -61.7833 PRCP 1957 1970|\n",
      "|ACW00011647  17.1333  -61.7833 SNOW 1957 1970|\n",
      "|ACW00011647  17.1333  -61.7833 SNWD 1957 1970|\n",
      "|ACW00011647  17.1333  -61.7833 WT03 1961 1961|\n",
      "|ACW00011647  17.1333  -61.7833 WT16 1961 1966|\n",
      "|AE000041196  25.3330   55.5170 TMAX 1944 2025|\n",
      "|AE000041196  25.3330   55.5170 TMIN 1944 2025|\n",
      "+---------------------------------------------+\n",
      "only showing top 20 rows\n",
      "\n"
     ]
    }
   ],
   "source": [
    "inventory_path = f'{directory_path}/ghcnd-inventory.txt'\n",
    "\n",
    "inventory_txt = spark.read.text(inventory_path)\n",
    "\n",
    "inventory_txt.show(20, False)"
   ]
  },
  {
   "cell_type": "code",
   "execution_count": 16,
   "id": "f6c5a3e2-3461-4ffe-96ac-cd318f96e4f4",
   "metadata": {},
   "outputs": [
    {
     "name": "stdout",
     "output_type": "stream",
     "text": [
      "root\n",
      " |-- ID: string (nullable = true)\n",
      " |-- LATITUDE: string (nullable = true)\n",
      " |-- LONGITUDE: string (nullable = true)\n",
      " |-- ELEMENT: string (nullable = true)\n",
      " |-- FIRST_YEAR: string (nullable = true)\n",
      " |-- LAST_YEAR: string (nullable = true)\n",
      "\n",
      "+-----------+--------+---------+-------+----------+---------+\n",
      "|ID         |LATITUDE|LONGITUDE|ELEMENT|FIRST_YEAR|LAST_YEAR|\n",
      "+-----------+--------+---------+-------+----------+---------+\n",
      "|ACW00011604| 17.1167| -61.7833|TMAX   |1949      |1949     |\n",
      "|ACW00011604| 17.1167| -61.7833|TMIN   |1949      |1949     |\n",
      "|ACW00011604| 17.1167| -61.7833|PRCP   |1949      |1949     |\n",
      "|ACW00011604| 17.1167| -61.7833|SNOW   |1949      |1949     |\n",
      "|ACW00011604| 17.1167| -61.7833|SNWD   |1949      |1949     |\n",
      "|ACW00011604| 17.1167| -61.7833|PGTM   |1949      |1949     |\n",
      "|ACW00011604| 17.1167| -61.7833|WDFG   |1949      |1949     |\n",
      "|ACW00011604| 17.1167| -61.7833|WSFG   |1949      |1949     |\n",
      "|ACW00011604| 17.1167| -61.7833|WT03   |1949      |1949     |\n",
      "|ACW00011604| 17.1167| -61.7833|WT08   |1949      |1949     |\n",
      "|ACW00011604| 17.1167| -61.7833|WT16   |1949      |1949     |\n",
      "|ACW00011647| 17.1333| -61.7833|TMAX   |1961      |1961     |\n",
      "|ACW00011647| 17.1333| -61.7833|TMIN   |1961      |1961     |\n",
      "|ACW00011647| 17.1333| -61.7833|PRCP   |1957      |1970     |\n",
      "|ACW00011647| 17.1333| -61.7833|SNOW   |1957      |1970     |\n",
      "|ACW00011647| 17.1333| -61.7833|SNWD   |1957      |1970     |\n",
      "|ACW00011647| 17.1333| -61.7833|WT03   |1961      |1961     |\n",
      "|ACW00011647| 17.1333| -61.7833|WT16   |1961      |1966     |\n",
      "|AE000041196| 25.3330|  55.5170|TMAX   |1944      |2025     |\n",
      "|AE000041196| 25.3330|  55.5170|TMIN   |1944      |2025     |\n",
      "+-----------+--------+---------+-------+----------+---------+\n",
      "only showing top 20 rows\n",
      "\n"
     ]
    }
   ],
   "source": [
    "inventory = inventory_txt.select(\n",
    "    F.substring('value', 1,11).alias('ID'),\n",
    "    F.substring('value', 13,8).alias('LATITUDE'),\n",
    "    F.substring('value', 22,9).alias('LONGITUDE'),\n",
    "    F.substring('value', 32,4).alias('ELEMENT'),\n",
    "    F.substring('value', 37,4).alias('FIRST_YEAR'),\n",
    "    F.substring('value', 42,4).alias('LAST_YEAR'),    \n",
    ")\n",
    "\n",
    "inventory.printSchema()\n",
    "inventory.show(20, False)"
   ]
  },
  {
   "cell_type": "code",
   "execution_count": 17,
   "id": "635ec50a-ac00-4820-8d7e-f482fcba5208",
   "metadata": {},
   "outputs": [
    {
     "name": "stdout",
     "output_type": "stream",
     "text": [
      "daily:\n",
      "+-----------+--------+-------+-----+-----------+-------+------+----+\n",
      "|ID         |DATE    |ELEMENT|VALUE|MEASUREMENT|QUALITY|SOURCE|TIME|\n",
      "+-----------+--------+-------+-----+-----------+-------+------+----+\n",
      "|ASN00030019|20100101|PRCP   |24.0 |NULL       |NULL   |a     |NULL|\n",
      "|ASN00030021|20100101|PRCP   |200.0|NULL       |NULL   |a     |NULL|\n",
      "|ASN00030022|20100101|TMAX   |294.0|NULL       |NULL   |a     |NULL|\n",
      "|ASN00030022|20100101|TMIN   |215.0|NULL       |NULL   |a     |NULL|\n",
      "|ASN00030022|20100101|PRCP   |408.0|NULL       |NULL   |a     |NULL|\n",
      "+-----------+--------+-------+-----+-----------+-------+------+----+\n",
      "only showing top 5 rows\n",
      "\n",
      "stations:\n",
      "+-----------+--------+---------+---------+-----+------------------------------+---+------------+------+\n",
      "|ID         |LATITUDE|LONGITUDE|ELEVATION|STATE|NAME                          |GSN|HCN_CRN_FLAG|WMO_ID|\n",
      "+-----------+--------+---------+---------+-----+------------------------------+---+------------+------+\n",
      "|ACW00011604|17.1167 |-61.7833 |10.1     |     |ST JOHNS COOLIDGE FLD         |   |            |NULL  |\n",
      "|ACW00011647|17.1333 |-61.7833 |19.2     |     |ST JOHNS                      |   |            |NULL  |\n",
      "|AE000041196|25.333  |55.517   |34.0     |     |SHARJAH INTER. AIRP           |GSN|            |41196 |\n",
      "|AEM00041194|25.255  |55.364   |10.4     |     |DUBAI INTL                    |   |            |41194 |\n",
      "|AEM00041217|24.433  |54.651   |26.8     |     |ABU DHABI INTL                |   |            |41217 |\n",
      "+-----------+--------+---------+---------+-----+------------------------------+---+------------+------+\n",
      "only showing top 5 rows\n",
      "\n",
      "countries:\n",
      "+------------+---------------------+\n",
      "|COUNTRY_CODE|COUNTRY_NAME         |\n",
      "+------------+---------------------+\n",
      "|AC          |Antigua and Barbuda  |\n",
      "|AE          |United Arab Emirates |\n",
      "|AF          |Afghanistan          |\n",
      "|AG          |Algeria              |\n",
      "|AJ          |Azerbaijan           |\n",
      "+------------+---------------------+\n",
      "only showing top 5 rows\n",
      "\n",
      "states:\n",
      "+----+-----------------------------------------------+\n",
      "|CODE|NAME                                           |\n",
      "+----+-----------------------------------------------+\n",
      "|AB  |ALBERTA                                        |\n",
      "|AK  |ALASKA                                         |\n",
      "|AL  |ALABAMA                                        |\n",
      "|AR  |ARKANSAS                                       |\n",
      "|AS  |AMERICAN SAMOA                                 |\n",
      "+----+-----------------------------------------------+\n",
      "only showing top 5 rows\n",
      "\n",
      "inventory:\n",
      "+-----------+--------+---------+-------+----------+---------+\n",
      "|ID         |LATITUDE|LONGITUDE|ELEMENT|FIRST_YEAR|LAST_YEAR|\n",
      "+-----------+--------+---------+-------+----------+---------+\n",
      "|ACW00011604| 17.1167| -61.7833|TMAX   |1949      |1949     |\n",
      "|ACW00011604| 17.1167| -61.7833|TMIN   |1949      |1949     |\n",
      "|ACW00011604| 17.1167| -61.7833|PRCP   |1949      |1949     |\n",
      "|ACW00011604| 17.1167| -61.7833|SNOW   |1949      |1949     |\n",
      "|ACW00011604| 17.1167| -61.7833|SNWD   |1949      |1949     |\n",
      "+-----------+--------+---------+-------+----------+---------+\n",
      "only showing top 5 rows\n",
      "\n"
     ]
    }
   ],
   "source": [
    "print('daily:')\n",
    "daily.show(5,False)\n",
    "print('stations:')\n",
    "stations.show(5,False)\n",
    "print('countries:')\n",
    "countries.show(5,False)\n",
    "print('states:')\n",
    "states.show(5,False)\n",
    "print('inventory:')\n",
    "inventory.show(5,False)"
   ]
  },
  {
   "cell_type": "markdown",
   "id": "613b1a78-a887-4ce3-823d-f47d9f74f1c7",
   "metadata": {},
   "source": [
    "## Answer 2(c)"
   ]
  },
  {
   "cell_type": "code",
   "execution_count": 20,
   "id": "0f016e69-3017-4778-8a98-ed121d1c735a",
   "metadata": {},
   "outputs": [
    {
     "name": "stdout",
     "output_type": "stream",
     "text": [
      "Inventory: 766784\n",
      "Stations: 129657\n",
      "Countries: 219\n",
      "States: 74\n"
     ]
    }
   ],
   "source": [
    "print(f'Inventory: {inventory.count()}')\n",
    "print(f'Stations: {stations.count()}')\n",
    "print(f'Countries: {countries.count()}')\n",
    "print(f'States: {states.count()}')"
   ]
  },
  {
   "cell_type": "markdown",
   "id": "0b44fbdf-38bc-430b-97a3-dabfbf97695b",
   "metadata": {},
   "source": [
    "## Answer 2(d)"
   ]
  },
  {
   "cell_type": "code",
   "execution_count": 20,
   "id": "e2c32740-20ad-4389-ad35-14e33dbf3b6e",
   "metadata": {},
   "outputs": [
    {
     "name": "stderr",
     "output_type": "stream",
     "text": [
      "[Stage 15:=====================================================>(106 + 1) / 107]"
     ]
    },
    {
     "name": "stdout",
     "output_type": "stream",
     "text": [
      "daily row count: 3155140380\n"
     ]
    },
    {
     "name": "stderr",
     "output_type": "stream",
     "text": [
      "                                                                                "
     ]
    }
   ],
   "source": [
    "print(f'daily row count: {daily.count()}')"
   ]
  },
  {
   "cell_type": "markdown",
   "id": "bf788e49-dbb7-486e-9365-5a25339ded1b",
   "metadata": {},
   "source": [
    "# Question 3"
   ]
  },
  {
   "cell_type": "code",
   "execution_count": 21,
   "id": "653985d4-4b25-4178-ad60-d12ec4de3ef9",
   "metadata": {},
   "outputs": [
    {
     "name": "stdout",
     "output_type": "stream",
     "text": [
      "+-----------+--------+---------+---------+-----+------------------------------+---+------------+------+\n",
      "|ID         |LATITUDE|LONGITUDE|ELEVATION|STATE|NAME                          |GSN|HCN_CRN_FLAG|WMO_ID|\n",
      "+-----------+--------+---------+---------+-----+------------------------------+---+------------+------+\n",
      "|ACW00011604|17.1167 |-61.7833 |10.1     |     |ST JOHNS COOLIDGE FLD         |   |            |NULL  |\n",
      "|ACW00011647|17.1333 |-61.7833 |19.2     |     |ST JOHNS                      |   |            |NULL  |\n",
      "|AE000041196|25.333  |55.517   |34.0     |     |SHARJAH INTER. AIRP           |GSN|            |41196 |\n",
      "|AEM00041194|25.255  |55.364   |10.4     |     |DUBAI INTL                    |   |            |41194 |\n",
      "|AEM00041217|24.433  |54.651   |26.8     |     |ABU DHABI INTL                |   |            |41217 |\n",
      "|AEM00041218|24.262  |55.609   |264.9    |     |AL AIN INTL                   |   |            |41218 |\n",
      "|AF000040930|35.317  |69.017   |3366.0   |     |NORTH-SALANG                  |GSN|            |40930 |\n",
      "|AFM00040938|34.21   |62.228   |977.2    |     |HERAT                         |   |            |40938 |\n",
      "|AFM00040948|34.566  |69.212   |1791.3   |     |KABUL INTL                    |   |            |40948 |\n",
      "|AFM00040990|31.5    |65.85    |1010.0   |     |KANDAHAR AIRPORT              |   |            |40990 |\n",
      "|AG000060390|36.7167 |3.25     |24.0     |     |ALGER-DAR EL BEIDA            |GSN|            |60390 |\n",
      "|AG000060590|30.5667 |2.8667   |397.0    |     |EL-GOLEA                      |GSN|            |60590 |\n",
      "|AG000060611|28.05   |9.6331   |561.0    |     |IN-AMENAS                     |GSN|            |60611 |\n",
      "|AG000060680|22.8    |5.4331   |1362.0   |     |TAMANRASSET                   |GSN|            |60680 |\n",
      "|AGE00135039|35.7297 |0.65     |50.0     |     |ORAN-HOPITAL MILITAIRE        |   |            |NULL  |\n",
      "|AGE00147704|36.97   |7.79     |161.0    |     |ANNABA-CAP DE GARDE           |   |            |NULL  |\n",
      "|AGE00147705|36.78   |3.07     |59.0     |     |ALGIERS-VILLE/UNIVERSITE      |   |            |NULL  |\n",
      "|AGE00147706|36.8    |3.03     |344.0    |     |ALGIERS-BOUZAREAH             |   |            |NULL  |\n",
      "|AGE00147707|36.8    |3.04     |38.0     |     |ALGIERS-CAP CAXINE            |   |            |NULL  |\n",
      "|AGE00147708|36.72   |4.05     |222.0    |     |TIZI OUZOU                    |   |            |60395 |\n",
      "+-----------+--------+---------+---------+-----+------------------------------+---+------------+------+\n",
      "only showing top 20 rows\n",
      "\n"
     ]
    }
   ],
   "source": [
    "stations.show(20, False)"
   ]
  },
  {
   "cell_type": "markdown",
   "id": "2fbd1694-8d57-4a9b-ad7f-cd64869ffe2d",
   "metadata": {},
   "source": [
    "## Answer 3(a)"
   ]
  },
  {
   "cell_type": "code",
   "execution_count": 22,
   "id": "0eb16af2-0e0d-4b5f-8a21-2e441cba4bd9",
   "metadata": {},
   "outputs": [
    {
     "name": "stdout",
     "output_type": "stream",
     "text": [
      "+-----------+--------+---------+---------+-----+------------------------------+---+------------+------+------------+\n",
      "|ID         |LATITUDE|LONGITUDE|ELEVATION|STATE|STATION_NAME                  |GSN|HCN_CRN_FLAG|WMO_ID|COUNTRY_CODE|\n",
      "+-----------+--------+---------+---------+-----+------------------------------+---+------------+------+------------+\n",
      "|ACW00011604|17.1167 |-61.7833 |10.1     |     |ST JOHNS COOLIDGE FLD         |   |            |NULL  |AC          |\n",
      "|ACW00011647|17.1333 |-61.7833 |19.2     |     |ST JOHNS                      |   |            |NULL  |AC          |\n",
      "|AE000041196|25.333  |55.517   |34.0     |     |SHARJAH INTER. AIRP           |GSN|            |41196 |AE          |\n",
      "|AEM00041194|25.255  |55.364   |10.4     |     |DUBAI INTL                    |   |            |41194 |AE          |\n",
      "|AEM00041217|24.433  |54.651   |26.8     |     |ABU DHABI INTL                |   |            |41217 |AE          |\n",
      "+-----------+--------+---------+---------+-----+------------------------------+---+------------+------+------------+\n",
      "only showing top 5 rows\n",
      "\n"
     ]
    }
   ],
   "source": [
    "stations = stations.withColumn(\n",
    "    'COUNTRY_CODE',\n",
    "    F.substring('ID', 1, 2)\n",
    ").withColumnRenamed('NAME', 'STATION_NAME')\n",
    "\n",
    "stations.show(5, False)"
   ]
  },
  {
   "cell_type": "code",
   "execution_count": 23,
   "id": "f772fb7d-26c1-4196-b04f-7b2a7b7a733d",
   "metadata": {},
   "outputs": [
    {
     "name": "stdout",
     "output_type": "stream",
     "text": [
      "+------------+---------------------+\n",
      "|COUNTRY_CODE|COUNTRY_NAME         |\n",
      "+------------+---------------------+\n",
      "|AC          |Antigua and Barbuda  |\n",
      "|AE          |United Arab Emirates |\n",
      "|AF          |Afghanistan          |\n",
      "|AG          |Algeria              |\n",
      "|AJ          |Azerbaijan           |\n",
      "+------------+---------------------+\n",
      "only showing top 5 rows\n",
      "\n"
     ]
    }
   ],
   "source": [
    "countries.show(5, False)"
   ]
  },
  {
   "cell_type": "markdown",
   "id": "b3fc3dcc-a83d-4b2b-931e-a0d39d961535",
   "metadata": {},
   "source": [
    "## Answer 3(b)"
   ]
  },
  {
   "cell_type": "code",
   "execution_count": 24,
   "id": "1f2c183b-8e3a-4a43-8d89-fff1ac4154f8",
   "metadata": {},
   "outputs": [
    {
     "name": "stdout",
     "output_type": "stream",
     "text": [
      "+------------+-----------+--------+---------+---------+-----+------------------------------+---+------------+------+--------------+\n",
      "|COUNTRY_CODE|ID         |LATITUDE|LONGITUDE|ELEVATION|STATE|STATION_NAME                  |GSN|HCN_CRN_FLAG|WMO_ID|COUNTRY_NAME  |\n",
      "+------------+-----------+--------+---------+---------+-----+------------------------------+---+------------+------+--------------+\n",
      "|GM          |GME00125783|54.5    |11.2331  |5.0      |     |MARIENLEUCHTE                 |   |            |NULL  |Germany       |\n",
      "|US          |USC00020923|32.5667 |-110.2   |1464.0   |AZ   |BOSLEY RCH                    |   |            |NULL  |United States |\n",
      "|US          |US1INGR0034|40.475  |-85.4895 |286.2    |IN   |UPLAND 1.5 NE                 |   |            |NULL  |United States |\n",
      "|CA          |CA1NB000047|45.0842 |-67.0444 |6.1      |NB   |SAINT ANDREWS 1.3 NNE         |   |            |NULL  |Canada        |\n",
      "|AS          |ASN00035190|-25.0311|145.8664 |380.0    |     |MINNIE DOWNS                  |   |            |NULL  |Australia     |\n",
      "|IN          |IN020050901|12.53   |78.23    |224.0    |     |KRISHNAGIRI                   |   |            |NULL  |India         |\n",
      "|US          |US1TXBST011|30.0116 |-97.1518 |104.9    |TX   |SMITHVILLE 0.4 NE             |   |            |NULL  |United States |\n",
      "|UP          |UPM00033187|50.7    |25.5     |192.0    |     |LUCK,AMSG                     |   |            |33187 |Ukraine       |\n",
      "|US          |US1TXGR0002|33.0499 |-101.1629|709.6    |TX   |JUSTICEBURG 2.4 ENE           |   |            |NULL  |United States |\n",
      "|US          |US1WVKN0034|38.3844 |-81.8131 |178.9    |WV   |ST. ALBANS 0.5 NNE            |   |            |NULL  |United States |\n",
      "|US          |US1MIPI0004|45.3658 |-84.0769 |227.7    |MI   |MILLERSBURG 2.3 NNW           |   |            |NULL  |United States |\n",
      "|UP          |UPM00034419|48.967  |37.833   |107.0    |     |KRASNY LIMAN                  |   |            |34419 |Ukraine       |\n",
      "|US          |USC00500272|61.1747 |-149.905 |35.7     |AK   |ANCHORAGE ARCTIC & INT        |   |            |NULL  |United States |\n",
      "|IN          |IN010010400|9.87    |76.33    |4.0      |     |ARUKUTTY                      |   |            |NULL  |India         |\n",
      "|US          |US1NMSN0182|35.3334 |-106.4949|1638.0   |NM   |PLACITAS 1.9 WNW              |   |            |NULL  |United States |\n",
      "|AS          |ASN00075077|-34.7   |143.6    |68.3     |     |YANGA                         |   |            |NULL  |Australia     |\n",
      "|AS          |ASN00003065|-18.55  |124.7167 |-999.9   |     |KALYEEDA                      |   |            |NULL  |Australia     |\n",
      "|US          |USC00509148|55.6917 |-132.5247|87.2     |AK   |THORNE BAY                    |   |            |NULL  |United States |\n",
      "|US          |US1MIMB0040|42.5213 |-82.9575 |188.4    |MI   |ROSEVILLE 1.4 NW              |   |            |NULL  |United States |\n",
      "|AS          |ASN00047008|-32.4555|141.0784 |175.0    |     |COCKBURN  (BURTA)             |   |            |NULL  |Australia     |\n",
      "+------------+-----------+--------+---------+---------+-----+------------------------------+---+------------+------+--------------+\n",
      "only showing top 20 rows\n",
      "\n"
     ]
    },
    {
     "name": "stderr",
     "output_type": "stream",
     "text": [
      "                                                                                "
     ]
    }
   ],
   "source": [
    "stations_with_country = stations.join(\n",
    "    countries,\n",
    "    on=\"COUNTRY_CODE\",\n",
    "    how=\"left\"\n",
    ")\n",
    "\n",
    "stations_with_country.orderBy(F.rand()).show(20, False)"
   ]
  },
  {
   "cell_type": "markdown",
   "id": "d5a32dfc-ef4a-477b-a55d-b8a54df5fdbe",
   "metadata": {},
   "source": [
    "## Answer 3(c)"
   ]
  },
  {
   "cell_type": "code",
   "execution_count": 40,
   "id": "70cd3be7-b261-4c26-83b3-c83526bf440d",
   "metadata": {},
   "outputs": [
    {
     "name": "stdout",
     "output_type": "stream",
     "text": [
      "+----------+------------+-----------+--------+---------+---------+------------------------------+---+------------+------+-------------------------------+--------------+\n",
      "|STATE_CODE|COUNTRY_CODE|ID         |LATITUDE|LONGITUDE|ELEVATION|STATION_NAME                  |GSN|HCN_CRN_FLAG|WMO_ID|COUNTRY_NAME                   |STATE_NAME    |\n",
      "+----------+------------+-----------+--------+---------+---------+------------------------------+---+------------+------+-------------------------------+--------------+\n",
      "|AS        |AQ          |AQC00914000|-14.3167|-170.7667|408.4    |AASUFOU                       |   |            |NULL  |American Samoa [United States] |AMERICAN SAMOA|\n",
      "|AS        |AQ          |AQC00914005|-14.2667|-170.65  |182.9    |AFONO                         |   |            |NULL  |American Samoa [United States] |AMERICAN SAMOA|\n",
      "|AS        |AQ          |AQC00914021|-14.2667|-170.5833|6.1      |AMOULI TUTUILA                |   |            |NULL  |American Samoa [United States] |AMERICAN SAMOA|\n",
      "|AS        |AQ          |AQC00914060|-14.2667|-170.6833|80.8     |ATUU                          |   |            |NULL  |American Samoa [United States] |AMERICAN SAMOA|\n",
      "|AS        |AQ          |AQC00914135|-14.3   |-170.7   |249.9    |FAGA ALU RSVR                 |   |            |NULL  |American Samoa [United States] |AMERICAN SAMOA|\n",
      "+----------+------------+-----------+--------+---------+---------+------------------------------+---+------------+------+-------------------------------+--------------+\n",
      "only showing top 5 rows\n",
      "\n"
     ]
    }
   ],
   "source": [
    "stations_country_states = stations_with_country.withColumnRenamed('STATE', 'STATE_CODE').join(\n",
    "        states.withColumnRenamed('CODE', 'STATE_CODE').withColumnRenamed('NAME', 'STATE_NAME'),\n",
    "        on=\"STATE_CODE\",\n",
    "        how=\"left\"\n",
    "    )\n",
    "\n",
    "stations_country_states.filter(F.col('STATE_NAME').isNotNull()).show(5, False)"
   ]
  },
  {
   "cell_type": "markdown",
   "id": "bb3f4500-1184-42a4-9450-af2988de99ea",
   "metadata": {},
   "source": [
    "## Answer 3(d)"
   ]
  },
  {
   "cell_type": "code",
   "execution_count": 41,
   "id": "4c04cf15-b872-4dae-945f-a7b0df9afeb5",
   "metadata": {},
   "outputs": [
    {
     "name": "stdout",
     "output_type": "stream",
     "text": [
      "+-----------+--------+---------+-------+----------+---------+\n",
      "|ID         |LATITUDE|LONGITUDE|ELEMENT|FIRST_YEAR|LAST_YEAR|\n",
      "+-----------+--------+---------+-------+----------+---------+\n",
      "|ACW00011604| 17.1167| -61.7833|TMAX   |1949      |1949     |\n",
      "|ACW00011604| 17.1167| -61.7833|TMIN   |1949      |1949     |\n",
      "|ACW00011604| 17.1167| -61.7833|PRCP   |1949      |1949     |\n",
      "|ACW00011604| 17.1167| -61.7833|SNOW   |1949      |1949     |\n",
      "|ACW00011604| 17.1167| -61.7833|SNWD   |1949      |1949     |\n",
      "|ACW00011604| 17.1167| -61.7833|PGTM   |1949      |1949     |\n",
      "|ACW00011604| 17.1167| -61.7833|WDFG   |1949      |1949     |\n",
      "|ACW00011604| 17.1167| -61.7833|WSFG   |1949      |1949     |\n",
      "|ACW00011604| 17.1167| -61.7833|WT03   |1949      |1949     |\n",
      "|ACW00011604| 17.1167| -61.7833|WT08   |1949      |1949     |\n",
      "|ACW00011604| 17.1167| -61.7833|WT16   |1949      |1949     |\n",
      "|ACW00011647| 17.1333| -61.7833|TMAX   |1961      |1961     |\n",
      "|ACW00011647| 17.1333| -61.7833|TMIN   |1961      |1961     |\n",
      "|ACW00011647| 17.1333| -61.7833|PRCP   |1957      |1970     |\n",
      "|ACW00011647| 17.1333| -61.7833|SNOW   |1957      |1970     |\n",
      "|ACW00011647| 17.1333| -61.7833|SNWD   |1957      |1970     |\n",
      "|ACW00011647| 17.1333| -61.7833|WT03   |1961      |1961     |\n",
      "|ACW00011647| 17.1333| -61.7833|WT16   |1961      |1966     |\n",
      "|AE000041196| 25.3330|  55.5170|TMAX   |1944      |2025     |\n",
      "|AE000041196| 25.3330|  55.5170|TMIN   |1944      |2025     |\n",
      "+-----------+--------+---------+-------+----------+---------+\n",
      "only showing top 20 rows\n",
      "\n"
     ]
    }
   ],
   "source": [
    "inventory.show(20, False)"
   ]
  },
  {
   "cell_type": "code",
   "execution_count": 42,
   "id": "d212508c-4fbf-47b8-9044-f4488fc52c52",
   "metadata": {},
   "outputs": [
    {
     "name": "stdout",
     "output_type": "stream",
     "text": [
      "+-----------+----------+---------+\n",
      "|ID         |FIRST_YEAR|LAST_YEAR|\n",
      "+-----------+----------+---------+\n",
      "|ACW00011604|1949      |1949     |\n",
      "|ACW00011647|1957      |1970     |\n",
      "|AE000041196|1944      |2025     |\n",
      "|AEM00041194|1983      |2025     |\n",
      "|AEM00041217|1983      |2025     |\n",
      "|AEM00041218|1994      |2025     |\n",
      "|AF000040930|1973      |1992     |\n",
      "|AFM00040938|1973      |2021     |\n",
      "|AFM00040948|1966      |2021     |\n",
      "|AFM00040990|1973      |2020     |\n",
      "|AG000060390|1940      |2025     |\n",
      "|AG000060590|1892      |2025     |\n",
      "|AG000060611|1958      |2025     |\n",
      "|AG000060680|1940      |2004     |\n",
      "|AGE00135039|1852      |1966     |\n",
      "|AGE00147704|1909      |1937     |\n",
      "|AGE00147705|1877      |1938     |\n",
      "|AGE00147706|1893      |1920     |\n",
      "|AGE00147707|1878      |1879     |\n",
      "|AGE00147708|1879      |2025     |\n",
      "+-----------+----------+---------+\n",
      "only showing top 20 rows\n",
      "\n"
     ]
    }
   ],
   "source": [
    "station_service_life = inventory.groupBy('ID').agg(\n",
    "    F.min('FIRST_YEAR').alias('FIRST_YEAR'),\n",
    "    F.max('LAST_YEAR').alias('LAST_YEAR')\n",
    ")\n",
    "\n",
    "station_service_life.show(20, False)"
   ]
  },
  {
   "cell_type": "code",
   "execution_count": 43,
   "id": "21c3663b-5876-45df-aa94-7be2fbd93080",
   "metadata": {},
   "outputs": [
    {
     "name": "stdout",
     "output_type": "stream",
     "text": [
      "+-----------+--------------+\n",
      "|ID         |COUNT_ELEMENTS|\n",
      "+-----------+--------------+\n",
      "|USW00014607|70            |\n",
      "|USW00013880|70            |\n",
      "|USW00023066|67            |\n",
      "|USW00013958|66            |\n",
      "|USW00093817|65            |\n",
      "|USW00024121|65            |\n",
      "|USW00093058|65            |\n",
      "|USW00014944|64            |\n",
      "|USW00024156|63            |\n",
      "|USW00024127|63            |\n",
      "|USW00024157|63            |\n",
      "|USW00014914|61            |\n",
      "|USW00025309|61            |\n",
      "|USW00094908|61            |\n",
      "|USW00094849|61            |\n",
      "|USW00013722|61            |\n",
      "|USW00093822|61            |\n",
      "|USW00026510|61            |\n",
      "|USW00003822|60            |\n",
      "|USW00003813|60            |\n",
      "+-----------+--------------+\n",
      "only showing top 20 rows\n",
      "\n"
     ]
    }
   ],
   "source": [
    "inventory.groupBy('ID').agg(\n",
    "    F.countDistinct('ELEMENT').alias('COUNT_ELEMENTS')\n",
    ").orderBy(F.col('COUNT_ELEMENTS').desc()).show(20, False)"
   ]
  },
  {
   "cell_type": "code",
   "execution_count": 44,
   "id": "c00fafc6-eeb3-41af-bd76-cd915b222237",
   "metadata": {},
   "outputs": [
    {
     "name": "stdout",
     "output_type": "stream",
     "text": [
      "+-----------+--------+---------+-------+----------+---------+\n",
      "|         ID|LATITUDE|LONGITUDE|ELEMENT|FIRST_YEAR|LAST_YEAR|\n",
      "+-----------+--------+---------+-------+----------+---------+\n",
      "|USW00014607| 46.8706| -68.0172|   TMAX|      1939|     2025|\n",
      "|USW00014607| 46.8706| -68.0172|   TMIN|      1939|     2025|\n",
      "|USW00014607| 46.8706| -68.0172|   TOBS|      1957|     2011|\n",
      "|USW00014607| 46.8706| -68.0172|   PRCP|      1939|     2025|\n",
      "|USW00014607| 46.8706| -68.0172|   SNOW|      1939|     2025|\n",
      "|USW00014607| 46.8706| -68.0172|   SNWD|      1939|     2025|\n",
      "|USW00014607| 46.8706| -68.0172|   ACSH|      1965|     1996|\n",
      "|USW00014607| 46.8706| -68.0172|   ADPT|      2006|     2024|\n",
      "|USW00014607| 46.8706| -68.0172|   ASLP|      2006|     2024|\n",
      "|USW00014607| 46.8706| -68.0172|   ASTP|      2006|     2024|\n",
      "|USW00014607| 46.8706| -68.0172|   AWBT|      2006|     2024|\n",
      "|USW00014607| 46.8706| -68.0172|   AWND|      1984|     2025|\n",
      "|USW00014607| 46.8706| -68.0172|   DAEV|      1963|     1996|\n",
      "|USW00014607| 46.8706| -68.0172|   DAWM|      1963|     2003|\n",
      "|USW00014607| 46.8706| -68.0172|   EVAP|      1963|     2025|\n",
      "|USW00014607| 46.8706| -68.0172|   FMTM|      1989|     2011|\n",
      "|USW00014607| 46.8706| -68.0172|   FRGB|      1964|     1964|\n",
      "|USW00014607| 46.8706| -68.0172|   FRGT|      1962|     1964|\n",
      "|USW00014607| 46.8706| -68.0172|   FRTH|      1964|     1964|\n",
      "|USW00014607| 46.8706| -68.0172|   GAHT|      1964|     1964|\n",
      "+-----------+--------+---------+-------+----------+---------+\n",
      "only showing top 20 rows\n",
      "\n"
     ]
    }
   ],
   "source": [
    "inventory.filter(F.col('ID') == 'USW00014607').show()"
   ]
  },
  {
   "cell_type": "markdown",
   "id": "aa063df6-90db-41c8-855f-c23d99e123cb",
   "metadata": {},
   "source": [
    "### Answer 3(d) (last part)"
   ]
  },
  {
   "cell_type": "code",
   "execution_count": 45,
   "id": "0ef29020-02e0-4d96-813f-92a0f63b0ddd",
   "metadata": {},
   "outputs": [],
   "source": [
    "def get_element_counts(elements):\n",
    "    \"\"\"\n",
    "    Returns dict with count of core and other elements\n",
    "\n",
    "    Parameters\n",
    "    ----------\n",
    "    elements: list of strings\n",
    "\n",
    "    Returns\n",
    "    -------\n",
    "    dict { \"num_core\": number, \"num_other\": number }    \n",
    "    \n",
    "    \"\"\"    \n",
    "    \n",
    "    CORE_ELEMENTS = {'PRCP','SNOW','SNWD','TMAX','TMIN'}   \n",
    "\n",
    "    elements_set = set(elements)\n",
    "    \n",
    "    return {\n",
    "        \"num_core\": len(elements_set & CORE_ELEMENTS),\n",
    "        \"num_other\": len(elements_set - CORE_ELEMENTS)\n",
    "    }\n",
    "\n",
    "get_element_counts_udf = F.udf(get_element_counts, StructType([\n",
    "    StructField(\"num_core\", IntegerType()),\n",
    "    StructField(\"num_other\", IntegerType())\n",
    "]))\n"
   ]
  },
  {
   "cell_type": "code",
   "execution_count": 46,
   "id": "25d19eb1-8f60-4895-a958-8912f79205b1",
   "metadata": {},
   "outputs": [
    {
     "name": "stderr",
     "output_type": "stream",
     "text": [
      "[Stage 68:===========================================>              (6 + 2) / 8]"
     ]
    },
    {
     "name": "stdout",
     "output_type": "stream",
     "text": [
      "+-----------+------------------------------+-----------------+------------------+\n",
      "|ID         |ELEMENTS                      |NUM_CORE_ELEMENTS|NUM_OTHER_ELEMENTS|\n",
      "+-----------+------------------------------+-----------------+------------------+\n",
      "|AE000041196|[TMAX, TMIN, PRCP, TAVG]      |3                |1                 |\n",
      "|AEM00041218|[TMAX, TMIN, PRCP, TAVG]      |3                |1                 |\n",
      "|AF000040930|[TMAX, TMIN, PRCP, SNWD, TAVG]|4                |1                 |\n",
      "|AG000060590|[TMAX, TMIN, PRCP, TAVG]      |3                |1                 |\n",
      "|AGE00147704|[TMAX, TMIN, PRCP]            |3                |0                 |\n",
      "|AGE00147705|[TMAX, TMIN, PRCP]            |3                |0                 |\n",
      "|AGE00147706|[TMAX, TMIN, PRCP]            |3                |0                 |\n",
      "|AGE00147708|[TMAX, TMIN, PRCP, SNWD, TAVG]|4                |1                 |\n",
      "|AGE00147709|[TMAX, TMIN, PRCP]            |3                |0                 |\n",
      "|AGE00147714|[TMAX, TMIN, PRCP]            |3                |0                 |\n",
      "|AGE00147715|[TMAX, TMIN, PRCP]            |3                |0                 |\n",
      "|AGE00147716|[TMAX, TMIN, PRCP, TAVG]      |3                |1                 |\n",
      "|AGE00147717|[TMAX, TMIN, PRCP]            |3                |0                 |\n",
      "|AGE00147719|[TMAX, TMIN, PRCP, TAVG]      |3                |1                 |\n",
      "|AGM00060360|[TMAX, TMIN, PRCP, TAVG]      |3                |1                 |\n",
      "|AGM00060367|[TMAX, TMIN, PRCP, TAVG]      |3                |1                 |\n",
      "|AGM00060405|[TMAX, TMIN, PRCP, TAVG]      |3                |1                 |\n",
      "|AGM00060423|[TMAX, TMIN, PRCP, SNWD, TAVG]|4                |1                 |\n",
      "|AGM00060425|[TMAX, TMIN, PRCP, SNWD, TAVG]|4                |1                 |\n",
      "|AGM00060430|[TMAX, TMIN, PRCP, SNWD, TAVG]|4                |1                 |\n",
      "+-----------+------------------------------+-----------------+------------------+\n",
      "only showing top 20 rows\n",
      "\n"
     ]
    },
    {
     "name": "stderr",
     "output_type": "stream",
     "text": [
      "                                                                                "
     ]
    }
   ],
   "source": [
    "inventory_with_counts = (\n",
    "    inventory.groupBy('ID')\n",
    "    .agg(F.collect_list('ELEMENT').alias('ELEMENTS'))\n",
    "    .withColumn('ELEMENT_COUNTS', get_element_counts_udf('ELEMENTS'))\n",
    "    .select(\n",
    "        'ID',\n",
    "        'ELEMENTS',\n",
    "        F.col('ELEMENT_COUNTS.num_core').alias('NUM_CORE_ELEMENTS'),\n",
    "        F.col('ELEMENT_COUNTS.num_other').alias('NUM_OTHER_ELEMENTS')\n",
    "    )\n",
    ")\n",
    "\n",
    "inventory_with_counts.show(20, False)"
   ]
  },
  {
   "cell_type": "markdown",
   "id": "0864d055-1b6a-40b3-a409-fcacd8f4dddf",
   "metadata": {},
   "source": [
    " How many stations collect all five core elements?"
   ]
  },
  {
   "cell_type": "code",
   "execution_count": 47,
   "id": "9c286a58-a519-4fa6-8e81-f64f20ff7ca0",
   "metadata": {},
   "outputs": [
    {
     "name": "stderr",
     "output_type": "stream",
     "text": [
      "                                                                                "
     ]
    },
    {
     "data": {
      "text/plain": [
       "20504"
      ]
     },
     "execution_count": 47,
     "metadata": {},
     "output_type": "execute_result"
    }
   ],
   "source": [
    "inventory_with_counts.filter(F.col('NUM_CORE_ELEMENTS') == 5).count()"
   ]
  },
  {
   "cell_type": "markdown",
   "id": "b4c4c3b1-2974-4498-aedc-231440252438",
   "metadata": {},
   "source": [
    "How many collect only precipitation and no other elements?"
   ]
  },
  {
   "cell_type": "code",
   "execution_count": 48,
   "id": "0ddca0f1-9eb0-4812-8191-42f4b9bd40e2",
   "metadata": {},
   "outputs": [
    {
     "data": {
      "text/plain": [
       "16267"
      ]
     },
     "execution_count": 48,
     "metadata": {},
     "output_type": "execute_result"
    }
   ],
   "source": [
    "inventory_with_counts.filter(\n",
    "    (F.size('ELEMENTS') == 1) &\n",
    "    (F.array_contains(F.col('ELEMENTS'), 'PRCP'))\n",
    ").count()"
   ]
  },
  {
   "cell_type": "markdown",
   "id": "03ecf600-f6b0-4a69-b833-1904220612d4",
   "metadata": {},
   "source": [
    "## Answer 3(e)"
   ]
  },
  {
   "cell_type": "code",
   "execution_count": 49,
   "id": "8ddbc00f-beae-4452-990f-a9b09e7375d8",
   "metadata": {},
   "outputs": [
    {
     "name": "stdout",
     "output_type": "stream",
     "text": [
      "+-----------+----------+------------+--------+---------+---------+------------------------------+---+------------+------+---------------------+----------+------------------------------------------+-----------------+------------------+\n",
      "|ID         |STATE_CODE|COUNTRY_CODE|LATITUDE|LONGITUDE|ELEVATION|STATION_NAME                  |GSN|HCN_CRN_FLAG|WMO_ID|COUNTRY_NAME         |STATE_NAME|ELEMENTS                                  |NUM_CORE_ELEMENTS|NUM_OTHER_ELEMENTS|\n",
      "+-----------+----------+------------+--------+---------+---------+------------------------------+---+------------+------+---------------------+----------+------------------------------------------+-----------------+------------------+\n",
      "|AE000041196|          |AE          |25.333  |55.517   |34.0     |SHARJAH INTER. AIRP           |GSN|            |41196 |United Arab Emirates |NULL      |[TMAX, TMIN, PRCP, TAVG]                  |3                |1                 |\n",
      "|AEM00041218|          |AE          |24.262  |55.609   |264.9    |AL AIN INTL                   |   |            |41218 |United Arab Emirates |NULL      |[TMAX, TMIN, PRCP, TAVG]                  |3                |1                 |\n",
      "|AF000040930|          |AF          |35.317  |69.017   |3366.0   |NORTH-SALANG                  |GSN|            |40930 |Afghanistan          |NULL      |[TMAX, TMIN, PRCP, SNWD, TAVG]            |4                |1                 |\n",
      "|AG000060590|          |AG          |30.5667 |2.8667   |397.0    |EL-GOLEA                      |GSN|            |60590 |Algeria              |NULL      |[TMAX, TMIN, PRCP, TAVG]                  |3                |1                 |\n",
      "|AGE00147704|          |AG          |36.97   |7.79     |161.0    |ANNABA-CAP DE GARDE           |   |            |NULL  |Algeria              |NULL      |[TMAX, TMIN, PRCP]                        |3                |0                 |\n",
      "|AGE00147705|          |AG          |36.78   |3.07     |59.0     |ALGIERS-VILLE/UNIVERSITE      |   |            |NULL  |Algeria              |NULL      |[TMAX, TMIN, PRCP]                        |3                |0                 |\n",
      "|AGE00147706|          |AG          |36.8    |3.03     |344.0    |ALGIERS-BOUZAREAH             |   |            |NULL  |Algeria              |NULL      |[TMAX, TMIN, PRCP]                        |3                |0                 |\n",
      "|AGE00147708|          |AG          |36.72   |4.05     |222.0    |TIZI OUZOU                    |   |            |60395 |Algeria              |NULL      |[TMAX, TMIN, PRCP, SNWD, TAVG]            |4                |1                 |\n",
      "|AGE00147709|          |AG          |36.63   |4.2      |942.0    |FORT NATIONAL                 |   |            |NULL  |Algeria              |NULL      |[TMAX, TMIN, PRCP]                        |3                |0                 |\n",
      "|RSM00030856|          |RS          |51.483  |114.533  |877.0    |SEDLOVAJA                     |   |            |30856 |Russia               |NULL      |[TMAX, TMIN, PRCP, SNWD, TAVG]            |4                |1                 |\n",
      "|RSM00030862|          |RS          |51.867  |116.033  |597.0    |SHILKA                        |   |            |30862 |Russia               |NULL      |[TMAX, TMIN, PRCP, SNWD, TAVG]            |4                |1                 |\n",
      "|RSM00030934|          |RS          |50.6    |107.583  |638.0    |BICURA                        |   |            |30934 |Russia               |NULL      |[TMAX, TMIN, PRCP, SNWD, TAVG]            |4                |1                 |\n",
      "|RSM00030935|          |RS          |50.37   |108.75   |770.0    |KRASNYJ CHIKOJ                |   |            |30935 |Russia               |NULL      |[TMAX, TMIN, PRCP, SNWD, TAVG]            |4                |1                 |\n",
      "|RSM00030975|          |RS          |50.3    |119.1    |521.0    |PRIARGUNSK                    |   |            |30975 |Russia               |NULL      |[PRCP]                                    |1                |0                 |\n",
      "|US1VAAM0002|VA        |US          |37.3009 |-78.1609 |118.0    |JETERSVILLE 3.6 W             |   |            |NULL  |United States        |VIRGINIA  |[PRCP, SNOW, SNWD, DAPR, MDPR, WESD, WESF]|3                |4                 |\n",
      "|US1VAAP0001|VA        |US          |37.4083 |-78.9638 |219.5    |CONCORD 4.6 NNE               |   |            |NULL  |United States        |VIRGINIA  |[PRCP, SNOW, SNWD, WESD, WESF]            |3                |2                 |\n",
      "|US1VAAR0005|VA        |US          |38.8554 |-77.0698 |41.5     |ALEXANDRIA 2.4 NE             |   |            |NULL  |United States        |VIRGINIA  |[PRCP, SNOW, SNWD, DAPR, MDPR, WESD, WESF]|3                |4                 |\n",
      "|US1VAAR0016|VA        |US          |38.892  |-77.1617 |109.7    |ARLINGTON 3.3 WNW             |   |            |NULL  |United States        |VIRGINIA  |[PRCP, SNOW, SNWD, DAPR, MDPR, WESD, WESF]|3                |4                 |\n",
      "|US1VAAR0017|VA        |US          |38.7986 |-77.0431 |10.4     |HUNTINGTON 1.6 ENE            |   |            |NULL  |United States        |VIRGINIA  |[PRCP, SNOW, DAPR, MDPR]                  |2                |2                 |\n",
      "|US1VAAR0018|VA        |US          |38.8719 |-77.119  |78.0     |ARLINGTON 1.0 WSW             |   |            |NULL  |United States        |VIRGINIA  |[PRCP, SNOW, DAPR, MDPR]                  |2                |2                 |\n",
      "+-----------+----------+------------+--------+---------+---------+------------------------------+---+------------+------+---------------------+----------+------------------------------------------+-----------------+------------------+\n",
      "only showing top 20 rows\n",
      "\n"
     ]
    }
   ],
   "source": [
    "station_enriched = stations_country_states.join(\n",
    "    inventory_with_counts,\n",
    "    on='ID',\n",
    "    how='left'\n",
    ")\n",
    "\n",
    "station_enriched.show(20, False)"
   ]
  },
  {
   "cell_type": "code",
   "execution_count": 50,
   "id": "c8828f00-4688-493c-a4ac-45b86e6b9bbe",
   "metadata": {},
   "outputs": [
    {
     "name": "stdout",
     "output_type": "stream",
     "text": [
      "root\n",
      " |-- ID: string (nullable = true)\n",
      " |-- STATE_CODE: string (nullable = true)\n",
      " |-- COUNTRY_CODE: string (nullable = true)\n",
      " |-- LATITUDE: double (nullable = true)\n",
      " |-- LONGITUDE: double (nullable = true)\n",
      " |-- ELEVATION: double (nullable = true)\n",
      " |-- STATION_NAME: string (nullable = true)\n",
      " |-- GSN: string (nullable = true)\n",
      " |-- HCN_CRN_FLAG: string (nullable = true)\n",
      " |-- WMO_ID: integer (nullable = true)\n",
      " |-- COUNTRY_NAME: string (nullable = true)\n",
      " |-- STATE_NAME: string (nullable = true)\n",
      " |-- ELEMENTS: array (nullable = true)\n",
      " |    |-- element: string (containsNull = false)\n",
      " |-- NUM_CORE_ELEMENTS: integer (nullable = true)\n",
      " |-- NUM_OTHER_ELEMENTS: integer (nullable = true)\n",
      "\n"
     ]
    }
   ],
   "source": [
    "station_enriched.printSchema()"
   ]
  },
  {
   "cell_type": "code",
   "execution_count": 42,
   "id": "ca717c89-0d0b-49b0-8a24-6c6e439feac2",
   "metadata": {},
   "outputs": [
    {
     "data": {
      "text/plain": [
       "129657"
      ]
     },
     "execution_count": 42,
     "metadata": {},
     "output_type": "execute_result"
    }
   ],
   "source": [
    "station_enriched.count()"
   ]
  },
  {
   "cell_type": "markdown",
   "id": "d92abe89-02de-4231-97f9-7768a0404e6c",
   "metadata": {},
   "source": [
    "converting array of strings in 'ELEMENTS' columns to string like 'TMAX;TMIN;PRCP' to allow storing in csv format"
   ]
  },
  {
   "cell_type": "code",
   "execution_count": 45,
   "id": "7d0bf16f-8971-4428-bb1f-096083a17c96",
   "metadata": {
    "scrolled": true
   },
   "outputs": [
    {
     "name": "stderr",
     "output_type": "stream",
     "text": [
      "[Stage 100:============================>                            (1 + 1) / 2]"
     ]
    },
    {
     "name": "stdout",
     "output_type": "stream",
     "text": [
      "+-----------+----------+------------+--------+---------+---------+------------------------------+---+------------+------+---------------------+----------+----------------------------------+-----------------+------------------+\n",
      "|ID         |STATE_CODE|COUNTRY_CODE|LATITUDE|LONGITUDE|ELEVATION|STATION_NAME                  |GSN|HCN_CRN_FLAG|WMO_ID|COUNTRY_NAME         |STATE_NAME|ELEMENTS                          |NUM_CORE_ELEMENTS|NUM_OTHER_ELEMENTS|\n",
      "+-----------+----------+------------+--------+---------+---------+------------------------------+---+------------+------+---------------------+----------+----------------------------------+-----------------+------------------+\n",
      "|AE000041196|          |AE          |25.333  |55.517   |34.0     |SHARJAH INTER. AIRP           |GSN|            |41196 |United Arab Emirates |NULL      |TMAX;TMIN;PRCP;TAVG               |3                |1                 |\n",
      "|AEM00041218|          |AE          |24.262  |55.609   |264.9    |AL AIN INTL                   |   |            |41218 |United Arab Emirates |NULL      |TMAX;TMIN;PRCP;TAVG               |3                |1                 |\n",
      "|AF000040930|          |AF          |35.317  |69.017   |3366.0   |NORTH-SALANG                  |GSN|            |40930 |Afghanistan          |NULL      |TMAX;TMIN;PRCP;SNWD;TAVG          |4                |1                 |\n",
      "|AG000060590|          |AG          |30.5667 |2.8667   |397.0    |EL-GOLEA                      |GSN|            |60590 |Algeria              |NULL      |TMAX;TMIN;PRCP;TAVG               |3                |1                 |\n",
      "|AGE00147704|          |AG          |36.97   |7.79     |161.0    |ANNABA-CAP DE GARDE           |   |            |NULL  |Algeria              |NULL      |TMAX;TMIN;PRCP                    |3                |0                 |\n",
      "|AGE00147705|          |AG          |36.78   |3.07     |59.0     |ALGIERS-VILLE/UNIVERSITE      |   |            |NULL  |Algeria              |NULL      |TMAX;TMIN;PRCP                    |3                |0                 |\n",
      "|AGE00147706|          |AG          |36.8    |3.03     |344.0    |ALGIERS-BOUZAREAH             |   |            |NULL  |Algeria              |NULL      |TMAX;TMIN;PRCP                    |3                |0                 |\n",
      "|AGE00147708|          |AG          |36.72   |4.05     |222.0    |TIZI OUZOU                    |   |            |60395 |Algeria              |NULL      |TMAX;TMIN;PRCP;SNWD;TAVG          |4                |1                 |\n",
      "|AGE00147709|          |AG          |36.63   |4.2      |942.0    |FORT NATIONAL                 |   |            |NULL  |Algeria              |NULL      |TMAX;TMIN;PRCP                    |3                |0                 |\n",
      "|RSM00030856|          |RS          |51.483  |114.533  |877.0    |SEDLOVAJA                     |   |            |30856 |Russia               |NULL      |TMAX;TMIN;PRCP;SNWD;TAVG          |4                |1                 |\n",
      "|RSM00030862|          |RS          |51.867  |116.033  |597.0    |SHILKA                        |   |            |30862 |Russia               |NULL      |TMAX;TMIN;PRCP;SNWD;TAVG          |4                |1                 |\n",
      "|RSM00030934|          |RS          |50.6    |107.583  |638.0    |BICURA                        |   |            |30934 |Russia               |NULL      |TMAX;TMIN;PRCP;SNWD;TAVG          |4                |1                 |\n",
      "|RSM00030935|          |RS          |50.37   |108.75   |770.0    |KRASNYJ CHIKOJ                |   |            |30935 |Russia               |NULL      |TMAX;TMIN;PRCP;SNWD;TAVG          |4                |1                 |\n",
      "|RSM00030975|          |RS          |50.3    |119.1    |521.0    |PRIARGUNSK                    |   |            |30975 |Russia               |NULL      |PRCP                              |1                |0                 |\n",
      "|US1VAAM0002|VA        |US          |37.3009 |-78.1609 |118.0    |JETERSVILLE 3.6 W             |   |            |NULL  |United States        |VIRGINIA  |PRCP;SNOW;SNWD;DAPR;MDPR;WESD;WESF|3                |4                 |\n",
      "|US1VAAP0001|VA        |US          |37.4083 |-78.9638 |219.5    |CONCORD 4.6 NNE               |   |            |NULL  |United States        |VIRGINIA  |PRCP;SNOW;SNWD;WESD;WESF          |3                |2                 |\n",
      "|US1VAAR0005|VA        |US          |38.8554 |-77.0698 |41.5     |ALEXANDRIA 2.4 NE             |   |            |NULL  |United States        |VIRGINIA  |PRCP;SNOW;SNWD;DAPR;MDPR;WESD;WESF|3                |4                 |\n",
      "|US1VAAR0016|VA        |US          |38.892  |-77.1617 |109.7    |ARLINGTON 3.3 WNW             |   |            |NULL  |United States        |VIRGINIA  |PRCP;SNOW;SNWD;DAPR;MDPR;WESD;WESF|3                |4                 |\n",
      "|US1VAAR0017|VA        |US          |38.7986 |-77.0431 |10.4     |HUNTINGTON 1.6 ENE            |   |            |NULL  |United States        |VIRGINIA  |PRCP;SNOW;DAPR;MDPR               |2                |2                 |\n",
      "|US1VAAR0018|VA        |US          |38.8719 |-77.119  |78.0     |ARLINGTON 1.0 WSW             |   |            |NULL  |United States        |VIRGINIA  |PRCP;SNOW;DAPR;MDPR               |2                |2                 |\n",
      "+-----------+----------+------------+--------+---------+---------+------------------------------+---+------------+------+---------------------+----------+----------------------------------+-----------------+------------------+\n",
      "only showing top 20 rows\n",
      "\n"
     ]
    },
    {
     "name": "stderr",
     "output_type": "stream",
     "text": [
      "                                                                                "
     ]
    }
   ],
   "source": [
    "station_enriched_formatted = station_enriched.withColumn(\n",
    "    \"ELEMENTS\",\n",
    "    F.concat_ws(';', F.col('ELEMENTS'))\n",
    ")\n",
    "\n",
    "station_enriched_formatted.show(20, False)"
   ]
  },
  {
   "cell_type": "code",
   "execution_count": 46,
   "id": "feed52b3-dcb6-492c-a589-f3a461f8dcf6",
   "metadata": {},
   "outputs": [
    {
     "name": "stdout",
     "output_type": "stream",
     "text": [
      "wasbs://campus-user@madsstorage002.blob.core.windows.net/rsh224/stations-enriched\n"
     ]
    }
   ],
   "source": [
    "# Define an output path as an exmaple\n",
    "\n",
    "output_relative_path = f'{username}/stations-enriched'\n",
    "output_path = f'wasbs://{azure_user_container_name}@{azure_account_name}.blob.core.windows.net/{output_relative_path}'\n",
    "\n",
    "print(output_path)"
   ]
  },
  {
   "cell_type": "code",
   "execution_count": 47,
   "id": "b24beb8d-4488-4657-b0af-15f2468f92f0",
   "metadata": {},
   "outputs": [
    {
     "name": "stderr",
     "output_type": "stream",
     "text": [
      "25/08/26 19:41:15 WARN AzureFileSystemThreadPoolExecutor: Disabling threads for Delete operation as thread count 0 is <= 1\n",
      "25/08/26 19:41:17 WARN AzureFileSystemThreadPoolExecutor: Disabling threads for Delete operation as thread count 0 is <= 1\n"
     ]
    }
   ],
   "source": [
    "# Save the stations metadata to Azure Blob Storage from Spark\n",
    "\n",
    "station_enriched_formatted.write.mode(\"overwrite\").option('header', True).csv(output_path)"
   ]
  },
  {
   "cell_type": "code",
   "execution_count": 48,
   "id": "93c062b7-db91-4e7f-8435-b205ea54708b",
   "metadata": {},
   "outputs": [
    {
     "name": "stdout",
     "output_type": "stream",
     "text": [
      "Found 9 items\n",
      "-rw-r--r--   1 rsh224 supergroup          0 2025-08-26 19:41 wasbs://campus-user@madsstorage002.blob.core.windows.net/rsh224/stations-enriched/_SUCCESS\n",
      "-rw-r--r--   1 rsh224 supergroup    1847549 2025-08-26 19:41 wasbs://campus-user@madsstorage002.blob.core.windows.net/rsh224/stations-enriched/part-00000-e8caac3d-b525-4225-804d-41fb136b5d89-c000.csv\n",
      "-rw-r--r--   1 rsh224 supergroup    1845057 2025-08-26 19:41 wasbs://campus-user@madsstorage002.blob.core.windows.net/rsh224/stations-enriched/part-00001-e8caac3d-b525-4225-804d-41fb136b5d89-c000.csv\n",
      "-rw-r--r--   1 rsh224 supergroup    1855156 2025-08-26 19:41 wasbs://campus-user@madsstorage002.blob.core.windows.net/rsh224/stations-enriched/part-00002-e8caac3d-b525-4225-804d-41fb136b5d89-c000.csv\n",
      "-rw-r--r--   1 rsh224 supergroup    1836506 2025-08-26 19:41 wasbs://campus-user@madsstorage002.blob.core.windows.net/rsh224/stations-enriched/part-00003-e8caac3d-b525-4225-804d-41fb136b5d89-c000.csv\n",
      "-rw-r--r--   1 rsh224 supergroup    1889121 2025-08-26 19:41 wasbs://campus-user@madsstorage002.blob.core.windows.net/rsh224/stations-enriched/part-00004-e8caac3d-b525-4225-804d-41fb136b5d89-c000.csv\n",
      "-rw-r--r--   1 rsh224 supergroup    1856857 2025-08-26 19:41 wasbs://campus-user@madsstorage002.blob.core.windows.net/rsh224/stations-enriched/part-00005-e8caac3d-b525-4225-804d-41fb136b5d89-c000.csv\n",
      "-rw-r--r--   1 rsh224 supergroup    1841381 2025-08-26 19:41 wasbs://campus-user@madsstorage002.blob.core.windows.net/rsh224/stations-enriched/part-00006-e8caac3d-b525-4225-804d-41fb136b5d89-c000.csv\n",
      "-rw-r--r--   1 rsh224 supergroup    1850730 2025-08-26 19:41 wasbs://campus-user@madsstorage002.blob.core.windows.net/rsh224/stations-enriched/part-00007-e8caac3d-b525-4225-804d-41fb136b5d89-c000.csv\n"
     ]
    }
   ],
   "source": [
    "# Use the hdfs command to explore the data in Azure Blob Storage\n",
    "\n",
    "!hdfs dfs -ls wasbs://{azure_user_container_name}@{azure_account_name}.blob.core.windows.net/{username}/stations-enriched/"
   ]
  },
  {
   "cell_type": "code",
   "execution_count": 52,
   "id": "f5a9070e-d2ff-4ee6-ad29-63ab1a407717",
   "metadata": {},
   "outputs": [
    {
     "name": "stderr",
     "output_type": "stream",
     "text": [
      "[Stage 116:>                                                        (0 + 8) / 8]"
     ]
    },
    {
     "name": "stdout",
     "output_type": "stream",
     "text": [
      "+-----------+----------+------------+--------+---------+---------+--------------------+----+------------+------+------------+----------+------------------------+-----------------+------------------+\n",
      "|ID         |STATE_CODE|COUNTRY_CODE|LATITUDE|LONGITUDE|ELEVATION|STATION_NAME        |GSN |HCN_CRN_FLAG|WMO_ID|COUNTRY_NAME|STATE_NAME|ELEMENTS                |NUM_CORE_ELEMENTS|NUM_OTHER_ELEMENTS|\n",
      "+-----------+----------+------------+--------+---------+---------+--------------------+----+------------+------+------------+----------+------------------------+-----------------+------------------+\n",
      "|AFM00040990|NULL      |AF          |31.5    |65.85    |1010.0   |KANDAHAR AIRPORT    |NULL|NULL        |40990 |Afghanistan |NULL      |TMAX;TMIN;PRCP;SNWD;TAVG|4                |1                 |\n",
      "|AGE00147712|NULL      |AG          |36.17   |1.34     |112.0    |ORLEANSVILLE (CHLEF)|NULL|NULL        |NULL  |Algeria     |NULL      |TMAX;TMIN;PRCP          |3                |0                 |\n",
      "|AGE00147713|NULL      |AG          |36.18   |5.4      |1081.0   |SETIF               |NULL|NULL        |NULL  |Algeria     |NULL      |TMAX;TMIN;PRCP          |3                |0                 |\n",
      "|AGE00147718|NULL      |AG          |34.85   |5.72     |125.0    |BISKRA              |NULL|NULL        |60525 |Algeria     |NULL      |TMAX;TMIN;PRCP;TAVG     |3                |1                 |\n",
      "|AGM00060402|NULL      |AG          |36.712  |5.07     |6.1      |SOUMMAM             |NULL|NULL        |60402 |Algeria     |NULL      |TMAX;TMIN;PRCP;SNWD;TAVG|4                |1                 |\n",
      "|AGM00060417|NULL      |AG          |36.383  |3.883    |560.0    |BOUIRA              |NULL|NULL        |60417 |Algeria     |NULL      |TMAX;TMIN;PRCP;SNWD;TAVG|4                |1                 |\n",
      "|AGM00060421|NULL      |AG          |35.867  |7.117    |891.0    |OUM EL BOUAGHI      |NULL|NULL        |60421 |Algeria     |NULL      |TMAX;TMIN;PRCP;SNWD;TAVG|4                |1                 |\n",
      "|AGM00060445|NULL      |AG          |36.178  |5.324    |1050.0   |SETIF AIN ARNAT     |NULL|NULL        |60445 |Algeria     |NULL      |TMAX;TMIN;PRCP;SNWD;TAVG|4                |1                 |\n",
      "|AGM00060461|NULL      |AG          |35.7    |-0.65    |22.0     |ORAN-PORT           |NULL|NULL        |60461 |Algeria     |NULL      |TMAX;TMIN;PRCP;TAVG     |3                |1                 |\n",
      "|AGM00060531|NULL      |AG          |35.017  |-1.45    |248.1    |ZENATA              |NULL|NULL        |60531 |Algeria     |NULL      |TMAX;TMIN;PRCP;SNWD;TAVG|4                |1                 |\n",
      "|AGM00060566|NULL      |AG          |32.384  |3.794    |460.9    |NOUMERAT            |NULL|NULL        |60566 |Algeria     |NULL      |TMAX;TMIN;PRCP;TAVG     |3                |1                 |\n",
      "|AGM00060581|NULL      |AG          |31.673  |6.14     |141.1    |OUED IRARA          |NULL|NULL        |60581 |Algeria     |NULL      |TMAX;TMIN;PRCP;TAVG     |3                |1                 |\n",
      "|AJ000037679|NULL      |AJ          |41.1    |49.2     |-26.0    |SIASAN'             |NULL|NULL        |37679 |Azerbaijan  |NULL      |PRCP                    |1                |0                 |\n",
      "|AJ000037734|NULL      |AJ          |40.8    |46.0     |404.0    |SHAMHOR             |NULL|NULL        |37734 |Azerbaijan  |NULL      |PRCP                    |1                |0                 |\n",
      "|AJ000037740|NULL      |AJ          |40.983  |47.867   |682.0    |QABALA              |NULL|NULL        |37740 |Azerbaijan  |NULL      |TMAX;TMIN;PRCP;SNWD;TAVG|4                |1                 |\n",
      "|AJ000037825|NULL      |AJ          |40.4    |46.3     |1612.0   |GEYGEL'-KURORT      |NULL|NULL        |37825 |Azerbaijan  |NULL      |PRCP                    |1                |0                 |\n",
      "|AJ000037831|NULL      |AJ          |40.4    |47.0     |160.0    |MIR-BASHIR          |NULL|NULL        |37831 |Azerbaijan  |NULL      |PRCP                    |1                |0                 |\n",
      "|AJ000037850|NULL      |AJ          |40.4    |49.8     |47.0     |BAKU                |NULL|NULL        |37850 |Azerbaijan  |NULL      |PRCP                    |1                |0                 |\n",
      "|AJ000037895|NULL      |AJ          |39.983  |46.75    |828.0    |KHANKANDY           |NULL|NULL        |37895 |Azerbaijan  |NULL      |TMAX;TMIN;PRCP;SNWD;TAVG|4                |1                 |\n",
      "|AJ000037902|NULL      |AJ          |39.8    |47.5     |157.0    |MOL'SKAYA,STEP'     |NULL|NULL        |37902 |Azerbaijan  |NULL      |PRCP                    |1                |0                 |\n",
      "+-----------+----------+------------+--------+---------+---------+--------------------+----+------------+------+------------+----------+------------------------+-----------------+------------------+\n",
      "only showing top 20 rows\n",
      "\n"
     ]
    },
    {
     "name": "stderr",
     "output_type": "stream",
     "text": [
      "                                                                                "
     ]
    }
   ],
   "source": [
    "data = spark.read.csv(output_path, header=True, inferSchema=True)\n",
    "\n",
    "data.show(20, False)"
   ]
  },
  {
   "cell_type": "code",
   "execution_count": 51,
   "id": "ea2318c1-9ef3-4db9-a5cb-7d028114864e",
   "metadata": {},
   "outputs": [
    {
     "name": "stderr",
     "output_type": "stream",
     "text": [
      "25/09/11 16:22:46 WARN ExecutorPodsWatchSnapshotSource: Kubernetes client has been closed.\n"
     ]
    },
    {
     "data": {
      "text/html": [
       "<p><b>Spark</b></p><p>The spark session is <b><span style=\"color:red\">stopped</span></b>, confirm that <code>rsh224 (notebook)</code> is under the completed applications section in the Spark UI.</p><ul><li><a href=\"http://mathmadslinux2p.canterbury.ac.nz:8080/\" target=\"_blank\">Spark UI</a></li></ul>"
      ],
      "text/plain": [
       "<IPython.core.display.HTML object>"
      ]
     },
     "metadata": {},
     "output_type": "display_data"
    }
   ],
   "source": [
    "# Run this cell before closing the notebook or kill your spark application by hand using the link in the Spark UI\n",
    "\n",
    "stop_spark()"
   ]
  }
 ],
 "metadata": {
  "kernelspec": {
   "display_name": "Python 3 (ipykernel)",
   "language": "python",
   "name": "python3"
  },
  "language_info": {
   "codemirror_mode": {
    "name": "ipython",
    "version": 3
   },
   "file_extension": ".py",
   "mimetype": "text/x-python",
   "name": "python",
   "nbconvert_exporter": "python",
   "pygments_lexer": "ipython3",
   "version": "3.8.10"
  }
 },
 "nbformat": 4,
 "nbformat_minor": 5
}
