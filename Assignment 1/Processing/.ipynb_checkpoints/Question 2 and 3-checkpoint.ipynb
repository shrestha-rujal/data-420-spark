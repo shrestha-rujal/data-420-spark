{
 "cells": [
  {
   "cell_type": "markdown",
   "id": "30bbb004-5a22-4f65-b400-cb2bc3edf217",
   "metadata": {},
   "source": [
    "### Spark notebook ###\n",
    "\n",
    "This notebook will only work in a Jupyter notebook or Jupyter lab session running on the cluster master node in the cloud.\n",
    "\n",
    "Follow the instructions on the computing resources page to start a cluster and open this notebook.\n",
    "\n",
    "**Steps**\n",
    "\n",
    "1. Connect to the Windows server using Windows App.\n",
    "2. Connect to Kubernetes.\n",
    "3. Start Jupyter and open this notebook from Jupyter in order to connect to Spark."
   ]
  },
  {
   "cell_type": "code",
   "execution_count": 1,
   "id": "017705b0-281d-4565-abe1-852ebc5ca888",
   "metadata": {},
   "outputs": [
    {
     "data": {
      "text/html": [
       "<style>pre { white-space: pre !important; }table.dataframe td { white-space: nowrap !important; }table.dataframe thead th:first-child, table.dataframe tbody th { display: none; }</style>"
      ],
      "text/plain": [
       "<IPython.core.display.HTML object>"
      ]
     },
     "metadata": {},
     "output_type": "display_data"
    }
   ],
   "source": [
    "# Run this cell to import pyspark and to define start_spark() and stop_spark()\n",
    "\n",
    "import findspark\n",
    "\n",
    "findspark.init()\n",
    "\n",
    "import getpass\n",
    "import pandas\n",
    "import pyspark\n",
    "import random\n",
    "import re\n",
    "\n",
    "from IPython.display import display, HTML\n",
    "from pyspark import SparkContext\n",
    "from pyspark.sql import SparkSession\n",
    "import pyspark.sql.functions as F\n",
    "\n",
    "\n",
    "# Constants used to interact with Azure Blob Storage using the hdfs command or Spark\n",
    "\n",
    "global username\n",
    "\n",
    "username = re.sub('@.*', '', getpass.getuser())\n",
    "\n",
    "global azure_account_name\n",
    "global azure_data_container_name\n",
    "global azure_user_container_name\n",
    "global azure_user_token\n",
    "\n",
    "azure_account_name = \"madsstorage002\"\n",
    "azure_data_container_name = \"campus-data\"\n",
    "azure_user_container_name = \"campus-user\"\n",
    "azure_user_token = r\"sp=racwdl&st=2025-08-01T09:41:33Z&se=2026-12-30T16:56:33Z&spr=https&sv=2024-11-04&sr=c&sig=GzR1hq7EJ0lRHj92oDO1MBNjkc602nrpfB5H8Cl7FFY%3D\"\n",
    "\n",
    "\n",
    "# Functions used below\n",
    "\n",
    "def dict_to_html(d):\n",
    "    \"\"\"Convert a Python dictionary into a two column table for display.\n",
    "    \"\"\"\n",
    "\n",
    "    html = []\n",
    "\n",
    "    html.append(f'<table width=\"100%\" style=\"width:100%; font-family: monospace;\">')\n",
    "    for k, v in d.items():\n",
    "        html.append(f'<tr><td style=\"text-align:left;\">{k}</td><td>{v}</td></tr>')\n",
    "    html.append(f'</table>')\n",
    "\n",
    "    return ''.join(html)\n",
    "\n",
    "\n",
    "def show_as_html(df, n=20):\n",
    "    \"\"\"Leverage existing pandas jupyter integration to show a spark dataframe as html.\n",
    "    \n",
    "    Args:\n",
    "        n (int): number of rows to show (default: 20)\n",
    "    \"\"\"\n",
    "\n",
    "    display(df.limit(n).toPandas())\n",
    "\n",
    "    \n",
    "def display_spark():\n",
    "    \"\"\"Display the status of the active Spark session if one is currently running.\n",
    "    \"\"\"\n",
    "    \n",
    "    if 'spark' in globals() and 'sc' in globals():\n",
    "\n",
    "        name = sc.getConf().get(\"spark.app.name\")\n",
    "\n",
    "        html = [\n",
    "            f'<p><b>Spark</b></p>',\n",
    "            f'<p>The spark session is <b><span style=\"color:green\">active</span></b>, look for <code>{name}</code> under the running applications section in the Spark UI.</p>',\n",
    "            f'<ul>',\n",
    "            f'<li><a href=\"http://localhost:{sc.uiWebUrl.split(\":\")[-1]}\" target=\"_blank\">Spark Application UI</a></li>',\n",
    "            f'</ul>',\n",
    "            f'<p><b>Config</b></p>',\n",
    "            dict_to_html(dict(sc.getConf().getAll())),\n",
    "            f'<p><b>Notes</b></p>',\n",
    "            f'<ul>',\n",
    "            f'<li>The spark session <code>spark</code> and spark context <code>sc</code> global variables have been defined by <code>start_spark()</code>.</li>',\n",
    "            f'<li>Please run <code>stop_spark()</code> before closing the notebook or restarting the kernel or kill <code>{name}</code> by hand using the link in the Spark UI.</li>',\n",
    "            f'</ul>',\n",
    "        ]\n",
    "        display(HTML(''.join(html)))\n",
    "        \n",
    "    else:\n",
    "        \n",
    "        html = [\n",
    "            f'<p><b>Spark</b></p>',\n",
    "            f'<p>The spark session is <b><span style=\"color:red\">stopped</span></b>, confirm that <code>{username} (notebook)</code> is under the completed applications section in the Spark UI.</p>',\n",
    "            f'<ul>',\n",
    "            f'<li><a href=\"http://mathmadslinux2p.canterbury.ac.nz:8080/\" target=\"_blank\">Spark UI</a></li>',\n",
    "            f'</ul>',\n",
    "        ]\n",
    "        display(HTML(''.join(html)))\n",
    "\n",
    "\n",
    "# Functions to start and stop spark\n",
    "\n",
    "def start_spark(executor_instances=2, executor_cores=1, worker_memory=1, master_memory=1):\n",
    "    \"\"\"Start a new Spark session and define globals for SparkSession (spark) and SparkContext (sc).\n",
    "    \n",
    "    Args:\n",
    "        executor_instances (int): number of executors (default: 2)\n",
    "        executor_cores (int): number of cores per executor (default: 1)\n",
    "        worker_memory (float): worker memory (default: 1)\n",
    "        master_memory (float): master memory (default: 1)\n",
    "    \"\"\"\n",
    "\n",
    "    global spark\n",
    "    global sc\n",
    "\n",
    "    cores = executor_instances * executor_cores\n",
    "    partitions = cores * 4\n",
    "    port = 4000 + random.randint(1, 999)\n",
    "\n",
    "    spark = (\n",
    "        SparkSession.builder\n",
    "        .config(\"spark.driver.extraJavaOptions\", f\"-Dderby.system.home=/tmp/{username}/spark/\")\n",
    "        .config(\"spark.dynamicAllocation.enabled\", \"false\")\n",
    "        .config(\"spark.executor.instances\", str(executor_instances))\n",
    "        .config(\"spark.executor.cores\", str(executor_cores))\n",
    "        .config(\"spark.cores.max\", str(cores))\n",
    "        .config(\"spark.driver.memory\", f'{master_memory}g')\n",
    "        .config(\"spark.executor.memory\", f'{worker_memory}g')\n",
    "        .config(\"spark.driver.maxResultSize\", \"0\")\n",
    "        .config(\"spark.sql.shuffle.partitions\", str(partitions))\n",
    "        .config(\"spark.kubernetes.container.image\", \"madsregistry001.azurecr.io/hadoop-spark:v3.3.5-openjdk-8\")\n",
    "        .config(\"spark.kubernetes.container.image.pullPolicy\", \"IfNotPresent\")\n",
    "        .config(\"spark.kubernetes.memoryOverheadFactor\", \"0.3\")\n",
    "        .config(\"spark.memory.fraction\", \"0.1\")\n",
    "        .config(f\"fs.azure.sas.{azure_user_container_name}.{azure_account_name}.blob.core.windows.net\",  azure_user_token)\n",
    "        .config(\"spark.app.name\", f\"{username} (notebook)\")\n",
    "        .getOrCreate()\n",
    "    )\n",
    "    sc = SparkContext.getOrCreate()\n",
    "    \n",
    "    display_spark()\n",
    "\n",
    "    \n",
    "def stop_spark():\n",
    "    \"\"\"Stop the active Spark session and delete globals for SparkSession (spark) and SparkContext (sc).\n",
    "    \"\"\"\n",
    "\n",
    "    global spark\n",
    "    global sc\n",
    "\n",
    "    if 'spark' in globals() and 'sc' in globals():\n",
    "\n",
    "        spark.stop()\n",
    "\n",
    "        del spark\n",
    "        del sc\n",
    "\n",
    "    display_spark()\n",
    "\n",
    "\n",
    "# Make css changes to improve spark output readability\n",
    "\n",
    "html = [\n",
    "    '<style>',\n",
    "    'pre { white-space: pre !important; }',\n",
    "    'table.dataframe td { white-space: nowrap !important; }',\n",
    "    'table.dataframe thead th:first-child, table.dataframe tbody th { display: none; }',\n",
    "    '</style>',\n",
    "]\n",
    "display(HTML(''.join(html)))"
   ]
  },
  {
   "cell_type": "markdown",
   "id": "e59e2f6d-f8f0-4150-8eec-e5bb2b0471e4",
   "metadata": {},
   "source": [
    "### Assignment 1 ###\n",
    "\n",
    "The code below demonstrates how to explore and load the data provided for the assignment from Azure Blob Storage and how to save any outputs that you generate to a separate user container.\n",
    "\n",
    "**Key points**\n",
    "\n",
    "- The data provided for the assignment is stored in Azure Blob Storage and outputs that you generate will be stored in Azure Blob Storage as well. Hadoop and Spark can both interact with Azure Blob Storage similar to how they interact with HDFS, but where the replication and distribution is handled by Azure instead. This makes it possible to read or write data in Azure over HTTPS where the path is prefixed by `wasbs://`.\n",
    "- There are two containers, one for the data which is read only and one for any outputs that you generate,\n",
    "  - `wasbs://campus-data@madsstorage002.blob.core.windows.net/`\n",
    "  - `wasbs://campus-user@madsstorage002.blob.core.windows.net/`\n",
    "- You can use variable interpolation to insert your global username variable into paths automatically.\n",
    "  - This works for bash commands as well."
   ]
  },
  {
   "cell_type": "code",
   "execution_count": 2,
   "id": "f06343f5-a638-4f7f-ade5-5f564a068bc0",
   "metadata": {
    "scrolled": true
   },
   "outputs": [
    {
     "name": "stderr",
     "output_type": "stream",
     "text": [
      "Warning: Ignoring non-Spark config property: fs.azure.sas.campus-user.madsstorage002.blob.core.windows.net\n",
      "Warning: Ignoring non-Spark config property: SPARK_DRIVER_BIND_ADDRESS\n",
      "25/08/26 18:30:26 WARN NativeCodeLoader: Unable to load native-hadoop library for your platform... using builtin-java classes where applicable\n",
      "Setting default log level to \"WARN\".\n",
      "To adjust logging level use sc.setLogLevel(newLevel). For SparkR, use setLogLevel(newLevel).\n"
     ]
    },
    {
     "data": {
      "text/html": [
       "<p><b>Spark</b></p><p>The spark session is <b><span style=\"color:green\">active</span></b>, look for <code>rsh224 (notebook)</code> under the running applications section in the Spark UI.</p><ul><li><a href=\"http://localhost:4048\" target=\"_blank\">Spark Application UI</a></li></ul><p><b>Config</b></p><table width=\"100%\" style=\"width:100%; font-family: monospace;\"><tr><td style=\"text-align:left;\">spark.dynamicAllocation.enabled</td><td>false</td></tr><tr><td style=\"text-align:left;\">spark.fs.azure.sas.uco-user.madsstorage002.blob.core.windows.net</td><td>\"sp=racwdl&st=2024-09-19T08:00:18Z&se=2025-09-19T16:00:18Z&spr=https&sv=2022-11-02&sr=c&sig=qtg6fCdoFz6k3EJLw7dA8D3D8wN0neAYw8yG4z4Lw2o%3D\"</td></tr><tr><td style=\"text-align:left;\">spark.kubernetes.driver.pod.name</td><td>spark-master-driver</td></tr><tr><td style=\"text-align:left;\">spark.executor.instances</td><td>4</td></tr><tr><td style=\"text-align:left;\">spark.driver.memory</td><td>4g</td></tr><tr><td style=\"text-align:left;\">spark.app.name</td><td>rsh224 (notebook)</td></tr><tr><td style=\"text-align:left;\">spark.fs.azure.sas.campus-user.madsstorage002.blob.core.windows.net</td><td>\"sp=racwdl&st=2024-09-19T08:03:31Z&se=2025-09-19T16:03:31Z&spr=https&sv=2022-11-02&sr=c&sig=kMP%2BsBsRzdVVR8rrg%2BNbDhkRBNs6Q98kYY695XMRFDU%3D\"</td></tr><tr><td style=\"text-align:left;\">spark.kubernetes.container.image.pullPolicy</td><td>IfNotPresent</td></tr><tr><td style=\"text-align:left;\">spark.kubernetes.namespace</td><td>rsh224</td></tr><tr><td style=\"text-align:left;\">spark.sql.shuffle.partitions</td><td>32</td></tr><tr><td style=\"text-align:left;\">spark.app.startTime</td><td>1756189826663</td></tr><tr><td style=\"text-align:left;\">spark.serializer.objectStreamReset</td><td>100</td></tr><tr><td style=\"text-align:left;\">spark.driver.maxResultSize</td><td>0</td></tr><tr><td style=\"text-align:left;\">spark.submit.deployMode</td><td>client</td></tr><tr><td style=\"text-align:left;\">spark.master</td><td>k8s://https://kubernetes.default.svc.cluster.local:443</td></tr><tr><td style=\"text-align:left;\">spark.fs.azure</td><td>org.apache.hadoop.fs.azure.NativeAzureFileSystem</td></tr><tr><td style=\"text-align:left;\">spark.driver.extraJavaOptions</td><td>-Djava.net.preferIPv6Addresses=false -XX:+IgnoreUnrecognizedVMOptions --add-opens=java.base/java.lang=ALL-UNNAMED --add-opens=java.base/java.lang.invoke=ALL-UNNAMED --add-opens=java.base/java.lang.reflect=ALL-UNNAMED --add-opens=java.base/java.io=ALL-UNNAMED --add-opens=java.base/java.net=ALL-UNNAMED --add-opens=java.base/java.nio=ALL-UNNAMED --add-opens=java.base/java.util=ALL-UNNAMED --add-opens=java.base/java.util.concurrent=ALL-UNNAMED --add-opens=java.base/java.util.concurrent.atomic=ALL-UNNAMED --add-opens=java.base/jdk.internal.ref=ALL-UNNAMED --add-opens=java.base/sun.nio.ch=ALL-UNNAMED --add-opens=java.base/sun.nio.cs=ALL-UNNAMED --add-opens=java.base/sun.security.action=ALL-UNNAMED --add-opens=java.base/sun.util.calendar=ALL-UNNAMED --add-opens=java.security.jgss/sun.security.krb5=ALL-UNNAMED -Djdk.reflect.useDirectMethodHandle=false -Dderby.system.home=/tmp/rsh224/spark/</td></tr><tr><td style=\"text-align:left;\">spark.memory.fraction</td><td>0.1</td></tr><tr><td style=\"text-align:left;\">spark.app.submitTime</td><td>1756189826576</td></tr><tr><td style=\"text-align:left;\">spark.executor.memory</td><td>4g</td></tr><tr><td style=\"text-align:left;\">spark.app.id</td><td>spark-b5686199d6bf4e2e8c32ba88b4dfb83c</td></tr><tr><td style=\"text-align:left;\">spark.executor.id</td><td>driver</td></tr><tr><td style=\"text-align:left;\">spark.kubernetes.executor.container.image</td><td>madsregistry001.azurecr.io/hadoop-spark:v3.3.5-openjdk-8-1.0.16</td></tr><tr><td style=\"text-align:left;\">spark.executor.cores</td><td>2</td></tr><tr><td style=\"text-align:left;\">spark.kubernetes.memoryOverheadFactor</td><td>0.3</td></tr><tr><td style=\"text-align:left;\">spark.driver.host</td><td>spark-master-svc</td></tr><tr><td style=\"text-align:left;\">spark.ui.port</td><td>${env:SPARK_UI_PORT}</td></tr><tr><td style=\"text-align:left;\">spark.kubernetes.container.image</td><td>madsregistry001.azurecr.io/hadoop-spark:v3.3.5-openjdk-8</td></tr><tr><td style=\"text-align:left;\">spark.kubernetes.executor.podTemplateFile</td><td>/opt/spark/conf/executor-pod-template.yaml</td></tr><tr><td style=\"text-align:left;\">fs.azure.sas.campus-user.madsstorage002.blob.core.windows.net</td><td>sp=racwdl&st=2025-08-01T09:41:33Z&se=2026-12-30T16:56:33Z&spr=https&sv=2024-11-04&sr=c&sig=GzR1hq7EJ0lRHj92oDO1MBNjkc602nrpfB5H8Cl7FFY%3D</td></tr><tr><td style=\"text-align:left;\">spark.rdd.compress</td><td>True</td></tr><tr><td style=\"text-align:left;\">spark.executor.extraJavaOptions</td><td>-Djava.net.preferIPv6Addresses=false -XX:+IgnoreUnrecognizedVMOptions --add-opens=java.base/java.lang=ALL-UNNAMED --add-opens=java.base/java.lang.invoke=ALL-UNNAMED --add-opens=java.base/java.lang.reflect=ALL-UNNAMED --add-opens=java.base/java.io=ALL-UNNAMED --add-opens=java.base/java.net=ALL-UNNAMED --add-opens=java.base/java.nio=ALL-UNNAMED --add-opens=java.base/java.util=ALL-UNNAMED --add-opens=java.base/java.util.concurrent=ALL-UNNAMED --add-opens=java.base/java.util.concurrent.atomic=ALL-UNNAMED --add-opens=java.base/jdk.internal.ref=ALL-UNNAMED --add-opens=java.base/sun.nio.ch=ALL-UNNAMED --add-opens=java.base/sun.nio.cs=ALL-UNNAMED --add-opens=java.base/sun.security.action=ALL-UNNAMED --add-opens=java.base/sun.util.calendar=ALL-UNNAMED --add-opens=java.security.jgss/sun.security.krb5=ALL-UNNAMED -Djdk.reflect.useDirectMethodHandle=false</td></tr><tr><td style=\"text-align:left;\">spark.cores.max</td><td>8</td></tr><tr><td style=\"text-align:left;\">spark.driver.port</td><td>7077</td></tr><tr><td style=\"text-align:left;\">spark.submit.pyFiles</td><td></td></tr><tr><td style=\"text-align:left;\">spark.kubernetes.executor.podNamePrefix</td><td>rsh224-notebook-fb2ede98e512215f</td></tr><tr><td style=\"text-align:left;\">spark.ui.showConsoleProgress</td><td>true</td></tr></table><p><b>Notes</b></p><ul><li>The spark session <code>spark</code> and spark context <code>sc</code> global variables have been defined by <code>start_spark()</code>.</li><li>Please run <code>stop_spark()</code> before closing the notebook or restarting the kernel or kill <code>rsh224 (notebook)</code> by hand using the link in the Spark UI.</li></ul>"
      ],
      "text/plain": [
       "<IPython.core.display.HTML object>"
      ]
     },
     "metadata": {},
     "output_type": "display_data"
    }
   ],
   "source": [
    "# Run this cell to start a spark session in this notebook\n",
    "\n",
    "start_spark(executor_instances=4, executor_cores=2, worker_memory=4, master_memory=4)"
   ]
  },
  {
   "cell_type": "code",
   "execution_count": 3,
   "id": "a00a161b-0750-4616-8ecd-7b908e37aa7e",
   "metadata": {},
   "outputs": [],
   "source": [
    "# Write your imports here or insert cells below\n",
    "\n",
    "from pyspark.sql import functions as F\n",
    "from pyspark.sql.types import *"
   ]
  },
  {
   "cell_type": "code",
   "execution_count": 4,
   "id": "5f631901-c8d1-4458-97c0-fc6f4bed1fa8",
   "metadata": {
    "scrolled": true
   },
   "outputs": [
    {
     "name": "stdout",
     "output_type": "stream",
     "text": [
      "Found 5 items\n",
      "drwxrwxrwx   -          0 1970-01-01 12:00 wasbs://campus-data@madsstorage002.blob.core.windows.net/ghcnd/daily\n",
      "-rwxrwxrwx   1       3659 2025-08-01 21:31 wasbs://campus-data@madsstorage002.blob.core.windows.net/ghcnd/ghcnd-countries.txt\n",
      "-rwxrwxrwx   1   35272064 2025-08-01 21:31 wasbs://campus-data@madsstorage002.blob.core.windows.net/ghcnd/ghcnd-inventory.txt\n",
      "-rwxrwxrwx   1       1086 2025-08-01 21:31 wasbs://campus-data@madsstorage002.blob.core.windows.net/ghcnd/ghcnd-states.txt\n",
      "-rwxrwxrwx   1   11150502 2025-08-01 21:31 wasbs://campus-data@madsstorage002.blob.core.windows.net/ghcnd/ghcnd-stations.txt\n",
      "Found 264 items\n",
      "-rwxrwxrwx   1    1385743 2025-08-01 21:30 wasbs://campus-data@madsstorage002.blob.core.windows.net/ghcnd/daily/1750.csv.gz\n",
      "-rwxrwxrwx   1       3358 2025-08-01 21:30 wasbs://campus-data@madsstorage002.blob.core.windows.net/ghcnd/daily/1763.csv.gz\n",
      "-rwxrwxrwx   1       3327 2025-08-01 21:30 wasbs://campus-data@madsstorage002.blob.core.windows.net/ghcnd/daily/1764.csv.gz\n",
      "-rwxrwxrwx   1       3335 2025-08-01 21:30 wasbs://campus-data@madsstorage002.blob.core.windows.net/ghcnd/daily/1765.csv.gz\n",
      "-rwxrwxrwx   1       3344 2025-08-01 21:30 wasbs://campus-data@madsstorage002.blob.core.windows.net/ghcnd/daily/1766.csv.gz\n",
      "-rwxrwxrwx   1       3356 2025-08-01 21:30 wasbs://campus-data@madsstorage002.blob.core.windows.net/ghcnd/daily/1767.csv.gz\n",
      "-rwxrwxrwx   1       3325 2025-08-01 21:30 wasbs://campus-data@madsstorage002.blob.core.windows.net/ghcnd/daily/1768.csv.gz\n",
      "-rwxrwxrwx   1       3418 2025-08-01 21:30 wasbs://campus-data@madsstorage002.blob.core.windows.net/ghcnd/daily/1769.csv.gz\n",
      "-rwxrwxrwx   1       3357 2025-08-01 21:30 wasbs://campus-data@madsstorage002.blob.core.windows.net/ghcnd/daily/1770.csv.gz\n",
      "-rwxrwxrwx   1       3373 2025-08-01 21:30 wasbs://campus-data@madsstorage002.blob.core.windows.net/ghcnd/daily/1771.csv.gz\n",
      "-rwxrwxrwx   1       3419 2025-08-01 21:30 wasbs://campus-data@madsstorage002.blob.core.windows.net/ghcnd/daily/1772.csv.gz\n",
      "-rwxrwxrwx   1       3368 2025-08-01 21:30 wasbs://campus-data@madsstorage002.blob.core.windows.net/ghcnd/daily/1773.csv.gz\n",
      "-rwxrwxrwx   1       3393 2025-08-01 21:30 wasbs://campus-data@madsstorage002.blob.core.windows.net/ghcnd/daily/1774.csv.gz\n",
      "-rwxrwxrwx   1       6365 2025-08-01 21:30 wasbs://campus-data@madsstorage002.blob.core.windows.net/ghcnd/daily/1775.csv.gz\n",
      "-rwxrwxrwx   1       6425 2025-08-01 21:30 wasbs://campus-data@madsstorage002.blob.core.windows.net/ghcnd/daily/1776.csv.gz\n",
      "-rwxrwxrwx   1       6424 2025-08-01 21:30 wasbs://campus-data@madsstorage002.blob.core.windows.net/ghcnd/daily/1777.csv.gz\n",
      "-rwxrwxrwx   1       6240 2025-08-01 21:30 wasbs://campus-data@madsstorage002.blob.core.windows.net/ghcnd/daily/1778.csv.gz\n",
      "-rwxrwxrwx   1       6144 2025-08-01 21:30 wasbs://campus-data@madsstorage002.blob.core.windows.net/ghcnd/daily/1779.csv.gz\n",
      "-rwxrwxrwx   1       6245 2025-08-01 21:30 wasbs://campus-data@madsstorage002.blob.core.windows.net/ghcnd/daily/1780.csv.gz\n",
      "-rwxrwxrwx   1       7862 2025-08-01 21:30 wasbs://campus-data@madsstorage002.blob.core.windows.net/ghcnd/daily/1781.csv.gz\n",
      "-rwxrwxrwx   1       7906 2025-08-01 21:30 wasbs://campus-data@madsstorage002.blob.core.windows.net/ghcnd/daily/1782.csv.gz\n",
      "-rwxrwxrwx   1       7949 2025-08-01 21:30 wasbs://campus-data@madsstorage002.blob.core.windows.net/ghcnd/daily/1783.csv.gz\n",
      "-rwxrwxrwx   1       8022 2025-08-01 21:30 wasbs://campus-data@madsstorage002.blob.core.windows.net/ghcnd/daily/1784.csv.gz\n",
      "-rwxrwxrwx   1       7894 2025-08-01 21:30 wasbs://campus-data@madsstorage002.blob.core.windows.net/ghcnd/daily/1785.csv.gz\n",
      "-rwxrwxrwx   1       7928 2025-08-01 21:30 wasbs://campus-data@madsstorage002.blob.core.windows.net/ghcnd/daily/1786.csv.gz\n",
      "-rwxrwxrwx   1       6336 2025-08-01 21:30 wasbs://campus-data@madsstorage002.blob.core.windows.net/ghcnd/daily/1787.csv.gz\n",
      "-rwxrwxrwx   1       6394 2025-08-01 21:30 wasbs://campus-data@madsstorage002.blob.core.windows.net/ghcnd/daily/1788.csv.gz\n",
      "-rwxrwxrwx   1       7843 2025-08-01 21:30 wasbs://campus-data@madsstorage002.blob.core.windows.net/ghcnd/daily/1789.csv.gz\n",
      "-rwxrwxrwx   1       7860 2025-08-01 21:30 wasbs://campus-data@madsstorage002.blob.core.windows.net/ghcnd/daily/1790.csv.gz\n",
      "-rwxrwxrwx   1       7802 2025-08-01 21:30 wasbs://campus-data@madsstorage002.blob.core.windows.net/ghcnd/daily/1791.csv.gz\n",
      "-rwxrwxrwx   1       7867 2025-08-01 21:30 wasbs://campus-data@madsstorage002.blob.core.windows.net/ghcnd/daily/1792.csv.gz\n",
      "-rwxrwxrwx   1       6342 2025-08-01 21:30 wasbs://campus-data@madsstorage002.blob.core.windows.net/ghcnd/daily/1793.csv.gz\n",
      "-rwxrwxrwx   1       7827 2025-08-01 21:30 wasbs://campus-data@madsstorage002.blob.core.windows.net/ghcnd/daily/1794.csv.gz\n",
      "-rwxrwxrwx   1       7924 2025-08-01 21:30 wasbs://campus-data@madsstorage002.blob.core.windows.net/ghcnd/daily/1795.csv.gz\n",
      "-rwxrwxrwx   1       7888 2025-08-01 21:30 wasbs://campus-data@madsstorage002.blob.core.windows.net/ghcnd/daily/1796.csv.gz\n",
      "-rwxrwxrwx   1       9312 2025-08-01 21:30 wasbs://campus-data@madsstorage002.blob.core.windows.net/ghcnd/daily/1797.csv.gz\n",
      "-rwxrwxrwx   1       9297 2025-08-01 21:30 wasbs://campus-data@madsstorage002.blob.core.windows.net/ghcnd/daily/1798.csv.gz\n",
      "-rwxrwxrwx   1       6351 2025-08-01 21:30 wasbs://campus-data@madsstorage002.blob.core.windows.net/ghcnd/daily/1799.csv.gz\n",
      "-rwxrwxrwx   1       7838 2025-08-01 21:30 wasbs://campus-data@madsstorage002.blob.core.windows.net/ghcnd/daily/1800.csv.gz\n",
      "-rwxrwxrwx   1       7870 2025-08-01 21:30 wasbs://campus-data@madsstorage002.blob.core.windows.net/ghcnd/daily/1801.csv.gz\n",
      "-rwxrwxrwx   1       9249 2025-08-01 21:30 wasbs://campus-data@madsstorage002.blob.core.windows.net/ghcnd/daily/1802.csv.gz\n",
      "-rwxrwxrwx   1       7950 2025-08-01 21:30 wasbs://campus-data@madsstorage002.blob.core.windows.net/ghcnd/daily/1803.csv.gz\n",
      "-rwxrwxrwx   1       8908 2025-08-01 21:30 wasbs://campus-data@madsstorage002.blob.core.windows.net/ghcnd/daily/1804.csv.gz\n",
      "-rwxrwxrwx   1       9056 2025-08-01 21:30 wasbs://campus-data@madsstorage002.blob.core.windows.net/ghcnd/daily/1805.csv.gz\n",
      "-rwxrwxrwx   1       8726 2025-08-01 21:30 wasbs://campus-data@madsstorage002.blob.core.windows.net/ghcnd/daily/1806.csv.gz\n",
      "-rwxrwxrwx   1       8827 2025-08-01 21:30 wasbs://campus-data@madsstorage002.blob.core.windows.net/ghcnd/daily/1807.csv.gz\n",
      "-rwxrwxrwx   1       9039 2025-08-01 21:30 wasbs://campus-data@madsstorage002.blob.core.windows.net/ghcnd/daily/1808.csv.gz\n",
      "-rwxrwxrwx   1       8922 2025-08-01 21:30 wasbs://campus-data@madsstorage002.blob.core.windows.net/ghcnd/daily/1809.csv.gz\n",
      "-rwxrwxrwx   1       8911 2025-08-01 21:30 wasbs://campus-data@madsstorage002.blob.core.windows.net/ghcnd/daily/1810.csv.gz\n",
      "-rwxrwxrwx   1       8932 2025-08-01 21:30 wasbs://campus-data@madsstorage002.blob.core.windows.net/ghcnd/daily/1811.csv.gz\n",
      "-rwxrwxrwx   1       8993 2025-08-01 21:30 wasbs://campus-data@madsstorage002.blob.core.windows.net/ghcnd/daily/1812.csv.gz\n",
      "-rwxrwxrwx   1       9306 2025-08-01 21:30 wasbs://campus-data@madsstorage002.blob.core.windows.net/ghcnd/daily/1813.csv.gz\n",
      "-rwxrwxrwx   1      10871 2025-08-01 21:30 wasbs://campus-data@madsstorage002.blob.core.windows.net/ghcnd/daily/1814.csv.gz\n",
      "-rwxrwxrwx   1      13927 2025-08-01 21:30 wasbs://campus-data@madsstorage002.blob.core.windows.net/ghcnd/daily/1815.csv.gz\n",
      "-rwxrwxrwx   1      13881 2025-08-01 21:30 wasbs://campus-data@madsstorage002.blob.core.windows.net/ghcnd/daily/1816.csv.gz\n",
      "-rwxrwxrwx   1      13757 2025-08-01 21:30 wasbs://campus-data@madsstorage002.blob.core.windows.net/ghcnd/daily/1817.csv.gz\n",
      "-rwxrwxrwx   1      13813 2025-08-01 21:30 wasbs://campus-data@madsstorage002.blob.core.windows.net/ghcnd/daily/1818.csv.gz\n",
      "-rwxrwxrwx   1      13723 2025-08-01 21:30 wasbs://campus-data@madsstorage002.blob.core.windows.net/ghcnd/daily/1819.csv.gz\n",
      "-rwxrwxrwx   1      14048 2025-08-01 21:30 wasbs://campus-data@madsstorage002.blob.core.windows.net/ghcnd/daily/1820.csv.gz\n",
      "-rwxrwxrwx   1      13836 2025-08-01 21:30 wasbs://campus-data@madsstorage002.blob.core.windows.net/ghcnd/daily/1821.csv.gz\n",
      "-rwxrwxrwx   1      14060 2025-08-01 21:30 wasbs://campus-data@madsstorage002.blob.core.windows.net/ghcnd/daily/1822.csv.gz\n",
      "-rwxrwxrwx   1      14782 2025-08-01 21:30 wasbs://campus-data@madsstorage002.blob.core.windows.net/ghcnd/daily/1823.csv.gz\n",
      "-rwxrwxrwx   1      18161 2025-08-01 21:30 wasbs://campus-data@madsstorage002.blob.core.windows.net/ghcnd/daily/1824.csv.gz\n",
      "-rwxrwxrwx   1      18217 2025-08-01 21:30 wasbs://campus-data@madsstorage002.blob.core.windows.net/ghcnd/daily/1825.csv.gz\n",
      "-rwxrwxrwx   1      18490 2025-08-01 21:30 wasbs://campus-data@madsstorage002.blob.core.windows.net/ghcnd/daily/1826.csv.gz\n",
      "-rwxrwxrwx   1      20900 2025-08-01 21:30 wasbs://campus-data@madsstorage002.blob.core.windows.net/ghcnd/daily/1827.csv.gz\n",
      "-rwxrwxrwx   1      20942 2025-08-01 21:30 wasbs://campus-data@madsstorage002.blob.core.windows.net/ghcnd/daily/1828.csv.gz\n",
      "-rwxrwxrwx   1      21137 2025-08-01 21:30 wasbs://campus-data@madsstorage002.blob.core.windows.net/ghcnd/daily/1829.csv.gz\n",
      "-rwxrwxrwx   1      21345 2025-08-01 21:30 wasbs://campus-data@madsstorage002.blob.core.windows.net/ghcnd/daily/1830.csv.gz\n",
      "-rwxrwxrwx   1      21341 2025-08-01 21:30 wasbs://campus-data@madsstorage002.blob.core.windows.net/ghcnd/daily/1831.csv.gz\n",
      "-rwxrwxrwx   1      22388 2025-08-01 21:30 wasbs://campus-data@madsstorage002.blob.core.windows.net/ghcnd/daily/1832.csv.gz\n",
      "-rwxrwxrwx   1      27049 2025-08-01 21:30 wasbs://campus-data@madsstorage002.blob.core.windows.net/ghcnd/daily/1833.csv.gz\n",
      "-rwxrwxrwx   1      26805 2025-08-01 21:30 wasbs://campus-data@madsstorage002.blob.core.windows.net/ghcnd/daily/1834.csv.gz\n",
      "-rwxrwxrwx   1      27361 2025-08-01 21:30 wasbs://campus-data@madsstorage002.blob.core.windows.net/ghcnd/daily/1835.csv.gz\n",
      "-rwxrwxrwx   1      29627 2025-08-01 21:30 wasbs://campus-data@madsstorage002.blob.core.windows.net/ghcnd/daily/1836.csv.gz\n",
      "-rwxrwxrwx   1      29172 2025-08-01 21:30 wasbs://campus-data@madsstorage002.blob.core.windows.net/ghcnd/daily/1837.csv.gz\n",
      "-rwxrwxrwx   1      31584 2025-08-01 21:30 wasbs://campus-data@madsstorage002.blob.core.windows.net/ghcnd/daily/1838.csv.gz\n",
      "-rwxrwxrwx   1      29492 2025-08-01 21:30 wasbs://campus-data@madsstorage002.blob.core.windows.net/ghcnd/daily/1839.csv.gz\n",
      "-rwxrwxrwx   1      35814 2025-08-01 21:30 wasbs://campus-data@madsstorage002.blob.core.windows.net/ghcnd/daily/1840.csv.gz\n",
      "-rwxrwxrwx   1      36846 2025-08-01 21:30 wasbs://campus-data@madsstorage002.blob.core.windows.net/ghcnd/daily/1841.csv.gz\n",
      "-rwxrwxrwx   1      39301 2025-08-01 21:30 wasbs://campus-data@madsstorage002.blob.core.windows.net/ghcnd/daily/1842.csv.gz\n",
      "-rwxrwxrwx   1      43584 2025-08-01 21:30 wasbs://campus-data@madsstorage002.blob.core.windows.net/ghcnd/daily/1843.csv.gz\n",
      "-rwxrwxrwx   1      49572 2025-08-01 21:30 wasbs://campus-data@madsstorage002.blob.core.windows.net/ghcnd/daily/1844.csv.gz\n",
      "-rwxrwxrwx   1      58025 2025-08-01 21:30 wasbs://campus-data@madsstorage002.blob.core.windows.net/ghcnd/daily/1845.csv.gz\n",
      "-rwxrwxrwx   1      55571 2025-08-01 21:30 wasbs://campus-data@madsstorage002.blob.core.windows.net/ghcnd/daily/1846.csv.gz\n",
      "-rwxrwxrwx   1      57131 2025-08-01 21:30 wasbs://campus-data@madsstorage002.blob.core.windows.net/ghcnd/daily/1847.csv.gz\n",
      "-rwxrwxrwx   1      56234 2025-08-01 21:30 wasbs://campus-data@madsstorage002.blob.core.windows.net/ghcnd/daily/1848.csv.gz\n",
      "-rwxrwxrwx   1      58100 2025-08-01 21:30 wasbs://campus-data@madsstorage002.blob.core.windows.net/ghcnd/daily/1849.csv.gz\n",
      "-rwxrwxrwx   1      58002 2025-08-01 21:30 wasbs://campus-data@madsstorage002.blob.core.windows.net/ghcnd/daily/1850.csv.gz\n",
      "-rwxrwxrwx   1      65487 2025-08-01 21:30 wasbs://campus-data@madsstorage002.blob.core.windows.net/ghcnd/daily/1851.csv.gz\n",
      "-rwxrwxrwx   1      70430 2025-08-01 21:30 wasbs://campus-data@madsstorage002.blob.core.windows.net/ghcnd/daily/1852.csv.gz\n",
      "-rwxrwxrwx   1      71066 2025-08-01 21:30 wasbs://campus-data@madsstorage002.blob.core.windows.net/ghcnd/daily/1853.csv.gz\n",
      "-rwxrwxrwx   1      71112 2025-08-01 21:30 wasbs://campus-data@madsstorage002.blob.core.windows.net/ghcnd/daily/1854.csv.gz\n",
      "-rwxrwxrwx   1      76867 2025-08-01 21:30 wasbs://campus-data@madsstorage002.blob.core.windows.net/ghcnd/daily/1855.csv.gz\n",
      "-rwxrwxrwx   1      87038 2025-08-01 21:30 wasbs://campus-data@madsstorage002.blob.core.windows.net/ghcnd/daily/1856.csv.gz\n",
      "-rwxrwxrwx   1      95750 2025-08-01 21:30 wasbs://campus-data@madsstorage002.blob.core.windows.net/ghcnd/daily/1857.csv.gz\n",
      "-rwxrwxrwx   1     127668 2025-08-01 21:30 wasbs://campus-data@madsstorage002.blob.core.windows.net/ghcnd/daily/1858.csv.gz\n",
      "-rwxrwxrwx   1     144454 2025-08-01 21:30 wasbs://campus-data@madsstorage002.blob.core.windows.net/ghcnd/daily/1859.csv.gz\n",
      "-rwxrwxrwx   1     152765 2025-08-01 21:30 wasbs://campus-data@madsstorage002.blob.core.windows.net/ghcnd/daily/1860.csv.gz\n",
      "-rwxrwxrwx   1     160141 2025-08-01 21:30 wasbs://campus-data@madsstorage002.blob.core.windows.net/ghcnd/daily/1861.csv.gz\n",
      "-rwxrwxrwx   1     153599 2025-08-01 21:30 wasbs://campus-data@madsstorage002.blob.core.windows.net/ghcnd/daily/1862.csv.gz\n",
      "-rwxrwxrwx   1     169821 2025-08-01 21:30 wasbs://campus-data@madsstorage002.blob.core.windows.net/ghcnd/daily/1863.csv.gz\n",
      "-rwxrwxrwx   1     169173 2025-08-01 21:30 wasbs://campus-data@madsstorage002.blob.core.windows.net/ghcnd/daily/1864.csv.gz\n",
      "-rwxrwxrwx   1     169350 2025-08-01 21:30 wasbs://campus-data@madsstorage002.blob.core.windows.net/ghcnd/daily/1865.csv.gz\n",
      "-rwxrwxrwx   1     218765 2025-08-01 21:30 wasbs://campus-data@madsstorage002.blob.core.windows.net/ghcnd/daily/1866.csv.gz\n",
      "-rwxrwxrwx   1     261270 2025-08-01 21:30 wasbs://campus-data@madsstorage002.blob.core.windows.net/ghcnd/daily/1867.csv.gz\n",
      "-rwxrwxrwx   1     275633 2025-08-01 21:30 wasbs://campus-data@madsstorage002.blob.core.windows.net/ghcnd/daily/1868.csv.gz\n",
      "-rwxrwxrwx   1     319273 2025-08-01 21:30 wasbs://campus-data@madsstorage002.blob.core.windows.net/ghcnd/daily/1869.csv.gz\n",
      "-rwxrwxrwx   1     366390 2025-08-01 21:30 wasbs://campus-data@madsstorage002.blob.core.windows.net/ghcnd/daily/1870.csv.gz\n",
      "-rwxrwxrwx   1     480447 2025-08-01 21:30 wasbs://campus-data@madsstorage002.blob.core.windows.net/ghcnd/daily/1871.csv.gz\n",
      "-rwxrwxrwx   1     653629 2025-08-01 21:30 wasbs://campus-data@madsstorage002.blob.core.windows.net/ghcnd/daily/1872.csv.gz\n",
      "-rwxrwxrwx   1     734450 2025-08-01 21:30 wasbs://campus-data@madsstorage002.blob.core.windows.net/ghcnd/daily/1873.csv.gz\n",
      "-rwxrwxrwx   1     818991 2025-08-01 21:30 wasbs://campus-data@madsstorage002.blob.core.windows.net/ghcnd/daily/1874.csv.gz\n",
      "-rwxrwxrwx   1     888323 2025-08-01 21:30 wasbs://campus-data@madsstorage002.blob.core.windows.net/ghcnd/daily/1875.csv.gz\n",
      "-rwxrwxrwx   1     967145 2025-08-01 21:30 wasbs://campus-data@madsstorage002.blob.core.windows.net/ghcnd/daily/1876.csv.gz\n",
      "-rwxrwxrwx   1    1076949 2025-08-01 21:30 wasbs://campus-data@madsstorage002.blob.core.windows.net/ghcnd/daily/1877.csv.gz\n",
      "-rwxrwxrwx   1    1275308 2025-08-01 21:30 wasbs://campus-data@madsstorage002.blob.core.windows.net/ghcnd/daily/1878.csv.gz\n",
      "-rwxrwxrwx   1    1464788 2025-08-01 21:30 wasbs://campus-data@madsstorage002.blob.core.windows.net/ghcnd/daily/1879.csv.gz\n",
      "-rwxrwxrwx   1    1861405 2025-08-01 21:30 wasbs://campus-data@madsstorage002.blob.core.windows.net/ghcnd/daily/1880.csv.gz\n",
      "-rwxrwxrwx   1    2228134 2025-08-01 21:30 wasbs://campus-data@madsstorage002.blob.core.windows.net/ghcnd/daily/1881.csv.gz\n",
      "-rwxrwxrwx   1    2528569 2025-08-01 21:30 wasbs://campus-data@madsstorage002.blob.core.windows.net/ghcnd/daily/1882.csv.gz\n",
      "-rwxrwxrwx   1    2787063 2025-08-01 21:30 wasbs://campus-data@madsstorage002.blob.core.windows.net/ghcnd/daily/1883.csv.gz\n",
      "-rwxrwxrwx   1    3320144 2025-08-01 21:30 wasbs://campus-data@madsstorage002.blob.core.windows.net/ghcnd/daily/1884.csv.gz\n",
      "-rwxrwxrwx   1    3766414 2025-08-01 21:30 wasbs://campus-data@madsstorage002.blob.core.windows.net/ghcnd/daily/1885.csv.gz\n",
      "-rwxrwxrwx   1    4120661 2025-08-01 21:30 wasbs://campus-data@madsstorage002.blob.core.windows.net/ghcnd/daily/1886.csv.gz\n",
      "-rwxrwxrwx   1    4620801 2025-08-01 21:30 wasbs://campus-data@madsstorage002.blob.core.windows.net/ghcnd/daily/1887.csv.gz\n",
      "-rwxrwxrwx   1    4967416 2025-08-01 21:30 wasbs://campus-data@madsstorage002.blob.core.windows.net/ghcnd/daily/1888.csv.gz\n",
      "-rwxrwxrwx   1    5382712 2025-08-01 21:30 wasbs://campus-data@madsstorage002.blob.core.windows.net/ghcnd/daily/1889.csv.gz\n",
      "-rwxrwxrwx   1    5881337 2025-08-01 21:30 wasbs://campus-data@madsstorage002.blob.core.windows.net/ghcnd/daily/1890.csv.gz\n",
      "-rwxrwxrwx   1    6183521 2025-08-01 21:30 wasbs://campus-data@madsstorage002.blob.core.windows.net/ghcnd/daily/1891.csv.gz\n",
      "-rwxrwxrwx   1    7125932 2025-08-01 21:30 wasbs://campus-data@madsstorage002.blob.core.windows.net/ghcnd/daily/1892.csv.gz\n",
      "-rwxrwxrwx   1   13063722 2025-08-01 21:30 wasbs://campus-data@madsstorage002.blob.core.windows.net/ghcnd/daily/1893.csv.gz\n",
      "-rwxrwxrwx   1   13949125 2025-08-01 21:30 wasbs://campus-data@madsstorage002.blob.core.windows.net/ghcnd/daily/1894.csv.gz\n",
      "-rwxrwxrwx   1   15061537 2025-08-01 21:30 wasbs://campus-data@madsstorage002.blob.core.windows.net/ghcnd/daily/1895.csv.gz\n",
      "-rwxrwxrwx   1   16225325 2025-08-01 21:30 wasbs://campus-data@madsstorage002.blob.core.windows.net/ghcnd/daily/1896.csv.gz\n",
      "-rwxrwxrwx   1   17507022 2025-08-01 21:30 wasbs://campus-data@madsstorage002.blob.core.windows.net/ghcnd/daily/1897.csv.gz\n",
      "-rwxrwxrwx   1   18265770 2025-08-01 21:30 wasbs://campus-data@madsstorage002.blob.core.windows.net/ghcnd/daily/1898.csv.gz\n",
      "-rwxrwxrwx   1   18990571 2025-08-01 21:30 wasbs://campus-data@madsstorage002.blob.core.windows.net/ghcnd/daily/1899.csv.gz\n",
      "-rwxrwxrwx   1   20278823 2025-08-01 21:30 wasbs://campus-data@madsstorage002.blob.core.windows.net/ghcnd/daily/1900.csv.gz\n",
      "-rwxrwxrwx   1   25720831 2025-08-01 21:30 wasbs://campus-data@madsstorage002.blob.core.windows.net/ghcnd/daily/1901.csv.gz\n",
      "-rwxrwxrwx   1   26686800 2025-08-01 21:30 wasbs://campus-data@madsstorage002.blob.core.windows.net/ghcnd/daily/1902.csv.gz\n",
      "-rwxrwxrwx   1   27280255 2025-08-01 21:30 wasbs://campus-data@madsstorage002.blob.core.windows.net/ghcnd/daily/1903.csv.gz\n",
      "-rwxrwxrwx   1   28161604 2025-08-01 21:30 wasbs://campus-data@madsstorage002.blob.core.windows.net/ghcnd/daily/1904.csv.gz\n",
      "-rwxrwxrwx   1   29595269 2025-08-01 21:30 wasbs://campus-data@madsstorage002.blob.core.windows.net/ghcnd/daily/1905.csv.gz\n",
      "-rwxrwxrwx   1   30283640 2025-08-01 21:30 wasbs://campus-data@madsstorage002.blob.core.windows.net/ghcnd/daily/1906.csv.gz\n",
      "-rwxrwxrwx   1   31087453 2025-08-01 21:30 wasbs://campus-data@madsstorage002.blob.core.windows.net/ghcnd/daily/1907.csv.gz\n",
      "-rwxrwxrwx   1   31811029 2025-08-01 21:30 wasbs://campus-data@madsstorage002.blob.core.windows.net/ghcnd/daily/1908.csv.gz\n",
      "-rwxrwxrwx   1   33468596 2025-08-01 21:30 wasbs://campus-data@madsstorage002.blob.core.windows.net/ghcnd/daily/1909.csv.gz\n",
      "-rwxrwxrwx   1   34577456 2025-08-01 21:31 wasbs://campus-data@madsstorage002.blob.core.windows.net/ghcnd/daily/1910.csv.gz\n",
      "-rwxrwxrwx   1   35835049 2025-08-01 21:30 wasbs://campus-data@madsstorage002.blob.core.windows.net/ghcnd/daily/1911.csv.gz\n",
      "-rwxrwxrwx   1   37177538 2025-08-01 21:30 wasbs://campus-data@madsstorage002.blob.core.windows.net/ghcnd/daily/1912.csv.gz\n",
      "-rwxrwxrwx   1   38153998 2025-08-01 21:30 wasbs://campus-data@madsstorage002.blob.core.windows.net/ghcnd/daily/1913.csv.gz\n",
      "-rwxrwxrwx   1   39387153 2025-08-01 21:30 wasbs://campus-data@madsstorage002.blob.core.windows.net/ghcnd/daily/1914.csv.gz\n",
      "-rwxrwxrwx   1   40558513 2025-08-01 21:30 wasbs://campus-data@madsstorage002.blob.core.windows.net/ghcnd/daily/1915.csv.gz\n",
      "-rwxrwxrwx   1   41954307 2025-08-01 21:31 wasbs://campus-data@madsstorage002.blob.core.windows.net/ghcnd/daily/1916.csv.gz\n",
      "-rwxrwxrwx   1   42145936 2025-08-01 21:30 wasbs://campus-data@madsstorage002.blob.core.windows.net/ghcnd/daily/1917.csv.gz\n",
      "-rwxrwxrwx   1   41179466 2025-08-01 21:31 wasbs://campus-data@madsstorage002.blob.core.windows.net/ghcnd/daily/1918.csv.gz\n",
      "-rwxrwxrwx   1   40722075 2025-08-01 21:30 wasbs://campus-data@madsstorage002.blob.core.windows.net/ghcnd/daily/1919.csv.gz\n",
      "-rwxrwxrwx   1   40943997 2025-08-01 21:30 wasbs://campus-data@madsstorage002.blob.core.windows.net/ghcnd/daily/1920.csv.gz\n",
      "-rwxrwxrwx   1   41223159 2025-08-01 21:30 wasbs://campus-data@madsstorage002.blob.core.windows.net/ghcnd/daily/1921.csv.gz\n",
      "-rwxrwxrwx   1   41989337 2025-08-01 21:30 wasbs://campus-data@madsstorage002.blob.core.windows.net/ghcnd/daily/1922.csv.gz\n",
      "-rwxrwxrwx   1   42769562 2025-08-01 21:30 wasbs://campus-data@madsstorage002.blob.core.windows.net/ghcnd/daily/1923.csv.gz\n",
      "-rwxrwxrwx   1   43616207 2025-08-01 21:30 wasbs://campus-data@madsstorage002.blob.core.windows.net/ghcnd/daily/1924.csv.gz\n",
      "-rwxrwxrwx   1   43915418 2025-08-01 21:30 wasbs://campus-data@madsstorage002.blob.core.windows.net/ghcnd/daily/1925.csv.gz\n",
      "-rwxrwxrwx   1   45120133 2025-08-01 21:31 wasbs://campus-data@madsstorage002.blob.core.windows.net/ghcnd/daily/1926.csv.gz\n",
      "-rwxrwxrwx   1   45911971 2025-08-01 21:30 wasbs://campus-data@madsstorage002.blob.core.windows.net/ghcnd/daily/1927.csv.gz\n",
      "-rwxrwxrwx   1   46449541 2025-08-01 21:30 wasbs://campus-data@madsstorage002.blob.core.windows.net/ghcnd/daily/1928.csv.gz\n",
      "-rwxrwxrwx   1   47435272 2025-08-01 21:30 wasbs://campus-data@madsstorage002.blob.core.windows.net/ghcnd/daily/1929.csv.gz\n",
      "-rwxrwxrwx   1   48864749 2025-08-01 21:30 wasbs://campus-data@madsstorage002.blob.core.windows.net/ghcnd/daily/1930.csv.gz\n",
      "-rwxrwxrwx   1   50530150 2025-08-01 21:30 wasbs://campus-data@madsstorage002.blob.core.windows.net/ghcnd/daily/1931.csv.gz\n",
      "-rwxrwxrwx   1   51611362 2025-08-01 21:30 wasbs://campus-data@madsstorage002.blob.core.windows.net/ghcnd/daily/1932.csv.gz\n",
      "-rwxrwxrwx   1   52091360 2025-08-01 21:30 wasbs://campus-data@madsstorage002.blob.core.windows.net/ghcnd/daily/1933.csv.gz\n",
      "-rwxrwxrwx   1   52414532 2025-08-01 21:30 wasbs://campus-data@madsstorage002.blob.core.windows.net/ghcnd/daily/1934.csv.gz\n",
      "-rwxrwxrwx   1   53378198 2025-08-01 21:30 wasbs://campus-data@madsstorage002.blob.core.windows.net/ghcnd/daily/1935.csv.gz\n",
      "-rwxrwxrwx   1   56688005 2025-08-01 21:30 wasbs://campus-data@madsstorage002.blob.core.windows.net/ghcnd/daily/1936.csv.gz\n",
      "-rwxrwxrwx   1   58095984 2025-08-01 21:30 wasbs://campus-data@madsstorage002.blob.core.windows.net/ghcnd/daily/1937.csv.gz\n",
      "-rwxrwxrwx   1   59241259 2025-08-01 21:30 wasbs://campus-data@madsstorage002.blob.core.windows.net/ghcnd/daily/1938.csv.gz\n",
      "-rwxrwxrwx   1   61050826 2025-08-01 21:30 wasbs://campus-data@madsstorage002.blob.core.windows.net/ghcnd/daily/1939.csv.gz\n",
      "-rwxrwxrwx   1   63368452 2025-08-01 21:30 wasbs://campus-data@madsstorage002.blob.core.windows.net/ghcnd/daily/1940.csv.gz\n",
      "-rwxrwxrwx   1   65330611 2025-08-01 21:30 wasbs://campus-data@madsstorage002.blob.core.windows.net/ghcnd/daily/1941.csv.gz\n",
      "-rwxrwxrwx   1   67475822 2025-08-01 21:30 wasbs://campus-data@madsstorage002.blob.core.windows.net/ghcnd/daily/1942.csv.gz\n",
      "-rwxrwxrwx   1   68352338 2025-08-01 21:31 wasbs://campus-data@madsstorage002.blob.core.windows.net/ghcnd/daily/1943.csv.gz\n",
      "-rwxrwxrwx   1   70120020 2025-08-01 21:30 wasbs://campus-data@madsstorage002.blob.core.windows.net/ghcnd/daily/1944.csv.gz\n",
      "-rwxrwxrwx   1   72659059 2025-08-01 21:30 wasbs://campus-data@madsstorage002.blob.core.windows.net/ghcnd/daily/1945.csv.gz\n",
      "-rwxrwxrwx   1   73114196 2025-08-01 21:30 wasbs://campus-data@madsstorage002.blob.core.windows.net/ghcnd/daily/1946.csv.gz\n",
      "-rwxrwxrwx   1   74952680 2025-08-01 21:30 wasbs://campus-data@madsstorage002.blob.core.windows.net/ghcnd/daily/1947.csv.gz\n",
      "-rwxrwxrwx   1   89041730 2025-08-01 21:30 wasbs://campus-data@madsstorage002.blob.core.windows.net/ghcnd/daily/1948.csv.gz\n",
      "-rwxrwxrwx   1  101592000 2025-08-01 21:31 wasbs://campus-data@madsstorage002.blob.core.windows.net/ghcnd/daily/1949.csv.gz\n",
      "-rwxrwxrwx   1  104711871 2025-08-01 21:30 wasbs://campus-data@madsstorage002.blob.core.windows.net/ghcnd/daily/1950.csv.gz\n",
      "-rwxrwxrwx   1  107993894 2025-08-01 21:31 wasbs://campus-data@madsstorage002.blob.core.windows.net/ghcnd/daily/1951.csv.gz\n",
      "-rwxrwxrwx   1  109415202 2025-08-01 21:30 wasbs://campus-data@madsstorage002.blob.core.windows.net/ghcnd/daily/1952.csv.gz\n",
      "-rwxrwxrwx   1  110911359 2025-08-01 21:30 wasbs://campus-data@madsstorage002.blob.core.windows.net/ghcnd/daily/1953.csv.gz\n",
      "-rwxrwxrwx   1  113059113 2025-08-01 21:31 wasbs://campus-data@madsstorage002.blob.core.windows.net/ghcnd/daily/1954.csv.gz\n",
      "-rwxrwxrwx   1  115459480 2025-08-01 21:30 wasbs://campus-data@madsstorage002.blob.core.windows.net/ghcnd/daily/1955.csv.gz\n",
      "-rwxrwxrwx   1  117706646 2025-08-01 21:31 wasbs://campus-data@madsstorage002.blob.core.windows.net/ghcnd/daily/1956.csv.gz\n",
      "-rwxrwxrwx   1  120415991 2025-08-01 21:31 wasbs://campus-data@madsstorage002.blob.core.windows.net/ghcnd/daily/1957.csv.gz\n",
      "-rwxrwxrwx   1  121674607 2025-08-01 21:30 wasbs://campus-data@madsstorage002.blob.core.windows.net/ghcnd/daily/1958.csv.gz\n",
      "-rwxrwxrwx   1  124142299 2025-08-01 21:30 wasbs://campus-data@madsstorage002.blob.core.windows.net/ghcnd/daily/1959.csv.gz\n",
      "-rwxrwxrwx   1  126616388 2025-08-01 21:30 wasbs://campus-data@madsstorage002.blob.core.windows.net/ghcnd/daily/1960.csv.gz\n",
      "-rwxrwxrwx   1  130537124 2025-08-01 21:30 wasbs://campus-data@madsstorage002.blob.core.windows.net/ghcnd/daily/1961.csv.gz\n",
      "-rwxrwxrwx   1  133303209 2025-08-01 21:30 wasbs://campus-data@madsstorage002.blob.core.windows.net/ghcnd/daily/1962.csv.gz\n",
      "-rwxrwxrwx   1  136327607 2025-08-01 21:31 wasbs://campus-data@madsstorage002.blob.core.windows.net/ghcnd/daily/1963.csv.gz\n",
      "-rwxrwxrwx   1  137324032 2025-08-01 21:31 wasbs://campus-data@madsstorage002.blob.core.windows.net/ghcnd/daily/1964.csv.gz\n",
      "-rwxrwxrwx   1  141703071 2025-08-01 21:30 wasbs://campus-data@madsstorage002.blob.core.windows.net/ghcnd/daily/1965.csv.gz\n",
      "-rwxrwxrwx   1  143606064 2025-08-01 21:30 wasbs://campus-data@madsstorage002.blob.core.windows.net/ghcnd/daily/1966.csv.gz\n",
      "-rwxrwxrwx   1  144990382 2025-08-01 21:31 wasbs://campus-data@madsstorage002.blob.core.windows.net/ghcnd/daily/1967.csv.gz\n",
      "-rwxrwxrwx   1  144557361 2025-08-01 21:31 wasbs://campus-data@madsstorage002.blob.core.windows.net/ghcnd/daily/1968.csv.gz\n",
      "-rwxrwxrwx   1  146419633 2025-08-01 21:31 wasbs://campus-data@madsstorage002.blob.core.windows.net/ghcnd/daily/1969.csv.gz\n",
      "-rwxrwxrwx   1  147308795 2025-08-01 21:30 wasbs://campus-data@madsstorage002.blob.core.windows.net/ghcnd/daily/1970.csv.gz\n",
      "-rwxrwxrwx   1  141844155 2025-08-01 21:30 wasbs://campus-data@madsstorage002.blob.core.windows.net/ghcnd/daily/1971.csv.gz\n",
      "-rwxrwxrwx   1  140915774 2025-08-01 21:31 wasbs://campus-data@madsstorage002.blob.core.windows.net/ghcnd/daily/1972.csv.gz\n",
      "-rwxrwxrwx   1  147681263 2025-08-01 21:30 wasbs://campus-data@madsstorage002.blob.core.windows.net/ghcnd/daily/1973.csv.gz\n",
      "-rwxrwxrwx   1  148918056 2025-08-01 21:31 wasbs://campus-data@madsstorage002.blob.core.windows.net/ghcnd/daily/1974.csv.gz\n",
      "-rwxrwxrwx   1  148425688 2025-08-01 21:31 wasbs://campus-data@madsstorage002.blob.core.windows.net/ghcnd/daily/1975.csv.gz\n",
      "-rwxrwxrwx   1  148262075 2025-08-01 21:31 wasbs://campus-data@madsstorage002.blob.core.windows.net/ghcnd/daily/1976.csv.gz\n",
      "-rwxrwxrwx   1  148054948 2025-08-01 21:31 wasbs://campus-data@madsstorage002.blob.core.windows.net/ghcnd/daily/1977.csv.gz\n",
      "-rwxrwxrwx   1  148256735 2025-08-01 21:30 wasbs://campus-data@madsstorage002.blob.core.windows.net/ghcnd/daily/1978.csv.gz\n",
      "-rwxrwxrwx   1  148504356 2025-08-01 21:31 wasbs://campus-data@madsstorage002.blob.core.windows.net/ghcnd/daily/1979.csv.gz\n",
      "-rwxrwxrwx   1  148949680 2025-08-01 21:31 wasbs://campus-data@madsstorage002.blob.core.windows.net/ghcnd/daily/1980.csv.gz\n",
      "-rwxrwxrwx   1  152003357 2025-08-01 21:30 wasbs://campus-data@madsstorage002.blob.core.windows.net/ghcnd/daily/1981.csv.gz\n",
      "-rwxrwxrwx   1  153854520 2025-08-01 21:30 wasbs://campus-data@madsstorage002.blob.core.windows.net/ghcnd/daily/1982.csv.gz\n",
      "-rwxrwxrwx   1  155235722 2025-08-01 21:31 wasbs://campus-data@madsstorage002.blob.core.windows.net/ghcnd/daily/1983.csv.gz\n",
      "-rwxrwxrwx   1  153715835 2025-08-01 21:30 wasbs://campus-data@madsstorage002.blob.core.windows.net/ghcnd/daily/1984.csv.gz\n",
      "-rwxrwxrwx   1  152133144 2025-08-01 21:30 wasbs://campus-data@madsstorage002.blob.core.windows.net/ghcnd/daily/1985.csv.gz\n",
      "-rwxrwxrwx   1  151089815 2025-08-01 21:30 wasbs://campus-data@madsstorage002.blob.core.windows.net/ghcnd/daily/1986.csv.gz\n",
      "-rwxrwxrwx   1  151103502 2025-08-01 21:31 wasbs://campus-data@madsstorage002.blob.core.windows.net/ghcnd/daily/1987.csv.gz\n",
      "-rwxrwxrwx   1  151901255 2025-08-01 21:31 wasbs://campus-data@madsstorage002.blob.core.windows.net/ghcnd/daily/1988.csv.gz\n",
      "-rwxrwxrwx   1  152302408 2025-08-01 21:30 wasbs://campus-data@madsstorage002.blob.core.windows.net/ghcnd/daily/1989.csv.gz\n",
      "-rwxrwxrwx   1  152436138 2025-08-01 21:30 wasbs://campus-data@madsstorage002.blob.core.windows.net/ghcnd/daily/1990.csv.gz\n",
      "-rwxrwxrwx   1  153099120 2025-08-01 21:31 wasbs://campus-data@madsstorage002.blob.core.windows.net/ghcnd/daily/1991.csv.gz\n",
      "-rwxrwxrwx   1  153270361 2025-08-01 21:30 wasbs://campus-data@madsstorage002.blob.core.windows.net/ghcnd/daily/1992.csv.gz\n",
      "-rwxrwxrwx   1  152118013 2025-08-01 21:30 wasbs://campus-data@madsstorage002.blob.core.windows.net/ghcnd/daily/1993.csv.gz\n",
      "-rwxrwxrwx   1  151060622 2025-08-01 21:30 wasbs://campus-data@madsstorage002.blob.core.windows.net/ghcnd/daily/1994.csv.gz\n",
      "-rwxrwxrwx   1  150743498 2025-08-01 21:31 wasbs://campus-data@madsstorage002.blob.core.windows.net/ghcnd/daily/1995.csv.gz\n",
      "-rwxrwxrwx   1  151040641 2025-08-01 21:31 wasbs://campus-data@madsstorage002.blob.core.windows.net/ghcnd/daily/1996.csv.gz\n",
      "-rwxrwxrwx   1  149717385 2025-08-01 21:31 wasbs://campus-data@madsstorage002.blob.core.windows.net/ghcnd/daily/1997.csv.gz\n",
      "-rwxrwxrwx   1  152578968 2025-08-01 21:31 wasbs://campus-data@madsstorage002.blob.core.windows.net/ghcnd/daily/1998.csv.gz\n",
      "-rwxrwxrwx   1  155276018 2025-08-01 21:31 wasbs://campus-data@madsstorage002.blob.core.windows.net/ghcnd/daily/1999.csv.gz\n",
      "-rwxrwxrwx   1  157201545 2025-08-01 21:30 wasbs://campus-data@madsstorage002.blob.core.windows.net/ghcnd/daily/2000.csv.gz\n",
      "-rwxrwxrwx   1  159628249 2025-08-01 21:31 wasbs://campus-data@madsstorage002.blob.core.windows.net/ghcnd/daily/2001.csv.gz\n",
      "-rwxrwxrwx   1  161238991 2025-08-01 21:31 wasbs://campus-data@madsstorage002.blob.core.windows.net/ghcnd/daily/2002.csv.gz\n",
      "-rwxrwxrwx   1  164831832 2025-08-01 21:30 wasbs://campus-data@madsstorage002.blob.core.windows.net/ghcnd/daily/2003.csv.gz\n",
      "-rwxrwxrwx   1  167367272 2025-08-01 21:30 wasbs://campus-data@madsstorage002.blob.core.windows.net/ghcnd/daily/2004.csv.gz\n",
      "-rwxrwxrwx   1  164252894 2025-08-01 21:30 wasbs://campus-data@madsstorage002.blob.core.windows.net/ghcnd/daily/2005.csv.gz\n",
      "-rwxrwxrwx   1  170622150 2025-08-01 21:31 wasbs://campus-data@madsstorage002.blob.core.windows.net/ghcnd/daily/2006.csv.gz\n",
      "-rwxrwxrwx   1  173774204 2025-08-01 21:31 wasbs://campus-data@madsstorage002.blob.core.windows.net/ghcnd/daily/2007.csv.gz\n",
      "-rwxrwxrwx   1  181494871 2025-08-01 21:30 wasbs://campus-data@madsstorage002.blob.core.windows.net/ghcnd/daily/2008.csv.gz\n",
      "-rwxrwxrwx   1  184610150 2025-08-01 21:31 wasbs://campus-data@madsstorage002.blob.core.windows.net/ghcnd/daily/2009.csv.gz\n",
      "-rwxrwxrwx   1  186375697 2025-08-01 21:31 wasbs://campus-data@madsstorage002.blob.core.windows.net/ghcnd/daily/2010.csv.gz\n",
      "-rwxrwxrwx   1  177076726 2025-08-01 21:31 wasbs://campus-data@madsstorage002.blob.core.windows.net/ghcnd/daily/2011.csv.gz\n",
      "-rwxrwxrwx   1  174392518 2025-08-01 21:31 wasbs://campus-data@madsstorage002.blob.core.windows.net/ghcnd/daily/2012.csv.gz\n",
      "-rwxrwxrwx   1  169318018 2025-08-01 21:30 wasbs://campus-data@madsstorage002.blob.core.windows.net/ghcnd/daily/2013.csv.gz\n",
      "-rwxrwxrwx   1  167695499 2025-08-01 21:31 wasbs://campus-data@madsstorage002.blob.core.windows.net/ghcnd/daily/2014.csv.gz\n",
      "-rwxrwxrwx   1  170193533 2025-08-01 21:30 wasbs://campus-data@madsstorage002.blob.core.windows.net/ghcnd/daily/2015.csv.gz\n",
      "-rwxrwxrwx   1  171591139 2025-08-01 21:31 wasbs://campus-data@madsstorage002.blob.core.windows.net/ghcnd/daily/2016.csv.gz\n",
      "-rwxrwxrwx   1  171257132 2025-08-01 21:30 wasbs://campus-data@madsstorage002.blob.core.windows.net/ghcnd/daily/2017.csv.gz\n",
      "-rwxrwxrwx   1  171356446 2025-08-01 21:31 wasbs://campus-data@madsstorage002.blob.core.windows.net/ghcnd/daily/2018.csv.gz\n",
      "-rwxrwxrwx   1  170146218 2025-08-01 21:31 wasbs://campus-data@madsstorage002.blob.core.windows.net/ghcnd/daily/2019.csv.gz\n",
      "-rwxrwxrwx   1  171108011 2025-08-01 21:31 wasbs://campus-data@madsstorage002.blob.core.windows.net/ghcnd/daily/2020.csv.gz\n",
      "-rwxrwxrwx   1  174002839 2025-08-01 21:30 wasbs://campus-data@madsstorage002.blob.core.windows.net/ghcnd/daily/2021.csv.gz\n",
      "-rwxrwxrwx   1  174162097 2025-08-01 21:31 wasbs://campus-data@madsstorage002.blob.core.windows.net/ghcnd/daily/2022.csv.gz\n",
      "-rwxrwxrwx   1  174317938 2025-08-01 21:30 wasbs://campus-data@madsstorage002.blob.core.windows.net/ghcnd/daily/2023.csv.gz\n",
      "-rwxrwxrwx   1  169467154 2025-08-01 21:31 wasbs://campus-data@madsstorage002.blob.core.windows.net/ghcnd/daily/2024.csv.gz\n",
      "-rwxrwxrwx   1   85656432 2025-08-01 21:30 wasbs://campus-data@madsstorage002.blob.core.windows.net/ghcnd/daily/2025.csv.gz\n"
     ]
    }
   ],
   "source": [
    "# Use the hdfs command to explore the data in Azure Blob Storage\n",
    "\n",
    "!hdfs dfs -ls wasbs://{azure_data_container_name}@{azure_account_name}.blob.core.windows.net/ghcnd/\n",
    "!hdfs dfs -ls wasbs://{azure_data_container_name}@{azure_account_name}.blob.core.windows.net/ghcnd/daily/"
   ]
  },
  {
   "cell_type": "code",
   "execution_count": 5,
   "id": "82f471d7-0c71-4c69-919f-fe3e71aadf18",
   "metadata": {},
   "outputs": [],
   "source": [
    "directory_path = f'wasbs://{azure_data_container_name}@{azure_account_name}.blob.core.windows.net/ghcnd'"
   ]
  },
  {
   "cell_type": "code",
   "execution_count": 6,
   "id": "6c17a55d-1556-4079-88c8-cb56f5dadebf",
   "metadata": {},
   "outputs": [
    {
     "name": "stdout",
     "output_type": "stream",
     "text": [
      "wasbs://campus-data@madsstorage002.blob.core.windows.net/ghcnd/daily/2025.csv.gz\n"
     ]
    }
   ],
   "source": [
    "# Define the input path for the last year in daily\n",
    "\n",
    "daily_relative_path = f'ghcnd/daily/2025.csv.gz'\n",
    "daily_path = f'wasbs://{azure_data_container_name}@{azure_account_name}.blob.core.windows.net/{daily_relative_path}'\n",
    "\n",
    "print(daily_path)"
   ]
  },
  {
   "cell_type": "code",
   "execution_count": 7,
   "id": "5926e311-de42-46e2-a907-a082659f11f1",
   "metadata": {
    "scrolled": true
   },
   "outputs": [
    {
     "name": "stdout",
     "output_type": "stream",
     "text": [
      "<class 'pyspark.sql.dataframe.DataFrame'>\n",
      "root\n",
      " |-- ID: string (nullable = true)\n",
      " |-- DATE: string (nullable = true)\n",
      " |-- ELEMENT: string (nullable = true)\n",
      " |-- VALUE: double (nullable = true)\n",
      " |-- MEASUREMENT: string (nullable = true)\n",
      " |-- QUALITY: string (nullable = true)\n",
      " |-- SOURCE: string (nullable = true)\n",
      " |-- TIME: string (nullable = true)\n",
      "\n",
      "DataFrame[ID: string, DATE: string, ELEMENT: string, VALUE: double, MEASUREMENT: string, QUALITY: string, SOURCE: string, TIME: string]\n"
     ]
    },
    {
     "name": "stderr",
     "output_type": "stream",
     "text": [
      "                                                                                "
     ]
    },
    {
     "name": "stdout",
     "output_type": "stream",
     "text": [
      "+-----------+--------+-------+------+-----------+-------+------+----+\n",
      "|ID         |DATE    |ELEMENT|VALUE |MEASUREMENT|QUALITY|SOURCE|TIME|\n",
      "+-----------+--------+-------+------+-----------+-------+------+----+\n",
      "|ASN00030019|20100101|PRCP   |24.0  |NULL       |NULL   |a     |NULL|\n",
      "|ASN00030021|20100101|PRCP   |200.0 |NULL       |NULL   |a     |NULL|\n",
      "|ASN00030022|20100101|TMAX   |294.0 |NULL       |NULL   |a     |NULL|\n",
      "|ASN00030022|20100101|TMIN   |215.0 |NULL       |NULL   |a     |NULL|\n",
      "|ASN00030022|20100101|PRCP   |408.0 |NULL       |NULL   |a     |NULL|\n",
      "|ASN00029121|20100101|PRCP   |820.0 |NULL       |NULL   |a     |NULL|\n",
      "|ASN00029126|20100101|TMAX   |371.0 |NULL       |NULL   |S     |NULL|\n",
      "|ASN00029126|20100101|TMIN   |225.0 |NULL       |NULL   |S     |NULL|\n",
      "|ASN00029126|20100101|PRCP   |0.0   |NULL       |NULL   |a     |NULL|\n",
      "|ASN00029126|20100101|TAVG   |298.0 |H          |NULL   |S     |NULL|\n",
      "|ASN00029127|20100101|TMAX   |371.0 |NULL       |NULL   |a     |NULL|\n",
      "|ASN00029127|20100101|TMIN   |225.0 |NULL       |NULL   |a     |NULL|\n",
      "|ASN00029127|20100101|PRCP   |8.0   |NULL       |NULL   |a     |NULL|\n",
      "|ASN00029129|20100101|PRCP   |174.0 |NULL       |NULL   |a     |NULL|\n",
      "|ASN00029130|20100101|PRCP   |86.0  |NULL       |NULL   |a     |NULL|\n",
      "|ASN00029131|20100101|PRCP   |56.0  |NULL       |NULL   |a     |NULL|\n",
      "|ASN00029132|20100101|PRCP   |800.0 |NULL       |NULL   |a     |NULL|\n",
      "|ASN00029136|20100101|PRCP   |22.0  |NULL       |NULL   |a     |NULL|\n",
      "|ASN00029137|20100101|PRCP   |0.0   |NULL       |NULL   |a     |NULL|\n",
      "|ASN00029139|20100101|TMAX   |298.0 |NULL       |NULL   |a     |NULL|\n",
      "|ASN00029139|20100101|TMIN   |270.0 |NULL       |NULL   |a     |NULL|\n",
      "|ASN00029139|20100101|PRCP   |30.0  |NULL       |NULL   |a     |NULL|\n",
      "|ASN00029141|20100101|TMAX   |360.0 |NULL       |NULL   |a     |NULL|\n",
      "|ASN00029141|20100101|TMIN   |249.0 |NULL       |NULL   |a     |NULL|\n",
      "|ASN00029141|20100101|PRCP   |12.0  |NULL       |NULL   |a     |NULL|\n",
      "|ASN00029150|20100101|PRCP   |84.0  |NULL       |NULL   |a     |NULL|\n",
      "|ASN00029152|20100101|PRCP   |560.0 |NULL       |NULL   |a     |NULL|\n",
      "|ASN00029154|20100101|PRCP   |420.0 |NULL       |NULL   |a     |NULL|\n",
      "|ASN00029161|20100101|PRCP   |40.0  |NULL       |NULL   |a     |NULL|\n",
      "|ASN00029163|20100101|PRCP   |70.0  |NULL       |NULL   |a     |NULL|\n",
      "|ASN00029167|20100101|TMAX   |334.0 |NULL       |NULL   |a     |NULL|\n",
      "|ASN00029167|20100101|TMIN   |242.0 |NULL       |NULL   |a     |NULL|\n",
      "|ASN00029167|20100101|PRCP   |166.0 |NULL       |NULL   |a     |NULL|\n",
      "|ASN00029069|20100101|PRCP   |40.0  |NULL       |NULL   |a     |NULL|\n",
      "|ASN00029077|20100101|TMAX   |292.0 |NULL       |NULL   |a     |NULL|\n",
      "|ASN00029077|20100101|TMIN   |259.0 |NULL       |NULL   |a     |NULL|\n",
      "|ASN00029077|20100101|PRCP   |12.0  |NULL       |NULL   |a     |NULL|\n",
      "|ASN00029077|20100101|TAVG   |265.0 |H          |NULL   |S     |NULL|\n",
      "|ASN00029080|20100101|PRCP   |70.0  |NULL       |NULL   |a     |NULL|\n",
      "|ASN00029081|20100101|PRCP   |120.0 |NULL       |NULL   |a     |NULL|\n",
      "|ASN00029086|20100101|PRCP   |220.0 |NULL       |NULL   |a     |NULL|\n",
      "|ASN00029089|20100101|PRCP   |140.0 |NULL       |NULL   |a     |NULL|\n",
      "|ASN00029090|20100101|PRCP   |206.0 |NULL       |NULL   |a     |NULL|\n",
      "|ASN00029100|20100101|PRCP   |0.0   |NULL       |NULL   |a     |NULL|\n",
      "|ASN00029011|20100101|PRCP   |1618.0|NULL       |NULL   |a     |NULL|\n",
      "|ASN00029012|20100101|TMAX   |310.0 |NULL       |NULL   |a     |NULL|\n",
      "|ASN00029012|20100101|TMIN   |239.0 |NULL       |NULL   |a     |NULL|\n",
      "|ASN00029012|20100101|PRCP   |86.0  |NULL       |NULL   |a     |NULL|\n",
      "|ASN00029014|20100101|PRCP   |320.0 |NULL       |NULL   |a     |NULL|\n",
      "|ASN00029015|20100101|PRCP   |0.0   |NULL       |NULL   |a     |NULL|\n",
      "|ASN00029016|20100101|PRCP   |50.0  |NULL       |NULL   |a     |NULL|\n",
      "|ASN00029027|20100101|PRCP   |0.0   |NULL       |NULL   |a     |NULL|\n",
      "|ASN00029030|20100101|PRCP   |42.0  |NULL       |NULL   |a     |NULL|\n",
      "|ASN00029031|20100101|PRCP   |490.0 |NULL       |NULL   |a     |NULL|\n",
      "|ASN00029032|20100101|PRCP   |320.0 |NULL       |NULL   |a     |NULL|\n",
      "|ASN00029036|20100101|PRCP   |78.0  |NULL       |NULL   |a     |NULL|\n",
      "|ASN00029037|20100101|PRCP   |70.0  |NULL       |NULL   |a     |NULL|\n",
      "|ASN00029038|20100101|TMAX   |335.0 |NULL       |NULL   |a     |NULL|\n",
      "|ASN00029038|20100101|TMIN   |247.0 |NULL       |NULL   |a     |NULL|\n",
      "|ASN00029038|20100101|PRCP   |34.0  |NULL       |NULL   |a     |NULL|\n",
      "|ASN00029039|20100101|TMAX   |297.0 |NULL       |NULL   |a     |NULL|\n",
      "|ASN00029039|20100101|TMIN   |254.0 |NULL       |NULL   |a     |NULL|\n",
      "|ASN00029039|20100101|PRCP   |116.0 |NULL       |NULL   |a     |NULL|\n",
      "|ASN00029047|20100101|PRCP   |0.0   |NULL       |NULL   |a     |NULL|\n",
      "|ASN00029048|20100101|PRCP   |165.0 |NULL       |NULL   |a     |NULL|\n",
      "|ASN00029051|20100101|PRCP   |480.0 |NULL       |NULL   |a     |NULL|\n",
      "|ASN00029052|20100101|PRCP   |18.0  |NULL       |NULL   |a     |NULL|\n",
      "|ASN00029054|20100101|PRCP   |0.0   |NULL       |NULL   |a     |NULL|\n",
      "|ASN00029058|20100101|TMAX   |356.0 |NULL       |NULL   |a     |NULL|\n",
      "|ASN00029058|20100101|TMIN   |228.0 |NULL       |NULL   |a     |NULL|\n",
      "|ASN00029058|20100101|PRCP   |66.0  |NULL       |NULL   |a     |NULL|\n",
      "|ASN00029061|20100101|PRCP   |0.0   |NULL       |NULL   |a     |NULL|\n",
      "|ASN00029063|20100101|TMAX   |312.0 |NULL       |NULL   |a     |NULL|\n",
      "|ASN00029063|20100101|TMIN   |244.0 |NULL       |NULL   |a     |NULL|\n",
      "|ASN00029063|20100101|PRCP   |158.0 |NULL       |NULL   |a     |NULL|\n",
      "|ASN00029065|20100101|PRCP   |260.0 |NULL       |NULL   |a     |NULL|\n",
      "|ASN00027064|20100101|PRCP   |630.0 |NULL       |NULL   |a     |NULL|\n",
      "|ASN00027069|20100101|PRCP   |546.0 |NULL       |NULL   |a     |NULL|\n",
      "|ASN00027072|20100101|PRCP   |325.0 |NULL       |NULL   |a     |NULL|\n",
      "|ASN00027073|20100101|TMAX   |336.0 |NULL       |NULL   |a     |NULL|\n",
      "|ASN00027073|20100101|TMIN   |242.0 |NULL       |NULL   |a     |NULL|\n",
      "|ASN00027073|20100101|PRCP   |44.0  |NULL       |NULL   |a     |NULL|\n",
      "|ASN00027075|20100101|TMAX   |334.0 |NULL       |NULL   |a     |NULL|\n",
      "|ASN00027075|20100101|TMIN   |241.0 |NULL       |NULL   |a     |NULL|\n",
      "|ASN00027075|20100101|PRCP   |298.0 |NULL       |NULL   |a     |NULL|\n",
      "|ASN00028000|20100101|PRCP   |224.0 |NULL       |NULL   |a     |NULL|\n",
      "|ASN00028004|20100101|TMAX   |335.0 |NULL       |NULL   |a     |NULL|\n",
      "|ASN00028004|20100101|TMIN   |248.0 |NULL       |NULL   |a     |NULL|\n",
      "|ASN00028004|20100101|PRCP   |130.0 |NULL       |NULL   |a     |NULL|\n",
      "|ASN00028007|20100101|TMAX   |348.0 |NULL       |NULL   |a     |NULL|\n",
      "|ASN00028007|20100101|TMIN   |250.0 |NULL       |NULL   |a     |NULL|\n",
      "|ASN00028007|20100101|PRCP   |25.0  |NULL       |NULL   |a     |NULL|\n",
      "|ASN00028008|20100101|TMAX   |315.0 |NULL       |NULL   |a     |NULL|\n",
      "|ASN00028008|20100101|TMIN   |248.0 |NULL       |NULL   |a     |NULL|\n",
      "|ASN00028008|20100101|PRCP   |276.0 |NULL       |NULL   |a     |NULL|\n",
      "|ASN00028013|20100101|PRCP   |0.0   |NULL       |NULL   |a     |NULL|\n",
      "|ASN00028015|20100101|PRCP   |380.0 |NULL       |NULL   |a     |NULL|\n",
      "|ASN00028022|20100101|PRCP   |100.0 |NULL       |NULL   |a     |NULL|\n",
      "|ASN00028023|20100101|PRCP   |12.0  |NULL       |NULL   |a     |NULL|\n",
      "|ASN00028031|20100101|PRCP   |30.0  |NULL       |NULL   |a     |NULL|\n",
      "+-----------+--------+-------+------+-----------+-------+------+----+\n",
      "only showing top 100 rows\n",
      "\n"
     ]
    }
   ],
   "source": [
    "# Load a subset of the last year in daily into Spark from Azure Blob Storage using spark.read.csv\n",
    "\n",
    "schema = StructType([\n",
    "    StructField(\"ID\", StringType()),           # Character Station code\n",
    "    StructField(\"DATE\", StringType()),         # Date Observation date formatted as YYYYMMDD\n",
    "    StructField(\"ELEMENT\", StringType()),      # Character Element type indicator\n",
    "    StructField(\"VALUE\", DoubleType()),        # Real Data value for ELEMENT\n",
    "    StructField(\"MEASUREMENT\", StringType()),  # Character Measurement Flag\n",
    "    StructField(\"QUALITY\", StringType()),      # Character Quality Flag\n",
    "    StructField(\"SOURCE\", StringType()),       # Character Source Flag\n",
    "    StructField(\"TIME\", StringType()),         # Time Observation time formatted as HHMM\n",
    "])\n",
    "\n",
    "daily = spark.read.csv(\n",
    "    path=f'wasbs://{azure_data_container_name}@{azure_account_name}.blob.core.windows.net/ghcnd/daily/',\n",
    "    schema=schema\n",
    ")\n",
    "\n",
    "print(type(daily))\n",
    "daily.printSchema()\n",
    "print(daily)\n",
    "daily.show(100, False)"
   ]
  },
  {
   "cell_type": "code",
   "execution_count": 8,
   "id": "4abb44c8-a6bb-4688-aac9-8ddb57d2e1e3",
   "metadata": {},
   "outputs": [
    {
     "name": "stderr",
     "output_type": "stream",
     "text": [
      "[Stage 1:>                                                          (0 + 1) / 1]"
     ]
    },
    {
     "name": "stdout",
     "output_type": "stream",
     "text": [
      "+-----------+----------+-------+-----+-----------+-------+------+----+-------------------+\n",
      "|ID         |DATE      |ELEMENT|VALUE|MEASUREMENT|QUALITY|SOURCE|TIME|DATETIME           |\n",
      "+-----------+----------+-------+-----+-----------+-------+------+----+-------------------+\n",
      "|ASN00030019|2010-01-01|PRCP   |24.0 |NULL       |NULL   |a     |NULL|2010-01-01 00:00:00|\n",
      "|ASN00030021|2010-01-01|PRCP   |200.0|NULL       |NULL   |a     |NULL|2010-01-01 00:00:00|\n",
      "|ASN00030022|2010-01-01|TMAX   |294.0|NULL       |NULL   |a     |NULL|2010-01-01 00:00:00|\n",
      "|ASN00030022|2010-01-01|TMIN   |215.0|NULL       |NULL   |a     |NULL|2010-01-01 00:00:00|\n",
      "|ASN00030022|2010-01-01|PRCP   |408.0|NULL       |NULL   |a     |NULL|2010-01-01 00:00:00|\n",
      "|ASN00029121|2010-01-01|PRCP   |820.0|NULL       |NULL   |a     |NULL|2010-01-01 00:00:00|\n",
      "|ASN00029126|2010-01-01|TMAX   |371.0|NULL       |NULL   |S     |NULL|2010-01-01 00:00:00|\n",
      "|ASN00029126|2010-01-01|TMIN   |225.0|NULL       |NULL   |S     |NULL|2010-01-01 00:00:00|\n",
      "|ASN00029126|2010-01-01|PRCP   |0.0  |NULL       |NULL   |a     |NULL|2010-01-01 00:00:00|\n",
      "|ASN00029126|2010-01-01|TAVG   |298.0|H          |NULL   |S     |NULL|2010-01-01 00:00:00|\n",
      "|ASN00029127|2010-01-01|TMAX   |371.0|NULL       |NULL   |a     |NULL|2010-01-01 00:00:00|\n",
      "|ASN00029127|2010-01-01|TMIN   |225.0|NULL       |NULL   |a     |NULL|2010-01-01 00:00:00|\n",
      "|ASN00029127|2010-01-01|PRCP   |8.0  |NULL       |NULL   |a     |NULL|2010-01-01 00:00:00|\n",
      "|ASN00029129|2010-01-01|PRCP   |174.0|NULL       |NULL   |a     |NULL|2010-01-01 00:00:00|\n",
      "|ASN00029130|2010-01-01|PRCP   |86.0 |NULL       |NULL   |a     |NULL|2010-01-01 00:00:00|\n",
      "|ASN00029131|2010-01-01|PRCP   |56.0 |NULL       |NULL   |a     |NULL|2010-01-01 00:00:00|\n",
      "|ASN00029132|2010-01-01|PRCP   |800.0|NULL       |NULL   |a     |NULL|2010-01-01 00:00:00|\n",
      "|ASN00029136|2010-01-01|PRCP   |22.0 |NULL       |NULL   |a     |NULL|2010-01-01 00:00:00|\n",
      "|ASN00029137|2010-01-01|PRCP   |0.0  |NULL       |NULL   |a     |NULL|2010-01-01 00:00:00|\n",
      "|ASN00029139|2010-01-01|TMAX   |298.0|NULL       |NULL   |a     |NULL|2010-01-01 00:00:00|\n",
      "+-----------+----------+-------+-----+-----------+-------+------+----+-------------------+\n",
      "only showing top 20 rows\n",
      "\n"
     ]
    },
    {
     "name": "stderr",
     "output_type": "stream",
     "text": [
      "                                                                                "
     ]
    }
   ],
   "source": [
    "daily = daily.withColumn(\n",
    "    'DATETIME',\n",
    "    F.to_timestamp(\n",
    "        F.concat_ws(\n",
    "            \" \",\n",
    "            F.col('DATE'),\n",
    "            F.when(F.col('TIME') == '2400', F.lit('0000')).otherwise(F.coalesce(F.col('TIME'), F.lit('0000')))),\n",
    "        'yyyyMMdd HHmm'\n",
    "    )\n",
    ")\n",
    "\n",
    "daily = daily.withColumn('DATE', F.to_date(F.col('DATE'), 'yyyyMMdd'))\n",
    "\n",
    "daily.show(20, False)"
   ]
  },
  {
   "cell_type": "markdown",
   "id": "91f0b053-7f9e-4cdb-bde8-602c4f0d80ca",
   "metadata": {},
   "source": [
    "## question 2(b)"
   ]
  },
  {
   "cell_type": "markdown",
   "id": "a3e9eeac-990d-45e0-8be6-e919c82fe9bb",
   "metadata": {},
   "source": [
    "get the last file containing the latest data file"
   ]
  },
  {
   "cell_type": "code",
   "execution_count": 9,
   "id": "004b904b-f368-4e97-96b5-9417f451ce51",
   "metadata": {},
   "outputs": [
    {
     "name": "stdout",
     "output_type": "stream",
     "text": [
      "-rwxrwxrwx   1   85656432 2025-08-01 21:30 wasbs://campus-data@madsstorage002.blob.core.windows.net/ghcnd/daily/2025.csv.gz\n"
     ]
    }
   ],
   "source": [
    "!hdfs dfs -ls {directory_path}/daily | tail -n 1"
   ]
  },
  {
   "cell_type": "code",
   "execution_count": 9,
   "id": "31416390-4399-4666-85fb-601f115c248a",
   "metadata": {},
   "outputs": [
    {
     "name": "stderr",
     "output_type": "stream",
     "text": [
      "[Stage 2:>                                                          (0 + 1) / 1]"
     ]
    },
    {
     "name": "stdout",
     "output_type": "stream",
     "text": [
      "+-----------+--------+-------+-----+-----------+-------+------+----+\n",
      "|ID         |DATE    |ELEMENT|VALUE|MEASUREMENT|QUALITY|SOURCE|TIME|\n",
      "+-----------+--------+-------+-----+-----------+-------+------+----+\n",
      "|ASN00030019|20250101|PRCP   |0.0  |NULL       |NULL   |a     |NULL|\n",
      "|ASN00030021|20250101|PRCP   |0.0  |NULL       |NULL   |a     |NULL|\n",
      "|ASN00030022|20250101|TMAX   |414.0|NULL       |NULL   |a     |NULL|\n",
      "|ASN00030022|20250101|TMIN   |247.0|NULL       |NULL   |a     |NULL|\n",
      "|ASN00030022|20250101|PRCP   |0.0  |NULL       |NULL   |a     |NULL|\n",
      "|ASN00030025|20250101|PRCP   |0.0  |NULL       |NULL   |a     |NULL|\n",
      "|ASN00029118|20250101|PRCP   |0.0  |NULL       |NULL   |a     |NULL|\n",
      "|ASN00029121|20250101|PRCP   |0.0  |NULL       |NULL   |a     |NULL|\n",
      "|ASN00029126|20250101|TMAX   |414.0|NULL       |NULL   |S     |NULL|\n",
      "|ASN00029126|20250101|TMIN   |198.0|NULL       |NULL   |S     |NULL|\n",
      "|ASN00029126|20250101|PRCP   |0.0  |NULL       |NULL   |a     |NULL|\n",
      "|ASN00029126|20250101|TAVG   |321.0|H          |NULL   |S     |NULL|\n",
      "|ASN00029127|20250101|TMAX   |414.0|NULL       |NULL   |a     |NULL|\n",
      "|ASN00029127|20250101|TMIN   |198.0|NULL       |NULL   |a     |NULL|\n",
      "|ASN00029127|20250101|PRCP   |0.0  |NULL       |NULL   |a     |NULL|\n",
      "|ASN00029129|20250101|PRCP   |0.0  |NULL       |NULL   |a     |NULL|\n",
      "|ASN00029131|20250101|PRCP   |0.0  |NULL       |NULL   |a     |NULL|\n",
      "|ASN00029132|20250101|PRCP   |0.0  |NULL       |NULL   |a     |NULL|\n",
      "|ASN00029136|20250101|PRCP   |0.0  |NULL       |NULL   |a     |NULL|\n",
      "|ASN00029139|20250101|TMAX   |347.0|NULL       |NULL   |a     |NULL|\n",
      "+-----------+--------+-------+-----+-----------+-------+------+----+\n",
      "only showing top 20 rows\n",
      "\n"
     ]
    },
    {
     "name": "stderr",
     "output_type": "stream",
     "text": [
      "                                                                                "
     ]
    }
   ],
   "source": [
    "daily_latest = spark.read.csv(\n",
    "    path=f'{directory_path}/daily/2025.csv.gz',\n",
    "    schema = schema,\n",
    ")\n",
    "\n",
    "daily_latest.show(20, False)"
   ]
  },
  {
   "cell_type": "code",
   "execution_count": 10,
   "id": "731e5a3f-67e4-4ef9-a704-f4ed240302e8",
   "metadata": {},
   "outputs": [
    {
     "name": "stdout",
     "output_type": "stream",
     "text": [
      "wasbs://campus-data@madsstorage002.blob.core.windows.net/ghcnd/ghcnd-stations.txt\n"
     ]
    }
   ],
   "source": [
    "# Define the input path for stations\n",
    "\n",
    "stations_relative_path = f'ghcnd/ghcnd-stations.txt'\n",
    "stations_path = f'wasbs://{azure_data_container_name}@{azure_account_name}.blob.core.windows.net/{stations_relative_path}'\n",
    "\n",
    "print(stations_path)"
   ]
  },
  {
   "cell_type": "code",
   "execution_count": 11,
   "id": "a5146854-c4bf-4929-a400-fce422369251",
   "metadata": {},
   "outputs": [
    {
     "name": "stdout",
     "output_type": "stream",
     "text": [
      "<class 'pyspark.sql.dataframe.DataFrame'>\n",
      "root\n",
      " |-- value: string (nullable = true)\n",
      "\n",
      "DataFrame[value: string]\n"
     ]
    },
    {
     "name": "stderr",
     "output_type": "stream",
     "text": [
      "[Stage 3:>                                                          (0 + 1) / 1]"
     ]
    },
    {
     "name": "stdout",
     "output_type": "stream",
     "text": [
      "+-------------------------------------------------------------------------------------+\n",
      "|value                                                                                |\n",
      "+-------------------------------------------------------------------------------------+\n",
      "|ACW00011604  17.1167  -61.7833   10.1    ST JOHNS COOLIDGE FLD                       |\n",
      "|ACW00011647  17.1333  -61.7833   19.2    ST JOHNS                                    |\n",
      "|AE000041196  25.3330   55.5170   34.0    SHARJAH INTER. AIRP            GSN     41196|\n",
      "|AEM00041194  25.2550   55.3640   10.4    DUBAI INTL                             41194|\n",
      "|AEM00041217  24.4330   54.6510   26.8    ABU DHABI INTL                         41217|\n",
      "|AEM00041218  24.2620   55.6090  264.9    AL AIN INTL                            41218|\n",
      "|AF000040930  35.3170   69.0170 3366.0    NORTH-SALANG                   GSN     40930|\n",
      "|AFM00040938  34.2100   62.2280  977.2    HERAT                                  40938|\n",
      "|AFM00040948  34.5660   69.2120 1791.3    KABUL INTL                             40948|\n",
      "|AFM00040990  31.5000   65.8500 1010.0    KANDAHAR AIRPORT                       40990|\n",
      "|AG000060390  36.7167    3.2500   24.0    ALGER-DAR EL BEIDA             GSN     60390|\n",
      "|AG000060590  30.5667    2.8667  397.0    EL-GOLEA                       GSN     60590|\n",
      "|AG000060611  28.0500    9.6331  561.0    IN-AMENAS                      GSN     60611|\n",
      "|AG000060680  22.8000    5.4331 1362.0    TAMANRASSET                    GSN     60680|\n",
      "|AGE00135039  35.7297    0.6500   50.0    ORAN-HOPITAL MILITAIRE                      |\n",
      "|AGE00147704  36.9700    7.7900  161.0    ANNABA-CAP DE GARDE                         |\n",
      "|AGE00147705  36.7800    3.0700   59.0    ALGIERS-VILLE/UNIVERSITE                    |\n",
      "|AGE00147706  36.8000    3.0300  344.0    ALGIERS-BOUZAREAH                           |\n",
      "|AGE00147707  36.8000    3.0400   38.0    ALGIERS-CAP CAXINE                          |\n",
      "|AGE00147708  36.7200    4.0500  222.0    TIZI OUZOU                             60395|\n",
      "+-------------------------------------------------------------------------------------+\n",
      "only showing top 20 rows\n",
      "\n"
     ]
    },
    {
     "name": "stderr",
     "output_type": "stream",
     "text": [
      "                                                                                "
     ]
    }
   ],
   "source": [
    "# Load the stations metadata into Spark from Azure Blob Storage using spark.read.text without any other processing\n",
    "\n",
    "stations_txt = spark.read.text(stations_path)\n",
    "\n",
    "print(type(stations_txt))\n",
    "stations_txt.printSchema()\n",
    "print(stations_txt)\n",
    "stations_txt.show(20, False)"
   ]
  },
  {
   "cell_type": "code",
   "execution_count": 12,
   "id": "a6c7b8ad-25b8-47ad-b72d-87bda0041c47",
   "metadata": {},
   "outputs": [
    {
     "name": "stdout",
     "output_type": "stream",
     "text": [
      "root\n",
      " |-- ID: string (nullable = true)\n",
      " |-- LATITUDE: double (nullable = true)\n",
      " |-- LONGITUDE: double (nullable = true)\n",
      " |-- ELEVATION: double (nullable = true)\n",
      " |-- STATE: string (nullable = true)\n",
      " |-- NAME: string (nullable = true)\n",
      " |-- GSN: string (nullable = true)\n",
      " |-- HCN_CRN_FLAG: string (nullable = true)\n",
      " |-- WMO_ID: integer (nullable = true)\n",
      "\n",
      "DataFrame[ID: string, LATITUDE: double, LONGITUDE: double, ELEVATION: double, STATE: string, NAME: string, GSN: string, HCN_CRN_FLAG: string, WMO_ID: int]\n",
      "+-----------+--------+---------+---------+-----+------------------------------+---+------------+------+\n",
      "|ID         |LATITUDE|LONGITUDE|ELEVATION|STATE|NAME                          |GSN|HCN_CRN_FLAG|WMO_ID|\n",
      "+-----------+--------+---------+---------+-----+------------------------------+---+------------+------+\n",
      "|ACW00011604|17.1167 |-61.7833 |10.1     |     |ST JOHNS COOLIDGE FLD         |   |            |NULL  |\n",
      "|ACW00011647|17.1333 |-61.7833 |19.2     |     |ST JOHNS                      |   |            |NULL  |\n",
      "|AE000041196|25.333  |55.517   |34.0     |     |SHARJAH INTER. AIRP           |GSN|            |41196 |\n",
      "|AEM00041194|25.255  |55.364   |10.4     |     |DUBAI INTL                    |   |            |41194 |\n",
      "|AEM00041217|24.433  |54.651   |26.8     |     |ABU DHABI INTL                |   |            |41217 |\n",
      "|AEM00041218|24.262  |55.609   |264.9    |     |AL AIN INTL                   |   |            |41218 |\n",
      "|AF000040930|35.317  |69.017   |3366.0   |     |NORTH-SALANG                  |GSN|            |40930 |\n",
      "|AFM00040938|34.21   |62.228   |977.2    |     |HERAT                         |   |            |40938 |\n",
      "|AFM00040948|34.566  |69.212   |1791.3   |     |KABUL INTL                    |   |            |40948 |\n",
      "|AFM00040990|31.5    |65.85    |1010.0   |     |KANDAHAR AIRPORT              |   |            |40990 |\n",
      "|AG000060390|36.7167 |3.25     |24.0     |     |ALGER-DAR EL BEIDA            |GSN|            |60390 |\n",
      "|AG000060590|30.5667 |2.8667   |397.0    |     |EL-GOLEA                      |GSN|            |60590 |\n",
      "|AG000060611|28.05   |9.6331   |561.0    |     |IN-AMENAS                     |GSN|            |60611 |\n",
      "|AG000060680|22.8    |5.4331   |1362.0   |     |TAMANRASSET                   |GSN|            |60680 |\n",
      "|AGE00135039|35.7297 |0.65     |50.0     |     |ORAN-HOPITAL MILITAIRE        |   |            |NULL  |\n",
      "|AGE00147704|36.97   |7.79     |161.0    |     |ANNABA-CAP DE GARDE           |   |            |NULL  |\n",
      "|AGE00147705|36.78   |3.07     |59.0     |     |ALGIERS-VILLE/UNIVERSITE      |   |            |NULL  |\n",
      "|AGE00147706|36.8    |3.03     |344.0    |     |ALGIERS-BOUZAREAH             |   |            |NULL  |\n",
      "|AGE00147707|36.8    |3.04     |38.0     |     |ALGIERS-CAP CAXINE            |   |            |NULL  |\n",
      "|AGE00147708|36.72   |4.05     |222.0    |     |TIZI OUZOU                    |   |            |60395 |\n",
      "+-----------+--------+---------+---------+-----+------------------------------+---+------------+------+\n",
      "only showing top 20 rows\n",
      "\n"
     ]
    }
   ],
   "source": [
    "stations = stations_txt.select(\n",
    "    F.substring('value', 1,11).alias(\"ID\"),\n",
    "    F.substring('value', 13,8).cast(\"double\").alias(\"LATITUDE\"),\n",
    "    F.substring('value', 22,9).cast(\"double\").alias(\"LONGITUDE\"),\n",
    "    F.substring('value', 32,6).cast(\"double\").alias(\"ELEVATION\"),\n",
    "    F.substring('value', 39,2).alias(\"STATE\"),\n",
    "    F.substring('value', 42,30).alias(\"NAME\"),\n",
    "    F.substring('value', 73,3).alias(\"GSN\"),\n",
    "    F.substring('value', 77,3).alias(\"HCN_CRN_FLAG\"),\n",
    "    F.substring('value', 81,5).cast(\"int\").alias(\"WMO_ID\"),\n",
    ")\n",
    "\n",
    "stations.printSchema()\n",
    "print(stations)\n",
    "stations.show(20, False)"
   ]
  },
  {
   "cell_type": "code",
   "execution_count": 13,
   "id": "a45d3511-8a3e-4bac-9179-2e2c95a2149d",
   "metadata": {},
   "outputs": [
    {
     "name": "stdout",
     "output_type": "stream",
     "text": [
      "root\n",
      " |-- value: string (nullable = true)\n",
      "\n",
      "+----------------------------------+\n",
      "|value                             |\n",
      "+----------------------------------+\n",
      "|AC Antigua and Barbuda            |\n",
      "|AE United Arab Emirates           |\n",
      "|AF Afghanistan                    |\n",
      "|AG Algeria                        |\n",
      "|AJ Azerbaijan                     |\n",
      "|AL Albania                        |\n",
      "|AM Armenia                        |\n",
      "|AO Angola                         |\n",
      "|AQ American Samoa [United States] |\n",
      "|AR Argentina                      |\n",
      "|AS Australia                      |\n",
      "|AU Austria                        |\n",
      "|AY Antarctica                     |\n",
      "|BA Bahrain                        |\n",
      "|BB Barbados                       |\n",
      "|BC Botswana                       |\n",
      "|BD Bermuda [United Kingdom]       |\n",
      "|BE Belgium                        |\n",
      "|BF Bahamas, The                   |\n",
      "|BG Bangladesh                     |\n",
      "+----------------------------------+\n",
      "only showing top 20 rows\n",
      "\n"
     ]
    }
   ],
   "source": [
    "countries_path = f'{directory_path}/ghcnd-countries.txt'\n",
    "\n",
    "countries_txt = spark.read.text(countries_path)\n",
    "\n",
    "countries_txt.printSchema()\n",
    "\n",
    "countries_txt.show(20, False)"
   ]
  },
  {
   "cell_type": "code",
   "execution_count": 14,
   "id": "ee79d269-6810-48eb-a776-2ff72c73ca07",
   "metadata": {},
   "outputs": [
    {
     "name": "stdout",
     "output_type": "stream",
     "text": [
      "root\n",
      " |-- COUNTRY_CODE: string (nullable = true)\n",
      " |-- COUNTRY_NAME: string (nullable = true)\n",
      "\n",
      "+------------+-------------------------------+\n",
      "|COUNTRY_CODE|COUNTRY_NAME                   |\n",
      "+------------+-------------------------------+\n",
      "|AC          |Antigua and Barbuda            |\n",
      "|AE          |United Arab Emirates           |\n",
      "|AF          |Afghanistan                    |\n",
      "|AG          |Algeria                        |\n",
      "|AJ          |Azerbaijan                     |\n",
      "|AL          |Albania                        |\n",
      "|AM          |Armenia                        |\n",
      "|AO          |Angola                         |\n",
      "|AQ          |American Samoa [United States] |\n",
      "|AR          |Argentina                      |\n",
      "|AS          |Australia                      |\n",
      "|AU          |Austria                        |\n",
      "|AY          |Antarctica                     |\n",
      "|BA          |Bahrain                        |\n",
      "|BB          |Barbados                       |\n",
      "|BC          |Botswana                       |\n",
      "|BD          |Bermuda [United Kingdom]       |\n",
      "|BE          |Belgium                        |\n",
      "|BF          |Bahamas, The                   |\n",
      "|BG          |Bangladesh                     |\n",
      "+------------+-------------------------------+\n",
      "only showing top 20 rows\n",
      "\n"
     ]
    }
   ],
   "source": [
    "countries = countries_txt.select(\n",
    "    F.substring('value', 1,2).alias('COUNTRY_CODE'),\n",
    "    F.substring('value', 4,61).alias('COUNTRY_NAME')\n",
    ")\n",
    "\n",
    "countries.printSchema()\n",
    "\n",
    "countries.show(20, False)"
   ]
  },
  {
   "cell_type": "code",
   "execution_count": 15,
   "id": "b04ba11d-e457-4e3b-87e9-1b256392bdd8",
   "metadata": {
    "scrolled": true
   },
   "outputs": [
    {
     "name": "stdout",
     "output_type": "stream",
     "text": [
      "+--------------------------------------------------+\n",
      "|value                                             |\n",
      "+--------------------------------------------------+\n",
      "|AB ALBERTA                                        |\n",
      "|AK ALASKA                                         |\n",
      "|AL ALABAMA                                        |\n",
      "|AR ARKANSAS                                       |\n",
      "|AS AMERICAN SAMOA                                 |\n",
      "|AZ ARIZONA                                        |\n",
      "|BC BRITISH COLUMBIA                               |\n",
      "|CA CALIFORNIA                                     |\n",
      "|CO COLORADO                                       |\n",
      "|CT CONNECTICUT                                    |\n",
      "|DC DISTRICT OF COLUMBIA                           |\n",
      "|DE DELAWARE                                       |\n",
      "|FL FLORIDA                                        |\n",
      "|FM MICRONESIA                                     |\n",
      "|GA GEORGIA                                        |\n",
      "|GU GUAM                                           |\n",
      "|HI HAWAII                                         |\n",
      "|IA IOWA                                           |\n",
      "|ID IDAHO                                          |\n",
      "|IL ILLINOIS                                       |\n",
      "+--------------------------------------------------+\n",
      "only showing top 20 rows\n",
      "\n"
     ]
    }
   ],
   "source": [
    "states_path = f'{directory_path}/ghcnd-states.txt'\n",
    "\n",
    "states_txt = spark.read.text(states_path)\n",
    "\n",
    "states_txt.show(20, False)"
   ]
  },
  {
   "cell_type": "code",
   "execution_count": 16,
   "id": "f4487c49-51e3-4d26-8955-0c1ecd94f49e",
   "metadata": {},
   "outputs": [
    {
     "name": "stdout",
     "output_type": "stream",
     "text": [
      "root\n",
      " |-- CODE: string (nullable = true)\n",
      " |-- NAME: string (nullable = true)\n",
      "\n",
      "+----+-----------------------------------------------+\n",
      "|CODE|NAME                                           |\n",
      "+----+-----------------------------------------------+\n",
      "|AB  |ALBERTA                                        |\n",
      "|AK  |ALASKA                                         |\n",
      "|AL  |ALABAMA                                        |\n",
      "|AR  |ARKANSAS                                       |\n",
      "|AS  |AMERICAN SAMOA                                 |\n",
      "|AZ  |ARIZONA                                        |\n",
      "|BC  |BRITISH COLUMBIA                               |\n",
      "|CA  |CALIFORNIA                                     |\n",
      "|CO  |COLORADO                                       |\n",
      "|CT  |CONNECTICUT                                    |\n",
      "|DC  |DISTRICT OF COLUMBIA                           |\n",
      "|DE  |DELAWARE                                       |\n",
      "|FL  |FLORIDA                                        |\n",
      "|FM  |MICRONESIA                                     |\n",
      "|GA  |GEORGIA                                        |\n",
      "|GU  |GUAM                                           |\n",
      "|HI  |HAWAII                                         |\n",
      "|IA  |IOWA                                           |\n",
      "|ID  |IDAHO                                          |\n",
      "|IL  |ILLINOIS                                       |\n",
      "+----+-----------------------------------------------+\n",
      "only showing top 20 rows\n",
      "\n"
     ]
    }
   ],
   "source": [
    "states = states_txt.select(\n",
    "    F.substring('value', 1,2).alias('CODE'),\n",
    "    F.substring('value', 4,47).alias('NAME')\n",
    ")\n",
    "\n",
    "states.printSchema()\n",
    "states.show(20, False)"
   ]
  },
  {
   "cell_type": "code",
   "execution_count": 17,
   "id": "56e68fba-f763-4d9a-85ed-fa9ae39fb7df",
   "metadata": {},
   "outputs": [
    {
     "name": "stdout",
     "output_type": "stream",
     "text": [
      "+---------------------------------------------+\n",
      "|value                                        |\n",
      "+---------------------------------------------+\n",
      "|ACW00011604  17.1167  -61.7833 TMAX 1949 1949|\n",
      "|ACW00011604  17.1167  -61.7833 TMIN 1949 1949|\n",
      "|ACW00011604  17.1167  -61.7833 PRCP 1949 1949|\n",
      "|ACW00011604  17.1167  -61.7833 SNOW 1949 1949|\n",
      "|ACW00011604  17.1167  -61.7833 SNWD 1949 1949|\n",
      "|ACW00011604  17.1167  -61.7833 PGTM 1949 1949|\n",
      "|ACW00011604  17.1167  -61.7833 WDFG 1949 1949|\n",
      "|ACW00011604  17.1167  -61.7833 WSFG 1949 1949|\n",
      "|ACW00011604  17.1167  -61.7833 WT03 1949 1949|\n",
      "|ACW00011604  17.1167  -61.7833 WT08 1949 1949|\n",
      "|ACW00011604  17.1167  -61.7833 WT16 1949 1949|\n",
      "|ACW00011647  17.1333  -61.7833 TMAX 1961 1961|\n",
      "|ACW00011647  17.1333  -61.7833 TMIN 1961 1961|\n",
      "|ACW00011647  17.1333  -61.7833 PRCP 1957 1970|\n",
      "|ACW00011647  17.1333  -61.7833 SNOW 1957 1970|\n",
      "|ACW00011647  17.1333  -61.7833 SNWD 1957 1970|\n",
      "|ACW00011647  17.1333  -61.7833 WT03 1961 1961|\n",
      "|ACW00011647  17.1333  -61.7833 WT16 1961 1966|\n",
      "|AE000041196  25.3330   55.5170 TMAX 1944 2025|\n",
      "|AE000041196  25.3330   55.5170 TMIN 1944 2025|\n",
      "+---------------------------------------------+\n",
      "only showing top 20 rows\n",
      "\n"
     ]
    }
   ],
   "source": [
    "inventory_path = f'{directory_path}/ghcnd-inventory.txt'\n",
    "\n",
    "inventory_txt = spark.read.text(inventory_path)\n",
    "\n",
    "inventory_txt.show(20, False)"
   ]
  },
  {
   "cell_type": "code",
   "execution_count": 18,
   "id": "f6c5a3e2-3461-4ffe-96ac-cd318f96e4f4",
   "metadata": {},
   "outputs": [
    {
     "name": "stdout",
     "output_type": "stream",
     "text": [
      "root\n",
      " |-- ID: string (nullable = true)\n",
      " |-- LATITUDE: string (nullable = true)\n",
      " |-- LONGITUDE: string (nullable = true)\n",
      " |-- ELEMENT: string (nullable = true)\n",
      " |-- FIRST_YEAR: string (nullable = true)\n",
      " |-- LAST_YEAR: string (nullable = true)\n",
      "\n",
      "+-----------+--------+---------+-------+----------+---------+\n",
      "|ID         |LATITUDE|LONGITUDE|ELEMENT|FIRST_YEAR|LAST_YEAR|\n",
      "+-----------+--------+---------+-------+----------+---------+\n",
      "|ACW00011604| 17.1167| -61.7833|TMAX   |1949      |1949     |\n",
      "|ACW00011604| 17.1167| -61.7833|TMIN   |1949      |1949     |\n",
      "|ACW00011604| 17.1167| -61.7833|PRCP   |1949      |1949     |\n",
      "|ACW00011604| 17.1167| -61.7833|SNOW   |1949      |1949     |\n",
      "|ACW00011604| 17.1167| -61.7833|SNWD   |1949      |1949     |\n",
      "|ACW00011604| 17.1167| -61.7833|PGTM   |1949      |1949     |\n",
      "|ACW00011604| 17.1167| -61.7833|WDFG   |1949      |1949     |\n",
      "|ACW00011604| 17.1167| -61.7833|WSFG   |1949      |1949     |\n",
      "|ACW00011604| 17.1167| -61.7833|WT03   |1949      |1949     |\n",
      "|ACW00011604| 17.1167| -61.7833|WT08   |1949      |1949     |\n",
      "|ACW00011604| 17.1167| -61.7833|WT16   |1949      |1949     |\n",
      "|ACW00011647| 17.1333| -61.7833|TMAX   |1961      |1961     |\n",
      "|ACW00011647| 17.1333| -61.7833|TMIN   |1961      |1961     |\n",
      "|ACW00011647| 17.1333| -61.7833|PRCP   |1957      |1970     |\n",
      "|ACW00011647| 17.1333| -61.7833|SNOW   |1957      |1970     |\n",
      "|ACW00011647| 17.1333| -61.7833|SNWD   |1957      |1970     |\n",
      "|ACW00011647| 17.1333| -61.7833|WT03   |1961      |1961     |\n",
      "|ACW00011647| 17.1333| -61.7833|WT16   |1961      |1966     |\n",
      "|AE000041196| 25.3330|  55.5170|TMAX   |1944      |2025     |\n",
      "|AE000041196| 25.3330|  55.5170|TMIN   |1944      |2025     |\n",
      "+-----------+--------+---------+-------+----------+---------+\n",
      "only showing top 20 rows\n",
      "\n"
     ]
    }
   ],
   "source": [
    "inventory = inventory_txt.select(\n",
    "    F.substring('value', 1,11).alias('ID'),\n",
    "    F.substring('value', 13,8).alias('LATITUDE'),\n",
    "    F.substring('value', 22,9).alias('LONGITUDE'),\n",
    "    F.substring('value', 32,4).alias('ELEMENT'),\n",
    "    F.substring('value', 37,4).alias('FIRST_YEAR'),\n",
    "    F.substring('value', 42,4).alias('LAST_YEAR'),    \n",
    ")\n",
    "\n",
    "inventory.printSchema()\n",
    "inventory.show(20, False)"
   ]
  },
  {
   "cell_type": "code",
   "execution_count": 19,
   "id": "635ec50a-ac00-4820-8d7e-f482fcba5208",
   "metadata": {},
   "outputs": [
    {
     "name": "stdout",
     "output_type": "stream",
     "text": [
      "daily:\n",
      "+-----------+----------+-------+-----+-----------+-------+------+----+-------------------+\n",
      "|ID         |DATE      |ELEMENT|VALUE|MEASUREMENT|QUALITY|SOURCE|TIME|DATETIME           |\n",
      "+-----------+----------+-------+-----+-----------+-------+------+----+-------------------+\n",
      "|ASN00030019|2010-01-01|PRCP   |24.0 |NULL       |NULL   |a     |NULL|2010-01-01 00:00:00|\n",
      "|ASN00030021|2010-01-01|PRCP   |200.0|NULL       |NULL   |a     |NULL|2010-01-01 00:00:00|\n",
      "|ASN00030022|2010-01-01|TMAX   |294.0|NULL       |NULL   |a     |NULL|2010-01-01 00:00:00|\n",
      "|ASN00030022|2010-01-01|TMIN   |215.0|NULL       |NULL   |a     |NULL|2010-01-01 00:00:00|\n",
      "|ASN00030022|2010-01-01|PRCP   |408.0|NULL       |NULL   |a     |NULL|2010-01-01 00:00:00|\n",
      "+-----------+----------+-------+-----+-----------+-------+------+----+-------------------+\n",
      "only showing top 5 rows\n",
      "\n",
      "stations:\n",
      "+-----------+--------+---------+---------+-----+------------------------------+---+------------+------+\n",
      "|ID         |LATITUDE|LONGITUDE|ELEVATION|STATE|NAME                          |GSN|HCN_CRN_FLAG|WMO_ID|\n",
      "+-----------+--------+---------+---------+-----+------------------------------+---+------------+------+\n",
      "|ACW00011604|17.1167 |-61.7833 |10.1     |     |ST JOHNS COOLIDGE FLD         |   |            |NULL  |\n",
      "|ACW00011647|17.1333 |-61.7833 |19.2     |     |ST JOHNS                      |   |            |NULL  |\n",
      "|AE000041196|25.333  |55.517   |34.0     |     |SHARJAH INTER. AIRP           |GSN|            |41196 |\n",
      "|AEM00041194|25.255  |55.364   |10.4     |     |DUBAI INTL                    |   |            |41194 |\n",
      "|AEM00041217|24.433  |54.651   |26.8     |     |ABU DHABI INTL                |   |            |41217 |\n",
      "+-----------+--------+---------+---------+-----+------------------------------+---+------------+------+\n",
      "only showing top 5 rows\n",
      "\n",
      "countries:\n",
      "+------------+---------------------+\n",
      "|COUNTRY_CODE|COUNTRY_NAME         |\n",
      "+------------+---------------------+\n",
      "|AC          |Antigua and Barbuda  |\n",
      "|AE          |United Arab Emirates |\n",
      "|AF          |Afghanistan          |\n",
      "|AG          |Algeria              |\n",
      "|AJ          |Azerbaijan           |\n",
      "+------------+---------------------+\n",
      "only showing top 5 rows\n",
      "\n",
      "states:\n",
      "+----+-----------------------------------------------+\n",
      "|CODE|NAME                                           |\n",
      "+----+-----------------------------------------------+\n",
      "|AB  |ALBERTA                                        |\n",
      "|AK  |ALASKA                                         |\n",
      "|AL  |ALABAMA                                        |\n",
      "|AR  |ARKANSAS                                       |\n",
      "|AS  |AMERICAN SAMOA                                 |\n",
      "+----+-----------------------------------------------+\n",
      "only showing top 5 rows\n",
      "\n",
      "inventory:\n",
      "+-----------+--------+---------+-------+----------+---------+\n",
      "|ID         |LATITUDE|LONGITUDE|ELEMENT|FIRST_YEAR|LAST_YEAR|\n",
      "+-----------+--------+---------+-------+----------+---------+\n",
      "|ACW00011604| 17.1167| -61.7833|TMAX   |1949      |1949     |\n",
      "|ACW00011604| 17.1167| -61.7833|TMIN   |1949      |1949     |\n",
      "|ACW00011604| 17.1167| -61.7833|PRCP   |1949      |1949     |\n",
      "|ACW00011604| 17.1167| -61.7833|SNOW   |1949      |1949     |\n",
      "|ACW00011604| 17.1167| -61.7833|SNWD   |1949      |1949     |\n",
      "+-----------+--------+---------+-------+----------+---------+\n",
      "only showing top 5 rows\n",
      "\n"
     ]
    }
   ],
   "source": [
    "print('daily:')\n",
    "daily.show(5,False)\n",
    "print('stations:')\n",
    "stations.show(5,False)\n",
    "print('countries:')\n",
    "countries.show(5,False)\n",
    "print('states:')\n",
    "states.show(5,False)\n",
    "print('inventory:')\n",
    "inventory.show(5,False)"
   ]
  },
  {
   "cell_type": "code",
   "execution_count": 20,
   "id": "0f016e69-3017-4778-8a98-ed121d1c735a",
   "metadata": {},
   "outputs": [
    {
     "name": "stdout",
     "output_type": "stream",
     "text": [
      "Inventory: 766784\n",
      "Stations: 129657\n",
      "Countries: 219\n",
      "States: 74\n"
     ]
    }
   ],
   "source": [
    "print(f'Inventory: {inventory.count()}')\n",
    "print(f'Stations: {stations.count()}')\n",
    "print(f'Countries: {countries.count()}')\n",
    "print(f'States: {states.count()}')"
   ]
  },
  {
   "cell_type": "code",
   "execution_count": 21,
   "id": "e2c32740-20ad-4389-ad35-14e33dbf3b6e",
   "metadata": {},
   "outputs": [],
   "source": [
    "# print(f'daily row count: {daily.count()}')"
   ]
  },
  {
   "cell_type": "markdown",
   "id": "bf788e49-dbb7-486e-9365-5a25339ded1b",
   "metadata": {},
   "source": [
    "# Question 3"
   ]
  },
  {
   "cell_type": "code",
   "execution_count": 22,
   "id": "653985d4-4b25-4178-ad60-d12ec4de3ef9",
   "metadata": {},
   "outputs": [
    {
     "name": "stdout",
     "output_type": "stream",
     "text": [
      "+-----------+--------+---------+---------+-----+------------------------------+---+------------+------+\n",
      "|ID         |LATITUDE|LONGITUDE|ELEVATION|STATE|NAME                          |GSN|HCN_CRN_FLAG|WMO_ID|\n",
      "+-----------+--------+---------+---------+-----+------------------------------+---+------------+------+\n",
      "|ACW00011604|17.1167 |-61.7833 |10.1     |     |ST JOHNS COOLIDGE FLD         |   |            |NULL  |\n",
      "|ACW00011647|17.1333 |-61.7833 |19.2     |     |ST JOHNS                      |   |            |NULL  |\n",
      "|AE000041196|25.333  |55.517   |34.0     |     |SHARJAH INTER. AIRP           |GSN|            |41196 |\n",
      "|AEM00041194|25.255  |55.364   |10.4     |     |DUBAI INTL                    |   |            |41194 |\n",
      "|AEM00041217|24.433  |54.651   |26.8     |     |ABU DHABI INTL                |   |            |41217 |\n",
      "|AEM00041218|24.262  |55.609   |264.9    |     |AL AIN INTL                   |   |            |41218 |\n",
      "|AF000040930|35.317  |69.017   |3366.0   |     |NORTH-SALANG                  |GSN|            |40930 |\n",
      "|AFM00040938|34.21   |62.228   |977.2    |     |HERAT                         |   |            |40938 |\n",
      "|AFM00040948|34.566  |69.212   |1791.3   |     |KABUL INTL                    |   |            |40948 |\n",
      "|AFM00040990|31.5    |65.85    |1010.0   |     |KANDAHAR AIRPORT              |   |            |40990 |\n",
      "|AG000060390|36.7167 |3.25     |24.0     |     |ALGER-DAR EL BEIDA            |GSN|            |60390 |\n",
      "|AG000060590|30.5667 |2.8667   |397.0    |     |EL-GOLEA                      |GSN|            |60590 |\n",
      "|AG000060611|28.05   |9.6331   |561.0    |     |IN-AMENAS                     |GSN|            |60611 |\n",
      "|AG000060680|22.8    |5.4331   |1362.0   |     |TAMANRASSET                   |GSN|            |60680 |\n",
      "|AGE00135039|35.7297 |0.65     |50.0     |     |ORAN-HOPITAL MILITAIRE        |   |            |NULL  |\n",
      "|AGE00147704|36.97   |7.79     |161.0    |     |ANNABA-CAP DE GARDE           |   |            |NULL  |\n",
      "|AGE00147705|36.78   |3.07     |59.0     |     |ALGIERS-VILLE/UNIVERSITE      |   |            |NULL  |\n",
      "|AGE00147706|36.8    |3.03     |344.0    |     |ALGIERS-BOUZAREAH             |   |            |NULL  |\n",
      "|AGE00147707|36.8    |3.04     |38.0     |     |ALGIERS-CAP CAXINE            |   |            |NULL  |\n",
      "|AGE00147708|36.72   |4.05     |222.0    |     |TIZI OUZOU                    |   |            |60395 |\n",
      "+-----------+--------+---------+---------+-----+------------------------------+---+------------+------+\n",
      "only showing top 20 rows\n",
      "\n"
     ]
    }
   ],
   "source": [
    "stations.show(20, False)"
   ]
  },
  {
   "cell_type": "code",
   "execution_count": 23,
   "id": "0eb16af2-0e0d-4b5f-8a21-2e441cba4bd9",
   "metadata": {},
   "outputs": [
    {
     "name": "stdout",
     "output_type": "stream",
     "text": [
      "+-----------+--------+---------+---------+-----+------------------------------+---+------------+------+------------+\n",
      "|ID         |LATITUDE|LONGITUDE|ELEVATION|STATE|STATION_NAME                  |GSN|HCN_CRN_FLAG|WMO_ID|COUNTRY_CODE|\n",
      "+-----------+--------+---------+---------+-----+------------------------------+---+------------+------+------------+\n",
      "|ACW00011604|17.1167 |-61.7833 |10.1     |     |ST JOHNS COOLIDGE FLD         |   |            |NULL  |AC          |\n",
      "|ACW00011647|17.1333 |-61.7833 |19.2     |     |ST JOHNS                      |   |            |NULL  |AC          |\n",
      "|AE000041196|25.333  |55.517   |34.0     |     |SHARJAH INTER. AIRP           |GSN|            |41196 |AE          |\n",
      "|AEM00041194|25.255  |55.364   |10.4     |     |DUBAI INTL                    |   |            |41194 |AE          |\n",
      "|AEM00041217|24.433  |54.651   |26.8     |     |ABU DHABI INTL                |   |            |41217 |AE          |\n",
      "+-----------+--------+---------+---------+-----+------------------------------+---+------------+------+------------+\n",
      "only showing top 5 rows\n",
      "\n"
     ]
    }
   ],
   "source": [
    "stations = stations.withColumn(\n",
    "    'COUNTRY_CODE',\n",
    "    F.substring('ID', 1, 2)\n",
    ").withColumnRenamed('NAME', 'STATION_NAME')\n",
    "\n",
    "stations.show(5, False)"
   ]
  },
  {
   "cell_type": "code",
   "execution_count": 24,
   "id": "f772fb7d-26c1-4196-b04f-7b2a7b7a733d",
   "metadata": {},
   "outputs": [
    {
     "name": "stdout",
     "output_type": "stream",
     "text": [
      "+------------+---------------------+\n",
      "|COUNTRY_CODE|COUNTRY_NAME         |\n",
      "+------------+---------------------+\n",
      "|AC          |Antigua and Barbuda  |\n",
      "|AE          |United Arab Emirates |\n",
      "|AF          |Afghanistan          |\n",
      "|AG          |Algeria              |\n",
      "|AJ          |Azerbaijan           |\n",
      "+------------+---------------------+\n",
      "only showing top 5 rows\n",
      "\n"
     ]
    }
   ],
   "source": [
    "countries.show(5, False)"
   ]
  },
  {
   "cell_type": "code",
   "execution_count": 25,
   "id": "1f2c183b-8e3a-4a43-8d89-fff1ac4154f8",
   "metadata": {},
   "outputs": [
    {
     "name": "stdout",
     "output_type": "stream",
     "text": [
      "+------------+-----------+--------+---------+---------+-----+------------------------------+---+------------+------+--------------+\n",
      "|COUNTRY_CODE|ID         |LATITUDE|LONGITUDE|ELEVATION|STATE|STATION_NAME                  |GSN|HCN_CRN_FLAG|WMO_ID|COUNTRY_NAME  |\n",
      "+------------+-----------+--------+---------+---------+-----+------------------------------+---+------------+------+--------------+\n",
      "|BR          |BR00F4-0570|-24.6   |-47.32   |5.0      |     |PRELADO                       |   |            |NULL  |Brazil        |\n",
      "|SF          |SF002041380|-30.3   |27.08    |1661.0   |     |ZASTRON (TNK)                 |   |            |NULL  |South Africa  |\n",
      "|AS          |ASN00032056|-17.4667|146.0    |-999.9   |     |GARRADUNGA POST OFFICE        |   |            |NULL  |Australia     |\n",
      "|US          |US1FLBV0092|28.2045 |-80.6012 |4.6      |FL   |SATELLITE BEACH 2.0 N         |   |            |NULL  |United States |\n",
      "|US          |US1PACLM007|40.9929 |-76.415  |284.1    |PA   |ESPY 0.8 S                    |   |            |NULL  |United States |\n",
      "|AS          |ASN00008291|-30.5475|116.3981 |280.0    |     |SOUTH MERIDALE                |   |            |NULL  |Australia     |\n",
      "|US          |USW00013766|35.9172 |-75.7    |4.0      |NC   |MANTEO AP                     |   |            |NULL  |United States |\n",
      "|US          |US1MNPK0027|47.6609 |-96.0095 |366.7    |MN   |ERSKINE 0.4 SE                |   |            |NULL  |United States |\n",
      "|US          |US1MOSL0076|38.4692 |-90.3496 |172.8    |MO   |OAKVILLE 2.5 NW               |   |            |NULL  |United States |\n",
      "|MX          |MXN00016031|19.9667 |-102.25  |1588.9   |     |CHAPARACO                     |   |            |NULL  |Mexico        |\n",
      "|US          |USR0000MLIH|45.5697 |-107.4358|1036.3   |MT   |LITTLE BIGHORN MONTANA        |   |            |NULL  |United States |\n",
      "|US          |US1KSSG0140|37.6668 |-97.6829 |445.9    |KS   |GARDEN PLAIN 0.4 N            |   |            |NULL  |United States |\n",
      "|US          |USS0007K02S|39.88   |-107.6   |2865.1   |CO   |Burro Mountain                |   |            |NULL  |United States |\n",
      "|SW          |SWE00139654|61.62   |17.44    |8.0      |     |HOLICK                        |   |            |NULL  |Sweden        |\n",
      "|US          |US1MSHC0009|30.4649 |-89.4324 |27.4     |MS   |KILN 3.3 N                    |   |            |NULL  |United States |\n",
      "|US          |US1AZPN0020|33.396  |-111.5807|485.2    |AZ   |APACHE JUNCTION 2.5 WSW       |   |            |NULL  |United States |\n",
      "|US          |US10lanc022|40.6974 |-96.6855 |367.9    |NE   |ROCA 3.1 NW                   |   |            |NULL  |United States |\n",
      "|US          |US1NMSJ0003|36.6769 |-108.0371|1665.1   |NM   |BLOOMFIELD 4.1 SW             |   |            |NULL  |United States |\n",
      "|CA          |CA1NS000086|45.7699 |-64.218  |33.2     |NS   |NAPPAN 1.7 E                  |   |            |NULL  |Canada        |\n",
      "|US          |USW00012858|24.5667 |-81.8    |7.9      |FL   |KEY WEST                      |   |            |NULL  |United States |\n",
      "+------------+-----------+--------+---------+---------+-----+------------------------------+---+------------+------+--------------+\n",
      "only showing top 20 rows\n",
      "\n"
     ]
    },
    {
     "name": "stderr",
     "output_type": "stream",
     "text": [
      "                                                                                "
     ]
    }
   ],
   "source": [
    "stations_with_country = stations.join(\n",
    "    countries,\n",
    "    on=\"COUNTRY_CODE\",\n",
    "    how=\"left\"\n",
    ")\n",
    "\n",
    "stations_with_country.orderBy(F.rand()).show(20, False)"
   ]
  },
  {
   "cell_type": "code",
   "execution_count": 26,
   "id": "4eadb1be-d07a-4bb4-aa33-1b7ab658b3a2",
   "metadata": {},
   "outputs": [
    {
     "name": "stdout",
     "output_type": "stream",
     "text": [
      "+------------+-----------+--------+---------+---------+-----+------------------------------+---+------------+------+---------------------+\n",
      "|COUNTRY_CODE|ID         |LATITUDE|LONGITUDE|ELEVATION|STATE|STATION_NAME                  |GSN|HCN_CRN_FLAG|WMO_ID|COUNTRY_NAME         |\n",
      "+------------+-----------+--------+---------+---------+-----+------------------------------+---+------------+------+---------------------+\n",
      "|AC          |ACW00011604|17.1167 |-61.7833 |10.1     |     |ST JOHNS COOLIDGE FLD         |   |            |NULL  |Antigua and Barbuda  |\n",
      "|AC          |ACW00011647|17.1333 |-61.7833 |19.2     |     |ST JOHNS                      |   |            |NULL  |Antigua and Barbuda  |\n",
      "|AE          |AE000041196|25.333  |55.517   |34.0     |     |SHARJAH INTER. AIRP           |GSN|            |41196 |United Arab Emirates |\n",
      "|AE          |AEM00041194|25.255  |55.364   |10.4     |     |DUBAI INTL                    |   |            |41194 |United Arab Emirates |\n",
      "|AE          |AEM00041217|24.433  |54.651   |26.8     |     |ABU DHABI INTL                |   |            |41217 |United Arab Emirates |\n",
      "|AE          |AEM00041218|24.262  |55.609   |264.9    |     |AL AIN INTL                   |   |            |41218 |United Arab Emirates |\n",
      "|AF          |AF000040930|35.317  |69.017   |3366.0   |     |NORTH-SALANG                  |GSN|            |40930 |Afghanistan          |\n",
      "|AF          |AFM00040938|34.21   |62.228   |977.2    |     |HERAT                         |   |            |40938 |Afghanistan          |\n",
      "|AF          |AFM00040948|34.566  |69.212   |1791.3   |     |KABUL INTL                    |   |            |40948 |Afghanistan          |\n",
      "|AF          |AFM00040990|31.5    |65.85    |1010.0   |     |KANDAHAR AIRPORT              |   |            |40990 |Afghanistan          |\n",
      "|AG          |AG000060390|36.7167 |3.25     |24.0     |     |ALGER-DAR EL BEIDA            |GSN|            |60390 |Algeria              |\n",
      "|AG          |AG000060590|30.5667 |2.8667   |397.0    |     |EL-GOLEA                      |GSN|            |60590 |Algeria              |\n",
      "|AG          |AG000060611|28.05   |9.6331   |561.0    |     |IN-AMENAS                     |GSN|            |60611 |Algeria              |\n",
      "|AG          |AG000060680|22.8    |5.4331   |1362.0   |     |TAMANRASSET                   |GSN|            |60680 |Algeria              |\n",
      "|AG          |AGE00135039|35.7297 |0.65     |50.0     |     |ORAN-HOPITAL MILITAIRE        |   |            |NULL  |Algeria              |\n",
      "|AG          |AGE00147704|36.97   |7.79     |161.0    |     |ANNABA-CAP DE GARDE           |   |            |NULL  |Algeria              |\n",
      "|AG          |AGE00147705|36.78   |3.07     |59.0     |     |ALGIERS-VILLE/UNIVERSITE      |   |            |NULL  |Algeria              |\n",
      "|AG          |AGE00147706|36.8    |3.03     |344.0    |     |ALGIERS-BOUZAREAH             |   |            |NULL  |Algeria              |\n",
      "|AG          |AGE00147707|36.8    |3.04     |38.0     |     |ALGIERS-CAP CAXINE            |   |            |NULL  |Algeria              |\n",
      "|AG          |AGE00147708|36.72   |4.05     |222.0    |     |TIZI OUZOU                    |   |            |60395 |Algeria              |\n",
      "+------------+-----------+--------+---------+---------+-----+------------------------------+---+------------+------+---------------------+\n",
      "only showing top 20 rows\n",
      "\n"
     ]
    }
   ],
   "source": [
    "stations_with_country.filter((F.col('STATE').isNotNull()) & (F.col('STATE') != '')).show(20, False)"
   ]
  },
  {
   "cell_type": "code",
   "execution_count": 28,
   "id": "70cd3be7-b261-4c26-83b3-c83526bf440d",
   "metadata": {},
   "outputs": [
    {
     "name": "stdout",
     "output_type": "stream",
     "text": [
      "+----------+------------+-----------+--------+---------+---------+------------------------------+---+------------+------+---------------------+----------+\n",
      "|STATE_CODE|COUNTRY_CODE|ID         |LATITUDE|LONGITUDE|ELEVATION|STATION_NAME                  |GSN|HCN_CRN_FLAG|WMO_ID|COUNTRY_NAME         |STATE_NAME|\n",
      "+----------+------------+-----------+--------+---------+---------+------------------------------+---+------------+------+---------------------+----------+\n",
      "|          |AC          |ACW00011604|17.1167 |-61.7833 |10.1     |ST JOHNS COOLIDGE FLD         |   |            |NULL  |Antigua and Barbuda  |NULL      |\n",
      "|          |AC          |ACW00011647|17.1333 |-61.7833 |19.2     |ST JOHNS                      |   |            |NULL  |Antigua and Barbuda  |NULL      |\n",
      "|          |AE          |AE000041196|25.333  |55.517   |34.0     |SHARJAH INTER. AIRP           |GSN|            |41196 |United Arab Emirates |NULL      |\n",
      "|          |AE          |AEM00041194|25.255  |55.364   |10.4     |DUBAI INTL                    |   |            |41194 |United Arab Emirates |NULL      |\n",
      "|          |AE          |AEM00041217|24.433  |54.651   |26.8     |ABU DHABI INTL                |   |            |41217 |United Arab Emirates |NULL      |\n",
      "+----------+------------+-----------+--------+---------+---------+------------------------------+---+------------+------+---------------------+----------+\n",
      "only showing top 5 rows\n",
      "\n"
     ]
    }
   ],
   "source": [
    "stations_country_states = stations_with_country.withColumnRenamed('STATE', 'STATE_CODE').join(\n",
    "        states.withColumnRenamed('CODE', 'STATE_CODE').withColumnRenamed('NAME', 'STATE_NAME'),\n",
    "        on=\"STATE_CODE\",\n",
    "        how=\"left\"\n",
    "    )\n",
    "\n",
    "stations_country_states.filter(F.col('STATE_CODE') != \"\").show(5, False)"
   ]
  },
  {
   "cell_type": "code",
   "execution_count": 29,
   "id": "e6d18bc0-a5c9-4ecf-b513-1d64d24f89e6",
   "metadata": {},
   "outputs": [
    {
     "name": "stdout",
     "output_type": "stream",
     "text": [
      "+----------+------------+-----------+--------+---------+---------+------------------------------+---+------------+------+--------------+-----------------------------------------------+\n",
      "|STATE_CODE|COUNTRY_CODE|ID         |LATITUDE|LONGITUDE|ELEVATION|STATION_NAME                  |GSN|HCN_CRN_FLAG|WMO_ID|COUNTRY_NAME  |STATE_NAME                                     |\n",
      "+----------+------------+-----------+--------+---------+---------+------------------------------+---+------------+------+--------------+-----------------------------------------------+\n",
      "|PA        |US          |USC00366195|40.8778 |-75.7808 |285.3    |NESQUEHONING 2 NE             |   |            |NULL  |United States |PENNSYLVANIA                                   |\n",
      "|NE        |US          |US1NEDG0063|41.3175 |-96.144  |344.1    |OMAHA 7.8 WNW                 |   |            |NULL  |United States |NEBRASKA                                       |\n",
      "|IA        |US          |US1IAPK0119|41.6418 |-93.6846 |274.0    |DES MOINES 5.7 NW             |   |            |NULL  |United States |IOWA                                           |\n",
      "|          |BR          |BR036161480|-5.57   |-46.77   |300.0    |AMARANTE DO MARANHAO          |   |            |NULL  |Brazil        |NULL                                           |\n",
      "|          |IN          |IN020132100|11.03   |78.8     |192.0    |SIRUGANUR                     |   |            |NULL  |India         |NULL                                           |\n",
      "|          |MX          |MXN00010118|25.25   |-104.6667|1375.9   |E.T.A. 015 ABASOLO            |   |            |NULL  |Mexico        |NULL                                           |\n",
      "|PA        |US          |US1PACM0009|40.6515 |-78.555  |463.0    |PATTON 5.1 ENE                |   |            |NULL  |United States |PENNSYLVANIA                                   |\n",
      "|MN        |US          |US1MNWC0019|44.1874 |-93.6531 |317.9    |JANESVILLE 5.4 NNE            |   |            |NULL  |United States |MINNESOTA                                      |\n",
      "|MD        |US          |US1MDCR0019|39.4037 |-76.9343 |183.5    |ELDERSBURG 0.9 E              |   |            |NULL  |United States |MARYLAND                                       |\n",
      "|AL        |US          |US1ALJF0070|33.624  |-86.6513 |300.2    |CENTER POINT 2.1 SE           |   |            |NULL  |United States |ALABAMA                                        |\n",
      "|          |BR          |BR00F5-0170|-24.13  |-48.97   |700.0    |USINA SAO JOSE                |   |            |NULL  |Brazil        |NULL                                           |\n",
      "|          |AS          |ASN00036053|-23.0167|146.2    |-999.9   |SPECULATION STATION           |   |            |NULL  |Australia     |NULL                                           |\n",
      "|          |SF          |SF003314740|-28.4   |28.27    |1890.0   |HIGHLANDS                     |   |            |NULL  |South Africa  |NULL                                           |\n",
      "|          |BR          |BR000844008|-8.79   |-44.21   |240.0    |CRISTINO CASTRO II            |   |            |NULL  |Brazil        |NULL                                           |\n",
      "|MI        |US          |USC00202000|43.1    |-83.5167 |228.9    |DAVISON 5 N                   |   |            |NULL  |United States |MICHIGAN                                       |\n",
      "|DC        |US          |US1DCDC0003|38.9377 |-77.0991 |91.1     |WASHINGTON 5.0 WNW            |   |            |NULL  |United States |DISTRICT OF COLUMBIA                           |\n",
      "|          |BR          |BR008167000|1.07    |-67.59   |90.0     |MISSAO ICANA                  |   |            |NULL  |Brazil        |NULL                                           |\n",
      "|ON        |CA          |CA1ON000155|43.1549 |-81.7021 |200.3    |PARKHILL 2.0 SW               |   |            |NULL  |Canada        |ONTARIO                                        |\n",
      "|UT        |US          |USC00424217|40.4    |-112.7167|1341.1   |INDIAN FARM                   |   |            |NULL  |United States |UTAH                                           |\n",
      "|          |AJ          |AJ000037747|40.617  |47.15    |15.0     |EVLAKH AIRPORT                |   |            |37747 |Azerbaijan    |NULL                                           |\n",
      "+----------+------------+-----------+--------+---------+---------+------------------------------+---+------------+------+--------------+-----------------------------------------------+\n",
      "only showing top 20 rows\n",
      "\n"
     ]
    }
   ],
   "source": [
    "stations_country_states.orderBy(F.rand()).show(20, False)"
   ]
  },
  {
   "cell_type": "code",
   "execution_count": 30,
   "id": "4c04cf15-b872-4dae-945f-a7b0df9afeb5",
   "metadata": {},
   "outputs": [
    {
     "name": "stdout",
     "output_type": "stream",
     "text": [
      "+-----------+--------+---------+-------+----------+---------+\n",
      "|ID         |LATITUDE|LONGITUDE|ELEMENT|FIRST_YEAR|LAST_YEAR|\n",
      "+-----------+--------+---------+-------+----------+---------+\n",
      "|ACW00011604| 17.1167| -61.7833|TMAX   |1949      |1949     |\n",
      "|ACW00011604| 17.1167| -61.7833|TMIN   |1949      |1949     |\n",
      "|ACW00011604| 17.1167| -61.7833|PRCP   |1949      |1949     |\n",
      "|ACW00011604| 17.1167| -61.7833|SNOW   |1949      |1949     |\n",
      "|ACW00011604| 17.1167| -61.7833|SNWD   |1949      |1949     |\n",
      "|ACW00011604| 17.1167| -61.7833|PGTM   |1949      |1949     |\n",
      "|ACW00011604| 17.1167| -61.7833|WDFG   |1949      |1949     |\n",
      "|ACW00011604| 17.1167| -61.7833|WSFG   |1949      |1949     |\n",
      "|ACW00011604| 17.1167| -61.7833|WT03   |1949      |1949     |\n",
      "|ACW00011604| 17.1167| -61.7833|WT08   |1949      |1949     |\n",
      "|ACW00011604| 17.1167| -61.7833|WT16   |1949      |1949     |\n",
      "|ACW00011647| 17.1333| -61.7833|TMAX   |1961      |1961     |\n",
      "|ACW00011647| 17.1333| -61.7833|TMIN   |1961      |1961     |\n",
      "|ACW00011647| 17.1333| -61.7833|PRCP   |1957      |1970     |\n",
      "|ACW00011647| 17.1333| -61.7833|SNOW   |1957      |1970     |\n",
      "|ACW00011647| 17.1333| -61.7833|SNWD   |1957      |1970     |\n",
      "|ACW00011647| 17.1333| -61.7833|WT03   |1961      |1961     |\n",
      "|ACW00011647| 17.1333| -61.7833|WT16   |1961      |1966     |\n",
      "|AE000041196| 25.3330|  55.5170|TMAX   |1944      |2025     |\n",
      "|AE000041196| 25.3330|  55.5170|TMIN   |1944      |2025     |\n",
      "+-----------+--------+---------+-------+----------+---------+\n",
      "only showing top 20 rows\n",
      "\n"
     ]
    }
   ],
   "source": [
    "inventory.show(20, False)"
   ]
  },
  {
   "cell_type": "code",
   "execution_count": 31,
   "id": "d212508c-4fbf-47b8-9044-f4488fc52c52",
   "metadata": {},
   "outputs": [
    {
     "name": "stderr",
     "output_type": "stream",
     "text": [
      "[Stage 43:==============>                                           (2 + 6) / 8]"
     ]
    },
    {
     "name": "stdout",
     "output_type": "stream",
     "text": [
      "+-----------+----------+---------+\n",
      "|ID         |FIRST_YEAR|LAST_YEAR|\n",
      "+-----------+----------+---------+\n",
      "|ACW00011604|1949      |1949     |\n",
      "|ACW00011647|1957      |1970     |\n",
      "|AE000041196|1944      |2025     |\n",
      "|AEM00041194|1983      |2025     |\n",
      "|AEM00041217|1983      |2025     |\n",
      "|AEM00041218|1994      |2025     |\n",
      "|AF000040930|1973      |1992     |\n",
      "|AFM00040938|1973      |2021     |\n",
      "|AFM00040948|1966      |2021     |\n",
      "|AFM00040990|1973      |2020     |\n",
      "|AG000060390|1940      |2025     |\n",
      "|AG000060590|1892      |2025     |\n",
      "|AG000060611|1958      |2025     |\n",
      "|AG000060680|1940      |2004     |\n",
      "|AGE00135039|1852      |1966     |\n",
      "|AGE00147704|1909      |1937     |\n",
      "|AGE00147705|1877      |1938     |\n",
      "|AGE00147706|1893      |1920     |\n",
      "|AGE00147707|1878      |1879     |\n",
      "|AGE00147708|1879      |2025     |\n",
      "+-----------+----------+---------+\n",
      "only showing top 20 rows\n",
      "\n"
     ]
    },
    {
     "name": "stderr",
     "output_type": "stream",
     "text": [
      "                                                                                "
     ]
    }
   ],
   "source": [
    "station_service_life = inventory.groupBy('ID').agg(\n",
    "    F.min('FIRST_YEAR').alias('FIRST_YEAR'),\n",
    "    F.max('LAST_YEAR').alias('LAST_YEAR')\n",
    ")\n",
    "\n",
    "station_service_life.show(20, False)"
   ]
  },
  {
   "cell_type": "code",
   "execution_count": 32,
   "id": "21c3663b-5876-45df-aa94-7be2fbd93080",
   "metadata": {},
   "outputs": [
    {
     "name": "stderr",
     "output_type": "stream",
     "text": [
      "[Stage 46:=====================>                                    (3 + 5) / 8]"
     ]
    },
    {
     "name": "stdout",
     "output_type": "stream",
     "text": [
      "+-----------+--------------+\n",
      "|ID         |COUNT_ELEMENTS|\n",
      "+-----------+--------------+\n",
      "|USW00014607|70            |\n",
      "|USW00013880|70            |\n",
      "|USW00023066|67            |\n",
      "|USW00013958|66            |\n",
      "|USW00093817|65            |\n",
      "|USW00024121|65            |\n",
      "|USW00093058|65            |\n",
      "|USW00014944|64            |\n",
      "|USW00024156|63            |\n",
      "|USW00024127|63            |\n",
      "|USW00024157|63            |\n",
      "|USW00014914|61            |\n",
      "|USW00025309|61            |\n",
      "|USW00094908|61            |\n",
      "|USW00094849|61            |\n",
      "|USW00013722|61            |\n",
      "|USW00093822|61            |\n",
      "|USW00026510|61            |\n",
      "|USW00003822|60            |\n",
      "|USW00003813|60            |\n",
      "+-----------+--------------+\n",
      "only showing top 20 rows\n",
      "\n"
     ]
    },
    {
     "name": "stderr",
     "output_type": "stream",
     "text": [
      "                                                                                "
     ]
    }
   ],
   "source": [
    "inventory.groupBy('ID').agg(\n",
    "    F.countDistinct('ELEMENT').alias('COUNT_ELEMENTS')\n",
    ").orderBy(F.col('COUNT_ELEMENTS').desc()).show(20, False)"
   ]
  },
  {
   "cell_type": "code",
   "execution_count": 34,
   "id": "c00fafc6-eeb3-41af-bd76-cd915b222237",
   "metadata": {},
   "outputs": [
    {
     "name": "stdout",
     "output_type": "stream",
     "text": [
      "+-----------+--------+---------+-------+----------+---------+\n",
      "|         ID|LATITUDE|LONGITUDE|ELEMENT|FIRST_YEAR|LAST_YEAR|\n",
      "+-----------+--------+---------+-------+----------+---------+\n",
      "|USW00014607| 46.8706| -68.0172|   TMAX|      1939|     2025|\n",
      "|USW00014607| 46.8706| -68.0172|   TMIN|      1939|     2025|\n",
      "|USW00014607| 46.8706| -68.0172|   TOBS|      1957|     2011|\n",
      "|USW00014607| 46.8706| -68.0172|   PRCP|      1939|     2025|\n",
      "|USW00014607| 46.8706| -68.0172|   SNOW|      1939|     2025|\n",
      "|USW00014607| 46.8706| -68.0172|   SNWD|      1939|     2025|\n",
      "|USW00014607| 46.8706| -68.0172|   ACSH|      1965|     1996|\n",
      "|USW00014607| 46.8706| -68.0172|   ADPT|      2006|     2024|\n",
      "|USW00014607| 46.8706| -68.0172|   ASLP|      2006|     2024|\n",
      "|USW00014607| 46.8706| -68.0172|   ASTP|      2006|     2024|\n",
      "|USW00014607| 46.8706| -68.0172|   AWBT|      2006|     2024|\n",
      "|USW00014607| 46.8706| -68.0172|   AWND|      1984|     2025|\n",
      "|USW00014607| 46.8706| -68.0172|   DAEV|      1963|     1996|\n",
      "|USW00014607| 46.8706| -68.0172|   DAWM|      1963|     2003|\n",
      "|USW00014607| 46.8706| -68.0172|   EVAP|      1963|     2025|\n",
      "|USW00014607| 46.8706| -68.0172|   FMTM|      1989|     2011|\n",
      "|USW00014607| 46.8706| -68.0172|   FRGB|      1964|     1964|\n",
      "|USW00014607| 46.8706| -68.0172|   FRGT|      1962|     1964|\n",
      "|USW00014607| 46.8706| -68.0172|   FRTH|      1964|     1964|\n",
      "|USW00014607| 46.8706| -68.0172|   GAHT|      1964|     1964|\n",
      "+-----------+--------+---------+-------+----------+---------+\n",
      "only showing top 20 rows\n",
      "\n"
     ]
    }
   ],
   "source": [
    "inventory.filter(F.col('ID') == 'USW00014607').show()"
   ]
  },
  {
   "cell_type": "markdown",
   "id": "aa063df6-90db-41c8-855f-c23d99e123cb",
   "metadata": {},
   "source": [
    "### Question 3(d)"
   ]
  },
  {
   "cell_type": "code",
   "execution_count": 35,
   "id": "0ef29020-02e0-4d96-813f-92a0f63b0ddd",
   "metadata": {},
   "outputs": [],
   "source": [
    "def get_element_counts(elements):\n",
    "    \"\"\"\n",
    "    Returns dict with count of core and other elements\n",
    "\n",
    "    Parameters\n",
    "    ----------\n",
    "    elements: list of strings\n",
    "\n",
    "    Returns\n",
    "    -------\n",
    "    dict { \"num_core\": number, \"num_other\": number }    \n",
    "    \n",
    "    \"\"\"    \n",
    "    \n",
    "    CORE_ELEMENTS = {'PRCP','SNOW','SNWD','TMAX','TMIN'}   \n",
    "\n",
    "    elements_set = set(elements)\n",
    "    \n",
    "    return {\n",
    "        \"num_core\": len(elements_set & CORE_ELEMENTS),\n",
    "        \"num_other\": len(elements_set - CORE_ELEMENTS)\n",
    "    }\n",
    "\n",
    "get_element_counts_udf = F.udf(get_element_counts, StructType([\n",
    "    StructField(\"num_core\", IntegerType()),\n",
    "    StructField(\"num_other\", IntegerType())\n",
    "]))\n"
   ]
  },
  {
   "cell_type": "code",
   "execution_count": 36,
   "id": "25d19eb1-8f60-4895-a958-8912f79205b1",
   "metadata": {},
   "outputs": [
    {
     "name": "stderr",
     "output_type": "stream",
     "text": [
      "[Stage 55:=============================>                            (4 + 4) / 8]"
     ]
    },
    {
     "name": "stdout",
     "output_type": "stream",
     "text": [
      "+-----------+------------------------------+-----------------+------------------+\n",
      "|ID         |ELEMENTS                      |NUM_CORE_ELEMENTS|NUM_OTHER_ELEMENTS|\n",
      "+-----------+------------------------------+-----------------+------------------+\n",
      "|AE000041196|[TMAX, TMIN, PRCP, TAVG]      |3                |1                 |\n",
      "|AEM00041218|[TMAX, TMIN, PRCP, TAVG]      |3                |1                 |\n",
      "|AF000040930|[TMAX, TMIN, PRCP, SNWD, TAVG]|4                |1                 |\n",
      "|AG000060590|[TMAX, TMIN, PRCP, TAVG]      |3                |1                 |\n",
      "|AGE00147704|[TMAX, TMIN, PRCP]            |3                |0                 |\n",
      "|AGE00147705|[TMAX, TMIN, PRCP]            |3                |0                 |\n",
      "|AGE00147706|[TMAX, TMIN, PRCP]            |3                |0                 |\n",
      "|AGE00147708|[TMAX, TMIN, PRCP, SNWD, TAVG]|4                |1                 |\n",
      "|AGE00147709|[TMAX, TMIN, PRCP]            |3                |0                 |\n",
      "|AGE00147714|[TMAX, TMIN, PRCP]            |3                |0                 |\n",
      "|AGE00147715|[TMAX, TMIN, PRCP]            |3                |0                 |\n",
      "|AGE00147716|[TMAX, TMIN, PRCP, TAVG]      |3                |1                 |\n",
      "|AGE00147717|[TMAX, TMIN, PRCP]            |3                |0                 |\n",
      "|AGE00147719|[TMAX, TMIN, PRCP, TAVG]      |3                |1                 |\n",
      "|AGM00060360|[TMAX, TMIN, PRCP, TAVG]      |3                |1                 |\n",
      "|AGM00060367|[TMAX, TMIN, PRCP, TAVG]      |3                |1                 |\n",
      "|AGM00060405|[TMAX, TMIN, PRCP, TAVG]      |3                |1                 |\n",
      "|AGM00060423|[TMAX, TMIN, PRCP, SNWD, TAVG]|4                |1                 |\n",
      "|AGM00060425|[TMAX, TMIN, PRCP, SNWD, TAVG]|4                |1                 |\n",
      "|AGM00060430|[TMAX, TMIN, PRCP, SNWD, TAVG]|4                |1                 |\n",
      "+-----------+------------------------------+-----------------+------------------+\n",
      "only showing top 20 rows\n",
      "\n"
     ]
    },
    {
     "name": "stderr",
     "output_type": "stream",
     "text": [
      "                                                                                "
     ]
    }
   ],
   "source": [
    "inventory_with_counts = (\n",
    "    inventory.groupBy('ID')\n",
    "    .agg(F.collect_list('ELEMENT').alias('ELEMENTS'))\n",
    "    .withColumn('ELEMENT_COUNTS', get_element_counts_udf('ELEMENTS'))\n",
    "    .select(\n",
    "        'ID',\n",
    "        'ELEMENTS',\n",
    "        F.col('ELEMENT_COUNTS.num_core').alias('NUM_CORE_ELEMENTS'),\n",
    "        F.col('ELEMENT_COUNTS.num_other').alias('NUM_OTHER_ELEMENTS')\n",
    "    )\n",
    ")\n",
    "\n",
    "inventory_with_counts.show(20, False)"
   ]
  },
  {
   "cell_type": "markdown",
   "id": "0864d055-1b6a-40b3-a409-fcacd8f4dddf",
   "metadata": {},
   "source": [
    " How many stations collect all five core elements?"
   ]
  },
  {
   "cell_type": "code",
   "execution_count": 37,
   "id": "08aad618-10e6-47ec-8009-f67f2e808448",
   "metadata": {},
   "outputs": [
    {
     "name": "stdout",
     "output_type": "stream",
     "text": [
      "root\n",
      " |-- ID: string (nullable = true)\n",
      " |-- ELEMENTS: array (nullable = false)\n",
      " |    |-- element: string (containsNull = false)\n",
      " |-- NUM_CORE_ELEMENTS: integer (nullable = true)\n",
      " |-- NUM_OTHER_ELEMENTS: integer (nullable = true)\n",
      "\n"
     ]
    }
   ],
   "source": [
    "inventory_with_counts.printSchema()"
   ]
  },
  {
   "cell_type": "code",
   "execution_count": 38,
   "id": "9c286a58-a519-4fa6-8e81-f64f20ff7ca0",
   "metadata": {},
   "outputs": [
    {
     "name": "stderr",
     "output_type": "stream",
     "text": [
      "                                                                                "
     ]
    },
    {
     "data": {
      "text/plain": [
       "20504"
      ]
     },
     "execution_count": 38,
     "metadata": {},
     "output_type": "execute_result"
    }
   ],
   "source": [
    "inventory_with_counts.filter(F.col('NUM_CORE_ELEMENTS') == 5).count()"
   ]
  },
  {
   "cell_type": "markdown",
   "id": "b4c4c3b1-2974-4498-aedc-231440252438",
   "metadata": {},
   "source": [
    "How many collect only precipitation and no other elements?"
   ]
  },
  {
   "cell_type": "code",
   "execution_count": 39,
   "id": "0ddca0f1-9eb0-4812-8191-42f4b9bd40e2",
   "metadata": {},
   "outputs": [
    {
     "data": {
      "text/plain": [
       "16267"
      ]
     },
     "execution_count": 39,
     "metadata": {},
     "output_type": "execute_result"
    }
   ],
   "source": [
    "inventory_with_counts.filter(\n",
    "    (F.size('ELEMENTS') == 1) &\n",
    "    (F.array_contains(F.col('ELEMENTS'), 'PRCP'))\n",
    ").count()"
   ]
  },
  {
   "cell_type": "markdown",
   "id": "03ecf600-f6b0-4a69-b833-1904220612d4",
   "metadata": {},
   "source": [
    "## Question 3(e)"
   ]
  },
  {
   "cell_type": "code",
   "execution_count": 40,
   "id": "8ddbc00f-beae-4452-990f-a9b09e7375d8",
   "metadata": {},
   "outputs": [
    {
     "name": "stdout",
     "output_type": "stream",
     "text": [
      "+-----------+----------+------------+--------+---------+---------+------------------------------+---+------------+------+---------------------+----------+------------------------------------------+-----------------+------------------+\n",
      "|ID         |STATE_CODE|COUNTRY_CODE|LATITUDE|LONGITUDE|ELEVATION|STATION_NAME                  |GSN|HCN_CRN_FLAG|WMO_ID|COUNTRY_NAME         |STATE_NAME|ELEMENTS                                  |NUM_CORE_ELEMENTS|NUM_OTHER_ELEMENTS|\n",
      "+-----------+----------+------------+--------+---------+---------+------------------------------+---+------------+------+---------------------+----------+------------------------------------------+-----------------+------------------+\n",
      "|AE000041196|          |AE          |25.333  |55.517   |34.0     |SHARJAH INTER. AIRP           |GSN|            |41196 |United Arab Emirates |NULL      |[TMAX, TMIN, PRCP, TAVG]                  |3                |1                 |\n",
      "|AEM00041218|          |AE          |24.262  |55.609   |264.9    |AL AIN INTL                   |   |            |41218 |United Arab Emirates |NULL      |[TMAX, TMIN, PRCP, TAVG]                  |3                |1                 |\n",
      "|AF000040930|          |AF          |35.317  |69.017   |3366.0   |NORTH-SALANG                  |GSN|            |40930 |Afghanistan          |NULL      |[TMAX, TMIN, PRCP, SNWD, TAVG]            |4                |1                 |\n",
      "|AG000060590|          |AG          |30.5667 |2.8667   |397.0    |EL-GOLEA                      |GSN|            |60590 |Algeria              |NULL      |[TMAX, TMIN, PRCP, TAVG]                  |3                |1                 |\n",
      "|AGE00147704|          |AG          |36.97   |7.79     |161.0    |ANNABA-CAP DE GARDE           |   |            |NULL  |Algeria              |NULL      |[TMAX, TMIN, PRCP]                        |3                |0                 |\n",
      "|AGE00147705|          |AG          |36.78   |3.07     |59.0     |ALGIERS-VILLE/UNIVERSITE      |   |            |NULL  |Algeria              |NULL      |[TMAX, TMIN, PRCP]                        |3                |0                 |\n",
      "|AGE00147706|          |AG          |36.8    |3.03     |344.0    |ALGIERS-BOUZAREAH             |   |            |NULL  |Algeria              |NULL      |[TMAX, TMIN, PRCP]                        |3                |0                 |\n",
      "|AGE00147708|          |AG          |36.72   |4.05     |222.0    |TIZI OUZOU                    |   |            |60395 |Algeria              |NULL      |[TMAX, TMIN, PRCP, SNWD, TAVG]            |4                |1                 |\n",
      "|AGE00147709|          |AG          |36.63   |4.2      |942.0    |FORT NATIONAL                 |   |            |NULL  |Algeria              |NULL      |[TMAX, TMIN, PRCP]                        |3                |0                 |\n",
      "|RSM00030856|          |RS          |51.483  |114.533  |877.0    |SEDLOVAJA                     |   |            |30856 |Russia               |NULL      |[TMAX, TMIN, PRCP, SNWD, TAVG]            |4                |1                 |\n",
      "|RSM00030862|          |RS          |51.867  |116.033  |597.0    |SHILKA                        |   |            |30862 |Russia               |NULL      |[TMAX, TMIN, PRCP, SNWD, TAVG]            |4                |1                 |\n",
      "|RSM00030934|          |RS          |50.6    |107.583  |638.0    |BICURA                        |   |            |30934 |Russia               |NULL      |[TMAX, TMIN, PRCP, SNWD, TAVG]            |4                |1                 |\n",
      "|RSM00030935|          |RS          |50.37   |108.75   |770.0    |KRASNYJ CHIKOJ                |   |            |30935 |Russia               |NULL      |[TMAX, TMIN, PRCP, SNWD, TAVG]            |4                |1                 |\n",
      "|RSM00030975|          |RS          |50.3    |119.1    |521.0    |PRIARGUNSK                    |   |            |30975 |Russia               |NULL      |[PRCP]                                    |1                |0                 |\n",
      "|US1VAAM0002|VA        |US          |37.3009 |-78.1609 |118.0    |JETERSVILLE 3.6 W             |   |            |NULL  |United States        |VIRGINIA  |[PRCP, SNOW, SNWD, DAPR, MDPR, WESD, WESF]|3                |4                 |\n",
      "|US1VAAP0001|VA        |US          |37.4083 |-78.9638 |219.5    |CONCORD 4.6 NNE               |   |            |NULL  |United States        |VIRGINIA  |[PRCP, SNOW, SNWD, WESD, WESF]            |3                |2                 |\n",
      "|US1VAAR0005|VA        |US          |38.8554 |-77.0698 |41.5     |ALEXANDRIA 2.4 NE             |   |            |NULL  |United States        |VIRGINIA  |[PRCP, SNOW, SNWD, DAPR, MDPR, WESD, WESF]|3                |4                 |\n",
      "|US1VAAR0016|VA        |US          |38.892  |-77.1617 |109.7    |ARLINGTON 3.3 WNW             |   |            |NULL  |United States        |VIRGINIA  |[PRCP, SNOW, SNWD, DAPR, MDPR, WESD, WESF]|3                |4                 |\n",
      "|US1VAAR0017|VA        |US          |38.7986 |-77.0431 |10.4     |HUNTINGTON 1.6 ENE            |   |            |NULL  |United States        |VIRGINIA  |[PRCP, SNOW, DAPR, MDPR]                  |2                |2                 |\n",
      "|US1VAAR0018|VA        |US          |38.8719 |-77.119  |78.0     |ARLINGTON 1.0 WSW             |   |            |NULL  |United States        |VIRGINIA  |[PRCP, SNOW, DAPR, MDPR]                  |2                |2                 |\n",
      "+-----------+----------+------------+--------+---------+---------+------------------------------+---+------------+------+---------------------+----------+------------------------------------------+-----------------+------------------+\n",
      "only showing top 20 rows\n",
      "\n"
     ]
    }
   ],
   "source": [
    "station_enriched = stations_country_states.join(\n",
    "    inventory_with_counts,\n",
    "    on='ID',\n",
    "    how='left'\n",
    ")\n",
    "\n",
    "station_enriched.show(20, False)"
   ]
  },
  {
   "cell_type": "code",
   "execution_count": 41,
   "id": "c8828f00-4688-493c-a4ac-45b86e6b9bbe",
   "metadata": {},
   "outputs": [
    {
     "name": "stdout",
     "output_type": "stream",
     "text": [
      "root\n",
      " |-- ID: string (nullable = true)\n",
      " |-- STATE_CODE: string (nullable = true)\n",
      " |-- COUNTRY_CODE: string (nullable = true)\n",
      " |-- LATITUDE: double (nullable = true)\n",
      " |-- LONGITUDE: double (nullable = true)\n",
      " |-- ELEVATION: double (nullable = true)\n",
      " |-- STATION_NAME: string (nullable = true)\n",
      " |-- GSN: string (nullable = true)\n",
      " |-- HCN_CRN_FLAG: string (nullable = true)\n",
      " |-- WMO_ID: integer (nullable = true)\n",
      " |-- COUNTRY_NAME: string (nullable = true)\n",
      " |-- STATE_NAME: string (nullable = true)\n",
      " |-- ELEMENTS: array (nullable = true)\n",
      " |    |-- element: string (containsNull = false)\n",
      " |-- NUM_CORE_ELEMENTS: integer (nullable = true)\n",
      " |-- NUM_OTHER_ELEMENTS: integer (nullable = true)\n",
      "\n"
     ]
    }
   ],
   "source": [
    "station_enriched.printSchema()"
   ]
  },
  {
   "cell_type": "code",
   "execution_count": 42,
   "id": "ca717c89-0d0b-49b0-8a24-6c6e439feac2",
   "metadata": {},
   "outputs": [
    {
     "data": {
      "text/plain": [
       "129657"
      ]
     },
     "execution_count": 42,
     "metadata": {},
     "output_type": "execute_result"
    }
   ],
   "source": [
    "station_enriched.count()"
   ]
  },
  {
   "cell_type": "code",
   "execution_count": 44,
   "id": "f97c6844-123c-4a57-ba95-8ea7bc97a021",
   "metadata": {},
   "outputs": [
    {
     "name": "stderr",
     "output_type": "stream",
     "text": [
      "[Stage 88:======================================>                   (2 + 1) / 3]"
     ]
    },
    {
     "name": "stdout",
     "output_type": "stream",
     "text": [
      "+-----------+----------+------------+--------+---------+---------+------------------------------+---+------------+------+--------------+--------------+------------------------------------------------------------------------------------------------------------------------------------------------------------------------------------------------------------------------------------------------------------------------------------------------------------------------------------------------------------------------------------------------------------------------------------+-----------------+------------------+\n",
      "|ID         |STATE_CODE|COUNTRY_CODE|LATITUDE|LONGITUDE|ELEVATION|STATION_NAME                  |GSN|HCN_CRN_FLAG|WMO_ID|COUNTRY_NAME  |STATE_NAME    |ELEMENTS                                                                                                                                                                                                                                                                                                                                                                                                                            |NUM_CORE_ELEMENTS|NUM_OTHER_ELEMENTS|\n",
      "+-----------+----------+------------+--------+---------+---------+------------------------------+---+------------+------+--------------+--------------+------------------------------------------------------------------------------------------------------------------------------------------------------------------------------------------------------------------------------------------------------------------------------------------------------------------------------------------------------------------------------------------------------------------------------------+-----------------+------------------+\n",
      "|USW00013880|SC        |US          |32.8994 |-80.0408 |11.9     |CHARLESTON INTL AP            |   |            |72208 |United States |SOUTH CAROLINA|[TMAX, TMIN, PRCP, SNOW, SNWD, ACMH, ACSH, ADPT, ASLP, ASTP, AWBT, AWND, DAEV, DAWM, EVAP, FMTM, FRGT, MDEV, MDWM, MNPN, MXPN, PGTM, PSUN, RHAV, RHMN, RHMX, SN12, SN32, SN52, SX12, SX32, SX52, TAVG, THIC, TSUN, WDF1, WDF2, WDF5, WDFG, WDFI, WDFM, WDMV, WESD, WSF1, WSF2, WSF5, WSFG, WSFI, WSFM, WT01, WT02, WT03, WT04, WT05, WT06, WT07, WT08, WT09, WT10, WT11, WT13, WT14, WT15, WT16, WT17, WT18, WT19, WT21, WT22, WV03]|5                |65                |\n",
      "|USW00014607|ME        |US          |46.8706 |-68.0172 |188.7    |CARIBOU WFO                   |GSN|            |72712 |United States |MAINE         |[TMAX, TMIN, TOBS, PRCP, SNOW, SNWD, ACSH, ADPT, ASLP, ASTP, AWBT, AWND, DAEV, DAWM, EVAP, FMTM, FRGB, FRGT, FRTH, GAHT, MDEV, MDWM, MNPN, MXPN, PGTM, PSUN, RHAV, RHMN, RHMX, SN02, SN51, SN52, SX02, SX52, TAVG, THIC, TSUN, WDF1, WDF2, WDF5, WDFG, WDMV, WESD, WSF1, WSF2, WSF5, WSFG, WT01, WT02, WT03, WT04, WT05, WT06, WT07, WT08, WT09, WT10, WT11, WT12, WT13, WT14, WT15, WT16, WT17, WT18, WT19, WT21, WT22, WV03, WV20]|5                |65                |\n",
      "|USW00023066|CO        |US          |39.1344 |-108.5408|1470.4   |GRAND JUNCTION WALKER FLD     |GSN|            |72476 |United States |COLORADO      |[TMAX, TMIN, PRCP, SNOW, SNWD, ACMH, ACSH, ADPT, ASLP, ASTP, AWBT, AWND, DAEV, DAPR, DAWM, EVAP, FMTM, FRGB, FRGT, FRTH, GAHT, MDEV, MDPR, MDWM, PGTM, PSUN, RHAV, RHMN, RHMX, TAVG, THIC, TSUN, WDF1, WDF2, WDF5, WDFG, WDFM, WDMV, WESD, WSF1, WSF2, WSF5, WSFG, WSFM, WT01, WT02, WT03, WT04, WT05, WT06, WT07, WT08, WT09, WT10, WT11, WT13, WT14, WT15, WT16, WT17, WT18, WT19, WT21, WT22, WV01, WV03, WV07]                  |5                |62                |\n",
      "|USW00013958|TX        |US          |30.3208 |-97.7603 |204.2    |AUSTIN-CAMP MABRY             |   |            |72254 |United States |TEXAS         |[TMAX, TMIN, TOBS, PRCP, SNOW, SNWD, ACMH, ACSH, ADPT, ASLP, ASTP, AWBT, AWND, DAEV, DAWM, EVAP, FMTM, FRGT, GAHT, MDEV, MDWM, MNPN, MXPN, PGTM, PSUN, RHAV, RHMN, RHMX, SN02, SX02, TAVG, THIC, TSUN, WDF1, WDF2, WDF5, WDFG, WDFM, WDMV, WESD, WSF1, WSF2, WSF5, WSFG, WSFM, WT01, WT02, WT03, WT04, WT05, WT06, WT07, WT08, WT09, WT10, WT11, WT13, WT14, WT15, WT16, WT17, WT18, WT19, WT21, WT22, WV03]                        |5                |61                |\n",
      "|USW00093817|IN        |US          |38.0503 |-87.5147 |122.5    |EVANSVILLE RGNL AP            |GSN|            |72432 |United States |INDIANA       |[TMAX, TMIN, PRCP, SNOW, SNWD, ACMH, ACSH, ADPT, ASLP, ASTP, AWBT, AWND, DAEV, DAWM, EVAP, FMTM, FRGB, FRGT, FRTH, GAHT, MDEV, MDWM, MNPN, MXPN, PGTM, PSUN, RHAV, RHMN, RHMX, TAVG, THIC, TSUN, WDF1, WDF2, WDF5, WDFG, WDFM, WDMV, WESD, WSF1, WSF2, WSF5, WSFG, WSFM, WT01, WT02, WT03, WT04, WT05, WT06, WT07, WT08, WT09, WT10, WT11, WT13, WT14, WT15, WT16, WT17, WT18, WT19, WT21, WT22, WV03]                              |5                |60                |\n",
      "|USW00024121|NV        |US          |40.8239 |-115.7864|1540.5   |ELKO RGNL AP                  |   |HCN         |NULL  |United States |NEVADA        |[TMAX, TMIN, TOBS, PRCP, SNOW, SNWD, ACMH, ACSH, ADPT, ASLP, ASTP, AWBT, AWND, DAEV, DAPR, DASF, DAWM, EVAP, FMTM, FRGB, FRGT, FRTH, MDEV, MDPR, MDSF, MDWM, MNPN, MXPN, PGTM, RHAV, RHMN, RHMX, TAVG, THIC, TSUN, WDF1, WDF2, WDF5, WDFG, WDMV, WESD, WSF1, WSF2, WSF5, WSFG, WT01, WT02, WT03, WT04, WT05, WT06, WT07, WT08, WT09, WT10, WT11, WT13, WT14, WT16, WT17, WT18, WT19, WT21, WT22, WV03]                              |5                |60                |\n",
      "|USW00093058|CO        |US          |38.2886 |-104.5058|1424.6   |PUEBLO MEM AP                 |   |            |72464 |United States |COLORADO      |[TMAX, TMIN, TOBS, PRCP, SNOW, SNWD, ACMH, ACSH, ADPT, ASLP, ASTP, AWBT, AWND, DAEV, DAWM, EVAP, FMTM, FRGB, FRGT, FRTH, GAHT, MDEV, MDWM, MNPN, MXPN, PGTM, PSUN, RHAV, RHMN, RHMX, TAVG, THIC, TSUN, WDF1, WDF2, WDF5, WDFG, WDFM, WDMV, WESD, WSF1, WSF2, WSF5, WSFG, WSFM, WT01, WT02, WT03, WT04, WT05, WT06, WT07, WT08, WT09, WT10, WT11, WT13, WT14, WT15, WT16, WT17, WT18, WT19, WT22, WV03]                              |5                |60                |\n",
      "|USW00014944|SD        |US          |43.5878 |-96.7294 |455.7    |SIOUX FALLS                   |   |            |72651 |United States |SOUTH DAKOTA  |[TMAX, TMIN, TOBS, PRCP, SNOW, SNWD, ACMH, ACSH, ADPT, ASLP, ASTP, AWBT, AWND, DAEV, DAWM, EVAP, FMTM, FRGB, FRGT, FRTH, MDEV, MDWM, MNPN, MXPN, PGTM, PSUN, RHAV, RHMN, RHMX, TAVG, THIC, TSUN, WDF1, WDF2, WDF5, WDFG, WDFM, WDMV, WESD, WSF1, WSF2, WSF5, WSFG, WSFM, WT01, WT02, WT03, WT04, WT05, WT06, WT07, WT08, WT09, WT10, WT11, WT13, WT14, WT15, WT16, WT17, WT18, WT19, WT21, WT22]                                    |5                |59                |\n",
      "|USW00024156|ID        |US          |42.9197 |-112.5722|1356.7   |POCATELLO RGNL AP             |GSN|            |72578 |United States |IDAHO         |[TMAX, TMIN, TOBS, PRCP, SNOW, SNWD, ACMH, ACSH, ADPT, ASLP, ASTP, AWBT, AWND, DAPR, DASF, FMTM, FRGB, FRGT, FRTH, GAHT, MDPR, MDSF, PGTM, PSUN, RHAV, RHMN, RHMX, TAVG, THIC, TSUN, WDF1, WDF2, WDF5, WDFG, WDFM, WESD, WSF1, WSF2, WSF5, WSFG, WSFM, WT01, WT02, WT03, WT04, WT05, WT06, WT07, WT08, WT09, WT10, WT11, WT13, WT14, WT15, WT16, WT17, WT18, WT19, WT21, WT22, WV03, WV20]                                          |5                |58                |\n",
      "|USW00024157|WA        |US          |47.6217 |-117.5281|717.8    |SPOKANE INTL AP               |   |HCN         |72785 |United States |WASHINGTON    |[TMAX, TMIN, PRCP, SNOW, SNWD, ACMH, ACSH, ADPT, ASLP, ASTP, AWBT, AWND, DAEV, DAWM, EVAP, FMTM, MDEV, MDWM, MNPN, MXPN, PGTM, PSUN, RHAV, RHMN, RHMX, TAVG, TSUN, WDF1, WDF2, WDF5, WDFG, WDFM, WDMV, WESD, WSF1, WSF2, WSF5, WSFG, WSFM, WT01, WT02, WT03, WT04, WT05, WT06, WT07, WT08, WT09, WT10, WT11, WT13, WT14, WT15, WT16, WT17, WT18, WT19, WT21, WT22, WV01, WV03, WV07, WV20]                                          |5                |58                |\n",
      "|USW00024127|UT        |US          |40.7706 |-111.965 |1288.4   |SALT LAKE CITY INTL AP        |   |            |72572 |United States |UTAH          |[TMAX, TMIN, PRCP, SNOW, SNWD, ACMH, ACSH, ADPT, ASLP, ASTP, AWBT, AWND, FMTM, FRGT, PGTM, PSUN, RHAV, RHMN, RHMX, SN02, SN03, SN52, SN53, SX02, SX03, SX52, SX53, TAVG, THIC, TSUN, WDF1, WDF2, WDF5, WDFG, WDFM, WESD, WSF1, WSF2, WSF5, WSFG, WSFM, WT01, WT02, WT03, WT04, WT05, WT06, WT07, WT08, WT09, WT10, WT11, WT13, WT14, WT15, WT16, WT17, WT18, WT19, WT21, WT22, WV07, WV20]                                          |5                |58                |\n",
      "|USW00013722|NC        |US          |35.8922 |-78.7819 |120.4    |RALEIGH AP                    |GSN|            |72306 |United States |NORTH CAROLINA|[TMAX, TMIN, PRCP, SNOW, SNWD, ACMH, ACSH, ADPT, ASLP, ASTP, AWBT, AWND, FMTM, FRGT, PGTM, PSUN, RHAV, RHMN, RHMX, SN32, SN33, SN52, SN53, SX32, SX33, SX52, SX53, TAVG, THIC, TSUN, WDF1, WDF2, WDF5, WDFG, WESD, WSF1, WSF2, WSF5, WSFG, WT01, WT02, WT03, WT04, WT05, WT06, WT07, WT08, WT09, WT10, WT11, WT13, WT14, WT15, WT16, WT17, WT18, WT19, WT21, WT22, WV01, WV20]                                                      |5                |56                |\n",
      "|USW00025309|AK        |US          |58.3539 |-134.5561|5.8      |JUNEAU AP                     |   |            |70381 |United States |ALASKA        |[TMAX, TMIN, TOBS, PRCP, SNOW, SNWD, ACMH, ACSH, ADPT, ASLP, ASTP, AWBT, AWND, DAEV, DAWM, EVAP, FMTM, MDEV, MDWM, MNPN, MXPN, PGTM, PSUN, RHAV, RHMN, RHMX, TAVG, TSUN, WDF1, WDF2, WDF5, WDFG, WDFM, WDMV, WESD, WSF1, WSF2, WSF5, WSFG, WSFM, WT01, WT02, WT03, WT04, WT05, WT06, WT07, WT08, WT09, WT11, WT13, WT14, WT15, WT16, WT17, WT18, WT19, WT21, WT22, WV01, WV20]                                                      |5                |56                |\n",
      "|USW00026510|AK        |US          |62.9575 |-155.61  |100.9    |MCGRATH AP                    |GSN|            |70231 |United States |ALASKA        |[TMAX, TMIN, PRCP, SNOW, SNWD, ACMH, ACSH, ADPT, ASLP, ASTP, AWBT, AWND, DAEV, DAPR, DAWM, EVAP, FMTM, GAHT, MDEV, MDPR, MDWM, MNPN, MXPN, PGTM, RHAV, RHMN, RHMX, TAVG, TSUN, WDF1, WDF2, WDF5, WDFG, WDFM, WDMV, WESD, WSF1, WSF2, WSF5, WSFG, WSFM, WT01, WT02, WT03, WT04, WT05, WT06, WT07, WT08, WT09, WT13, WT14, WT15, WT16, WT17, WT18, WT19, WT21, WT22, WV01, WV20]                                                      |5                |56                |\n",
      "|USW00093822|IL        |US          |39.8453 |-89.6839 |179.8    |SPRINGFIELD ABRAHAM LINCOLN CA|   |            |72439 |United States |ILLINOIS      |[TMAX, TMIN, PRCP, SNOW, SNWD, ACMH, ACSH, ADPT, ASLP, ASTP, AWBT, AWND, DAEV, DAWM, EVAP, FMTM, MDEV, MDWM, MNPN, MXPN, PGTM, PSUN, RHAV, RHMN, RHMX, TAVG, TSUN, WDF1, WDF2, WDF5, WDFG, WDFM, WDMV, WESD, WSF1, WSF2, WSF5, WSFG, WSFM, WT01, WT02, WT03, WT04, WT05, WT06, WT07, WT08, WT09, WT10, WT11, WT13, WT14, WT15, WT16, WT17, WT18, WT19, WT21, WT22, WV03, WV20]                                                      |5                |56                |\n",
      "|USW00014914|ND        |US          |46.9242 |-96.812  |272.8    |FARGO HECTOR INTL AP          |   |            |72753 |United States |NORTH DAKOTA  |[TMAX, TMIN, PRCP, SNOW, SNWD, ACMH, ACSH, ADPT, ASLP, ASTP, AWBT, AWND, DAEV, DAWM, EVAP, FMTM, FRTH, GAHT, MDEV, MDWM, MNPN, MXPN, PGTM, PSUN, RHAV, RHMN, RHMX, TAVG, THIC, TSUN, WDF1, WDF2, WDF5, WDFG, WDFM, WDMV, WESD, WSF1, WSF2, WSF5, WSFG, WSFM, WT01, WT02, WT03, WT04, WT05, WT06, WT07, WT08, WT09, WT10, WT11, WT13, WT14, WT15, WT16, WT17, WT18, WT19, WT22]                                                      |5                |56                |\n",
      "|USW00094849|MI        |US          |45.0717 |-83.5644 |208.2    |ALPENA CO RGNL AP             |   |            |72639 |United States |MICHIGAN      |[TMAX, TMIN, TOBS, PRCP, SNOW, SNWD, ACMH, ACSH, ADPT, ASLP, ASTP, AWBT, AWND, DAPR, DASF, FMTM, FRGT, MDPR, MDSF, PGTM, PSUN, RHAV, RHMN, RHMX, TAVG, THIC, TSUN, WDF1, WDF2, WDF5, WDFG, WDFM, WESD, WSF1, WSF2, WSF5, WSFG, WSFM, WT01, WT02, WT03, WT04, WT05, WT06, WT07, WT08, WT09, WT10, WT11, WT13, WT14, WT15, WT16, WT17, WT18, WT19, WT21, WT22, WV03, WV18, WV20]                                                      |5                |56                |\n",
      "|USW00094908|IA        |US          |42.3983 |-90.7092 |317.0    |DUBUQUE RGNL AP               |   |            |72547 |United States |IOWA          |[TMAX, TMIN, TOBS, PRCP, SNOW, SNWD, ACSH, ADPT, ASLP, ASTP, AWBT, AWND, DAEV, DAPR, DAWM, EVAP, FMTM, FRGT, GAHT, MDEV, MDPR, MDWM, MNPN, MXPN, PGTM, RHAV, RHMN, RHMX, TAVG, THIC, TSUN, WDF1, WDF2, WDF5, WDFG, WDMV, WESD, WSF1, WSF2, WSF5, WSFG, WT01, WT02, WT03, WT04, WT05, WT06, WT07, WT08, WT09, WT11, WT13, WT14, WT15, WT16, WT17, WT18, WT19, WT21, WT22, WV03]                                                      |5                |56                |\n",
      "|USW00003813|GA        |US          |32.6889 |-83.6531 |104.5    |MACON MIDDLE GA RGNL AP       |   |            |72217 |United States |GEORGIA       |[TMAX, TMIN, PRCP, SNOW, SNWD, ACMC, ACMH, ACSC, ACSH, ADPT, ASLP, ASTP, AWBT, AWND, FMTM, FRGB, FRGT, FRTH, GAHT, PGTM, PSUN, RHAV, RHMN, RHMX, TAVG, THIC, TSUN, WDF1, WDF2, WDF5, WDFG, WDFI, WDFM, WESD, WSF1, WSF2, WSF5, WSFG, WSFI, WSFM, WT01, WT02, WT03, WT04, WT05, WT06, WT07, WT08, WT09, WT11, WT13, WT14, WT15, WT16, WT17, WT18, WT19, WT21, WT22, WV03]                                                            |5                |55                |\n",
      "|USW00003822|GA        |US          |32.1314 |-81.2022 |8.8      |SAVANNAH INTL AP              |   |HCN         |72207 |United States |GEORGIA       |[TMAX, TMIN, PRCP, SNOW, SNWD, ACMH, ACSH, ADPT, ASLP, ASTP, AWBT, AWND, DAEV, DAWM, EVAP, FMTM, MDEV, MDWM, MNPN, MXPN, PGTM, PSUN, RHAV, RHMN, RHMX, SN52, SX52, TAVG, TSUN, WDF1, WDF2, WDF5, WDFG, WDFM, WDMV, WESD, WSF1, WSF2, WSF5, WSFG, WSFM, WT01, WT02, WT03, WT04, WT05, WT06, WT07, WT08, WT09, WT10, WT11, WT13, WT14, WT15, WT16, WT17, WT18, WT21, WV03]                                                            |5                |55                |\n",
      "+-----------+----------+------------+--------+---------+---------+------------------------------+---+------------+------+--------------+--------------+------------------------------------------------------------------------------------------------------------------------------------------------------------------------------------------------------------------------------------------------------------------------------------------------------------------------------------------------------------------------------------------------------------------------------------+-----------------+------------------+\n",
      "only showing top 20 rows\n",
      "\n"
     ]
    },
    {
     "name": "stderr",
     "output_type": "stream",
     "text": [
      "                                                                                "
     ]
    }
   ],
   "source": [
    "station_enriched.orderBy(F.desc('NUM_OTHER_ELEMENTS')).show(20, False)"
   ]
  },
  {
   "cell_type": "markdown",
   "id": "d92abe89-02de-4231-97f9-7768a0404e6c",
   "metadata": {},
   "source": [
    "converting array of strings in 'ELEMENTS' columns to string like 'TMAX;TMIN;PRCP' to allow storing in csv format"
   ]
  },
  {
   "cell_type": "code",
   "execution_count": 45,
   "id": "7d0bf16f-8971-4428-bb1f-096083a17c96",
   "metadata": {
    "scrolled": true
   },
   "outputs": [
    {
     "name": "stderr",
     "output_type": "stream",
     "text": [
      "[Stage 100:============================>                            (1 + 1) / 2]"
     ]
    },
    {
     "name": "stdout",
     "output_type": "stream",
     "text": [
      "+-----------+----------+------------+--------+---------+---------+------------------------------+---+------------+------+---------------------+----------+----------------------------------+-----------------+------------------+\n",
      "|ID         |STATE_CODE|COUNTRY_CODE|LATITUDE|LONGITUDE|ELEVATION|STATION_NAME                  |GSN|HCN_CRN_FLAG|WMO_ID|COUNTRY_NAME         |STATE_NAME|ELEMENTS                          |NUM_CORE_ELEMENTS|NUM_OTHER_ELEMENTS|\n",
      "+-----------+----------+------------+--------+---------+---------+------------------------------+---+------------+------+---------------------+----------+----------------------------------+-----------------+------------------+\n",
      "|AE000041196|          |AE          |25.333  |55.517   |34.0     |SHARJAH INTER. AIRP           |GSN|            |41196 |United Arab Emirates |NULL      |TMAX;TMIN;PRCP;TAVG               |3                |1                 |\n",
      "|AEM00041218|          |AE          |24.262  |55.609   |264.9    |AL AIN INTL                   |   |            |41218 |United Arab Emirates |NULL      |TMAX;TMIN;PRCP;TAVG               |3                |1                 |\n",
      "|AF000040930|          |AF          |35.317  |69.017   |3366.0   |NORTH-SALANG                  |GSN|            |40930 |Afghanistan          |NULL      |TMAX;TMIN;PRCP;SNWD;TAVG          |4                |1                 |\n",
      "|AG000060590|          |AG          |30.5667 |2.8667   |397.0    |EL-GOLEA                      |GSN|            |60590 |Algeria              |NULL      |TMAX;TMIN;PRCP;TAVG               |3                |1                 |\n",
      "|AGE00147704|          |AG          |36.97   |7.79     |161.0    |ANNABA-CAP DE GARDE           |   |            |NULL  |Algeria              |NULL      |TMAX;TMIN;PRCP                    |3                |0                 |\n",
      "|AGE00147705|          |AG          |36.78   |3.07     |59.0     |ALGIERS-VILLE/UNIVERSITE      |   |            |NULL  |Algeria              |NULL      |TMAX;TMIN;PRCP                    |3                |0                 |\n",
      "|AGE00147706|          |AG          |36.8    |3.03     |344.0    |ALGIERS-BOUZAREAH             |   |            |NULL  |Algeria              |NULL      |TMAX;TMIN;PRCP                    |3                |0                 |\n",
      "|AGE00147708|          |AG          |36.72   |4.05     |222.0    |TIZI OUZOU                    |   |            |60395 |Algeria              |NULL      |TMAX;TMIN;PRCP;SNWD;TAVG          |4                |1                 |\n",
      "|AGE00147709|          |AG          |36.63   |4.2      |942.0    |FORT NATIONAL                 |   |            |NULL  |Algeria              |NULL      |TMAX;TMIN;PRCP                    |3                |0                 |\n",
      "|RSM00030856|          |RS          |51.483  |114.533  |877.0    |SEDLOVAJA                     |   |            |30856 |Russia               |NULL      |TMAX;TMIN;PRCP;SNWD;TAVG          |4                |1                 |\n",
      "|RSM00030862|          |RS          |51.867  |116.033  |597.0    |SHILKA                        |   |            |30862 |Russia               |NULL      |TMAX;TMIN;PRCP;SNWD;TAVG          |4                |1                 |\n",
      "|RSM00030934|          |RS          |50.6    |107.583  |638.0    |BICURA                        |   |            |30934 |Russia               |NULL      |TMAX;TMIN;PRCP;SNWD;TAVG          |4                |1                 |\n",
      "|RSM00030935|          |RS          |50.37   |108.75   |770.0    |KRASNYJ CHIKOJ                |   |            |30935 |Russia               |NULL      |TMAX;TMIN;PRCP;SNWD;TAVG          |4                |1                 |\n",
      "|RSM00030975|          |RS          |50.3    |119.1    |521.0    |PRIARGUNSK                    |   |            |30975 |Russia               |NULL      |PRCP                              |1                |0                 |\n",
      "|US1VAAM0002|VA        |US          |37.3009 |-78.1609 |118.0    |JETERSVILLE 3.6 W             |   |            |NULL  |United States        |VIRGINIA  |PRCP;SNOW;SNWD;DAPR;MDPR;WESD;WESF|3                |4                 |\n",
      "|US1VAAP0001|VA        |US          |37.4083 |-78.9638 |219.5    |CONCORD 4.6 NNE               |   |            |NULL  |United States        |VIRGINIA  |PRCP;SNOW;SNWD;WESD;WESF          |3                |2                 |\n",
      "|US1VAAR0005|VA        |US          |38.8554 |-77.0698 |41.5     |ALEXANDRIA 2.4 NE             |   |            |NULL  |United States        |VIRGINIA  |PRCP;SNOW;SNWD;DAPR;MDPR;WESD;WESF|3                |4                 |\n",
      "|US1VAAR0016|VA        |US          |38.892  |-77.1617 |109.7    |ARLINGTON 3.3 WNW             |   |            |NULL  |United States        |VIRGINIA  |PRCP;SNOW;SNWD;DAPR;MDPR;WESD;WESF|3                |4                 |\n",
      "|US1VAAR0017|VA        |US          |38.7986 |-77.0431 |10.4     |HUNTINGTON 1.6 ENE            |   |            |NULL  |United States        |VIRGINIA  |PRCP;SNOW;DAPR;MDPR               |2                |2                 |\n",
      "|US1VAAR0018|VA        |US          |38.8719 |-77.119  |78.0     |ARLINGTON 1.0 WSW             |   |            |NULL  |United States        |VIRGINIA  |PRCP;SNOW;DAPR;MDPR               |2                |2                 |\n",
      "+-----------+----------+------------+--------+---------+---------+------------------------------+---+------------+------+---------------------+----------+----------------------------------+-----------------+------------------+\n",
      "only showing top 20 rows\n",
      "\n"
     ]
    },
    {
     "name": "stderr",
     "output_type": "stream",
     "text": [
      "                                                                                "
     ]
    }
   ],
   "source": [
    "station_enriched_formatted = station_enriched.withColumn(\n",
    "    \"ELEMENTS\",\n",
    "    F.concat_ws(';', F.col('ELEMENTS'))\n",
    ")\n",
    "\n",
    "station_enriched_formatted.show(20, False)"
   ]
  },
  {
   "cell_type": "code",
   "execution_count": 46,
   "id": "feed52b3-dcb6-492c-a589-f3a461f8dcf6",
   "metadata": {},
   "outputs": [
    {
     "name": "stdout",
     "output_type": "stream",
     "text": [
      "wasbs://campus-user@madsstorage002.blob.core.windows.net/rsh224/stations-enriched\n"
     ]
    }
   ],
   "source": [
    "# Define an output path as an exmaple\n",
    "\n",
    "output_relative_path = f'{username}/stations-enriched'\n",
    "output_path = f'wasbs://{azure_user_container_name}@{azure_account_name}.blob.core.windows.net/{output_relative_path}'\n",
    "\n",
    "print(output_path)"
   ]
  },
  {
   "cell_type": "code",
   "execution_count": 47,
   "id": "b24beb8d-4488-4657-b0af-15f2468f92f0",
   "metadata": {},
   "outputs": [
    {
     "name": "stderr",
     "output_type": "stream",
     "text": [
      "25/08/26 19:41:15 WARN AzureFileSystemThreadPoolExecutor: Disabling threads for Delete operation as thread count 0 is <= 1\n",
      "25/08/26 19:41:17 WARN AzureFileSystemThreadPoolExecutor: Disabling threads for Delete operation as thread count 0 is <= 1\n"
     ]
    }
   ],
   "source": [
    "# Save the stations metadata to Azure Blob Storage from Spark\n",
    "\n",
    "station_enriched_formatted.write.mode(\"overwrite\").option('header', True).csv(output_path)"
   ]
  },
  {
   "cell_type": "code",
   "execution_count": 48,
   "id": "93c062b7-db91-4e7f-8435-b205ea54708b",
   "metadata": {},
   "outputs": [
    {
     "name": "stdout",
     "output_type": "stream",
     "text": [
      "Found 9 items\n",
      "-rw-r--r--   1 rsh224 supergroup          0 2025-08-26 19:41 wasbs://campus-user@madsstorage002.blob.core.windows.net/rsh224/stations-enriched/_SUCCESS\n",
      "-rw-r--r--   1 rsh224 supergroup    1847549 2025-08-26 19:41 wasbs://campus-user@madsstorage002.blob.core.windows.net/rsh224/stations-enriched/part-00000-e8caac3d-b525-4225-804d-41fb136b5d89-c000.csv\n",
      "-rw-r--r--   1 rsh224 supergroup    1845057 2025-08-26 19:41 wasbs://campus-user@madsstorage002.blob.core.windows.net/rsh224/stations-enriched/part-00001-e8caac3d-b525-4225-804d-41fb136b5d89-c000.csv\n",
      "-rw-r--r--   1 rsh224 supergroup    1855156 2025-08-26 19:41 wasbs://campus-user@madsstorage002.blob.core.windows.net/rsh224/stations-enriched/part-00002-e8caac3d-b525-4225-804d-41fb136b5d89-c000.csv\n",
      "-rw-r--r--   1 rsh224 supergroup    1836506 2025-08-26 19:41 wasbs://campus-user@madsstorage002.blob.core.windows.net/rsh224/stations-enriched/part-00003-e8caac3d-b525-4225-804d-41fb136b5d89-c000.csv\n",
      "-rw-r--r--   1 rsh224 supergroup    1889121 2025-08-26 19:41 wasbs://campus-user@madsstorage002.blob.core.windows.net/rsh224/stations-enriched/part-00004-e8caac3d-b525-4225-804d-41fb136b5d89-c000.csv\n",
      "-rw-r--r--   1 rsh224 supergroup    1856857 2025-08-26 19:41 wasbs://campus-user@madsstorage002.blob.core.windows.net/rsh224/stations-enriched/part-00005-e8caac3d-b525-4225-804d-41fb136b5d89-c000.csv\n",
      "-rw-r--r--   1 rsh224 supergroup    1841381 2025-08-26 19:41 wasbs://campus-user@madsstorage002.blob.core.windows.net/rsh224/stations-enriched/part-00006-e8caac3d-b525-4225-804d-41fb136b5d89-c000.csv\n",
      "-rw-r--r--   1 rsh224 supergroup    1850730 2025-08-26 19:41 wasbs://campus-user@madsstorage002.blob.core.windows.net/rsh224/stations-enriched/part-00007-e8caac3d-b525-4225-804d-41fb136b5d89-c000.csv\n"
     ]
    }
   ],
   "source": [
    "# Use the hdfs command to explore the data in Azure Blob Storage\n",
    "\n",
    "!hdfs dfs -ls wasbs://{azure_user_container_name}@{azure_account_name}.blob.core.windows.net/{username}/stations-enriched/"
   ]
  },
  {
   "cell_type": "code",
   "execution_count": 51,
   "id": "a7a192c5-42dc-46b7-8edb-3a80e293c8bf",
   "metadata": {},
   "outputs": [
    {
     "name": "stdout",
     "output_type": "stream",
     "text": [
      "14.1 M  14.1 M  wasbs://campus-user@madsstorage002.blob.core.windows.net/rsh224/stations-enriched\n"
     ]
    }
   ],
   "source": [
    "!hdfs dfs -du -s -h wasbs://{azure_user_container_name}@{azure_account_name}.blob.core.windows.net/{username}/stations-enriched"
   ]
  },
  {
   "cell_type": "code",
   "execution_count": 52,
   "id": "f5a9070e-d2ff-4ee6-ad29-63ab1a407717",
   "metadata": {},
   "outputs": [
    {
     "name": "stderr",
     "output_type": "stream",
     "text": [
      "[Stage 116:>                                                        (0 + 8) / 8]"
     ]
    },
    {
     "name": "stdout",
     "output_type": "stream",
     "text": [
      "+-----------+----------+------------+--------+---------+---------+--------------------+----+------------+------+------------+----------+------------------------+-----------------+------------------+\n",
      "|ID         |STATE_CODE|COUNTRY_CODE|LATITUDE|LONGITUDE|ELEVATION|STATION_NAME        |GSN |HCN_CRN_FLAG|WMO_ID|COUNTRY_NAME|STATE_NAME|ELEMENTS                |NUM_CORE_ELEMENTS|NUM_OTHER_ELEMENTS|\n",
      "+-----------+----------+------------+--------+---------+---------+--------------------+----+------------+------+------------+----------+------------------------+-----------------+------------------+\n",
      "|AFM00040990|NULL      |AF          |31.5    |65.85    |1010.0   |KANDAHAR AIRPORT    |NULL|NULL        |40990 |Afghanistan |NULL      |TMAX;TMIN;PRCP;SNWD;TAVG|4                |1                 |\n",
      "|AGE00147712|NULL      |AG          |36.17   |1.34     |112.0    |ORLEANSVILLE (CHLEF)|NULL|NULL        |NULL  |Algeria     |NULL      |TMAX;TMIN;PRCP          |3                |0                 |\n",
      "|AGE00147713|NULL      |AG          |36.18   |5.4      |1081.0   |SETIF               |NULL|NULL        |NULL  |Algeria     |NULL      |TMAX;TMIN;PRCP          |3                |0                 |\n",
      "|AGE00147718|NULL      |AG          |34.85   |5.72     |125.0    |BISKRA              |NULL|NULL        |60525 |Algeria     |NULL      |TMAX;TMIN;PRCP;TAVG     |3                |1                 |\n",
      "|AGM00060402|NULL      |AG          |36.712  |5.07     |6.1      |SOUMMAM             |NULL|NULL        |60402 |Algeria     |NULL      |TMAX;TMIN;PRCP;SNWD;TAVG|4                |1                 |\n",
      "|AGM00060417|NULL      |AG          |36.383  |3.883    |560.0    |BOUIRA              |NULL|NULL        |60417 |Algeria     |NULL      |TMAX;TMIN;PRCP;SNWD;TAVG|4                |1                 |\n",
      "|AGM00060421|NULL      |AG          |35.867  |7.117    |891.0    |OUM EL BOUAGHI      |NULL|NULL        |60421 |Algeria     |NULL      |TMAX;TMIN;PRCP;SNWD;TAVG|4                |1                 |\n",
      "|AGM00060445|NULL      |AG          |36.178  |5.324    |1050.0   |SETIF AIN ARNAT     |NULL|NULL        |60445 |Algeria     |NULL      |TMAX;TMIN;PRCP;SNWD;TAVG|4                |1                 |\n",
      "|AGM00060461|NULL      |AG          |35.7    |-0.65    |22.0     |ORAN-PORT           |NULL|NULL        |60461 |Algeria     |NULL      |TMAX;TMIN;PRCP;TAVG     |3                |1                 |\n",
      "|AGM00060531|NULL      |AG          |35.017  |-1.45    |248.1    |ZENATA              |NULL|NULL        |60531 |Algeria     |NULL      |TMAX;TMIN;PRCP;SNWD;TAVG|4                |1                 |\n",
      "|AGM00060566|NULL      |AG          |32.384  |3.794    |460.9    |NOUMERAT            |NULL|NULL        |60566 |Algeria     |NULL      |TMAX;TMIN;PRCP;TAVG     |3                |1                 |\n",
      "|AGM00060581|NULL      |AG          |31.673  |6.14     |141.1    |OUED IRARA          |NULL|NULL        |60581 |Algeria     |NULL      |TMAX;TMIN;PRCP;TAVG     |3                |1                 |\n",
      "|AJ000037679|NULL      |AJ          |41.1    |49.2     |-26.0    |SIASAN'             |NULL|NULL        |37679 |Azerbaijan  |NULL      |PRCP                    |1                |0                 |\n",
      "|AJ000037734|NULL      |AJ          |40.8    |46.0     |404.0    |SHAMHOR             |NULL|NULL        |37734 |Azerbaijan  |NULL      |PRCP                    |1                |0                 |\n",
      "|AJ000037740|NULL      |AJ          |40.983  |47.867   |682.0    |QABALA              |NULL|NULL        |37740 |Azerbaijan  |NULL      |TMAX;TMIN;PRCP;SNWD;TAVG|4                |1                 |\n",
      "|AJ000037825|NULL      |AJ          |40.4    |46.3     |1612.0   |GEYGEL'-KURORT      |NULL|NULL        |37825 |Azerbaijan  |NULL      |PRCP                    |1                |0                 |\n",
      "|AJ000037831|NULL      |AJ          |40.4    |47.0     |160.0    |MIR-BASHIR          |NULL|NULL        |37831 |Azerbaijan  |NULL      |PRCP                    |1                |0                 |\n",
      "|AJ000037850|NULL      |AJ          |40.4    |49.8     |47.0     |BAKU                |NULL|NULL        |37850 |Azerbaijan  |NULL      |PRCP                    |1                |0                 |\n",
      "|AJ000037895|NULL      |AJ          |39.983  |46.75    |828.0    |KHANKANDY           |NULL|NULL        |37895 |Azerbaijan  |NULL      |TMAX;TMIN;PRCP;SNWD;TAVG|4                |1                 |\n",
      "|AJ000037902|NULL      |AJ          |39.8    |47.5     |157.0    |MOL'SKAYA,STEP'     |NULL|NULL        |37902 |Azerbaijan  |NULL      |PRCP                    |1                |0                 |\n",
      "+-----------+----------+------------+--------+---------+---------+--------------------+----+------------+------+------------+----------+------------------------+-----------------+------------------+\n",
      "only showing top 20 rows\n",
      "\n"
     ]
    },
    {
     "name": "stderr",
     "output_type": "stream",
     "text": [
      "                                                                                "
     ]
    }
   ],
   "source": [
    "\n",
    "data = spark.read.csv(output_path, header=True, inferSchema=True)\n",
    "\n",
    "data.show(20, False)"
   ]
  },
  {
   "cell_type": "code",
   "execution_count": null,
   "id": "0c6c0dcd-9048-42d0-8cca-4d419caf49e7",
   "metadata": {},
   "outputs": [],
   "source": []
  },
  {
   "cell_type": "code",
   "execution_count": null,
   "id": "ed1f2768-a486-4390-9172-65c7f4053849",
   "metadata": {},
   "outputs": [],
   "source": []
  },
  {
   "cell_type": "code",
   "execution_count": null,
   "id": "07b7751b-d513-4ba9-af3b-6eaeae50c40f",
   "metadata": {},
   "outputs": [],
   "source": []
  },
  {
   "cell_type": "code",
   "execution_count": null,
   "id": "1d4dfbeb-00fb-4462-b933-cb3814a72bac",
   "metadata": {},
   "outputs": [],
   "source": []
  },
  {
   "cell_type": "code",
   "execution_count": null,
   "id": "2818676e-938d-4dc8-b639-94f6037626e3",
   "metadata": {},
   "outputs": [],
   "source": []
  },
  {
   "cell_type": "code",
   "execution_count": null,
   "id": "b7b55bb0-3e97-45f4-86b9-a32e0e77d434",
   "metadata": {},
   "outputs": [],
   "source": []
  },
  {
   "cell_type": "code",
   "execution_count": null,
   "id": "ad462993-66b6-4a50-93c7-e04cc0292a89",
   "metadata": {},
   "outputs": [],
   "source": []
  },
  {
   "cell_type": "code",
   "execution_count": 121,
   "id": "ea2318c1-9ef3-4db9-a5cb-7d028114864e",
   "metadata": {},
   "outputs": [
    {
     "name": "stderr",
     "output_type": "stream",
     "text": [
      "25/08/19 00:13:24 WARN ExecutorPodsWatchSnapshotSource: Kubernetes client has been closed.\n"
     ]
    },
    {
     "data": {
      "text/html": [
       "<p><b>Spark</b></p><p>The spark session is <b><span style=\"color:red\">stopped</span></b>, confirm that <code>rsh224 (notebook)</code> is under the completed applications section in the Spark UI.</p><ul><li><a href=\"http://mathmadslinux2p.canterbury.ac.nz:8080/\" target=\"_blank\">Spark UI</a></li></ul>"
      ],
      "text/plain": [
       "<IPython.core.display.HTML object>"
      ]
     },
     "metadata": {},
     "output_type": "display_data"
    }
   ],
   "source": [
    "# Run this cell before closing the notebook or kill your spark application by hand using the link in the Spark UI\n",
    "\n",
    "stop_spark()"
   ]
  }
 ],
 "metadata": {
  "kernelspec": {
   "display_name": "Python 3 (ipykernel)",
   "language": "python",
   "name": "python3"
  },
  "language_info": {
   "codemirror_mode": {
    "name": "ipython",
    "version": 3
   },
   "file_extension": ".py",
   "mimetype": "text/x-python",
   "name": "python",
   "nbconvert_exporter": "python",
   "pygments_lexer": "ipython3",
   "version": "3.8.10"
  }
 },
 "nbformat": 4,
 "nbformat_minor": 5
}
