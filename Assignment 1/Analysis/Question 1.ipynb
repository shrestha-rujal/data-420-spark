{
 "cells": [
  {
   "cell_type": "code",
   "execution_count": 5,
   "id": "5f0d871f-957f-4314-94e3-16b9c1c4cf9b",
   "metadata": {
    "jupyter": {
     "source_hidden": true
    }
   },
   "outputs": [
    {
     "data": {
      "text/html": [
       "<style>pre { white-space: pre !important; }table.dataframe td { white-space: nowrap !important; }table.dataframe thead th:first-child, table.dataframe tbody th { display: none; }</style>"
      ],
      "text/plain": [
       "<IPython.core.display.HTML object>"
      ]
     },
     "metadata": {},
     "output_type": "display_data"
    }
   ],
   "source": [
    "# Run this cell to import pyspark and to define start_spark() and stop_spark()\n",
    "\n",
    "import findspark\n",
    "\n",
    "findspark.init()\n",
    "\n",
    "import getpass\n",
    "import pandas\n",
    "import pyspark\n",
    "import random\n",
    "import re\n",
    "\n",
    "from IPython.display import display, HTML\n",
    "from pyspark import SparkContext\n",
    "from pyspark.sql import SparkSession\n",
    "import pyspark.sql.functions as F\n",
    "\n",
    "\n",
    "# Constants used to interact with Azure Blob Storage using the hdfs command or Spark\n",
    "\n",
    "global username\n",
    "\n",
    "username = re.sub('@.*', '', getpass.getuser())\n",
    "\n",
    "global azure_account_name\n",
    "global azure_data_container_name\n",
    "global azure_user_container_name\n",
    "global azure_user_token\n",
    "\n",
    "azure_account_name = \"madsstorage002\"\n",
    "azure_data_container_name = \"campus-data\"\n",
    "azure_user_container_name = \"campus-user\"\n",
    "azure_user_token = r\"sp=racwdl&st=2025-08-01T09:41:33Z&se=2026-12-30T16:56:33Z&spr=https&sv=2024-11-04&sr=c&sig=GzR1hq7EJ0lRHj92oDO1MBNjkc602nrpfB5H8Cl7FFY%3D\"\n",
    "\n",
    "\n",
    "# Functions used below\n",
    "\n",
    "def dict_to_html(d):\n",
    "    \"\"\"Convert a Python dictionary into a two column table for display.\n",
    "    \"\"\"\n",
    "\n",
    "    html = []\n",
    "\n",
    "    html.append(f'<table width=\"100%\" style=\"width:100%; font-family: monospace;\">')\n",
    "    for k, v in d.items():\n",
    "        html.append(f'<tr><td style=\"text-align:left;\">{k}</td><td>{v}</td></tr>')\n",
    "    html.append(f'</table>')\n",
    "\n",
    "    return ''.join(html)\n",
    "\n",
    "\n",
    "def show_as_html(df, n=20):\n",
    "    \"\"\"Leverage existing pandas jupyter integration to show a spark dataframe as html.\n",
    "    \n",
    "    Args:\n",
    "        n (int): number of rows to show (default: 20)\n",
    "    \"\"\"\n",
    "\n",
    "    display(df.limit(n).toPandas())\n",
    "\n",
    "    \n",
    "def display_spark():\n",
    "    \"\"\"Display the status of the active Spark session if one is currently running.\n",
    "    \"\"\"\n",
    "    \n",
    "    if 'spark' in globals() and 'sc' in globals():\n",
    "\n",
    "        name = sc.getConf().get(\"spark.app.name\")\n",
    "\n",
    "        html = [\n",
    "            f'<p><b>Spark</b></p>',\n",
    "            f'<p>The spark session is <b><span style=\"color:green\">active</span></b>, look for <code>{name}</code> under the running applications section in the Spark UI.</p>',\n",
    "            f'<ul>',\n",
    "            f'<li><a href=\"http://localhost:{sc.uiWebUrl.split(\":\")[-1]}\" target=\"_blank\">Spark Application UI</a></li>',\n",
    "            f'</ul>',\n",
    "            f'<p><b>Config</b></p>',\n",
    "            dict_to_html(dict(sc.getConf().getAll())),\n",
    "            f'<p><b>Notes</b></p>',\n",
    "            f'<ul>',\n",
    "            f'<li>The spark session <code>spark</code> and spark context <code>sc</code> global variables have been defined by <code>start_spark()</code>.</li>',\n",
    "            f'<li>Please run <code>stop_spark()</code> before closing the notebook or restarting the kernel or kill <code>{name}</code> by hand using the link in the Spark UI.</li>',\n",
    "            f'</ul>',\n",
    "        ]\n",
    "        display(HTML(''.join(html)))\n",
    "        \n",
    "    else:\n",
    "        \n",
    "        html = [\n",
    "            f'<p><b>Spark</b></p>',\n",
    "            f'<p>The spark session is <b><span style=\"color:red\">stopped</span></b>, confirm that <code>{username} (notebook)</code> is under the completed applications section in the Spark UI.</p>',\n",
    "            f'<ul>',\n",
    "            f'<li><a href=\"http://mathmadslinux2p.canterbury.ac.nz:8080/\" target=\"_blank\">Spark UI</a></li>',\n",
    "            f'</ul>',\n",
    "        ]\n",
    "        display(HTML(''.join(html)))\n",
    "\n",
    "\n",
    "# Functions to start and stop spark\n",
    "\n",
    "def start_spark(executor_instances=2, executor_cores=1, worker_memory=1, master_memory=1):\n",
    "    \"\"\"Start a new Spark session and define globals for SparkSession (spark) and SparkContext (sc).\n",
    "    \n",
    "    Args:\n",
    "        executor_instances (int): number of executors (default: 2)\n",
    "        executor_cores (int): number of cores per executor (default: 1)\n",
    "        worker_memory (float): worker memory (default: 1)\n",
    "        master_memory (float): master memory (default: 1)\n",
    "    \"\"\"\n",
    "\n",
    "    global spark\n",
    "    global sc\n",
    "\n",
    "    cores = executor_instances * executor_cores\n",
    "    partitions = cores * 4\n",
    "    port = 4000 + random.randint(1, 999)\n",
    "\n",
    "    spark = (\n",
    "        SparkSession.builder\n",
    "        .config(\"spark.driver.extraJavaOptions\", f\"-Dderby.system.home=/tmp/{username}/spark/\")\n",
    "        .config(\"spark.dynamicAllocation.enabled\", \"false\")\n",
    "        .config(\"spark.executor.instances\", str(executor_instances))\n",
    "        .config(\"spark.executor.cores\", str(executor_cores))\n",
    "        .config(\"spark.cores.max\", str(cores))\n",
    "        .config(\"spark.driver.memory\", f'{master_memory}g')\n",
    "        .config(\"spark.executor.memory\", f'{worker_memory}g')\n",
    "        .config(\"spark.driver.maxResultSize\", \"0\")\n",
    "        .config(\"spark.sql.shuffle.partitions\", str(partitions))\n",
    "        .config(\"spark.kubernetes.container.image\", \"madsregistry001.azurecr.io/hadoop-spark:v3.3.5-openjdk-8\")\n",
    "        .config(\"spark.kubernetes.container.image.pullPolicy\", \"IfNotPresent\")\n",
    "        .config(\"spark.kubernetes.memoryOverheadFactor\", \"0.3\")\n",
    "        .config(\"spark.memory.fraction\", \"0.1\")\n",
    "        .config(f\"fs.azure.sas.{azure_user_container_name}.{azure_account_name}.blob.core.windows.net\",  azure_user_token)\n",
    "        .config(\"spark.app.name\", f\"{username} (notebook)\")\n",
    "        .getOrCreate()\n",
    "    )\n",
    "    sc = SparkContext.getOrCreate()\n",
    "    \n",
    "    display_spark()\n",
    "\n",
    "    \n",
    "def stop_spark():\n",
    "    \"\"\"Stop the active Spark session and delete globals for SparkSession (spark) and SparkContext (sc).\n",
    "    \"\"\"\n",
    "\n",
    "    global spark\n",
    "    global sc\n",
    "\n",
    "    if 'spark' in globals() and 'sc' in globals():\n",
    "\n",
    "        spark.stop()\n",
    "\n",
    "        del spark\n",
    "        del sc\n",
    "\n",
    "    display_spark()\n",
    "\n",
    "\n",
    "# Make css changes to improve spark output readability\n",
    "\n",
    "html = [\n",
    "    '<style>',\n",
    "    'pre { white-space: pre !important; }',\n",
    "    'table.dataframe td { white-space: nowrap !important; }',\n",
    "    'table.dataframe thead th:first-child, table.dataframe tbody th { display: none; }',\n",
    "    '</style>',\n",
    "]\n",
    "display(HTML(''.join(html)))"
   ]
  },
  {
   "cell_type": "code",
   "execution_count": 6,
   "id": "85832872-5393-4ea9-9f6c-6a49c94386ec",
   "metadata": {
    "scrolled": true
   },
   "outputs": [
    {
     "name": "stderr",
     "output_type": "stream",
     "text": [
      "Warning: Ignoring non-Spark config property: fs.azure.sas.campus-user.madsstorage002.blob.core.windows.net\n",
      "Warning: Ignoring non-Spark config property: SPARK_DRIVER_BIND_ADDRESS\n",
      "25/08/27 14:36:11 WARN NativeCodeLoader: Unable to load native-hadoop library for your platform... using builtin-java classes where applicable\n",
      "Setting default log level to \"WARN\".\n",
      "To adjust logging level use sc.setLogLevel(newLevel). For SparkR, use setLogLevel(newLevel).\n"
     ]
    },
    {
     "data": {
      "text/html": [
       "<p><b>Spark</b></p><p>The spark session is <b><span style=\"color:green\">active</span></b>, look for <code>rsh224 (notebook)</code> under the running applications section in the Spark UI.</p><ul><li><a href=\"http://localhost:4044\" target=\"_blank\">Spark Application UI</a></li></ul><p><b>Config</b></p><table width=\"100%\" style=\"width:100%; font-family: monospace;\"><tr><td style=\"text-align:left;\">spark.dynamicAllocation.enabled</td><td>false</td></tr><tr><td style=\"text-align:left;\">spark.fs.azure.sas.uco-user.madsstorage002.blob.core.windows.net</td><td>\"sp=racwdl&st=2024-09-19T08:00:18Z&se=2025-09-19T16:00:18Z&spr=https&sv=2022-11-02&sr=c&sig=qtg6fCdoFz6k3EJLw7dA8D3D8wN0neAYw8yG4z4Lw2o%3D\"</td></tr><tr><td style=\"text-align:left;\">spark.kubernetes.driver.pod.name</td><td>spark-master-driver</td></tr><tr><td style=\"text-align:left;\">spark.executor.instances</td><td>4</td></tr><tr><td style=\"text-align:left;\">spark.app.name</td><td>rsh224 (notebook)</td></tr><tr><td style=\"text-align:left;\">spark.cores.max</td><td>16</td></tr><tr><td style=\"text-align:left;\">spark.kubernetes.executor.podNamePrefix</td><td>rsh224-notebook-40f76898e96205a4</td></tr><tr><td style=\"text-align:left;\">spark.fs.azure.sas.campus-user.madsstorage002.blob.core.windows.net</td><td>\"sp=racwdl&st=2024-09-19T08:03:31Z&se=2025-09-19T16:03:31Z&spr=https&sv=2022-11-02&sr=c&sig=kMP%2BsBsRzdVVR8rrg%2BNbDhkRBNs6Q98kYY695XMRFDU%3D\"</td></tr><tr><td style=\"text-align:left;\">spark.kubernetes.container.image.pullPolicy</td><td>IfNotPresent</td></tr><tr><td style=\"text-align:left;\">spark.kubernetes.namespace</td><td>rsh224</td></tr><tr><td style=\"text-align:left;\">spark.app.id</td><td>spark-db7a901891f149e3830b46821bd998c8</td></tr><tr><td style=\"text-align:left;\">spark.executor.cores</td><td>4</td></tr><tr><td style=\"text-align:left;\">spark.driver.memory</td><td>8g</td></tr><tr><td style=\"text-align:left;\">spark.serializer.objectStreamReset</td><td>100</td></tr><tr><td style=\"text-align:left;\">spark.driver.maxResultSize</td><td>0</td></tr><tr><td style=\"text-align:left;\">spark.executor.memory</td><td>8g</td></tr><tr><td style=\"text-align:left;\">spark.submit.deployMode</td><td>client</td></tr><tr><td style=\"text-align:left;\">spark.master</td><td>k8s://https://kubernetes.default.svc.cluster.local:443</td></tr><tr><td style=\"text-align:left;\">spark.fs.azure</td><td>org.apache.hadoop.fs.azure.NativeAzureFileSystem</td></tr><tr><td style=\"text-align:left;\">spark.sql.shuffle.partitions</td><td>64</td></tr><tr><td style=\"text-align:left;\">spark.app.submitTime</td><td>1756262171138</td></tr><tr><td style=\"text-align:left;\">spark.driver.extraJavaOptions</td><td>-Djava.net.preferIPv6Addresses=false -XX:+IgnoreUnrecognizedVMOptions --add-opens=java.base/java.lang=ALL-UNNAMED --add-opens=java.base/java.lang.invoke=ALL-UNNAMED --add-opens=java.base/java.lang.reflect=ALL-UNNAMED --add-opens=java.base/java.io=ALL-UNNAMED --add-opens=java.base/java.net=ALL-UNNAMED --add-opens=java.base/java.nio=ALL-UNNAMED --add-opens=java.base/java.util=ALL-UNNAMED --add-opens=java.base/java.util.concurrent=ALL-UNNAMED --add-opens=java.base/java.util.concurrent.atomic=ALL-UNNAMED --add-opens=java.base/jdk.internal.ref=ALL-UNNAMED --add-opens=java.base/sun.nio.ch=ALL-UNNAMED --add-opens=java.base/sun.nio.cs=ALL-UNNAMED --add-opens=java.base/sun.security.action=ALL-UNNAMED --add-opens=java.base/sun.util.calendar=ALL-UNNAMED --add-opens=java.security.jgss/sun.security.krb5=ALL-UNNAMED -Djdk.reflect.useDirectMethodHandle=false -Dderby.system.home=/tmp/rsh224/spark/</td></tr><tr><td style=\"text-align:left;\">spark.memory.fraction</td><td>0.1</td></tr><tr><td style=\"text-align:left;\">spark.executor.id</td><td>driver</td></tr><tr><td style=\"text-align:left;\">spark.kubernetes.executor.container.image</td><td>madsregistry001.azurecr.io/hadoop-spark:v3.3.5-openjdk-8-1.0.16</td></tr><tr><td style=\"text-align:left;\">spark.kubernetes.memoryOverheadFactor</td><td>0.3</td></tr><tr><td style=\"text-align:left;\">spark.driver.host</td><td>spark-master-svc</td></tr><tr><td style=\"text-align:left;\">spark.app.startTime</td><td>1756262171291</td></tr><tr><td style=\"text-align:left;\">spark.ui.port</td><td>${env:SPARK_UI_PORT}</td></tr><tr><td style=\"text-align:left;\">spark.kubernetes.container.image</td><td>madsregistry001.azurecr.io/hadoop-spark:v3.3.5-openjdk-8</td></tr><tr><td style=\"text-align:left;\">spark.kubernetes.executor.podTemplateFile</td><td>/opt/spark/conf/executor-pod-template.yaml</td></tr><tr><td style=\"text-align:left;\">fs.azure.sas.campus-user.madsstorage002.blob.core.windows.net</td><td>sp=racwdl&st=2025-08-01T09:41:33Z&se=2026-12-30T16:56:33Z&spr=https&sv=2024-11-04&sr=c&sig=GzR1hq7EJ0lRHj92oDO1MBNjkc602nrpfB5H8Cl7FFY%3D</td></tr><tr><td style=\"text-align:left;\">spark.rdd.compress</td><td>True</td></tr><tr><td style=\"text-align:left;\">spark.executor.extraJavaOptions</td><td>-Djava.net.preferIPv6Addresses=false -XX:+IgnoreUnrecognizedVMOptions --add-opens=java.base/java.lang=ALL-UNNAMED --add-opens=java.base/java.lang.invoke=ALL-UNNAMED --add-opens=java.base/java.lang.reflect=ALL-UNNAMED --add-opens=java.base/java.io=ALL-UNNAMED --add-opens=java.base/java.net=ALL-UNNAMED --add-opens=java.base/java.nio=ALL-UNNAMED --add-opens=java.base/java.util=ALL-UNNAMED --add-opens=java.base/java.util.concurrent=ALL-UNNAMED --add-opens=java.base/java.util.concurrent.atomic=ALL-UNNAMED --add-opens=java.base/jdk.internal.ref=ALL-UNNAMED --add-opens=java.base/sun.nio.ch=ALL-UNNAMED --add-opens=java.base/sun.nio.cs=ALL-UNNAMED --add-opens=java.base/sun.security.action=ALL-UNNAMED --add-opens=java.base/sun.util.calendar=ALL-UNNAMED --add-opens=java.security.jgss/sun.security.krb5=ALL-UNNAMED -Djdk.reflect.useDirectMethodHandle=false</td></tr><tr><td style=\"text-align:left;\">spark.driver.port</td><td>7077</td></tr><tr><td style=\"text-align:left;\">spark.submit.pyFiles</td><td></td></tr><tr><td style=\"text-align:left;\">spark.ui.showConsoleProgress</td><td>true</td></tr></table><p><b>Notes</b></p><ul><li>The spark session <code>spark</code> and spark context <code>sc</code> global variables have been defined by <code>start_spark()</code>.</li><li>Please run <code>stop_spark()</code> before closing the notebook or restarting the kernel or kill <code>rsh224 (notebook)</code> by hand using the link in the Spark UI.</li></ul>"
      ],
      "text/plain": [
       "<IPython.core.display.HTML object>"
      ]
     },
     "metadata": {},
     "output_type": "display_data"
    }
   ],
   "source": [
    "# Run this cell to start a spark session in this notebook\n",
    "\n",
    "start_spark(executor_instances=4, executor_cores=4, worker_memory=8, master_memory=8)"
   ]
  },
  {
   "cell_type": "code",
   "execution_count": 7,
   "id": "787cdb5d-6b5a-4fe1-8cbe-5ef019d4537e",
   "metadata": {},
   "outputs": [],
   "source": [
    "# Write your imports here or insert cells below\n",
    "\n",
    "from pyspark.sql import functions as F\n",
    "from pyspark.sql.types import *"
   ]
  },
  {
   "cell_type": "code",
   "execution_count": 8,
   "id": "71c52349-b2c1-4ec5-805e-55f9f2fa7e89",
   "metadata": {},
   "outputs": [],
   "source": [
    "directory_path = f'wasbs://{azure_data_container_name}@{azure_account_name}.blob.core.windows.net/ghcnd'"
   ]
  },
  {
   "cell_type": "code",
   "execution_count": 9,
   "id": "b5d48877-7cbf-477c-9a31-957a1a3afaba",
   "metadata": {
    "scrolled": true
   },
   "outputs": [
    {
     "name": "stdout",
     "output_type": "stream",
     "text": [
      "<class 'pyspark.sql.dataframe.DataFrame'>\n",
      "root\n",
      " |-- ID: string (nullable = true)\n",
      " |-- DATE: string (nullable = true)\n",
      " |-- ELEMENT: string (nullable = true)\n",
      " |-- VALUE: double (nullable = true)\n",
      " |-- MEASUREMENT: string (nullable = true)\n",
      " |-- QUALITY: string (nullable = true)\n",
      " |-- SOURCE: string (nullable = true)\n",
      " |-- TIME: string (nullable = true)\n",
      "\n",
      "DataFrame[ID: string, DATE: string, ELEMENT: string, VALUE: double, MEASUREMENT: string, QUALITY: string, SOURCE: string, TIME: string]\n"
     ]
    },
    {
     "name": "stderr",
     "output_type": "stream",
     "text": [
      "                                                                                "
     ]
    },
    {
     "name": "stdout",
     "output_type": "stream",
     "text": [
      "+-----------+--------+-------+------+-----------+-------+------+----+\n",
      "|ID         |DATE    |ELEMENT|VALUE |MEASUREMENT|QUALITY|SOURCE|TIME|\n",
      "+-----------+--------+-------+------+-----------+-------+------+----+\n",
      "|ASN00030019|20100101|PRCP   |24.0  |NULL       |NULL   |a     |NULL|\n",
      "|ASN00030021|20100101|PRCP   |200.0 |NULL       |NULL   |a     |NULL|\n",
      "|ASN00030022|20100101|TMAX   |294.0 |NULL       |NULL   |a     |NULL|\n",
      "|ASN00030022|20100101|TMIN   |215.0 |NULL       |NULL   |a     |NULL|\n",
      "|ASN00030022|20100101|PRCP   |408.0 |NULL       |NULL   |a     |NULL|\n",
      "|ASN00029121|20100101|PRCP   |820.0 |NULL       |NULL   |a     |NULL|\n",
      "|ASN00029126|20100101|TMAX   |371.0 |NULL       |NULL   |S     |NULL|\n",
      "|ASN00029126|20100101|TMIN   |225.0 |NULL       |NULL   |S     |NULL|\n",
      "|ASN00029126|20100101|PRCP   |0.0   |NULL       |NULL   |a     |NULL|\n",
      "|ASN00029126|20100101|TAVG   |298.0 |H          |NULL   |S     |NULL|\n",
      "|ASN00029127|20100101|TMAX   |371.0 |NULL       |NULL   |a     |NULL|\n",
      "|ASN00029127|20100101|TMIN   |225.0 |NULL       |NULL   |a     |NULL|\n",
      "|ASN00029127|20100101|PRCP   |8.0   |NULL       |NULL   |a     |NULL|\n",
      "|ASN00029129|20100101|PRCP   |174.0 |NULL       |NULL   |a     |NULL|\n",
      "|ASN00029130|20100101|PRCP   |86.0  |NULL       |NULL   |a     |NULL|\n",
      "|ASN00029131|20100101|PRCP   |56.0  |NULL       |NULL   |a     |NULL|\n",
      "|ASN00029132|20100101|PRCP   |800.0 |NULL       |NULL   |a     |NULL|\n",
      "|ASN00029136|20100101|PRCP   |22.0  |NULL       |NULL   |a     |NULL|\n",
      "|ASN00029137|20100101|PRCP   |0.0   |NULL       |NULL   |a     |NULL|\n",
      "|ASN00029139|20100101|TMAX   |298.0 |NULL       |NULL   |a     |NULL|\n",
      "|ASN00029139|20100101|TMIN   |270.0 |NULL       |NULL   |a     |NULL|\n",
      "|ASN00029139|20100101|PRCP   |30.0  |NULL       |NULL   |a     |NULL|\n",
      "|ASN00029141|20100101|TMAX   |360.0 |NULL       |NULL   |a     |NULL|\n",
      "|ASN00029141|20100101|TMIN   |249.0 |NULL       |NULL   |a     |NULL|\n",
      "|ASN00029141|20100101|PRCP   |12.0  |NULL       |NULL   |a     |NULL|\n",
      "|ASN00029150|20100101|PRCP   |84.0  |NULL       |NULL   |a     |NULL|\n",
      "|ASN00029152|20100101|PRCP   |560.0 |NULL       |NULL   |a     |NULL|\n",
      "|ASN00029154|20100101|PRCP   |420.0 |NULL       |NULL   |a     |NULL|\n",
      "|ASN00029161|20100101|PRCP   |40.0  |NULL       |NULL   |a     |NULL|\n",
      "|ASN00029163|20100101|PRCP   |70.0  |NULL       |NULL   |a     |NULL|\n",
      "|ASN00029167|20100101|TMAX   |334.0 |NULL       |NULL   |a     |NULL|\n",
      "|ASN00029167|20100101|TMIN   |242.0 |NULL       |NULL   |a     |NULL|\n",
      "|ASN00029167|20100101|PRCP   |166.0 |NULL       |NULL   |a     |NULL|\n",
      "|ASN00029069|20100101|PRCP   |40.0  |NULL       |NULL   |a     |NULL|\n",
      "|ASN00029077|20100101|TMAX   |292.0 |NULL       |NULL   |a     |NULL|\n",
      "|ASN00029077|20100101|TMIN   |259.0 |NULL       |NULL   |a     |NULL|\n",
      "|ASN00029077|20100101|PRCP   |12.0  |NULL       |NULL   |a     |NULL|\n",
      "|ASN00029077|20100101|TAVG   |265.0 |H          |NULL   |S     |NULL|\n",
      "|ASN00029080|20100101|PRCP   |70.0  |NULL       |NULL   |a     |NULL|\n",
      "|ASN00029081|20100101|PRCP   |120.0 |NULL       |NULL   |a     |NULL|\n",
      "|ASN00029086|20100101|PRCP   |220.0 |NULL       |NULL   |a     |NULL|\n",
      "|ASN00029089|20100101|PRCP   |140.0 |NULL       |NULL   |a     |NULL|\n",
      "|ASN00029090|20100101|PRCP   |206.0 |NULL       |NULL   |a     |NULL|\n",
      "|ASN00029100|20100101|PRCP   |0.0   |NULL       |NULL   |a     |NULL|\n",
      "|ASN00029011|20100101|PRCP   |1618.0|NULL       |NULL   |a     |NULL|\n",
      "|ASN00029012|20100101|TMAX   |310.0 |NULL       |NULL   |a     |NULL|\n",
      "|ASN00029012|20100101|TMIN   |239.0 |NULL       |NULL   |a     |NULL|\n",
      "|ASN00029012|20100101|PRCP   |86.0  |NULL       |NULL   |a     |NULL|\n",
      "|ASN00029014|20100101|PRCP   |320.0 |NULL       |NULL   |a     |NULL|\n",
      "|ASN00029015|20100101|PRCP   |0.0   |NULL       |NULL   |a     |NULL|\n",
      "|ASN00029016|20100101|PRCP   |50.0  |NULL       |NULL   |a     |NULL|\n",
      "|ASN00029027|20100101|PRCP   |0.0   |NULL       |NULL   |a     |NULL|\n",
      "|ASN00029030|20100101|PRCP   |42.0  |NULL       |NULL   |a     |NULL|\n",
      "|ASN00029031|20100101|PRCP   |490.0 |NULL       |NULL   |a     |NULL|\n",
      "|ASN00029032|20100101|PRCP   |320.0 |NULL       |NULL   |a     |NULL|\n",
      "|ASN00029036|20100101|PRCP   |78.0  |NULL       |NULL   |a     |NULL|\n",
      "|ASN00029037|20100101|PRCP   |70.0  |NULL       |NULL   |a     |NULL|\n",
      "|ASN00029038|20100101|TMAX   |335.0 |NULL       |NULL   |a     |NULL|\n",
      "|ASN00029038|20100101|TMIN   |247.0 |NULL       |NULL   |a     |NULL|\n",
      "|ASN00029038|20100101|PRCP   |34.0  |NULL       |NULL   |a     |NULL|\n",
      "|ASN00029039|20100101|TMAX   |297.0 |NULL       |NULL   |a     |NULL|\n",
      "|ASN00029039|20100101|TMIN   |254.0 |NULL       |NULL   |a     |NULL|\n",
      "|ASN00029039|20100101|PRCP   |116.0 |NULL       |NULL   |a     |NULL|\n",
      "|ASN00029047|20100101|PRCP   |0.0   |NULL       |NULL   |a     |NULL|\n",
      "|ASN00029048|20100101|PRCP   |165.0 |NULL       |NULL   |a     |NULL|\n",
      "|ASN00029051|20100101|PRCP   |480.0 |NULL       |NULL   |a     |NULL|\n",
      "|ASN00029052|20100101|PRCP   |18.0  |NULL       |NULL   |a     |NULL|\n",
      "|ASN00029054|20100101|PRCP   |0.0   |NULL       |NULL   |a     |NULL|\n",
      "|ASN00029058|20100101|TMAX   |356.0 |NULL       |NULL   |a     |NULL|\n",
      "|ASN00029058|20100101|TMIN   |228.0 |NULL       |NULL   |a     |NULL|\n",
      "|ASN00029058|20100101|PRCP   |66.0  |NULL       |NULL   |a     |NULL|\n",
      "|ASN00029061|20100101|PRCP   |0.0   |NULL       |NULL   |a     |NULL|\n",
      "|ASN00029063|20100101|TMAX   |312.0 |NULL       |NULL   |a     |NULL|\n",
      "|ASN00029063|20100101|TMIN   |244.0 |NULL       |NULL   |a     |NULL|\n",
      "|ASN00029063|20100101|PRCP   |158.0 |NULL       |NULL   |a     |NULL|\n",
      "|ASN00029065|20100101|PRCP   |260.0 |NULL       |NULL   |a     |NULL|\n",
      "|ASN00027064|20100101|PRCP   |630.0 |NULL       |NULL   |a     |NULL|\n",
      "|ASN00027069|20100101|PRCP   |546.0 |NULL       |NULL   |a     |NULL|\n",
      "|ASN00027072|20100101|PRCP   |325.0 |NULL       |NULL   |a     |NULL|\n",
      "|ASN00027073|20100101|TMAX   |336.0 |NULL       |NULL   |a     |NULL|\n",
      "|ASN00027073|20100101|TMIN   |242.0 |NULL       |NULL   |a     |NULL|\n",
      "|ASN00027073|20100101|PRCP   |44.0  |NULL       |NULL   |a     |NULL|\n",
      "|ASN00027075|20100101|TMAX   |334.0 |NULL       |NULL   |a     |NULL|\n",
      "|ASN00027075|20100101|TMIN   |241.0 |NULL       |NULL   |a     |NULL|\n",
      "|ASN00027075|20100101|PRCP   |298.0 |NULL       |NULL   |a     |NULL|\n",
      "|ASN00028000|20100101|PRCP   |224.0 |NULL       |NULL   |a     |NULL|\n",
      "|ASN00028004|20100101|TMAX   |335.0 |NULL       |NULL   |a     |NULL|\n",
      "|ASN00028004|20100101|TMIN   |248.0 |NULL       |NULL   |a     |NULL|\n",
      "|ASN00028004|20100101|PRCP   |130.0 |NULL       |NULL   |a     |NULL|\n",
      "|ASN00028007|20100101|TMAX   |348.0 |NULL       |NULL   |a     |NULL|\n",
      "|ASN00028007|20100101|TMIN   |250.0 |NULL       |NULL   |a     |NULL|\n",
      "|ASN00028007|20100101|PRCP   |25.0  |NULL       |NULL   |a     |NULL|\n",
      "|ASN00028008|20100101|TMAX   |315.0 |NULL       |NULL   |a     |NULL|\n",
      "|ASN00028008|20100101|TMIN   |248.0 |NULL       |NULL   |a     |NULL|\n",
      "|ASN00028008|20100101|PRCP   |276.0 |NULL       |NULL   |a     |NULL|\n",
      "|ASN00028013|20100101|PRCP   |0.0   |NULL       |NULL   |a     |NULL|\n",
      "|ASN00028015|20100101|PRCP   |380.0 |NULL       |NULL   |a     |NULL|\n",
      "|ASN00028022|20100101|PRCP   |100.0 |NULL       |NULL   |a     |NULL|\n",
      "|ASN00028023|20100101|PRCP   |12.0  |NULL       |NULL   |a     |NULL|\n",
      "|ASN00028031|20100101|PRCP   |30.0  |NULL       |NULL   |a     |NULL|\n",
      "+-----------+--------+-------+------+-----------+-------+------+----+\n",
      "only showing top 100 rows\n",
      "\n"
     ]
    }
   ],
   "source": [
    "# Load a subset of the last year in daily into Spark from Azure Blob Storage using spark.read.csv\n",
    "\n",
    "schema = StructType([\n",
    "    StructField(\"ID\", StringType()),           # Character Station code\n",
    "    StructField(\"DATE\", StringType()),         # Date Observation date formatted as YYYYMMDD\n",
    "    StructField(\"ELEMENT\", StringType()),      # Character Element type indicator\n",
    "    StructField(\"VALUE\", DoubleType()),        # Real Data value for ELEMENT\n",
    "    StructField(\"MEASUREMENT\", StringType()),  # Character Measurement Flag\n",
    "    StructField(\"QUALITY\", StringType()),      # Character Quality Flag\n",
    "    StructField(\"SOURCE\", StringType()),       # Character Source Flag\n",
    "    StructField(\"TIME\", StringType()),         # Time Observation time formatted as HHMM\n",
    "])\n",
    "\n",
    "daily = spark.read.csv(\n",
    "    path=f'wasbs://{azure_data_container_name}@{azure_account_name}.blob.core.windows.net/ghcnd/daily/',\n",
    "    schema=schema\n",
    ")\n",
    "\n",
    "print(type(daily))\n",
    "daily.printSchema()\n",
    "print(daily)\n",
    "daily.show(100, False)"
   ]
  },
  {
   "cell_type": "code",
   "execution_count": 10,
   "id": "e788f883-07f4-4ed2-9ba1-a8a927090a82",
   "metadata": {},
   "outputs": [],
   "source": [
    "stations_enriched_path = f'wasbs://{azure_user_container_name}@{azure_account_name}.blob.core.windows.net/{username}/stations-enriched'"
   ]
  },
  {
   "cell_type": "code",
   "execution_count": 11,
   "id": "22216d88-c0ce-415e-a18f-46acef329d59",
   "metadata": {},
   "outputs": [
    {
     "name": "stderr",
     "output_type": "stream",
     "text": [
      "                                                                                "
     ]
    }
   ],
   "source": [
    "stations_enriched = spark.read.csv(stations_enriched_path, header=True, inferSchema=False)"
   ]
  },
  {
   "cell_type": "code",
   "execution_count": 12,
   "id": "6998b459-4eaa-40f4-a78c-0dc7a20a974e",
   "metadata": {},
   "outputs": [
    {
     "name": "stderr",
     "output_type": "stream",
     "text": [
      "[Stage 2:>                                                          (0 + 1) / 1]"
     ]
    },
    {
     "name": "stdout",
     "output_type": "stream",
     "text": [
      "+-----------+----------+------------+--------+---------+---------+--------------------+----+------------+------+------------+----------+------------------------+-----------------+------------------+\n",
      "|ID         |STATE_CODE|COUNTRY_CODE|LATITUDE|LONGITUDE|ELEVATION|STATION_NAME        |GSN |HCN_CRN_FLAG|WMO_ID|COUNTRY_NAME|STATE_NAME|ELEMENTS                |NUM_CORE_ELEMENTS|NUM_OTHER_ELEMENTS|\n",
      "+-----------+----------+------------+--------+---------+---------+--------------------+----+------------+------+------------+----------+------------------------+-----------------+------------------+\n",
      "|AFM00040990|NULL      |AF          |31.5    |65.85    |1010.0   |KANDAHAR AIRPORT    |NULL|NULL        |40990 |Afghanistan |NULL      |TMAX;TMIN;PRCP;SNWD;TAVG|4                |1                 |\n",
      "|AGE00147712|NULL      |AG          |36.17   |1.34     |112.0    |ORLEANSVILLE (CHLEF)|NULL|NULL        |NULL  |Algeria     |NULL      |TMAX;TMIN;PRCP          |3                |0                 |\n",
      "|AGE00147713|NULL      |AG          |36.18   |5.4      |1081.0   |SETIF               |NULL|NULL        |NULL  |Algeria     |NULL      |TMAX;TMIN;PRCP          |3                |0                 |\n",
      "|AGE00147718|NULL      |AG          |34.85   |5.72     |125.0    |BISKRA              |NULL|NULL        |60525 |Algeria     |NULL      |TMAX;TMIN;PRCP;TAVG     |3                |1                 |\n",
      "|AGM00060402|NULL      |AG          |36.712  |5.07     |6.1      |SOUMMAM             |NULL|NULL        |60402 |Algeria     |NULL      |TMAX;TMIN;PRCP;SNWD;TAVG|4                |1                 |\n",
      "|AGM00060417|NULL      |AG          |36.383  |3.883    |560.0    |BOUIRA              |NULL|NULL        |60417 |Algeria     |NULL      |TMAX;TMIN;PRCP;SNWD;TAVG|4                |1                 |\n",
      "|AGM00060421|NULL      |AG          |35.867  |7.117    |891.0    |OUM EL BOUAGHI      |NULL|NULL        |60421 |Algeria     |NULL      |TMAX;TMIN;PRCP;SNWD;TAVG|4                |1                 |\n",
      "|AGM00060445|NULL      |AG          |36.178  |5.324    |1050.0   |SETIF AIN ARNAT     |NULL|NULL        |60445 |Algeria     |NULL      |TMAX;TMIN;PRCP;SNWD;TAVG|4                |1                 |\n",
      "|AGM00060461|NULL      |AG          |35.7    |-0.65    |22.0     |ORAN-PORT           |NULL|NULL        |60461 |Algeria     |NULL      |TMAX;TMIN;PRCP;TAVG     |3                |1                 |\n",
      "|AGM00060531|NULL      |AG          |35.017  |-1.45    |248.1    |ZENATA              |NULL|NULL        |60531 |Algeria     |NULL      |TMAX;TMIN;PRCP;SNWD;TAVG|4                |1                 |\n",
      "|AGM00060566|NULL      |AG          |32.384  |3.794    |460.9    |NOUMERAT            |NULL|NULL        |60566 |Algeria     |NULL      |TMAX;TMIN;PRCP;TAVG     |3                |1                 |\n",
      "|AGM00060581|NULL      |AG          |31.673  |6.14     |141.1    |OUED IRARA          |NULL|NULL        |60581 |Algeria     |NULL      |TMAX;TMIN;PRCP;TAVG     |3                |1                 |\n",
      "|AJ000037679|NULL      |AJ          |41.1    |49.2     |-26.0    |SIASAN'             |NULL|NULL        |37679 |Azerbaijan  |NULL      |PRCP                    |1                |0                 |\n",
      "|AJ000037734|NULL      |AJ          |40.8    |46.0     |404.0    |SHAMHOR             |NULL|NULL        |37734 |Azerbaijan  |NULL      |PRCP                    |1                |0                 |\n",
      "|AJ000037740|NULL      |AJ          |40.983  |47.867   |682.0    |QABALA              |NULL|NULL        |37740 |Azerbaijan  |NULL      |TMAX;TMIN;PRCP;SNWD;TAVG|4                |1                 |\n",
      "|AJ000037825|NULL      |AJ          |40.4    |46.3     |1612.0   |GEYGEL'-KURORT      |NULL|NULL        |37825 |Azerbaijan  |NULL      |PRCP                    |1                |0                 |\n",
      "|AJ000037831|NULL      |AJ          |40.4    |47.0     |160.0    |MIR-BASHIR          |NULL|NULL        |37831 |Azerbaijan  |NULL      |PRCP                    |1                |0                 |\n",
      "|AJ000037850|NULL      |AJ          |40.4    |49.8     |47.0     |BAKU                |NULL|NULL        |37850 |Azerbaijan  |NULL      |PRCP                    |1                |0                 |\n",
      "|AJ000037895|NULL      |AJ          |39.983  |46.75    |828.0    |KHANKANDY           |NULL|NULL        |37895 |Azerbaijan  |NULL      |TMAX;TMIN;PRCP;SNWD;TAVG|4                |1                 |\n",
      "|AJ000037902|NULL      |AJ          |39.8    |47.5     |157.0    |MOL'SKAYA,STEP'     |NULL|NULL        |37902 |Azerbaijan  |NULL      |PRCP                    |1                |0                 |\n",
      "+-----------+----------+------------+--------+---------+---------+--------------------+----+------------+------+------------+----------+------------------------+-----------------+------------------+\n",
      "only showing top 20 rows\n",
      "\n"
     ]
    },
    {
     "name": "stderr",
     "output_type": "stream",
     "text": [
      "                                                                                "
     ]
    }
   ],
   "source": [
    "stations_enriched.show(20, False)"
   ]
  },
  {
   "cell_type": "code",
   "execution_count": 13,
   "id": "b0e56edc-b336-4846-afef-ccdae65bbb92",
   "metadata": {},
   "outputs": [
    {
     "name": "stdout",
     "output_type": "stream",
     "text": [
      "+---------------------------------------------+\n",
      "|value                                        |\n",
      "+---------------------------------------------+\n",
      "|ACW00011604  17.1167  -61.7833 TMAX 1949 1949|\n",
      "|ACW00011604  17.1167  -61.7833 TMIN 1949 1949|\n",
      "|ACW00011604  17.1167  -61.7833 PRCP 1949 1949|\n",
      "|ACW00011604  17.1167  -61.7833 SNOW 1949 1949|\n",
      "|ACW00011604  17.1167  -61.7833 SNWD 1949 1949|\n",
      "|ACW00011604  17.1167  -61.7833 PGTM 1949 1949|\n",
      "|ACW00011604  17.1167  -61.7833 WDFG 1949 1949|\n",
      "|ACW00011604  17.1167  -61.7833 WSFG 1949 1949|\n",
      "|ACW00011604  17.1167  -61.7833 WT03 1949 1949|\n",
      "|ACW00011604  17.1167  -61.7833 WT08 1949 1949|\n",
      "|ACW00011604  17.1167  -61.7833 WT16 1949 1949|\n",
      "|ACW00011647  17.1333  -61.7833 TMAX 1961 1961|\n",
      "|ACW00011647  17.1333  -61.7833 TMIN 1961 1961|\n",
      "|ACW00011647  17.1333  -61.7833 PRCP 1957 1970|\n",
      "|ACW00011647  17.1333  -61.7833 SNOW 1957 1970|\n",
      "|ACW00011647  17.1333  -61.7833 SNWD 1957 1970|\n",
      "|ACW00011647  17.1333  -61.7833 WT03 1961 1961|\n",
      "|ACW00011647  17.1333  -61.7833 WT16 1961 1966|\n",
      "|AE000041196  25.3330   55.5170 TMAX 1944 2025|\n",
      "|AE000041196  25.3330   55.5170 TMIN 1944 2025|\n",
      "+---------------------------------------------+\n",
      "only showing top 20 rows\n",
      "\n"
     ]
    }
   ],
   "source": [
    "inventory_path = f'{directory_path}/ghcnd-inventory.txt'\n",
    "\n",
    "inventory_txt = spark.read.text(inventory_path)\n",
    "\n",
    "inventory_txt.show(20, False)"
   ]
  },
  {
   "cell_type": "code",
   "execution_count": 14,
   "id": "8b968870-1ff3-47b7-a24c-9c10939be45d",
   "metadata": {},
   "outputs": [
    {
     "name": "stdout",
     "output_type": "stream",
     "text": [
      "root\n",
      " |-- ID: string (nullable = true)\n",
      " |-- LATITUDE: string (nullable = true)\n",
      " |-- LONGITUDE: string (nullable = true)\n",
      " |-- ELEMENT: string (nullable = true)\n",
      " |-- FIRST_YEAR: string (nullable = true)\n",
      " |-- LAST_YEAR: string (nullable = true)\n",
      "\n",
      "+-----------+--------+---------+-------+----------+---------+\n",
      "|ID         |LATITUDE|LONGITUDE|ELEMENT|FIRST_YEAR|LAST_YEAR|\n",
      "+-----------+--------+---------+-------+----------+---------+\n",
      "|ACW00011604| 17.1167| -61.7833|TMAX   |1949      |1949     |\n",
      "|ACW00011604| 17.1167| -61.7833|TMIN   |1949      |1949     |\n",
      "|ACW00011604| 17.1167| -61.7833|PRCP   |1949      |1949     |\n",
      "|ACW00011604| 17.1167| -61.7833|SNOW   |1949      |1949     |\n",
      "|ACW00011604| 17.1167| -61.7833|SNWD   |1949      |1949     |\n",
      "|ACW00011604| 17.1167| -61.7833|PGTM   |1949      |1949     |\n",
      "|ACW00011604| 17.1167| -61.7833|WDFG   |1949      |1949     |\n",
      "|ACW00011604| 17.1167| -61.7833|WSFG   |1949      |1949     |\n",
      "|ACW00011604| 17.1167| -61.7833|WT03   |1949      |1949     |\n",
      "|ACW00011604| 17.1167| -61.7833|WT08   |1949      |1949     |\n",
      "|ACW00011604| 17.1167| -61.7833|WT16   |1949      |1949     |\n",
      "|ACW00011647| 17.1333| -61.7833|TMAX   |1961      |1961     |\n",
      "|ACW00011647| 17.1333| -61.7833|TMIN   |1961      |1961     |\n",
      "|ACW00011647| 17.1333| -61.7833|PRCP   |1957      |1970     |\n",
      "|ACW00011647| 17.1333| -61.7833|SNOW   |1957      |1970     |\n",
      "|ACW00011647| 17.1333| -61.7833|SNWD   |1957      |1970     |\n",
      "|ACW00011647| 17.1333| -61.7833|WT03   |1961      |1961     |\n",
      "|ACW00011647| 17.1333| -61.7833|WT16   |1961      |1966     |\n",
      "|AE000041196| 25.3330|  55.5170|TMAX   |1944      |2025     |\n",
      "|AE000041196| 25.3330|  55.5170|TMIN   |1944      |2025     |\n",
      "+-----------+--------+---------+-------+----------+---------+\n",
      "only showing top 20 rows\n",
      "\n"
     ]
    }
   ],
   "source": [
    "inventory = inventory_txt.select(\n",
    "    F.substring('value', 1,11).alias('ID'),\n",
    "    F.substring('value', 13,8).alias('LATITUDE'),\n",
    "    F.substring('value', 22,9).alias('LONGITUDE'),\n",
    "    F.substring('value', 32,4).alias('ELEMENT'),\n",
    "    F.substring('value', 37,4).alias('FIRST_YEAR'),\n",
    "    F.substring('value', 42,4).alias('LAST_YEAR'),    \n",
    ")\n",
    "\n",
    "inventory.printSchema()\n",
    "inventory.show(20, False)"
   ]
  },
  {
   "cell_type": "markdown",
   "id": "5d61b9ec-ca84-48dd-93bd-bfb4dd9358bd",
   "metadata": {},
   "source": [
    "### Answer 1(a)"
   ]
  },
  {
   "cell_type": "code",
   "execution_count": 16,
   "id": "abb7022e-7112-456f-9988-1c0258974fa2",
   "metadata": {},
   "outputs": [],
   "source": [
    "num_stations_active_25 = inventory.filter('LAST_YEAR == 2025').select('ID').distinct().count()"
   ]
  },
  {
   "cell_type": "code",
   "execution_count": 17,
   "id": "74dbefae-fc25-4656-bb53-f25d7c8154f3",
   "metadata": {},
   "outputs": [
    {
     "data": {
      "text/plain": [
       "38481"
      ]
     },
     "execution_count": 17,
     "metadata": {},
     "output_type": "execute_result"
    }
   ],
   "source": [
    "num_stations_active_25"
   ]
  },
  {
   "cell_type": "code",
   "execution_count": 21,
   "id": "370a5cf3-7b7b-4ec8-bdac-8e2dd47a2d9e",
   "metadata": {},
   "outputs": [
    {
     "data": {
      "text/plain": [
       "991"
      ]
     },
     "execution_count": 21,
     "metadata": {},
     "output_type": "execute_result"
    }
   ],
   "source": [
    "num_gsn = stations_enriched.filter(F.col('GSN') == 'GSN').select('ID').count()\n",
    "\n",
    "num_gsn"
   ]
  },
  {
   "cell_type": "code",
   "execution_count": 22,
   "id": "98e87a9b-5a59-4178-9643-c225cf76490c",
   "metadata": {},
   "outputs": [
    {
     "data": {
      "text/plain": [
       "1218"
      ]
     },
     "execution_count": 22,
     "metadata": {},
     "output_type": "execute_result"
    }
   ],
   "source": [
    "num_hsn = stations_enriched.filter(F.col('HCN_CRN_FLAG') == 'HCN').count()\n",
    "\n",
    "num_hsn"
   ]
  },
  {
   "cell_type": "code",
   "execution_count": 23,
   "id": "207cb98e-e669-411f-ae0a-59cc30c4dbfa",
   "metadata": {},
   "outputs": [
    {
     "data": {
      "text/plain": [
       "234"
      ]
     },
     "execution_count": 23,
     "metadata": {},
     "output_type": "execute_result"
    }
   ],
   "source": [
    "num_crn = stations_enriched.filter(F.col('HCN_CRN_FLAG') == 'CRN').count()\n",
    "\n",
    "num_crn"
   ]
  },
  {
   "cell_type": "code",
   "execution_count": 32,
   "id": "5d612a74-085c-4f53-ad9d-9caa39fbe006",
   "metadata": {},
   "outputs": [
    {
     "data": {
      "text/plain": [
       "15"
      ]
     },
     "execution_count": 32,
     "metadata": {},
     "output_type": "execute_result"
    }
   ],
   "source": [
    "num_multiple_networks = stations_enriched.filter(\n",
    "    F.col('GSN').isNotNull() & F.col('HCN_CRN_FLAG').isNotNull()\n",
    ").count()\n",
    "\n",
    "num_multiple_networks"
   ]
  },
  {
   "cell_type": "markdown",
   "id": "50b85933-3ca0-4998-8c59-0f89914f2416",
   "metadata": {},
   "source": [
    "### Answer 1(b)"
   ]
  },
  {
   "cell_type": "code",
   "execution_count": 33,
   "id": "0cc48aa8-7c29-41a6-97fa-c9b884c50aa2",
   "metadata": {},
   "outputs": [
    {
     "data": {
      "text/plain": [
       "25316"
      ]
     },
     "execution_count": 33,
     "metadata": {},
     "output_type": "execute_result"
    }
   ],
   "source": [
    "num_stations_south_hemi = stations_enriched.filter(F.col('LATITUDE') < 0).count()\n",
    "\n",
    "num_stations_south_hemi"
   ]
  },
  {
   "cell_type": "code",
   "execution_count": 37,
   "id": "aac32a50-fae8-4a21-8cbe-255f61bb07a5",
   "metadata": {},
   "outputs": [
    {
     "data": {
      "text/plain": [
       "414"
      ]
     },
     "execution_count": 37,
     "metadata": {},
     "output_type": "execute_result"
    }
   ],
   "source": [
    "num_us_territory = stations_enriched.filter(\n",
    "    (F.col('COUNTRY_NAME').like('%United States%')) &\n",
    "    (F.col('COUNTRY_NAME') != 'United States')\n",
    ").count()\n",
    "\n",
    "num_us_territory"
   ]
  },
  {
   "cell_type": "markdown",
   "id": "ac3fbc5b-8caa-4be4-861c-519a8ba210a9",
   "metadata": {},
   "source": [
    "### Answer (c)"
   ]
  },
  {
   "cell_type": "code",
   "execution_count": 38,
   "id": "1fee1a53-734c-4e55-a2e0-c8cf106ea6e4",
   "metadata": {},
   "outputs": [
    {
     "name": "stdout",
     "output_type": "stream",
     "text": [
      "root\n",
      " |-- COUNTRY_CODE: string (nullable = true)\n",
      " |-- COUNTRY_NAME: string (nullable = true)\n",
      "\n",
      "+------------+-------------------------------+\n",
      "|COUNTRY_CODE|COUNTRY_NAME                   |\n",
      "+------------+-------------------------------+\n",
      "|AC          |Antigua and Barbuda            |\n",
      "|AE          |United Arab Emirates           |\n",
      "|AF          |Afghanistan                    |\n",
      "|AG          |Algeria                        |\n",
      "|AJ          |Azerbaijan                     |\n",
      "|AL          |Albania                        |\n",
      "|AM          |Armenia                        |\n",
      "|AO          |Angola                         |\n",
      "|AQ          |American Samoa [United States] |\n",
      "|AR          |Argentina                      |\n",
      "|AS          |Australia                      |\n",
      "|AU          |Austria                        |\n",
      "|AY          |Antarctica                     |\n",
      "|BA          |Bahrain                        |\n",
      "|BB          |Barbados                       |\n",
      "|BC          |Botswana                       |\n",
      "|BD          |Bermuda [United Kingdom]       |\n",
      "|BE          |Belgium                        |\n",
      "|BF          |Bahamas, The                   |\n",
      "|BG          |Bangladesh                     |\n",
      "+------------+-------------------------------+\n",
      "only showing top 20 rows\n",
      "\n"
     ]
    }
   ],
   "source": [
    "countries_path = f'{directory_path}/ghcnd-countries.txt'\n",
    "\n",
    "countries_txt = spark.read.text(countries_path)\n",
    "\n",
    "countries = countries_txt.select(\n",
    "    F.substring('value', 1,2).alias('COUNTRY_CODE'),\n",
    "    F.substring('value', 4,61).alias('COUNTRY_NAME')\n",
    ")\n",
    "\n",
    "countries.printSchema()\n",
    "\n",
    "countries.show(20, False)"
   ]
  },
  {
   "cell_type": "code",
   "execution_count": 43,
   "id": "dd49e5aa-1227-48d9-9829-6bc168594588",
   "metadata": {},
   "outputs": [
    {
     "name": "stdout",
     "output_type": "stream",
     "text": [
      "+------------+------------+\n",
      "|COUNTRY_CODE|NUM_STATIONS|\n",
      "+------------+------------+\n",
      "|          TI|          62|\n",
      "|          MX|        5249|\n",
      "|          NI|          10|\n",
      "|          SW|        1721|\n",
      "|          UG|           8|\n",
      "|          GM|        1123|\n",
      "|          TO|          10|\n",
      "|          HU|          10|\n",
      "|          NH|           6|\n",
      "|          RS|        1123|\n",
      "|          MB|           2|\n",
      "|          CJ|           1|\n",
      "|          IV|          21|\n",
      "|          EG|          23|\n",
      "|          PS|          13|\n",
      "|          HO|           8|\n",
      "|          AR|         101|\n",
      "|          CG|          13|\n",
      "|          TL|           1|\n",
      "|          SU|          28|\n",
      "+------------+------------+\n",
      "only showing top 20 rows\n",
      "\n"
     ]
    }
   ],
   "source": [
    "stations_count_country = stations_enriched.groupBy('COUNTRY_CODE').agg(F.countDistinct('ID').alias('NUM_STATIONS')).select('COUNTRY_CODE', 'NUM_STATIONS')\n",
    "\n",
    "stations_count_country.show()"
   ]
  },
  {
   "cell_type": "code",
   "execution_count": 45,
   "id": "4956357d-adf0-4366-9820-94458398b50e",
   "metadata": {},
   "outputs": [
    {
     "name": "stdout",
     "output_type": "stream",
     "text": [
      "+------------+--------------------+------------+\n",
      "|COUNTRY_CODE|        COUNTRY_NAME|NUM_STATIONS|\n",
      "+------------+--------------------+------------+\n",
      "|          US|      United States |       75846|\n",
      "|          AS|          Australia |       17088|\n",
      "|          CA|             Canada |        9269|\n",
      "|          BR|              Brazil|        5989|\n",
      "|          MX|             Mexico |        5249|\n",
      "|          IN|              India |        3807|\n",
      "|          SW|             Sweden |        1721|\n",
      "|          SF|       South Africa |        1166|\n",
      "|          GM|            Germany |        1123|\n",
      "|          RS|             Russia |        1123|\n",
      "|          FI|            Finland |         922|\n",
      "|          NO|             Norway |         461|\n",
      "|          NL|        Netherlands |         386|\n",
      "|          KZ|         Kazakhstan |         329|\n",
      "|          WA|            Namibia |         283|\n",
      "|          RQ|Puerto Rico [Unit...|         260|\n",
      "|          CH|             China  |         228|\n",
      "|          SP|              Spain |         207|\n",
      "|          UP|            Ukraine |         204|\n",
      "|          JA|              Japan |         202|\n",
      "+------------+--------------------+------------+\n",
      "only showing top 20 rows\n",
      "\n"
     ]
    }
   ],
   "source": [
    "countries_with_station_counts = countries.join(stations_count_country, on='COUNTRY_CODE', how='left')\n",
    "\n",
    "countries_with_station_counts.orderBy(F.desc('NUM_STATIONS')).show()"
   ]
  },
  {
   "cell_type": "code",
   "execution_count": 55,
   "id": "ec3b7f4a-a69f-4b62-85ef-041384833cd7",
   "metadata": {},
   "outputs": [],
   "source": [
    "output_path = f'wasbs://{azure_user_container_name}@{azure_account_name}.blob.core.windows.net'"
   ]
  },
  {
   "cell_type": "code",
   "execution_count": 64,
   "id": "87683e45-fb6e-413c-8518-70981e1252bd",
   "metadata": {},
   "outputs": [
    {
     "name": "stderr",
     "output_type": "stream",
     "text": [
      "25/08/27 15:45:29 WARN AzureFileSystemThreadPoolExecutor: Disabling threads for Delete operation as thread count 0 is <= 1\n"
     ]
    }
   ],
   "source": [
    "output_countries_count_path = f'{output_path}/rsh224/countries_count_stations'\n",
    "countries_with_station_counts.write.mode('overwrite').option('header', True).csv(output_countries_count_path)"
   ]
  },
  {
   "cell_type": "code",
   "execution_count": 65,
   "id": "11a2f575-4974-40e8-8c5e-dc8e3c1cf96a",
   "metadata": {},
   "outputs": [
    {
     "name": "stdout",
     "output_type": "stream",
     "text": [
      "Found 3 items\n",
      "drwxr-xr-x   - rsh224 supergroup          0 2025-08-27 15:45 wasbs://campus-user@madsstorage002.blob.core.windows.net/rsh224/countries_count_stations\n",
      "-rwxrwxrwx   1                            6 2025-07-09 15:22 wasbs://campus-user@madsstorage002.blob.core.windows.net/rsh224/rsh224\n",
      "drwxr-xr-x   - rsh224 supergroup          0 2025-08-26 19:41 wasbs://campus-user@madsstorage002.blob.core.windows.net/rsh224/stations-enriched\n"
     ]
    }
   ],
   "source": [
    "!hdfs dfs -ls {output_path}/rsh224/"
   ]
  },
  {
   "cell_type": "code",
   "execution_count": 68,
   "id": "eebe27ee-ba90-4c15-a2aa-3cce157fc13d",
   "metadata": {},
   "outputs": [
    {
     "name": "stdout",
     "output_type": "stream",
     "text": [
      "Found 2 items\n",
      "-rw-r--r--   1 rsh224 supergroup          0 2025-08-27 15:45 wasbs://campus-user@madsstorage002.blob.core.windows.net/rsh224/countries_count_stations/_SUCCESS\n",
      "-rw-r--r--   1 rsh224 supergroup       4133 2025-08-27 15:45 wasbs://campus-user@madsstorage002.blob.core.windows.net/rsh224/countries_count_stations/part-00000-fe0afcaa-f455-4b1b-9f9f-84f85636a5c2-c000.csv\n"
     ]
    }
   ],
   "source": [
    "!hdfs dfs -ls {output_path}/rsh224/countries_count_stations/"
   ]
  },
  {
   "cell_type": "code",
   "execution_count": 69,
   "id": "23cdff2a-b3b2-439c-bc20-beb32c6365be",
   "metadata": {},
   "outputs": [
    {
     "name": "stdout",
     "output_type": "stream",
     "text": [
      "+----+-----------------------------------------------+\n",
      "|CODE|NAME                                           |\n",
      "+----+-----------------------------------------------+\n",
      "|AB  |ALBERTA                                        |\n",
      "|AK  |ALASKA                                         |\n",
      "|AL  |ALABAMA                                        |\n",
      "|AR  |ARKANSAS                                       |\n",
      "|AS  |AMERICAN SAMOA                                 |\n",
      "|AZ  |ARIZONA                                        |\n",
      "|BC  |BRITISH COLUMBIA                               |\n",
      "|CA  |CALIFORNIA                                     |\n",
      "|CO  |COLORADO                                       |\n",
      "|CT  |CONNECTICUT                                    |\n",
      "|DC  |DISTRICT OF COLUMBIA                           |\n",
      "|DE  |DELAWARE                                       |\n",
      "|FL  |FLORIDA                                        |\n",
      "|FM  |MICRONESIA                                     |\n",
      "|GA  |GEORGIA                                        |\n",
      "|GU  |GUAM                                           |\n",
      "|HI  |HAWAII                                         |\n",
      "|IA  |IOWA                                           |\n",
      "|ID  |IDAHO                                          |\n",
      "|IL  |ILLINOIS                                       |\n",
      "+----+-----------------------------------------------+\n",
      "only showing top 20 rows\n",
      "\n"
     ]
    }
   ],
   "source": [
    "states_path = f'{directory_path}/ghcnd-states.txt'\n",
    "\n",
    "states_txt = spark.read.text(states_path)\n",
    "\n",
    "states = states_txt.select(\n",
    "    F.substring('value', 1,2).alias('CODE'),\n",
    "    F.substring('value', 4,47).alias('NAME')\n",
    ")\n",
    "\n",
    "states.show(20, False)"
   ]
  },
  {
   "cell_type": "code",
   "execution_count": 70,
   "id": "baff7743-23ba-4df0-8d45-f2c6b4df9e1f",
   "metadata": {},
   "outputs": [
    {
     "name": "stdout",
     "output_type": "stream",
     "text": [
      "root\n",
      " |-- ID: string (nullable = true)\n",
      " |-- STATE_CODE: string (nullable = true)\n",
      " |-- COUNTRY_CODE: string (nullable = true)\n",
      " |-- LATITUDE: string (nullable = true)\n",
      " |-- LONGITUDE: string (nullable = true)\n",
      " |-- ELEVATION: string (nullable = true)\n",
      " |-- STATION_NAME: string (nullable = true)\n",
      " |-- GSN: string (nullable = true)\n",
      " |-- HCN_CRN_FLAG: string (nullable = true)\n",
      " |-- WMO_ID: string (nullable = true)\n",
      " |-- COUNTRY_NAME: string (nullable = true)\n",
      " |-- STATE_NAME: string (nullable = true)\n",
      " |-- ELEMENTS: string (nullable = true)\n",
      " |-- NUM_CORE_ELEMENTS: string (nullable = true)\n",
      " |-- NUM_OTHER_ELEMENTS: string (nullable = true)\n",
      "\n"
     ]
    }
   ],
   "source": [
    "stations_enriched.printSchema()"
   ]
  },
  {
   "cell_type": "code",
   "execution_count": 72,
   "id": "a9b27cc0-6741-4b03-ac17-76daaa448ba4",
   "metadata": {},
   "outputs": [],
   "source": [
    "stations_states = stations_enriched.select('ID', 'STATE_CODE', 'STATE_NAME')"
   ]
  },
  {
   "cell_type": "code",
   "execution_count": 75,
   "id": "97a60aba-29da-47e9-b969-368f795fb60f",
   "metadata": {},
   "outputs": [
    {
     "data": {
      "text/plain": [
       "76"
      ]
     },
     "execution_count": 75,
     "metadata": {},
     "output_type": "execute_result"
    }
   ],
   "source": [
    "stations_states.select('STATE_CODE').distinct().count()"
   ]
  },
  {
   "cell_type": "code",
   "execution_count": 76,
   "id": "96e93340-eadd-4f90-81c2-f0c66d58683b",
   "metadata": {},
   "outputs": [
    {
     "data": {
      "text/plain": [
       "74"
      ]
     },
     "execution_count": 76,
     "metadata": {},
     "output_type": "execute_result"
    }
   ],
   "source": [
    "stations_states.select('STATE_NAME').distinct().count()"
   ]
  },
  {
   "cell_type": "code",
   "execution_count": 78,
   "id": "b3ef38c7-7f91-4062-8e86-530561f3bb4e",
   "metadata": {},
   "outputs": [
    {
     "name": "stdout",
     "output_type": "stream",
     "text": [
      "+----------+--------------+\n",
      "|STATE_CODE|STATIONS_COUNT|\n",
      "+----------+--------------+\n",
      "|        ND|           588|\n",
      "|        NH|           495|\n",
      "|        AZ|          1692|\n",
      "|        NM|          2295|\n",
      "|        AR|           961|\n",
      "|        KS|          2401|\n",
      "|        LA|           849|\n",
      "|        NY|          1912|\n",
      "|        UT|           986|\n",
      "|        WA|          1694|\n",
      "|        AK|          1049|\n",
      "|        IA|          1106|\n",
      "|        IL|          2234|\n",
      "|        WY|          1348|\n",
      "|        CT|           434|\n",
      "|        WV|           552|\n",
      "|        MT|          1312|\n",
      "|        SD|          1191|\n",
      "|        MI|          1494|\n",
      "|        MS|           673|\n",
      "+----------+--------------+\n",
      "only showing top 20 rows\n",
      "\n"
     ]
    }
   ],
   "source": [
    "states_stations_count = stations_enriched.filter(\n",
    "    (F.col('COUNTRY_CODE') == 'US') &\n",
    "    (F.col('STATE_CODE').isNotNull()) &\n",
    "    (F.col('STATE_CODE') != '')\n",
    ").groupBy('STATE_CODE').agg(F.countDistinct('ID').alias('STATIONS_COUNT')).select('STATE_CODE', 'STATIONS_COUNT')\n",
    "\n",
    "states_stations_count.show()"
   ]
  },
  {
   "cell_type": "code",
   "execution_count": 81,
   "id": "f4795456-3bc0-435f-9654-77f5e0e7ece6",
   "metadata": {},
   "outputs": [
    {
     "name": "stdout",
     "output_type": "stream",
     "text": [
      "+----------+--------------------+--------------+\n",
      "|STATE_CODE|                NAME|STATIONS_COUNT|\n",
      "+----------+--------------------+--------------+\n",
      "|        AB|             ALBERTA|             0|\n",
      "|        AK|              ALASKA|          1049|\n",
      "|        AL|ALABAMA          ...|          1151|\n",
      "|        AR|            ARKANSAS|           961|\n",
      "|        AS|      AMERICAN SAMOA|             0|\n",
      "|        AZ|             ARIZONA|          1692|\n",
      "|        BC|    BRITISH COLUMBIA|             0|\n",
      "|        CA|          CALIFORNIA|          3166|\n",
      "|        CO|            COLORADO|          4784|\n",
      "|        CT|         CONNECTICUT|           434|\n",
      "|        DC|DISTRICT OF COLUMBIA|            18|\n",
      "|        DE|            DELAWARE|           148|\n",
      "|        FL|             FLORIDA|          2244|\n",
      "|        FM|          MICRONESIA|             0|\n",
      "|        GA|             GEORGIA|          1407|\n",
      "|        GU|                GUAM|             0|\n",
      "|        HI|              HAWAII|           801|\n",
      "|        IA|                IOWA|          1106|\n",
      "|        ID|               IDAHO|           846|\n",
      "|        IL|            ILLINOIS|          2234|\n",
      "+----------+--------------------+--------------+\n",
      "only showing top 20 rows\n",
      "\n"
     ]
    }
   ],
   "source": [
    "states_enriched = states.withColumnRenamed('CODE', 'STATE_CODE').join(states_stations_count, on='STATE_CODE', how='left').select(\n",
    "    'STATE_CODE',\n",
    "    'NAME',\n",
    "    F.coalesce('STATIONS_COUNT', F.lit(0)).alias('STATIONS_COUNT')\n",
    ")\n",
    "\n",
    "states_enriched.show()"
   ]
  },
  {
   "cell_type": "code",
   "execution_count": 83,
   "id": "873921f8-cf32-40cf-a6f2-b0eeb1b35af4",
   "metadata": {},
   "outputs": [
    {
     "name": "stderr",
     "output_type": "stream",
     "text": [
      "25/08/27 16:15:41 WARN AzureFileSystemThreadPoolExecutor: Disabling threads for Delete operation as thread count 0 is <= 1\n",
      "25/08/27 16:15:42 WARN AzureFileSystemThreadPoolExecutor: Disabling threads for Delete operation as thread count 0 is <= 1\n"
     ]
    }
   ],
   "source": [
    "output_states_count_path = f'{output_path}/rsh224/states_count_stations'\n",
    "states_enriched.write.mode('overwrite').option('header', True).csv(output_states_count_path)"
   ]
  },
  {
   "cell_type": "code",
   "execution_count": 84,
   "id": "66228749-77c4-4028-9a91-8d8cece02c6a",
   "metadata": {},
   "outputs": [
    {
     "name": "stdout",
     "output_type": "stream",
     "text": [
      "Found 4 items\n",
      "drwxr-xr-x   - rsh224 supergroup          0 2025-08-27 15:45 wasbs://campus-user@madsstorage002.blob.core.windows.net/rsh224/countries_count_stations\n",
      "-rwxrwxrwx   1                            6 2025-07-09 15:22 wasbs://campus-user@madsstorage002.blob.core.windows.net/rsh224/rsh224\n",
      "drwxr-xr-x   - rsh224 supergroup          0 2025-08-27 16:15 wasbs://campus-user@madsstorage002.blob.core.windows.net/rsh224/states_count_stations\n",
      "drwxr-xr-x   - rsh224 supergroup          0 2025-08-26 19:41 wasbs://campus-user@madsstorage002.blob.core.windows.net/rsh224/stations-enriched\n"
     ]
    }
   ],
   "source": [
    "!hdfs dfs -ls {output_path}/rsh224/"
   ]
  },
  {
   "cell_type": "code",
   "execution_count": 86,
   "id": "fc668190-a41e-487a-b0d5-294608b10bfe",
   "metadata": {},
   "outputs": [
    {
     "name": "stdout",
     "output_type": "stream",
     "text": [
      "STATE_CODE,NAME,STATIONS_COUNT\n",
      "AB,ALBERTA,0\n",
      "AK,ALASKA,1049\n",
      "AL,ALABAMA,1151\n",
      "AR,ARKANSAS,961\n",
      "AS,AMERICAN SAMOA,0\n",
      "AZ,ARIZONA,1692\n",
      "BC,BRITISH COLUMBIA,0\n",
      "CA,CALIFORNIA,3166\n",
      "CO,COLORADO,4784\n",
      "CT,CONNECTICUT,434\n",
      "DC,DISTRICT OF COLUMBIA,18\n",
      "DE,DELAWARE,148\n",
      "FL,FLORIDA,2244\n",
      "FM,MICRONESIA,0\n",
      "GA,GEORGIA,1407\n",
      "GU,GUAM,0\n",
      "HI,HAWAII,801\n",
      "IA,IOWA,1106\n",
      "ID,IDAHO,846\n",
      "IL,ILLINOIS,2234\n",
      "IN,INDIANA,2020\n",
      "KS,KANSAS,2401\n",
      "KY,KENTUCKY,1012\n",
      "LA,LOUISIANA,849\n",
      "MA,MASSACHUSETTS,852\n",
      "MB,MANITOBA,0\n",
      "MD,MARYLAND,759\n",
      "ME,MAINE,586\n",
      "MH,MARSHALL ISLANDS,0\n",
      "MI,MICHIGAN,1494\n",
      "MN,MINNESOTA,2675\n",
      "MO,MISSOURI,1624\n",
      "MP,NORTHERN MARIANA ISLANDS,0\n",
      "MS,MISSISSIPPI,673\n",
      "MT,MONTANA,1312\n",
      "NB,NEW BRUNSWICK,0\n",
      "NC,NORTH CAROLINA,2747\n",
      "ND,NORTH DAKOTA,588\n",
      "NE,NEBRASKA,2436\n",
      "NH,NEW HAMPSHIRE,495\n",
      "NJ,NEW JERSEY,870\n",
      "NL,NEWFOUNDLAND AND LABRADOR,0\n",
      "NM,NEW MEXICO,2295\n",
      "NS,NOVA SCOTIA,0\n",
      "NT,NORTHWEST TERRITORIES,0\n",
      "NU,NUNAVUT,0\n",
      "NV,NEVADA,714\n",
      "NY,NEW YORK,1912\n",
      "OH,OHIO,1479\n",
      "OK,OKLAHOMA,1116\n",
      "ON,ONTARIO,0\n",
      "OR,OREGON,2031\n",
      "PA,PENNSYLVANIA,1641\n",
      "PE,PRINCE EDWARD ISLAND,0\n",
      "PI,PACIFIC ISLANDS,0\n",
      "PR,PUERTO RICO,0\n",
      "PW,PALAU,0\n",
      "QC,QUEBEC,0\n",
      "RI,RHODE ISLAND,242\n",
      "SC,SOUTH CAROLINA,1579\n",
      "SD,SOUTH DAKOTA,1191\n",
      "SK,SASKATCHEWAN,0\n",
      "TN,TENNESSEE,1755\n",
      "TX,TEXAS,6472\n",
      "UM,U.S. MINOR OUTLYING ISLANDS,1\n",
      "UT,UTAH,986\n",
      "VA,VIRGINIA,1408\n",
      "VI,VIRGIN ISLANDS,0\n",
      "VT,VERMONT,411\n",
      "WA,WASHINGTON,1694\n",
      "WI,WISCONSIN,1585\n",
      "WV,WEST VIRGINIA,552\n",
      "WY,WYOMING,1348\n",
      "YT,YUKON TERRITORY,0\n"
     ]
    }
   ],
   "source": [
    "!hdfs dfs -cat {output_path}/rsh224/states_count_stations/*"
   ]
  },
  {
   "cell_type": "code",
   "execution_count": 21,
   "id": "e0484b39-2b75-4af8-a1de-b1a7a2d19e4b",
   "metadata": {},
   "outputs": [
    {
     "data": {
      "text/html": [
       "<p><b>Spark</b></p><p>The spark session is <b><span style=\"color:red\">stopped</span></b>, confirm that <code>rsh224 (notebook)</code> is under the completed applications section in the Spark UI.</p><ul><li><a href=\"http://mathmadslinux2p.canterbury.ac.nz:8080/\" target=\"_blank\">Spark UI</a></li></ul>"
      ],
      "text/plain": [
       "<IPython.core.display.HTML object>"
      ]
     },
     "metadata": {},
     "output_type": "display_data"
    }
   ],
   "source": [
    "stop_spark()"
   ]
  }
 ],
 "metadata": {
  "kernelspec": {
   "display_name": "Python 3 (ipykernel)",
   "language": "python",
   "name": "python3"
  },
  "language_info": {
   "codemirror_mode": {
    "name": "ipython",
    "version": 3
   },
   "file_extension": ".py",
   "mimetype": "text/x-python",
   "name": "python",
   "nbconvert_exporter": "python",
   "pygments_lexer": "ipython3",
   "version": "3.8.10"
  }
 },
 "nbformat": 4,
 "nbformat_minor": 5
}
