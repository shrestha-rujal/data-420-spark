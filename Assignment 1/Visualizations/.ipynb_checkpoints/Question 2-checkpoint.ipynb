{
 "cells": [
  {
   "cell_type": "code",
   "execution_count": 1,
   "id": "5f0d871f-957f-4314-94e3-16b9c1c4cf9b",
   "metadata": {
    "jupyter": {
     "source_hidden": true
    }
   },
   "outputs": [
    {
     "data": {
      "text/html": [
       "<style>pre { white-space: pre !important; }table.dataframe td { white-space: nowrap !important; }table.dataframe thead th:first-child, table.dataframe tbody th { display: none; }</style>"
      ],
      "text/plain": [
       "<IPython.core.display.HTML object>"
      ]
     },
     "metadata": {},
     "output_type": "display_data"
    }
   ],
   "source": [
    "# Run this cell to import pyspark and to define start_spark() and stop_spark()\n",
    "\n",
    "import findspark\n",
    "\n",
    "findspark.init()\n",
    "\n",
    "import getpass\n",
    "import pandas\n",
    "import pyspark\n",
    "import random\n",
    "import re\n",
    "\n",
    "from IPython.display import display, HTML\n",
    "from pyspark import SparkContext\n",
    "from pyspark.sql import SparkSession\n",
    "import pyspark.sql.functions as F\n",
    "\n",
    "\n",
    "# Constants used to interact with Azure Blob Storage using the hdfs command or Spark\n",
    "\n",
    "global username\n",
    "\n",
    "username = re.sub('@.*', '', getpass.getuser())\n",
    "\n",
    "global azure_account_name\n",
    "global azure_data_container_name\n",
    "global azure_user_container_name\n",
    "global azure_user_token\n",
    "\n",
    "azure_account_name = \"madsstorage002\"\n",
    "azure_data_container_name = \"campus-data\"\n",
    "azure_user_container_name = \"campus-user\"\n",
    "azure_user_token = r\"sp=racwdl&st=2025-08-01T09:41:33Z&se=2026-12-30T16:56:33Z&spr=https&sv=2024-11-04&sr=c&sig=GzR1hq7EJ0lRHj92oDO1MBNjkc602nrpfB5H8Cl7FFY%3D\"\n",
    "\n",
    "\n",
    "# Functions used below\n",
    "\n",
    "def dict_to_html(d):\n",
    "    \"\"\"Convert a Python dictionary into a two column table for display.\n",
    "    \"\"\"\n",
    "\n",
    "    html = []\n",
    "\n",
    "    html.append(f'<table width=\"100%\" style=\"width:100%; font-family: monospace;\">')\n",
    "    for k, v in d.items():\n",
    "        html.append(f'<tr><td style=\"text-align:left;\">{k}</td><td>{v}</td></tr>')\n",
    "    html.append(f'</table>')\n",
    "\n",
    "    return ''.join(html)\n",
    "\n",
    "\n",
    "def show_as_html(df, n=20):\n",
    "    \"\"\"Leverage existing pandas jupyter integration to show a spark dataframe as html.\n",
    "    \n",
    "    Args:\n",
    "        n (int): number of rows to show (default: 20)\n",
    "    \"\"\"\n",
    "\n",
    "    display(df.limit(n).toPandas())\n",
    "\n",
    "    \n",
    "def display_spark():\n",
    "    \"\"\"Display the status of the active Spark session if one is currently running.\n",
    "    \"\"\"\n",
    "    \n",
    "    if 'spark' in globals() and 'sc' in globals():\n",
    "\n",
    "        name = sc.getConf().get(\"spark.app.name\")\n",
    "\n",
    "        html = [\n",
    "            f'<p><b>Spark</b></p>',\n",
    "            f'<p>The spark session is <b><span style=\"color:green\">active</span></b>, look for <code>{name}</code> under the running applications section in the Spark UI.</p>',\n",
    "            f'<ul>',\n",
    "            f'<li><a href=\"http://localhost:{sc.uiWebUrl.split(\":\")[-1]}\" target=\"_blank\">Spark Application UI</a></li>',\n",
    "            f'</ul>',\n",
    "            f'<p><b>Config</b></p>',\n",
    "            dict_to_html(dict(sc.getConf().getAll())),\n",
    "            f'<p><b>Notes</b></p>',\n",
    "            f'<ul>',\n",
    "            f'<li>The spark session <code>spark</code> and spark context <code>sc</code> global variables have been defined by <code>start_spark()</code>.</li>',\n",
    "            f'<li>Please run <code>stop_spark()</code> before closing the notebook or restarting the kernel or kill <code>{name}</code> by hand using the link in the Spark UI.</li>',\n",
    "            f'</ul>',\n",
    "        ]\n",
    "        display(HTML(''.join(html)))\n",
    "        \n",
    "    else:\n",
    "        \n",
    "        html = [\n",
    "            f'<p><b>Spark</b></p>',\n",
    "            f'<p>The spark session is <b><span style=\"color:red\">stopped</span></b>, confirm that <code>{username} (notebook)</code> is under the completed applications section in the Spark UI.</p>',\n",
    "            f'<ul>',\n",
    "            f'<li><a href=\"http://mathmadslinux2p.canterbury.ac.nz:8080/\" target=\"_blank\">Spark UI</a></li>',\n",
    "            f'</ul>',\n",
    "        ]\n",
    "        display(HTML(''.join(html)))\n",
    "\n",
    "\n",
    "# Functions to start and stop spark\n",
    "\n",
    "def start_spark(executor_instances=2, executor_cores=1, worker_memory=1, master_memory=1):\n",
    "    \"\"\"Start a new Spark session and define globals for SparkSession (spark) and SparkContext (sc).\n",
    "    \n",
    "    Args:\n",
    "        executor_instances (int): number of executors (default: 2)\n",
    "        executor_cores (int): number of cores per executor (default: 1)\n",
    "        worker_memory (float): worker memory (default: 1)\n",
    "        master_memory (float): master memory (default: 1)\n",
    "    \"\"\"\n",
    "\n",
    "    global spark\n",
    "    global sc\n",
    "\n",
    "    cores = executor_instances * executor_cores\n",
    "    partitions = cores * 4\n",
    "    port = 4000 + random.randint(1, 999)\n",
    "\n",
    "    spark = (\n",
    "        SparkSession.builder\n",
    "        .config(\"spark.driver.extraJavaOptions\", f\"-Dderby.system.home=/tmp/{username}/spark/\")\n",
    "        .config(\"spark.dynamicAllocation.enabled\", \"false\")\n",
    "        .config(\"spark.executor.instances\", str(executor_instances))\n",
    "        .config(\"spark.executor.cores\", str(executor_cores))\n",
    "        .config(\"spark.cores.max\", str(cores))\n",
    "        .config(\"spark.driver.memory\", f'{master_memory}g')\n",
    "        .config(\"spark.executor.memory\", f'{worker_memory}g')\n",
    "        .config(\"spark.driver.maxResultSize\", \"0\")\n",
    "        .config(\"spark.sql.shuffle.partitions\", str(partitions))\n",
    "        .config(\"spark.kubernetes.container.image\", \"madsregistry001.azurecr.io/hadoop-spark:v3.3.5-openjdk-8\")\n",
    "        .config(\"spark.kubernetes.container.image.pullPolicy\", \"IfNotPresent\")\n",
    "        .config(\"spark.kubernetes.memoryOverheadFactor\", \"0.3\")\n",
    "        .config(\"spark.memory.fraction\", \"0.1\")\n",
    "        .config(f\"fs.azure.sas.{azure_user_container_name}.{azure_account_name}.blob.core.windows.net\",  azure_user_token)\n",
    "        .config(\"spark.app.name\", f\"{username} (notebook)\")\n",
    "        .getOrCreate()\n",
    "    )\n",
    "    sc = SparkContext.getOrCreate()\n",
    "    \n",
    "    display_spark()\n",
    "\n",
    "    \n",
    "def stop_spark():\n",
    "    \"\"\"Stop the active Spark session and delete globals for SparkSession (spark) and SparkContext (sc).\n",
    "    \"\"\"\n",
    "\n",
    "    global spark\n",
    "    global sc\n",
    "\n",
    "    if 'spark' in globals() and 'sc' in globals():\n",
    "\n",
    "        spark.stop()\n",
    "\n",
    "        del spark\n",
    "        del sc\n",
    "\n",
    "    display_spark()\n",
    "\n",
    "\n",
    "# Make css changes to improve spark output readability\n",
    "\n",
    "html = [\n",
    "    '<style>',\n",
    "    'pre { white-space: pre !important; }',\n",
    "    'table.dataframe td { white-space: nowrap !important; }',\n",
    "    'table.dataframe thead th:first-child, table.dataframe tbody th { display: none; }',\n",
    "    '</style>',\n",
    "]\n",
    "display(HTML(''.join(html)))"
   ]
  },
  {
   "cell_type": "code",
   "execution_count": 2,
   "id": "85832872-5393-4ea9-9f6c-6a49c94386ec",
   "metadata": {
    "scrolled": true
   },
   "outputs": [
    {
     "name": "stderr",
     "output_type": "stream",
     "text": [
      "Warning: Ignoring non-Spark config property: fs.azure.sas.campus-user.madsstorage002.blob.core.windows.net\n",
      "Warning: Ignoring non-Spark config property: SPARK_DRIVER_BIND_ADDRESS\n",
      "25/09/12 14:56:41 WARN NativeCodeLoader: Unable to load native-hadoop library for your platform... using builtin-java classes where applicable\n",
      "Setting default log level to \"WARN\".\n",
      "To adjust logging level use sc.setLogLevel(newLevel). For SparkR, use setLogLevel(newLevel).\n"
     ]
    },
    {
     "data": {
      "text/html": [
       "<p><b>Spark</b></p><p>The spark session is <b><span style=\"color:green\">active</span></b>, look for <code>rsh224 (notebook)</code> under the running applications section in the Spark UI.</p><ul><li><a href=\"http://localhost:4046\" target=\"_blank\">Spark Application UI</a></li></ul><p><b>Config</b></p><table width=\"100%\" style=\"width:100%; font-family: monospace;\"><tr><td style=\"text-align:left;\">spark.dynamicAllocation.enabled</td><td>false</td></tr><tr><td style=\"text-align:left;\">spark.fs.azure.sas.uco-user.madsstorage002.blob.core.windows.net</td><td>\"sp=racwdl&st=2024-09-19T08:00:18Z&se=2025-09-19T16:00:18Z&spr=https&sv=2022-11-02&sr=c&sig=qtg6fCdoFz6k3EJLw7dA8D3D8wN0neAYw8yG4z4Lw2o%3D\"</td></tr><tr><td style=\"text-align:left;\">spark.kubernetes.driver.pod.name</td><td>spark-master-driver</td></tr><tr><td style=\"text-align:left;\">spark.executor.instances</td><td>4</td></tr><tr><td style=\"text-align:left;\">spark.driver.memory</td><td>4g</td></tr><tr><td style=\"text-align:left;\">spark.app.name</td><td>rsh224 (notebook)</td></tr><tr><td style=\"text-align:left;\">spark.fs.azure.sas.campus-user.madsstorage002.blob.core.windows.net</td><td>\"sp=racwdl&st=2024-09-19T08:03:31Z&se=2025-09-19T16:03:31Z&spr=https&sv=2022-11-02&sr=c&sig=kMP%2BsBsRzdVVR8rrg%2BNbDhkRBNs6Q98kYY695XMRFDU%3D\"</td></tr><tr><td style=\"text-align:left;\">spark.kubernetes.container.image.pullPolicy</td><td>IfNotPresent</td></tr><tr><td style=\"text-align:left;\">spark.kubernetes.namespace</td><td>rsh224</td></tr><tr><td style=\"text-align:left;\">spark.sql.shuffle.partitions</td><td>32</td></tr><tr><td style=\"text-align:left;\">spark.kubernetes.executor.podNamePrefix</td><td>rsh224-notebook-82da85993bda8e01</td></tr><tr><td style=\"text-align:left;\">spark.serializer.objectStreamReset</td><td>100</td></tr><tr><td style=\"text-align:left;\">spark.driver.maxResultSize</td><td>0</td></tr><tr><td style=\"text-align:left;\">spark.submit.deployMode</td><td>client</td></tr><tr><td style=\"text-align:left;\">spark.master</td><td>k8s://https://kubernetes.default.svc.cluster.local:443</td></tr><tr><td style=\"text-align:left;\">spark.fs.azure</td><td>org.apache.hadoop.fs.azure.NativeAzureFileSystem</td></tr><tr><td style=\"text-align:left;\">spark.app.id</td><td>spark-13390234d2584bd994ab3d19377ca282</td></tr><tr><td style=\"text-align:left;\">spark.driver.extraJavaOptions</td><td>-Djava.net.preferIPv6Addresses=false -XX:+IgnoreUnrecognizedVMOptions --add-opens=java.base/java.lang=ALL-UNNAMED --add-opens=java.base/java.lang.invoke=ALL-UNNAMED --add-opens=java.base/java.lang.reflect=ALL-UNNAMED --add-opens=java.base/java.io=ALL-UNNAMED --add-opens=java.base/java.net=ALL-UNNAMED --add-opens=java.base/java.nio=ALL-UNNAMED --add-opens=java.base/java.util=ALL-UNNAMED --add-opens=java.base/java.util.concurrent=ALL-UNNAMED --add-opens=java.base/java.util.concurrent.atomic=ALL-UNNAMED --add-opens=java.base/jdk.internal.ref=ALL-UNNAMED --add-opens=java.base/sun.nio.ch=ALL-UNNAMED --add-opens=java.base/sun.nio.cs=ALL-UNNAMED --add-opens=java.base/sun.security.action=ALL-UNNAMED --add-opens=java.base/sun.util.calendar=ALL-UNNAMED --add-opens=java.security.jgss/sun.security.krb5=ALL-UNNAMED -Djdk.reflect.useDirectMethodHandle=false -Dderby.system.home=/tmp/rsh224/spark/</td></tr><tr><td style=\"text-align:left;\">spark.memory.fraction</td><td>0.1</td></tr><tr><td style=\"text-align:left;\">spark.executor.memory</td><td>4g</td></tr><tr><td style=\"text-align:left;\">spark.app.submitTime</td><td>1757645802037</td></tr><tr><td style=\"text-align:left;\">spark.executor.id</td><td>driver</td></tr><tr><td style=\"text-align:left;\">spark.kubernetes.executor.container.image</td><td>madsregistry001.azurecr.io/hadoop-spark:v3.3.5-openjdk-8-1.0.16</td></tr><tr><td style=\"text-align:left;\">spark.executor.cores</td><td>2</td></tr><tr><td style=\"text-align:left;\">spark.kubernetes.memoryOverheadFactor</td><td>0.3</td></tr><tr><td style=\"text-align:left;\">spark.driver.host</td><td>spark-master-svc</td></tr><tr><td style=\"text-align:left;\">spark.ui.port</td><td>${env:SPARK_UI_PORT}</td></tr><tr><td style=\"text-align:left;\">spark.kubernetes.container.image</td><td>madsregistry001.azurecr.io/hadoop-spark:v3.3.5-openjdk-8</td></tr><tr><td style=\"text-align:left;\">spark.kubernetes.executor.podTemplateFile</td><td>/opt/spark/conf/executor-pod-template.yaml</td></tr><tr><td style=\"text-align:left;\">fs.azure.sas.campus-user.madsstorage002.blob.core.windows.net</td><td>sp=racwdl&st=2025-08-01T09:41:33Z&se=2026-12-30T16:56:33Z&spr=https&sv=2024-11-04&sr=c&sig=GzR1hq7EJ0lRHj92oDO1MBNjkc602nrpfB5H8Cl7FFY%3D</td></tr><tr><td style=\"text-align:left;\">spark.rdd.compress</td><td>True</td></tr><tr><td style=\"text-align:left;\">spark.app.startTime</td><td>1757645802198</td></tr><tr><td style=\"text-align:left;\">spark.executor.extraJavaOptions</td><td>-Djava.net.preferIPv6Addresses=false -XX:+IgnoreUnrecognizedVMOptions --add-opens=java.base/java.lang=ALL-UNNAMED --add-opens=java.base/java.lang.invoke=ALL-UNNAMED --add-opens=java.base/java.lang.reflect=ALL-UNNAMED --add-opens=java.base/java.io=ALL-UNNAMED --add-opens=java.base/java.net=ALL-UNNAMED --add-opens=java.base/java.nio=ALL-UNNAMED --add-opens=java.base/java.util=ALL-UNNAMED --add-opens=java.base/java.util.concurrent=ALL-UNNAMED --add-opens=java.base/java.util.concurrent.atomic=ALL-UNNAMED --add-opens=java.base/jdk.internal.ref=ALL-UNNAMED --add-opens=java.base/sun.nio.ch=ALL-UNNAMED --add-opens=java.base/sun.nio.cs=ALL-UNNAMED --add-opens=java.base/sun.security.action=ALL-UNNAMED --add-opens=java.base/sun.util.calendar=ALL-UNNAMED --add-opens=java.security.jgss/sun.security.krb5=ALL-UNNAMED -Djdk.reflect.useDirectMethodHandle=false</td></tr><tr><td style=\"text-align:left;\">spark.cores.max</td><td>8</td></tr><tr><td style=\"text-align:left;\">spark.driver.port</td><td>7077</td></tr><tr><td style=\"text-align:left;\">spark.submit.pyFiles</td><td></td></tr><tr><td style=\"text-align:left;\">spark.ui.showConsoleProgress</td><td>true</td></tr></table><p><b>Notes</b></p><ul><li>The spark session <code>spark</code> and spark context <code>sc</code> global variables have been defined by <code>start_spark()</code>.</li><li>Please run <code>stop_spark()</code> before closing the notebook or restarting the kernel or kill <code>rsh224 (notebook)</code> by hand using the link in the Spark UI.</li></ul>"
      ],
      "text/plain": [
       "<IPython.core.display.HTML object>"
      ]
     },
     "metadata": {},
     "output_type": "display_data"
    }
   ],
   "source": [
    "# Run this cell to start a spark session in this notebook\n",
    "\n",
    "start_spark(executor_instances=4, executor_cores=2, worker_memory=4, master_memory=4)"
   ]
  },
  {
   "cell_type": "code",
   "execution_count": 3,
   "id": "787cdb5d-6b5a-4fe1-8cbe-5ef019d4537e",
   "metadata": {},
   "outputs": [],
   "source": [
    "# Write your imports here or insert cells below\n",
    "\n",
    "from pyspark.sql import functions as F\n",
    "from pyspark.sql.types import *\n",
    "import pandas as pd\n",
    "import numpy as np\n",
    "import matplotlib.pyplot as plt"
   ]
  },
  {
   "cell_type": "code",
   "execution_count": 4,
   "id": "71c52349-b2c1-4ec5-805e-55f9f2fa7e89",
   "metadata": {},
   "outputs": [],
   "source": [
    "directory_path = f'wasbs://{azure_data_container_name}@{azure_account_name}.blob.core.windows.net/ghcnd'"
   ]
  },
  {
   "cell_type": "code",
   "execution_count": 5,
   "id": "b5d48877-7cbf-477c-9a31-957a1a3afaba",
   "metadata": {
    "scrolled": true
   },
   "outputs": [
    {
     "name": "stdout",
     "output_type": "stream",
     "text": [
      "<class 'pyspark.sql.dataframe.DataFrame'>\n",
      "root\n",
      " |-- ID: string (nullable = true)\n",
      " |-- DATE: string (nullable = true)\n",
      " |-- ELEMENT: string (nullable = true)\n",
      " |-- VALUE: double (nullable = true)\n",
      " |-- MEASUREMENT: string (nullable = true)\n",
      " |-- QUALITY: string (nullable = true)\n",
      " |-- SOURCE: string (nullable = true)\n",
      " |-- TIME: string (nullable = true)\n",
      "\n",
      "DataFrame[ID: string, DATE: string, ELEMENT: string, VALUE: double, MEASUREMENT: string, QUALITY: string, SOURCE: string, TIME: string]\n"
     ]
    }
   ],
   "source": [
    "# Load a subset of the last year in daily into Spark from Azure Blob Storage using spark.read.csv\n",
    "\n",
    "schema = StructType([\n",
    "    StructField(\"ID\", StringType()),           # Character Station code\n",
    "    StructField(\"DATE\", StringType()),         # Date Observation date formatted as YYYYMMDD\n",
    "    StructField(\"ELEMENT\", StringType()),      # Character Element type indicator\n",
    "    StructField(\"VALUE\", DoubleType()),        # Real Data value for ELEMENT\n",
    "    StructField(\"MEASUREMENT\", StringType()),  # Character Measurement Flag\n",
    "    StructField(\"QUALITY\", StringType()),      # Character Quality Flag\n",
    "    StructField(\"SOURCE\", StringType()),       # Character Source Flag\n",
    "    StructField(\"TIME\", StringType()),         # Time Observation time formatted as HHMM\n",
    "])\n",
    "\n",
    "daily = spark.read.csv(\n",
    "    path=f'wasbs://{azure_data_container_name}@{azure_account_name}.blob.core.windows.net/ghcnd/daily/',\n",
    "    schema=schema\n",
    ")\n",
    "\n",
    "print(type(daily))\n",
    "daily.printSchema()\n",
    "print(daily)\n",
    "# daily.show(100, False)"
   ]
  },
  {
   "cell_type": "code",
   "execution_count": 6,
   "id": "e788f883-07f4-4ed2-9ba1-a8a927090a82",
   "metadata": {},
   "outputs": [],
   "source": [
    "stations_enriched_path = f'wasbs://{azure_user_container_name}@{azure_account_name}.blob.core.windows.net/{username}/stations-enriched'"
   ]
  },
  {
   "cell_type": "code",
   "execution_count": null,
   "id": "22216d88-c0ce-415e-a18f-46acef329d59",
   "metadata": {},
   "outputs": [],
   "source": [
    "stations_enriched = spark.read.csv(stations_enriched_path, header=True, inferSchema=False)"
   ]
  },
  {
   "cell_type": "code",
   "execution_count": null,
   "id": "cf7ce637-2a93-457d-8d31-c73cc589e0d5",
   "metadata": {},
   "outputs": [],
   "source": [
    "daily_prcp = daily.filter(F.col('ELEMENT') == 'PRCP')"
   ]
  },
  {
   "cell_type": "code",
   "execution_count": null,
   "id": "b2932835-b2b7-42b9-9df4-7305e897106d",
   "metadata": {},
   "outputs": [
    {
     "name": "stderr",
     "output_type": "stream",
     "text": [
      "25/09/12 14:58:12 WARN TaskSchedulerImpl: Initial job has not accepted any resources; check your cluster UI to ensure that workers are registered and have sufficient resources\n",
      "25/09/12 14:58:27 WARN TaskSchedulerImpl: Initial job has not accepted any resources; check your cluster UI to ensure that workers are registered and have sufficient resources\n",
      "25/09/12 14:58:42 WARN TaskSchedulerImpl: Initial job has not accepted any resources; check your cluster UI to ensure that workers are registered and have sufficient resources\n",
      "25/09/12 14:58:57 WARN TaskSchedulerImpl: Initial job has not accepted any resources; check your cluster UI to ensure that workers are registered and have sufficient resources\n",
      "25/09/12 14:59:12 WARN TaskSchedulerImpl: Initial job has not accepted any resources; check your cluster UI to ensure that workers are registered and have sufficient resources\n",
      "25/09/12 14:59:27 WARN TaskSchedulerImpl: Initial job has not accepted any resources; check your cluster UI to ensure that workers are registered and have sufficient resources\n",
      "25/09/12 14:59:42 WARN TaskSchedulerImpl: Initial job has not accepted any resources; check your cluster UI to ensure that workers are registered and have sufficient resources\n",
      "25/09/12 14:59:57 WARN TaskSchedulerImpl: Initial job has not accepted any resources; check your cluster UI to ensure that workers are registered and have sufficient resources\n",
      "25/09/12 15:00:12 WARN TaskSchedulerImpl: Initial job has not accepted any resources; check your cluster UI to ensure that workers are registered and have sufficient resources\n",
      "25/09/12 15:00:27 WARN TaskSchedulerImpl: Initial job has not accepted any resources; check your cluster UI to ensure that workers are registered and have sufficient resources\n",
      "25/09/12 15:00:42 WARN TaskSchedulerImpl: Initial job has not accepted any resources; check your cluster UI to ensure that workers are registered and have sufficient resources\n",
      "                                                                                "
     ]
    }
   ],
   "source": [
    "prcp_country = daily_prcp.join(\n",
    "    stations_enriched,\n",
    "    how='inner',\n",
    "    on='ID'\n",
    ")"
   ]
  },
  {
   "cell_type": "code",
   "execution_count": null,
   "id": "0fa5fad3-2c51-4e20-bfa2-ae1556a43797",
   "metadata": {},
   "outputs": [],
   "source": [
    "prcp_country = prcp_country.select('ID', 'DATE', F.col('VALUE').alias('PRCP'), 'COUNTRY_CODE', 'COUNTRY_NAME', 'LATITUDE', 'LONGITUDE', 'ELEVATION', 'ID')"
   ]
  },
  {
   "cell_type": "code",
   "execution_count": null,
   "id": "2a83cc38-ab86-4618-aa22-019279e4b165",
   "metadata": {},
   "outputs": [],
   "source": [
    "prcp_country = prcp_country.withColumn('DATE', F.to_date(F.col('DATE'), 'yyyyMMdd'))"
   ]
  },
  {
   "cell_type": "code",
   "execution_count": null,
   "id": "1fa58924-6898-478f-9586-04dbbdc6a63a",
   "metadata": {},
   "outputs": [],
   "source": [
    "prcp_country = prcp_country.withColumn('DATE', F.date_trunc('year', 'DATE').cast('date'))"
   ]
  },
  {
   "cell_type": "code",
   "execution_count": null,
   "id": "52875e00-9273-45bc-98e0-e57ef8b84eb5",
   "metadata": {},
   "outputs": [],
   "source": [
    "grouped_prcp = (prcp_country\n",
    "                .where(F.col('PRCP') != -9999)\n",
    "                .withColumn('PRCP', F.col('PRCP') / 10.0)\n",
    "                .groupBy('DATE', 'COUNTRY_CODE', 'COUNTRY_NAME')\n",
    "                .agg(\n",
    "                    F.avg('PRCP').alias('AVG_PRCP'),\n",
    "                    F.count('*').alias('NUM_OBSERVATIONS'),\n",
    "                    F.countDistinct('ID').alias('NUM_STATIONS')\n",
    "                )\n",
    "               )"
   ]
  },
  {
   "cell_type": "code",
   "execution_count": 22,
   "id": "75a7a026-25b3-4c21-8cd8-40d85d07a8f9",
   "metadata": {},
   "outputs": [
    {
     "name": "stdout",
     "output_type": "stream",
     "text": [
      "root\n",
      " |-- DATE: date (nullable = true)\n",
      " |-- COUNTRY_CODE: string (nullable = true)\n",
      " |-- COUNTRY_NAME: string (nullable = true)\n",
      " |-- AVG_PRCP: double (nullable = true)\n",
      " |-- NUM_OBSERVATIONS: long (nullable = false)\n",
      " |-- NUM_STATIONS: long (nullable = false)\n",
      "\n"
     ]
    }
   ],
   "source": [
    "grouped_prcp.printSchema()"
   ]
  },
  {
   "cell_type": "code",
   "execution_count": null,
   "id": "98dcd075-2122-47f8-bd7b-7a90ef91488c",
   "metadata": {},
   "outputs": [],
   "source": [
    "prcp_year_country = grouped_prcp.withColumn('YEAR', F.year('DATE')).select('YEAR', 'COUNTRY_CODE', 'COUNTRY_NAME', 'AVG_PRCP', 'NUM_OBSERVATIONS', 'NUM_STATIONS')"
   ]
  },
  {
   "cell_type": "code",
   "execution_count": null,
   "id": "4cf36044-c3bd-4180-93ee-7c7910ecc2b1",
   "metadata": {},
   "outputs": [],
   "source": [
    "output_path = f'wasbs://{azure_user_container_name}@{azure_account_name}.blob.core.windows.net'"
   ]
  },
  {
   "cell_type": "code",
   "execution_count": 26,
   "id": "71be40b8-7b52-4f0e-bc42-7a5a53e04a26",
   "metadata": {},
   "outputs": [],
   "source": [
    "prcp_year_country.write.mode('overwrite').option('header', True).csv(f'{output_path}/rsh224/prcp_year_country')"
   ]
  },
  {
   "cell_type": "code",
   "execution_count": 27,
   "id": "2604b099-65f1-4e5f-81cf-ce5a566cee3e",
   "metadata": {},
   "outputs": [],
   "source": [
    "!hdfs dfs -ls {output_path}/rsh224/prcp_year_country"
   ]
  },
  {
   "cell_type": "markdown",
   "id": "c0ca6435-d174-4530-8fe9-7326f8172494",
   "metadata": {},
   "source": [
    "### Answer 2(a) second part"
   ]
  },
  {
   "cell_type": "code",
   "execution_count": 30,
   "id": "3888e323-8a65-4b2d-bcae-489ccf36561b",
   "metadata": {},
   "outputs": [
    {
     "name": "stderr",
     "output_type": "stream",
     "text": [
      "[Stage 2:======================================================>(106 + 1) / 107]"
     ]
    },
    {
     "name": "stdout",
     "output_type": "stream",
     "text": [
      "+-----+----------+--------+--------------------+--------+-----------------+-----------------+\n",
      "|COUNT|START_YEAR|END_YEAR|            MIN_PRCP|MAX_PRCP|   AVG_PRCP_TOTAL|         STD_PRCP|\n",
      "+-----+----------+--------+--------------------+--------+-----------------+-----------------+\n",
      "|17726|      1750|    2025|-0.10767123287671247|   436.1|4.190457738064544|8.415885638536855|\n",
      "+-----+----------+--------+--------------------+--------+-----------------+-----------------+\n",
      "\n"
     ]
    },
    {
     "name": "stderr",
     "output_type": "stream",
     "text": [
      "                                                                                "
     ]
    }
   ],
   "source": [
    "prcp_year_country.agg(\n",
    "    F.count('*').alias('COUNT'),\n",
    "    F.min('YEAR').alias('START_YEAR'),\n",
    "    F.max('YEAR').alias('END_YEAR'),\n",
    "    F.min('AVG_PRCP').alias('MIN_PRCP'),\n",
    "    F.max('AVG_PRCP').alias('MAX_PRCP'),\n",
    "    F.avg('AVG_PRCP').alias('AVG_PRCP_TOTAL'),\n",
    "    F.stddev('AVG_PRCP').alias('STD_PRCP')\n",
    ").show()"
   ]
  },
  {
   "cell_type": "code",
   "execution_count": 32,
   "id": "ebd96124-a1f7-4fa8-8bcf-b2c1780b5eee",
   "metadata": {},
   "outputs": [
    {
     "data": {
      "text/plain": [
       "DataFrame[YEAR: int, COUNTRY_CODE: string, COUNTRY_NAME: string, AVG_PRCP: double, NUM_OBSERVATIONS: bigint, NUM_STATIONS: bigint]"
      ]
     },
     "execution_count": 32,
     "metadata": {},
     "output_type": "execute_result"
    }
   ],
   "source": [
    "prcp_year_country.filter(F.col('NUM_OBSERVATIONS') > 300).orderBy(F.desc('AVG_PRCP'))"
   ]
  },
  {
   "cell_type": "markdown",
   "id": "9d0f9f24-a0f0-4329-8192-b994f79d419a",
   "metadata": {},
   "source": [
    "## Answer 2(b)"
   ]
  },
  {
   "cell_type": "code",
   "execution_count": 33,
   "id": "f1a62f48-6381-4bed-bad2-8ac176109a0e",
   "metadata": {},
   "outputs": [],
   "source": [
    "prcp_2024 = prcp_year_country.filter(F.col('YEAR') == 2024)"
   ]
  },
  {
   "cell_type": "code",
   "execution_count": 34,
   "id": "c67c127b-5aa0-41da-9415-8bf5279ab3c4",
   "metadata": {},
   "outputs": [
    {
     "name": "stderr",
     "output_type": "stream",
     "text": [
      "                                                                                "
     ]
    }
   ],
   "source": [
    "pdf = prcp_2024.toPandas()"
   ]
  },
  {
   "cell_type": "code",
   "execution_count": 51,
   "id": "9d89cf88-01f1-4890-9b3b-3b987c0be8d5",
   "metadata": {},
   "outputs": [
    {
     "name": "stderr",
     "output_type": "stream",
     "text": [
      "/tmp/ipykernel_1500/2169208622.py:5: FutureWarning: The geopandas.dataset module is deprecated and will be removed in GeoPandas 1.0. You can get the original 'naturalearth_lowres' data from https://www.naturalearthdata.com/downloads/110m-cultural-vectors/.\n",
      "  world = gpd.read_file(gpd.datasets.get_path(\"naturalearth_lowres\"))[[\"iso_a3\",\"name\",\"geometry\"]]\n"
     ]
    },
    {
     "data": {
      "text/plain": [
       "(-18491143.68863403, 18491143.68863403, -9473562.580980353, 9191411.568387408)"
      ]
     },
     "execution_count": 51,
     "metadata": {},
     "output_type": "execute_result"
    },
    {
     "data": {
      "image/png": "[encoded data removed]",
      "text/plain": [
       "<Figure size 1169x827 with 2 Axes>"
      ]
     },
     "metadata": {},
     "output_type": "display_data"
    }
   ],
   "source": [
    "import geopandas as gpd\n",
    "import numpy as np\n",
    "import pycountry\n",
    "\n",
    "world = gpd.read_file(gpd.datasets.get_path(\"naturalearth_lowres\"))[[\"iso_a3\",\"name\",\"geometry\"]]\n",
    "\n",
    "def a2_to_a3(a2):\n",
    "    try:           \n",
    "        return pycountry.countries.get(alpha_2=a2).alpha_3\n",
    "    except:\n",
    "        return None\n",
    "\n",
    "pdf[\"iso_a3\"] = pdf[\"COUNTRY_CODE\"].apply(a2_to_a3)\n",
    "\n",
    "fixes = {\n",
    "    \"JN\": \"SJM\",  # Jan Mayen (with Svalbard) → Svalbard & Jan Mayen\n",
    "    \"BX\": \"BRN\",  # Brunei\n",
    "    \"TX\": \"TCD\",  # Chad\n",
    "    \"CB\": \"KHM\",  # Cambodia\n",
    "    \"FG\": \"GUF\",  # French Guiana\n",
    "    \"TU\": \"TUR\",  # Turkey\n",
    "    \"VQ\": \"VIR\",  # U.S. Virgin Islands\n",
    "    \"RP\": \"PHL\",  # Philippines\n",
    "    \"RQ\": \"PRI\",  # Puerto Rico\n",
    "    \"IZ\": \"IRQ\",  # Iraq\n",
    "    \"NH\": \"VUT\",  # New Hebrides → Vanuatu\n",
    "    \"CS\": \"SCG\",  # Serbia and Montenegro (historic; can split to SRB + MNE)\n",
    "    \"NS\": \"SUR\",  # Suriname\n",
    "    \"BU\": \"BGR\",  # Bulgaria (old FIPS BU)\n",
    "    \"LH\": \"LIE\",  # Liechtenstein\n",
    "    \"UV\": \"BFA\",  # Upper Volta → Burkina Faso\n",
    "    \"RM\": \"MDG\",  # République Malgache → Madagascar\n",
    "    \"PO\": \"PRT\",  # Portugal\n",
    "    \"EK\": \"GNQ\",  # Equatorial Guinea\n",
    "    \"CT\": \"CAF\",  # Central African Republic\n",
    "    \"LE\": \"LBN\",  # Lebanon\n",
    "    \"AY\": \"ATA\",  # Antarctica\n",
    "    \"CE\": \"LKA\",  # Ceylon → Sri Lanka\n",
    "    \"RI\": \"SRB\",  # Serbia\n",
    "    \"EI\": \"IRL\",  # Éire → Ireland\n",
    "    \"MI\": \"UMI\",  # Midway Islands → U.S. Minor Outlying Islands\n",
    "    \"VM\": \"VNM\",  # Vietnam\n",
    "    \"IV\": \"CIV\",  # Ivory Coast → Côte d’Ivoire\n",
    "    \"WA\": \"WSM\",  # Western Samoa → Samoa\n",
    "    \"DR\": \"DOM\",  # Dominican Republic\n",
    "    \"TI\": \"TJK\",  # Tajikistan\n",
    "    \"AJ\": \"AZE\",  # Azerbaijan\n",
    "    \"BK\": \"BIH\",  # Bosnia and Herzegovina\n",
    "    \"SW\": \"SWE\",  # Sweden (FIPS SW)\n",
    "    \"MJ\": \"MNE\",  # Montenegro\n",
    "    \"ZI\": \"ZWE\",  # Zimbabwe\n",
    "    \"FP\": \"PYF\",  # French Polynesia\n",
    "    \"SP\": \"ESP\",  # Spain (FIPS SP)\n",
    "    \"TS\": \"TUN\",  # Tunisia\n",
    "    \"PU\": \"PNG\",  # Papua New Guinea\n",
    "    \"DA\": \"DNK\",  # Denmark\n",
    "    \"WQ\": \"WLF\",  # Wallis & Futuna\n",
    "    \"GV\": \"GIN\",  # Guinea\n",
    "    \"EZ\": \"CZE\",  # Czechoslovakia → Czechia\n",
    "    \"LG\": \"LVA\",  # Latvia\n",
    "    \"HO\": \"HND\",  # Honduras\n",
    "    \"EN\": \"EST\",  # Estonia\n",
    "    \"LO\": \"SVK\",  # Slovakia\n",
    "    \"SF\": \"ZAF\",  # South Africa\n",
    "    \"BP\": \"BHS\",  # Bahamas\n",
    "    \"KS\": \"KOR\",  # South Korea\n",
    "    \"BC\": \"BWA\",  # Botswana\n",
    "    \"UP\": \"UKR\",  # Ukraine\n",
    "    \"CJ\": \"CYM\",  # Cayman Islands\n",
    "    \"CQ\": \"COK\",  # Cook Islands\n",
    "    \"PP\": \"MNP\",  # Northern Mariana Islands\n",
    "    \"JA\": \"JPN\",  # Japan (FIPS JA),\n",
    "    \"AF\": \"AFG\",   # Afghanistan\n",
    "    \"AL\": \"ALB\",   # Albania\n",
    "    \"AG\": \"DZA\",   # Algeria\n",
    "    \"AU\": \"AUT\",   # Austria\n",
    "    \"BO\": \"BLR\",   # Belarus\n",
    "    \"BH\": \"BLZ\",   # Belize\n",
    "    \"BN\": \"BEN\",   # Benin\n",
    "    \"BT\": \"BTN\",   # Bhutan\n",
    "    \"BY\": \"BDI\",   # Burundi\n",
    "    \"CI\": \"CHL\",   # Chile\n",
    "    \"CH\": \"CHN\",   # China\n",
    "    \"CS\": \"CRI\",   # Costa Rica (check clash, historic CS=Serbia/Montenegro!)\n",
    "    \"DJ\": \"DJI\",   # Djibouti\n",
    "    \"ER\": \"ERI\",   # Eritrea\n",
    "    \"FS\": \"ATF\",   # Fr. Southern Territories\n",
    "    \"GG\": \"GEO\",   # Georgia\n",
    "    \"GM\": \"DEU\",   # Germany\n",
    "    \"GT\": \"GTM\",   # Guatemala\n",
    "    \"PU\": \"GNB\",   # Guinea-Bissau (old FIPS PU also used for PNG, careful!)\n",
    "    \"HA\": \"HTI\",   # Haiti\n",
    "    \"IS\": \"ISR\",   # Israel\n",
    "    \"KV\": \"XKX\",   # Kosovo (no ISO3, use XKX placeholder)\n",
    "    \"KU\": \"KWT\",   # Kuwait\n",
    "    \"LT\": \"LSO\",   # Lesotho\n",
    "    \"LI\": \"LBR\",   # Liberia\n",
    "    \"LH\": \"LTU\",   # Lithuania\n",
    "    \"MI\": \"MWI\",   # Malawi (careful: MI also = Midway Islands!)\n",
    "    \"MR\": \"MRT\",   # Mauritania\n",
    "    \"MG\": \"MNG\",   # Mongolia\n",
    "    \"BM\": \"MMR\",   # Myanmar\n",
    "    \"CY\": \"CYP\",   # North Cyprus (de facto, not UN-recognized; shapefile has CYN)\n",
    "    \"WA\": \"NAM\",   # Namibia (check clash: WA also = Western Samoa)\n",
    "    \"NC\": \"NCL\",   # New Caledonia\n",
    "    \"NG\": \"NER\",   # Niger\n",
    "    \"KN\": \"PRK\",   # North Korea (FIPS KN)\n",
    "    \"MU\": \"OMN\",   # Oman\n",
    "    \"PA\": \"PRY\",   # Paraguay\n",
    "    \"OD\": \"SSD\",   # South Sudan\n",
    "    \"SO\": \"SOM\",   # Somalia\n",
    "    \"SI\": \"SOL\",   # Somaliland\n",
    "    \"SU\": \"SDN\",   # Sudan\n",
    "    \"TW\": \"TWN\",   # Taiwan\n",
    "    \"TT\": \"TLS\",   # Timor-Leste\n",
    "    \"TO\": \"TGO\",   # Togo\n",
    "    \"TD\": \"TTO\",   # Trinidad and Tobago\n",
    "    \"TX\": \"TKM\",   # Turkmenistan\n",
    "    \"UG\": \"UGA\",   # Uganda\n",
    "    \"WI\": \"ESH\",   # Western Sahara\n",
    "    \"YM\": \"YEM\",   # Yemen\n",
    "    \"ZA\": \"ZMB\",   # Zambia\n",
    "}\n",
    "\n",
    "pdf[\"iso_a3\"] = pdf.apply(lambda r: dict(fixes).get(r[\"COUNTRY_CODE\"], r[\"iso_a3\"]), axis=1)\n",
    "world_join = world.merge(pdf, on=\"iso_a3\", how=\"left\")\n",
    "\n",
    "# Robust color limits (avoid outliers skewing the map)\n",
    "vmin = np.nanpercentile(world_join[\"AVG_PRCP\"], 2)\n",
    "vmax = np.nanpercentile(world_join[\"AVG_PRCP\"], 98)\n",
    "\n",
    "# Reproject and plot\n",
    "world_robin = world_join.to_crs(\"ESRI:54030\")  # Robinson projection\n",
    "ax = world_robin.plot(\n",
    "    column=\"AVG_PRCP\",\n",
    "    cmap=\"Greens\",\n",
    "    vmin=vmin, vmax=vmax,\n",
    "    legend=True,\n",
    "    linewidth=0.2, edgecolor=\"white\",\n",
    "    missing_kwds={\"color\": \"lightgrey\", \"edgecolor\": \"white\", \"hatch\": \"///\", \"label\": \"No data\"},\n",
    "    figsize=(11.69, 8.27),\n",
    ")\n",
    "\n",
    "ax.set_title(\"Average daily rainfall (mm) in 2024 — country means (station-balanced)\", fontsize=12, pad=8)\n",
    "ax.axis(\"off\")\n",
    "\n"
   ]
  },
  {
   "cell_type": "code",
   "execution_count": 47,
   "id": "cf425def-8f5a-4a08-a57e-5862c418bb5b",
   "metadata": {},
   "outputs": [
    {
     "name": "stdout",
     "output_type": "stream",
     "text": [
      "    iso_a3                    name\n",
      "111    AFG             Afghanistan\n",
      "135    ALB                 Albania\n",
      "89     DZA                 Algeria\n",
      "123    AUT                 Austria\n",
      "120    BLR                 Belarus\n",
      "41     BLZ                  Belize\n",
      "56     BEN                   Benin\n",
      "108    BTN                  Bhutan\n",
      "81     BDI                 Burundi\n",
      "10     CHL                   Chile\n",
      "150    CHN                   China\n",
      "36     CRI              Costa Rica\n",
      "179    DJI                Djibouti\n",
      "166    ERI                 Eritrea\n",
      "24     ATF  Fr. S. Antarctic Lands\n",
      "157    GEO                 Georgia\n",
      "130    DEU                 Germany\n",
      "40     GTM               Guatemala\n",
      "65     GNB           Guinea-Bissau\n",
      "17     HTI                   Haiti\n",
      "82     ISR                  Israel\n",
      "188    -99                  Kosovo\n",
      "93     KWT                  Kuwait\n",
      "28     LSO                 Lesotho\n",
      "66     LBR                 Liberia\n",
      "127    LTU               Lithuania\n",
      "77     MWI                  Malawi\n",
      "55     MRT              Mauritania\n",
      "105    MNG                Mongolia\n",
      "100    MMR                 Myanmar\n",
      "173    CYN               N. Cyprus\n",
      "52     NAM                 Namibia\n",
      "145    NCL           New Caledonia\n",
      "57     NER                   Niger\n",
      "102    PRK             North Korea\n",
      "95     OMN                    Oman\n",
      "168    PRY                Paraguay\n",
      "190    SSD                S. Sudan\n",
      "12     SOM                 Somalia\n",
      "180    SOL              Somaliland\n",
      "14     SDN                   Sudan\n",
      "151    TWN                  Taiwan\n",
      "25     TLS             Timor-Leste\n",
      "60     TGO                    Togo\n",
      "189    TTO     Trinidad and Tobago\n",
      "114    TKM            Turkmenistan\n",
      "181    UGA                  Uganda\n",
      "2      ESH               W. Sahara\n",
      "169    YEM                   Yemen\n",
      "76     ZMB                  Zambia\n"
     ]
    }
   ],
   "source": [
    "missing = world_join[world_join[\"AVG_PRCP\"].isnull()][[\"iso_a3\",\"name\"]].sort_values(\"name\")\n",
    "print(missing)"
   ]
  },
  {
   "cell_type": "code",
   "execution_count": null,
   "id": "e0484b39-2b75-4af8-a1de-b1a7a2d19e4b",
   "metadata": {},
   "outputs": [],
   "source": [
    "stop_spark()"
   ]
  }
 ],
 "metadata": {
  "kernelspec": {
   "display_name": "Python 3 (ipykernel)",
   "language": "python",
   "name": "python3"
  },
  "language_info": {
   "codemirror_mode": {
    "name": "ipython",
    "version": 3
   },
   "file_extension": ".py",
   "mimetype": "text/x-python",
   "name": "python",
   "nbconvert_exporter": "python",
   "pygments_lexer": "ipython3",
   "version": "3.8.10"
  }
 },
 "nbformat": 4,
 "nbformat_minor": 5
}
