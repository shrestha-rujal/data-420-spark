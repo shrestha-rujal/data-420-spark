{
 "cells": [
  {
   "cell_type": "code",
   "execution_count": 1,
   "id": "5f0d871f-957f-4314-94e3-16b9c1c4cf9b",
   "metadata": {},
   "outputs": [
    {
     "data": {
      "text/html": [
       "<style>pre { white-space: pre !important; }table.dataframe td { white-space: nowrap !important; }table.dataframe thead th:first-child, table.dataframe tbody th { display: none; }</style>"
      ],
      "text/plain": [
       "<IPython.core.display.HTML object>"
      ]
     },
     "metadata": {},
     "output_type": "display_data"
    }
   ],
   "source": [
    "# Run this cell to import pyspark and to define start_spark() and stop_spark()\n",
    "\n",
    "import findspark\n",
    "\n",
    "findspark.init()\n",
    "\n",
    "import getpass\n",
    "import pandas\n",
    "import pyspark\n",
    "import random\n",
    "import re\n",
    "\n",
    "from IPython.display import display, HTML\n",
    "from pyspark import SparkContext\n",
    "from pyspark.sql import SparkSession\n",
    "import pyspark.sql.functions as F\n",
    "\n",
    "\n",
    "# Constants used to interact with Azure Blob Storage using the hdfs command or Spark\n",
    "\n",
    "global username\n",
    "\n",
    "username = re.sub('@.*', '', getpass.getuser())\n",
    "\n",
    "global azure_account_name\n",
    "global azure_data_container_name\n",
    "global azure_user_container_name\n",
    "global azure_user_token\n",
    "\n",
    "azure_account_name = \"madsstorage002\"\n",
    "azure_data_container_name = \"campus-data\"\n",
    "azure_user_container_name = \"campus-user\"\n",
    "azure_user_token = r\"sp=racwdl&st=2025-08-01T09:41:33Z&se=2026-12-30T16:56:33Z&spr=https&sv=2024-11-04&sr=c&sig=GzR1hq7EJ0lRHj92oDO1MBNjkc602nrpfB5H8Cl7FFY%3D\"\n",
    "\n",
    "\n",
    "# Functions used below\n",
    "\n",
    "def dict_to_html(d):\n",
    "    \"\"\"Convert a Python dictionary into a two column table for display.\n",
    "    \"\"\"\n",
    "\n",
    "    html = []\n",
    "\n",
    "    html.append(f'<table width=\"100%\" style=\"width:100%; font-family: monospace;\">')\n",
    "    for k, v in d.items():\n",
    "        html.append(f'<tr><td style=\"text-align:left;\">{k}</td><td>{v}</td></tr>')\n",
    "    html.append(f'</table>')\n",
    "\n",
    "    return ''.join(html)\n",
    "\n",
    "\n",
    "def show_as_html(df, n=20):\n",
    "    \"\"\"Leverage existing pandas jupyter integration to show a spark dataframe as html.\n",
    "    \n",
    "    Args:\n",
    "        n (int): number of rows to show (default: 20)\n",
    "    \"\"\"\n",
    "\n",
    "    display(df.limit(n).toPandas())\n",
    "\n",
    "    \n",
    "def display_spark():\n",
    "    \"\"\"Display the status of the active Spark session if one is currently running.\n",
    "    \"\"\"\n",
    "    \n",
    "    if 'spark' in globals() and 'sc' in globals():\n",
    "\n",
    "        name = sc.getConf().get(\"spark.app.name\")\n",
    "\n",
    "        html = [\n",
    "            f'<p><b>Spark</b></p>',\n",
    "            f'<p>The spark session is <b><span style=\"color:green\">active</span></b>, look for <code>{name}</code> under the running applications section in the Spark UI.</p>',\n",
    "            f'<ul>',\n",
    "            f'<li><a href=\"http://localhost:{sc.uiWebUrl.split(\":\")[-1]}\" target=\"_blank\">Spark Application UI</a></li>',\n",
    "            f'</ul>',\n",
    "            f'<p><b>Config</b></p>',\n",
    "            dict_to_html(dict(sc.getConf().getAll())),\n",
    "            f'<p><b>Notes</b></p>',\n",
    "            f'<ul>',\n",
    "            f'<li>The spark session <code>spark</code> and spark context <code>sc</code> global variables have been defined by <code>start_spark()</code>.</li>',\n",
    "            f'<li>Please run <code>stop_spark()</code> before closing the notebook or restarting the kernel or kill <code>{name}</code> by hand using the link in the Spark UI.</li>',\n",
    "            f'</ul>',\n",
    "        ]\n",
    "        display(HTML(''.join(html)))\n",
    "        \n",
    "    else:\n",
    "        \n",
    "        html = [\n",
    "            f'<p><b>Spark</b></p>',\n",
    "            f'<p>The spark session is <b><span style=\"color:red\">stopped</span></b>, confirm that <code>{username} (notebook)</code> is under the completed applications section in the Spark UI.</p>',\n",
    "            f'<ul>',\n",
    "            f'<li><a href=\"http://mathmadslinux2p.canterbury.ac.nz:8080/\" target=\"_blank\">Spark UI</a></li>',\n",
    "            f'</ul>',\n",
    "        ]\n",
    "        display(HTML(''.join(html)))\n",
    "\n",
    "\n",
    "# Functions to start and stop spark\n",
    "\n",
    "def start_spark(executor_instances=2, executor_cores=1, worker_memory=1, master_memory=1):\n",
    "    \"\"\"Start a new Spark session and define globals for SparkSession (spark) and SparkContext (sc).\n",
    "    \n",
    "    Args:\n",
    "        executor_instances (int): number of executors (default: 2)\n",
    "        executor_cores (int): number of cores per executor (default: 1)\n",
    "        worker_memory (float): worker memory (default: 1)\n",
    "        master_memory (float): master memory (default: 1)\n",
    "    \"\"\"\n",
    "\n",
    "    global spark\n",
    "    global sc\n",
    "\n",
    "    cores = executor_instances * executor_cores\n",
    "    partitions = cores * 4\n",
    "    port = 4000 + random.randint(1, 999)\n",
    "\n",
    "    spark = (\n",
    "        SparkSession.builder\n",
    "        .config(\"spark.driver.extraJavaOptions\", f\"-Dderby.system.home=/tmp/{username}/spark/\")\n",
    "        .config(\"spark.dynamicAllocation.enabled\", \"false\")\n",
    "        .config(\"spark.executor.instances\", str(executor_instances))\n",
    "        .config(\"spark.executor.cores\", str(executor_cores))\n",
    "        .config(\"spark.cores.max\", str(cores))\n",
    "        .config(\"spark.driver.memory\", f'{master_memory}g')\n",
    "        .config(\"spark.executor.memory\", f'{worker_memory}g')\n",
    "        .config(\"spark.driver.maxResultSize\", \"0\")\n",
    "        .config(\"spark.sql.shuffle.partitions\", str(partitions))\n",
    "        .config(\"spark.kubernetes.container.image\", \"madsregistry001.azurecr.io/hadoop-spark:v3.3.5-openjdk-8\")\n",
    "        .config(\"spark.kubernetes.container.image.pullPolicy\", \"IfNotPresent\")\n",
    "        .config(\"spark.kubernetes.memoryOverheadFactor\", \"0.3\")\n",
    "        .config(\"spark.memory.fraction\", \"0.1\")\n",
    "        .config(f\"fs.azure.sas.{azure_user_container_name}.{azure_account_name}.blob.core.windows.net\",  azure_user_token)\n",
    "        .config(\"spark.app.name\", f\"{username} (notebook)\")\n",
    "        .getOrCreate()\n",
    "    )\n",
    "    sc = SparkContext.getOrCreate()\n",
    "    \n",
    "    display_spark()\n",
    "\n",
    "    \n",
    "def stop_spark():\n",
    "    \"\"\"Stop the active Spark session and delete globals for SparkSession (spark) and SparkContext (sc).\n",
    "    \"\"\"\n",
    "\n",
    "    global spark\n",
    "    global sc\n",
    "\n",
    "    if 'spark' in globals() and 'sc' in globals():\n",
    "\n",
    "        spark.stop()\n",
    "\n",
    "        del spark\n",
    "        del sc\n",
    "\n",
    "    display_spark()\n",
    "\n",
    "\n",
    "# Make css changes to improve spark output readability\n",
    "\n",
    "html = [\n",
    "    '<style>',\n",
    "    'pre { white-space: pre !important; }',\n",
    "    'table.dataframe td { white-space: nowrap !important; }',\n",
    "    'table.dataframe thead th:first-child, table.dataframe tbody th { display: none; }',\n",
    "    '</style>',\n",
    "]\n",
    "display(HTML(''.join(html)))"
   ]
  },
  {
   "cell_type": "code",
   "execution_count": 2,
   "id": "85832872-5393-4ea9-9f6c-6a49c94386ec",
   "metadata": {
    "scrolled": true
   },
   "outputs": [
    {
     "name": "stderr",
     "output_type": "stream",
     "text": [
      "Warning: Ignoring non-Spark config property: fs.azure.sas.campus-user.madsstorage002.blob.core.windows.net\n",
      "Warning: Ignoring non-Spark config property: SPARK_DRIVER_BIND_ADDRESS\n",
      "25/10/11 13:13:55 WARN NativeCodeLoader: Unable to load native-hadoop library for your platform... using builtin-java classes where applicable\n",
      "Setting default log level to \"WARN\".\n",
      "To adjust logging level use sc.setLogLevel(newLevel). For SparkR, use setLogLevel(newLevel).\n"
     ]
    },
    {
     "data": {
      "text/html": [
       "<p><b>Spark</b></p><p>The spark session is <b><span style=\"color:green\">active</span></b>, look for <code>rsh224 (notebook)</code> under the running applications section in the Spark UI.</p><ul><li><a href=\"http://localhost:4047\" target=\"_blank\">Spark Application UI</a></li></ul><p><b>Config</b></p><table width=\"100%\" style=\"width:100%; font-family: monospace;\"><tr><td style=\"text-align:left;\">spark.dynamicAllocation.enabled</td><td>false</td></tr><tr><td style=\"text-align:left;\">spark.fs.azure.sas.campus-user.madsstorage002.blob.core.windows.net</td><td>\"sp=racwdl&st=2025-08-01T09:41:33Z&se=2026-12-30T16:56:33Z&spr=https&sv=2024-11-04&sr=c&sig=GzR1hq7EJ0lRHj92oDO1MBNjkc602nrpfB5H8Cl7FFY%3D\"</td></tr><tr><td style=\"text-align:left;\">spark.kubernetes.driver.pod.name</td><td>spark-master-driver</td></tr><tr><td style=\"text-align:left;\">spark.executor.instances</td><td>4</td></tr><tr><td style=\"text-align:left;\">spark.app.submitTime</td><td>1760141635653</td></tr><tr><td style=\"text-align:left;\">spark.app.name</td><td>rsh224 (notebook)</td></tr><tr><td style=\"text-align:left;\">spark.cores.max</td><td>16</td></tr><tr><td style=\"text-align:left;\">spark.kubernetes.container.image.pullPolicy</td><td>IfNotPresent</td></tr><tr><td style=\"text-align:left;\">spark.kubernetes.namespace</td><td>rsh224</td></tr><tr><td style=\"text-align:left;\">spark.executor.cores</td><td>4</td></tr><tr><td style=\"text-align:left;\">spark.driver.memory</td><td>8g</td></tr><tr><td style=\"text-align:left;\">spark.serializer.objectStreamReset</td><td>100</td></tr><tr><td style=\"text-align:left;\">spark.driver.maxResultSize</td><td>0</td></tr><tr><td style=\"text-align:left;\">spark.executor.memory</td><td>8g</td></tr><tr><td style=\"text-align:left;\">spark.app.startTime</td><td>1760141635836</td></tr><tr><td style=\"text-align:left;\">spark.submit.deployMode</td><td>client</td></tr><tr><td style=\"text-align:left;\">spark.master</td><td>k8s://https://kubernetes.default.svc.cluster.local:443</td></tr><tr><td style=\"text-align:left;\">spark.fs.azure</td><td>org.apache.hadoop.fs.azure.NativeAzureFileSystem</td></tr><tr><td style=\"text-align:left;\">spark.sql.shuffle.partitions</td><td>64</td></tr><tr><td style=\"text-align:left;\">spark.driver.extraJavaOptions</td><td>-Djava.net.preferIPv6Addresses=false -XX:+IgnoreUnrecognizedVMOptions --add-opens=java.base/java.lang=ALL-UNNAMED --add-opens=java.base/java.lang.invoke=ALL-UNNAMED --add-opens=java.base/java.lang.reflect=ALL-UNNAMED --add-opens=java.base/java.io=ALL-UNNAMED --add-opens=java.base/java.net=ALL-UNNAMED --add-opens=java.base/java.nio=ALL-UNNAMED --add-opens=java.base/java.util=ALL-UNNAMED --add-opens=java.base/java.util.concurrent=ALL-UNNAMED --add-opens=java.base/java.util.concurrent.atomic=ALL-UNNAMED --add-opens=java.base/jdk.internal.ref=ALL-UNNAMED --add-opens=java.base/sun.nio.ch=ALL-UNNAMED --add-opens=java.base/sun.nio.cs=ALL-UNNAMED --add-opens=java.base/sun.security.action=ALL-UNNAMED --add-opens=java.base/sun.util.calendar=ALL-UNNAMED --add-opens=java.security.jgss/sun.security.krb5=ALL-UNNAMED -Djdk.reflect.useDirectMethodHandle=false -Dderby.system.home=/tmp/rsh224/spark/</td></tr><tr><td style=\"text-align:left;\">spark.memory.fraction</td><td>0.1</td></tr><tr><td style=\"text-align:left;\">spark.executor.id</td><td>driver</td></tr><tr><td style=\"text-align:left;\">spark.kubernetes.executor.container.image</td><td>madsregistry001.azurecr.io/hadoop-spark:v3.3.5-openjdk-8-1.0.16</td></tr><tr><td style=\"text-align:left;\">spark.kubernetes.memoryOverheadFactor</td><td>0.3</td></tr><tr><td style=\"text-align:left;\">spark.driver.host</td><td>spark-master-svc</td></tr><tr><td style=\"text-align:left;\">spark.app.id</td><td>spark-1c35950a33a1458a839b2b88660d798d</td></tr><tr><td style=\"text-align:left;\">spark.ui.port</td><td>${env:SPARK_UI_PORT}</td></tr><tr><td style=\"text-align:left;\">spark.kubernetes.container.image</td><td>madsregistry001.azurecr.io/hadoop-spark:v3.3.5-openjdk-8</td></tr><tr><td style=\"text-align:left;\">spark.kubernetes.executor.podTemplateFile</td><td>/opt/spark/conf/executor-pod-template.yaml</td></tr><tr><td style=\"text-align:left;\">fs.azure.sas.campus-user.madsstorage002.blob.core.windows.net</td><td>sp=racwdl&st=2025-08-01T09:41:33Z&se=2026-12-30T16:56:33Z&spr=https&sv=2024-11-04&sr=c&sig=GzR1hq7EJ0lRHj92oDO1MBNjkc602nrpfB5H8Cl7FFY%3D</td></tr><tr><td style=\"text-align:left;\">spark.rdd.compress</td><td>True</td></tr><tr><td style=\"text-align:left;\">spark.executor.extraJavaOptions</td><td>-Djava.net.preferIPv6Addresses=false -XX:+IgnoreUnrecognizedVMOptions --add-opens=java.base/java.lang=ALL-UNNAMED --add-opens=java.base/java.lang.invoke=ALL-UNNAMED --add-opens=java.base/java.lang.reflect=ALL-UNNAMED --add-opens=java.base/java.io=ALL-UNNAMED --add-opens=java.base/java.net=ALL-UNNAMED --add-opens=java.base/java.nio=ALL-UNNAMED --add-opens=java.base/java.util=ALL-UNNAMED --add-opens=java.base/java.util.concurrent=ALL-UNNAMED --add-opens=java.base/java.util.concurrent.atomic=ALL-UNNAMED --add-opens=java.base/jdk.internal.ref=ALL-UNNAMED --add-opens=java.base/sun.nio.ch=ALL-UNNAMED --add-opens=java.base/sun.nio.cs=ALL-UNNAMED --add-opens=java.base/sun.security.action=ALL-UNNAMED --add-opens=java.base/sun.util.calendar=ALL-UNNAMED --add-opens=java.security.jgss/sun.security.krb5=ALL-UNNAMED -Djdk.reflect.useDirectMethodHandle=false</td></tr><tr><td style=\"text-align:left;\">spark.kubernetes.executor.podNamePrefix</td><td>rsh224-notebook-67b93899d09df406</td></tr><tr><td style=\"text-align:left;\">spark.driver.port</td><td>7077</td></tr><tr><td style=\"text-align:left;\">spark.submit.pyFiles</td><td></td></tr><tr><td style=\"text-align:left;\">spark.fs.azure.sas.uco-user.madsstorage002.blob.core.windows.net</td><td>\"sp=racwdl&st=2025-09-21T20:54:03Z&se=2026-12-31T04:09:03Z&spr=https&sv=2024-11-04&sr=c&sig=5V91JeJe9mD%2FuPKUQ3LCErJh%2FwP0gNYoyl8MMx5pdkM%3D\"</td></tr><tr><td style=\"text-align:left;\">spark.ui.showConsoleProgress</td><td>true</td></tr></table><p><b>Notes</b></p><ul><li>The spark session <code>spark</code> and spark context <code>sc</code> global variables have been defined by <code>start_spark()</code>.</li><li>Please run <code>stop_spark()</code> before closing the notebook or restarting the kernel or kill <code>rsh224 (notebook)</code> by hand using the link in the Spark UI.</li></ul>"
      ],
      "text/plain": [
       "<IPython.core.display.HTML object>"
      ]
     },
     "metadata": {},
     "output_type": "display_data"
    }
   ],
   "source": [
    "# Run this cell to start a spark session in this notebook\n",
    "\n",
    "start_spark(executor_instances=4, executor_cores=4, worker_memory=8, master_memory=8)"
   ]
  },
  {
   "cell_type": "code",
   "execution_count": 3,
   "id": "787cdb5d-6b5a-4fe1-8cbe-5ef019d4537e",
   "metadata": {},
   "outputs": [],
   "source": [
    "# Write your imports here or insert cells below\n",
    "\n",
    "from pyspark.sql import functions as F\n",
    "from pyspark.sql.types import *\n",
    "from pyspark.ml.feature import VectorAssembler, StandardScaler, StringIndexer\n",
    "from pyspark.sql.window import Window\n",
    "from pyspark.ml.classification import LogisticRegression\n",
    "from pyspark.ml.evaluation import BinaryClassificationEvaluator, MulticlassClassificationEvaluator\n",
    "import sys\n",
    "import os\n",
    "\n",
    "\n",
    "sys.path.append(os.path.abspath(\"..\"))\n",
    "\n",
    "from helpers import load_feature, stratified_split, apply_class_weights, get_multiclass_metrics\n"
   ]
  },
  {
   "cell_type": "code",
   "execution_count": 4,
   "id": "71c52349-b2c1-4ec5-805e-55f9f2fa7e89",
   "metadata": {},
   "outputs": [],
   "source": [
    "directory_path = f'wasbs://{azure_data_container_name}@{azure_account_name}.blob.core.windows.net/msd'"
   ]
  },
  {
   "cell_type": "code",
   "execution_count": 5,
   "id": "e6046f4e-7ca2-4505-90b5-99b24afa671b",
   "metadata": {},
   "outputs": [],
   "source": [
    "schema = StructType([\n",
    "    StructField('user_id', StringType()),\n",
    "    StructField('song_id', StringType()),\n",
    "    StructField('play_count', IntegerType(), True)\n",
    "])"
   ]
  },
  {
   "cell_type": "code",
   "execution_count": 6,
   "id": "6e7fc7f9-ce5f-4d60-a849-7067b60537b6",
   "metadata": {},
   "outputs": [],
   "source": [
    "triplets = spark.read.csv(\n",
    "    f'{directory_path}/tasteprofile/triplets.tsv',\n",
    "    schema=schema,\n",
    "    sep='\\t'\n",
    ")"
   ]
  },
  {
   "cell_type": "code",
   "execution_count": 29,
   "id": "7197345b-65d2-47b8-8a44-a00c7ee6812e",
   "metadata": {},
   "outputs": [
    {
     "name": "stdout",
     "output_type": "stream",
     "text": [
      "root\n",
      " |-- user_id: string (nullable = true)\n",
      " |-- song_id: string (nullable = true)\n",
      " |-- play_count: integer (nullable = true)\n",
      "\n"
     ]
    }
   ],
   "source": [
    "triplets.printSchema()"
   ]
  },
  {
   "cell_type": "code",
   "execution_count": 31,
   "id": "1750a48c-0414-4cc1-899d-d7af09913c51",
   "metadata": {},
   "outputs": [
    {
     "name": "stdout",
     "output_type": "stream",
     "text": [
      "+----------------------------------------+------------------+----------+\n",
      "|user_id                                 |song_id           |play_count|\n",
      "+----------------------------------------+------------------+----------+\n",
      "|f1bfc2a4597a3642f232e7a4e5d5ab2a99cf80e5|SOQEFDN12AB017C52B|1         |\n",
      "|f1bfc2a4597a3642f232e7a4e5d5ab2a99cf80e5|SOQOIUJ12A6701DAA7|2         |\n",
      "|f1bfc2a4597a3642f232e7a4e5d5ab2a99cf80e5|SOQOKKD12A6701F92E|4         |\n",
      "|f1bfc2a4597a3642f232e7a4e5d5ab2a99cf80e5|SOSDVHO12AB01882C7|1         |\n",
      "|f1bfc2a4597a3642f232e7a4e5d5ab2a99cf80e5|SOSKICX12A6701F932|1         |\n",
      "|f1bfc2a4597a3642f232e7a4e5d5ab2a99cf80e5|SOSNUPV12A8C13939B|1         |\n",
      "|f1bfc2a4597a3642f232e7a4e5d5ab2a99cf80e5|SOSVMII12A6701F92D|1         |\n",
      "|f1bfc2a4597a3642f232e7a4e5d5ab2a99cf80e5|SOTUNHI12B0B80AFE2|1         |\n",
      "|f1bfc2a4597a3642f232e7a4e5d5ab2a99cf80e5|SOTXLTZ12AB017C535|1         |\n",
      "|f1bfc2a4597a3642f232e7a4e5d5ab2a99cf80e5|SOTZDDX12A6701F935|1         |\n",
      "|f1bfc2a4597a3642f232e7a4e5d5ab2a99cf80e5|SOTZTVF12A58A79B9F|1         |\n",
      "|f1bfc2a4597a3642f232e7a4e5d5ab2a99cf80e5|SOUGTZZ12A8C13B8CC|1         |\n",
      "|f1bfc2a4597a3642f232e7a4e5d5ab2a99cf80e5|SOVDLVW12A6701F92F|1         |\n",
      "|f1bfc2a4597a3642f232e7a4e5d5ab2a99cf80e5|SOVKHBC12AF72A5DE7|1         |\n",
      "|f1bfc2a4597a3642f232e7a4e5d5ab2a99cf80e5|SOVKJMM12AF72AAF3C|1         |\n",
      "|f1bfc2a4597a3642f232e7a4e5d5ab2a99cf80e5|SOVMWUC12A8C13750B|1         |\n",
      "|f1bfc2a4597a3642f232e7a4e5d5ab2a99cf80e5|SOVQPUM12A6D4F8F18|1         |\n",
      "|f1bfc2a4597a3642f232e7a4e5d5ab2a99cf80e5|SOVVTJV12AB017B20E|1         |\n",
      "|f1bfc2a4597a3642f232e7a4e5d5ab2a99cf80e5|SOXREWC12A6D4FAD3C|1         |\n",
      "|f1bfc2a4597a3642f232e7a4e5d5ab2a99cf80e5|SOXTVVG12A6D4F8F16|1         |\n",
      "|f1bfc2a4597a3642f232e7a4e5d5ab2a99cf80e5|SOYRKGE12AF729D6A3|1         |\n",
      "|4c97f08990f589cc076fac1f58556216716a73d3|SOALMTS12AB017B6D5|5         |\n",
      "|4c97f08990f589cc076fac1f58556216716a73d3|SOAXGDH12A8C13F8A1|5         |\n",
      "|4c97f08990f589cc076fac1f58556216716a73d3|SOBLLNN12AF72A5D51|3         |\n",
      "|4c97f08990f589cc076fac1f58556216716a73d3|SOBONKR12A58A7A7E0|25        |\n",
      "|4c97f08990f589cc076fac1f58556216716a73d3|SOCMUPS12AB01865F4|16        |\n",
      "|4c97f08990f589cc076fac1f58556216716a73d3|SOFKABN12A8AE476C6|4         |\n",
      "|4c97f08990f589cc076fac1f58556216716a73d3|SOIPYPB12A8C1360D4|2         |\n",
      "|4c97f08990f589cc076fac1f58556216716a73d3|SOSSFAK12A8C1433B7|5         |\n",
      "|4c97f08990f589cc076fac1f58556216716a73d3|SOTCWRK12AB017E47D|12        |\n",
      "|4c97f08990f589cc076fac1f58556216716a73d3|SOUNZHU12A8AE47481|15        |\n",
      "|4c97f08990f589cc076fac1f58556216716a73d3|SOYXVFQ12AB0181F66|5         |\n",
      "|ce520154cb63affa805c49bcc4c54b5c783a8922|SOASZHJ12B0B80A18B|2         |\n",
      "|ce520154cb63affa805c49bcc4c54b5c783a8922|SOBFMQE12AB0184181|1         |\n",
      "|ce520154cb63affa805c49bcc4c54b5c783a8922|SOBNSME12A6701E2FD|5         |\n",
      "|ce520154cb63affa805c49bcc4c54b5c783a8922|SOBYKLH12AF72A1553|1         |\n",
      "|ce520154cb63affa805c49bcc4c54b5c783a8922|SOBYTGE12AB018CE3C|1         |\n",
      "|ce520154cb63affa805c49bcc4c54b5c783a8922|SOCDGAR12AB018CE44|1         |\n",
      "|ce520154cb63affa805c49bcc4c54b5c783a8922|SOCFRBD12A6D4F752E|5         |\n",
      "|ce520154cb63affa805c49bcc4c54b5c783a8922|SOCGFSH12A81C238C6|2         |\n",
      "|ce520154cb63affa805c49bcc4c54b5c783a8922|SOCQOCA12A6701C19E|2         |\n",
      "|ce520154cb63affa805c49bcc4c54b5c783a8922|SOEBMRN12B35058985|1         |\n",
      "|ce520154cb63affa805c49bcc4c54b5c783a8922|SOEIIZQ12A6D4FBFE5|4         |\n",
      "|ce520154cb63affa805c49bcc4c54b5c783a8922|SOESKOI12A6D4F94CA|2         |\n",
      "|ce520154cb63affa805c49bcc4c54b5c783a8922|SOETVSH12A81C21DA6|1         |\n",
      "|ce520154cb63affa805c49bcc4c54b5c783a8922|SOFQVZF12A8C140E63|2         |\n",
      "|ce520154cb63affa805c49bcc4c54b5c783a8922|SOFTXEH12A8C144DD0|1         |\n",
      "|ce520154cb63affa805c49bcc4c54b5c783a8922|SOGDZSB12AB017CC29|1         |\n",
      "|ce520154cb63affa805c49bcc4c54b5c783a8922|SOGEJCB12AB017B1C6|5         |\n",
      "|ce520154cb63affa805c49bcc4c54b5c783a8922|SOHASBP12A8C13C3EE|2         |\n",
      "|ce520154cb63affa805c49bcc4c54b5c783a8922|SOHKRJS12A6310D8BA|1         |\n",
      "|ce520154cb63affa805c49bcc4c54b5c783a8922|SOICTOM12A6D4FCE8F|2         |\n",
      "|ce520154cb63affa805c49bcc4c54b5c783a8922|SOIDAMM12A8C13C60A|1         |\n",
      "|ce520154cb63affa805c49bcc4c54b5c783a8922|SOIEXJX12AB0187E15|1         |\n",
      "|ce520154cb63affa805c49bcc4c54b5c783a8922|SOJAIXF12A6D4F9C2C|1         |\n",
      "|ce520154cb63affa805c49bcc4c54b5c783a8922|SOKELCV12AB0182625|10        |\n",
      "|ce520154cb63affa805c49bcc4c54b5c783a8922|SOKIKVW12A67ADC77E|1         |\n",
      "|ce520154cb63affa805c49bcc4c54b5c783a8922|SOKPBOF12AB0185652|1         |\n",
      "|ce520154cb63affa805c49bcc4c54b5c783a8922|SOKQDGA12A8AE47D53|1         |\n",
      "|ce520154cb63affa805c49bcc4c54b5c783a8922|SOLHJSQ12AB018CE33|1         |\n",
      "+----------------------------------------+------------------+----------+\n",
      "only showing top 60 rows\n",
      "\n"
     ]
    }
   ],
   "source": [
    "triplets.show(60, False)"
   ]
  },
  {
   "cell_type": "code",
   "execution_count": 32,
   "id": "cb90a918-4d1f-4813-80d9-6a1ffeb1ba0e",
   "metadata": {},
   "outputs": [
    {
     "name": "stderr",
     "output_type": "stream",
     "text": [
      "                                                                                "
     ]
    },
    {
     "data": {
      "text/plain": [
       "48373586"
      ]
     },
     "execution_count": 32,
     "metadata": {},
     "output_type": "execute_result"
    }
   ],
   "source": [
    "triplets.count()"
   ]
  },
  {
   "cell_type": "code",
   "execution_count": 14,
   "id": "51c5d913-17ca-49ca-b709-6ceebce0dca9",
   "metadata": {},
   "outputs": [
    {
     "name": "stderr",
     "output_type": "stream",
     "text": [
      "[Stage 27:===========================================>              (6 + 2) / 8]"
     ]
    },
    {
     "name": "stdout",
     "output_type": "stream",
     "text": [
      "+------------+------------+\n",
      "|unique_songs|unique_users|\n",
      "+------------+------------+\n",
      "|      384546|     1019318|\n",
      "+------------+------------+\n",
      "\n"
     ]
    },
    {
     "name": "stderr",
     "output_type": "stream",
     "text": [
      "                                                                                "
     ]
    }
   ],
   "source": [
    "unique_counts = triplets.select(\n",
    "    F.countDistinct('song_id').alias('unique_songs'),\n",
    "    F.countDistinct('user_id').alias('unique_users')\n",
    ").show()"
   ]
  },
  {
   "cell_type": "code",
   "execution_count": 8,
   "id": "93f64fd7-2055-4199-8f7c-9f195d5ee89d",
   "metadata": {},
   "outputs": [
    {
     "name": "stderr",
     "output_type": "stream",
     "text": [
      "                                                                                "
     ]
    }
   ],
   "source": [
    "most_active_user = (triplets\n",
    "                    .groupBy('user_id')\n",
    "                    .agg(F.sum('play_count').alias('total_play_count'))\n",
    "                    .orderBy(F.desc('total_play_count'))\n",
    "                    .first())"
   ]
  },
  {
   "cell_type": "code",
   "execution_count": 9,
   "id": "a3b09524-5fb5-44cd-a553-a22bb5a496e2",
   "metadata": {},
   "outputs": [
    {
     "data": {
      "text/plain": [
       "Row(user_id='093cb74eb3c517c5179ae24caf0ebec51b24d2a2', total_play_count=13132)"
      ]
     },
     "execution_count": 9,
     "metadata": {},
     "output_type": "execute_result"
    }
   ],
   "source": [
    "most_active_user"
   ]
  },
  {
   "cell_type": "code",
   "execution_count": 10,
   "id": "5d122349-aa48-4f20-a6d3-efc600c8bca7",
   "metadata": {},
   "outputs": [
    {
     "name": "stderr",
     "output_type": "stream",
     "text": [
      "                                                                                "
     ]
    }
   ],
   "source": [
    "unique_songs_num = (\n",
    "    triplets.filter(F.col('user_id') == most_active_user.user_id)\n",
    "    .select('song_id')\n",
    "    .distinct()\n",
    "    .count()\n",
    ")"
   ]
  },
  {
   "cell_type": "code",
   "execution_count": 11,
   "id": "80ea9849-8106-4f4d-9a8c-0f4ef779b938",
   "metadata": {},
   "outputs": [
    {
     "data": {
      "text/plain": [
       "202"
      ]
     },
     "execution_count": 11,
     "metadata": {},
     "output_type": "execute_result"
    }
   ],
   "source": [
    "unique_songs_num"
   ]
  },
  {
   "cell_type": "code",
   "execution_count": 16,
   "id": "e5e5902d-b9b0-455c-b2ae-053962432958",
   "metadata": {},
   "outputs": [
    {
     "name": "stderr",
     "output_type": "stream",
     "text": [
      "                                                                                "
     ]
    },
    {
     "data": {
      "text/plain": [
       "384546"
      ]
     },
     "execution_count": 16,
     "metadata": {},
     "output_type": "execute_result"
    }
   ],
   "source": [
    "total_unique_songs_num = (triplets\n",
    "                          .select('song_id')\n",
    "                          .distinct()\n",
    "                          .count())\n",
    "\n",
    "total_unique_songs_num"
   ]
  },
  {
   "cell_type": "code",
   "execution_count": 18,
   "id": "5e4726bf-6d35-444e-8bac-b8d29e09d405",
   "metadata": {},
   "outputs": [
    {
     "data": {
      "text/plain": [
       "0.05252947631752768"
      ]
     },
     "execution_count": 18,
     "metadata": {},
     "output_type": "execute_result"
    }
   ],
   "source": [
    "most_active_user_songs_percentage = (unique_songs_num/total_unique_songs_num) * 100\n",
    "\n",
    "most_active_user_songs_percentage"
   ]
  },
  {
   "cell_type": "markdown",
   "id": "e465f4fa-2047-4f60-9740-4dc1c7021832",
   "metadata": {},
   "source": [
    "# Additional descriptive statistics"
   ]
  },
  {
   "cell_type": "code",
   "execution_count": 26,
   "id": "7bf1e695-c7bc-4bad-b7cd-aa53464eb809",
   "metadata": {},
   "outputs": [],
   "source": [
    "import matplotlib.pyplot as plt\n",
    "import seaborn as sns"
   ]
  },
  {
   "cell_type": "code",
   "execution_count": 28,
   "id": "af047652-8d41-41ad-9b42-5225e609e3b6",
   "metadata": {},
   "outputs": [
    {
     "name": "stderr",
     "output_type": "stream",
     "text": [
      "[Stage 73:==================================================>     (58 + 6) / 64]"
     ]
    },
    {
     "name": "stdout",
     "output_type": "stream",
     "text": [
      "+--------------------+------------+----------------+\n",
      "|             user_id|unique_songs|total_play_count|\n",
      "+--------------------+------------+----------------+\n",
      "|e125b9c74cc8dd73b...|         141|             424|\n",
      "|65c21582cbb147eeb...|          90|             271|\n",
      "|6e971b306c47abe40...|         118|             346|\n",
      "|af7e462702c8a43a2...|          16|              69|\n",
      "|f654e18765b921ce8...|          45|              75|\n",
      "|a863a1e6b699caf86...|         177|             663|\n",
      "|0010740acb42d4be6...|          49|              95|\n",
      "|00a06476b80e99aad...|          11|              11|\n",
      "|00d86040ca7f5cb30...|         107|             346|\n",
      "|011a72aab1e3163d9...|          66|             160|\n",
      "|014184d020c1ecd5d...|          29|              77|\n",
      "|015e6e5d49fb81b76...|          44|             154|\n",
      "|0189ff11da0dcdcd3...|         188|             500|\n",
      "|01aa32ed76dc898cf...|          75|             139|\n",
      "|022bc580c74b7b9e8...|          21|              77|\n",
      "|0290c889181f08557...|         114|             481|\n",
      "|029177b5934ff4e2e...|         186|             641|\n",
      "|03029d6cb36559691...|         127|             203|\n",
      "|038fd2f495d75ee12...|          41|              55|\n",
      "|03a86679b91f6730a...|          69|             115|\n",
      "+--------------------+------------+----------------+\n",
      "only showing top 20 rows\n",
      "\n"
     ]
    },
    {
     "name": "stderr",
     "output_type": "stream",
     "text": [
      "                                                                                "
     ]
    }
   ],
   "source": [
    "user_activity = (\n",
    "    triplets.groupBy('user_id')\n",
    "    .agg(\n",
    "        F.countDistinct('song_id').alias('unique_songs'),\n",
    "        F.sum('play_count').alias('total_play_count')\n",
    "    )\n",
    ")\n",
    "\n",
    "user_activity.show()"
   ]
  },
  {
   "cell_type": "code",
   "execution_count": 29,
   "id": "8da6533c-fb62-43ae-837f-65249c678e8d",
   "metadata": {},
   "outputs": [
    {
     "name": "stderr",
     "output_type": "stream",
     "text": [
      "[Stage 82:===========================================>            (17 + 5) / 22]"
     ]
    },
    {
     "name": "stdout",
     "output_type": "stream",
     "text": [
      "+-------+------------------+------------------+\n",
      "|summary|      unique_songs|  total_play_count|\n",
      "+-------+------------------+------------------+\n",
      "|  count|           1019318|           1019318|\n",
      "|   mean| 47.45681524313316| 136.0519906447252|\n",
      "| stddev|57.815730630013626|184.52548802802576|\n",
      "|    min|                10|                10|\n",
      "|    max|              4400|             13132|\n",
      "+-------+------------------+------------------+\n",
      "\n"
     ]
    },
    {
     "name": "stderr",
     "output_type": "stream",
     "text": [
      "                                                                                "
     ]
    }
   ],
   "source": [
    "user_activity.describe(['unique_songs', 'total_play_count']).show()"
   ]
  },
  {
   "cell_type": "code",
   "execution_count": 31,
   "id": "24916ace-43af-4863-991d-f625e910473b",
   "metadata": {},
   "outputs": [
    {
     "name": "stderr",
     "output_type": "stream",
     "text": [
      "                                                                                "
     ]
    }
   ],
   "source": [
    "user_activity_pd = user_activity.toPandas()"
   ]
  },
  {
   "cell_type": "code",
   "execution_count": 33,
   "id": "db714b3a-4818-4d6d-8c60-42d0fed174c7",
   "metadata": {},
   "outputs": [
    {
     "data": {
      "text/html": [
       "<div>\n",
       "<style scoped>\n",
       "    .dataframe tbody tr th:only-of-type {\n",
       "        vertical-align: middle;\n",
       "    }\n",
       "\n",
       "    .dataframe tbody tr th {\n",
       "        vertical-align: top;\n",
       "    }\n",
       "\n",
       "    .dataframe thead th {\n",
       "        text-align: right;\n",
       "    }\n",
       "</style>\n",
       "<table border=\"1\" class=\"dataframe\">\n",
       "  <thead>\n",
       "    <tr style=\"text-align: right;\">\n",
       "      <th></th>\n",
       "      <th>user_id</th>\n",
       "      <th>unique_songs</th>\n",
       "      <th>total_play_count</th>\n",
       "    </tr>\n",
       "  </thead>\n",
       "  <tbody>\n",
       "    <tr>\n",
       "      <th>0</th>\n",
       "      <td>92691441bf8558cd1a5f83c7032bc1ba6bad7f79</td>\n",
       "      <td>15</td>\n",
       "      <td>25</td>\n",
       "    </tr>\n",
       "    <tr>\n",
       "      <th>1</th>\n",
       "      <td>91cb994ebf40a92b9d2a3939f99af6afbbed8630</td>\n",
       "      <td>46</td>\n",
       "      <td>120</td>\n",
       "    </tr>\n",
       "    <tr>\n",
       "      <th>2</th>\n",
       "      <td>288315a9b3ca9f48a3ff8e88e6672dbbf4776abd</td>\n",
       "      <td>93</td>\n",
       "      <td>250</td>\n",
       "    </tr>\n",
       "    <tr>\n",
       "      <th>3</th>\n",
       "      <td>fa5622e580004cd4a23f42c2df17d1b64e6b8f0b</td>\n",
       "      <td>61</td>\n",
       "      <td>84</td>\n",
       "    </tr>\n",
       "    <tr>\n",
       "      <th>4</th>\n",
       "      <td>995243bef66dd0d55aacfcf43c2ca6a1a2105ea8</td>\n",
       "      <td>62</td>\n",
       "      <td>281</td>\n",
       "    </tr>\n",
       "  </tbody>\n",
       "</table>\n",
       "</div>"
      ],
      "text/plain": [
       "                                    user_id  unique_songs  total_play_count\n",
       "0  92691441bf8558cd1a5f83c7032bc1ba6bad7f79            15                25\n",
       "1  91cb994ebf40a92b9d2a3939f99af6afbbed8630            46               120\n",
       "2  288315a9b3ca9f48a3ff8e88e6672dbbf4776abd            93               250\n",
       "3  fa5622e580004cd4a23f42c2df17d1b64e6b8f0b            61                84\n",
       "4  995243bef66dd0d55aacfcf43c2ca6a1a2105ea8            62               281"
      ]
     },
     "execution_count": 33,
     "metadata": {},
     "output_type": "execute_result"
    }
   ],
   "source": [
    "user_activity_pd.head()"
   ]
  },
  {
   "cell_type": "code",
   "execution_count": 52,
   "id": "a1e57106-9a30-4541-b97c-82ed322e1d88",
   "metadata": {},
   "outputs": [
    {
     "data": {
      "image/png": "[encoded data removed]",
      "text/plain": [
       "<Figure size 800x500 with 1 Axes>"
      ]
     },
     "metadata": {},
     "output_type": "display_data"
    }
   ],
   "source": [
    "plt.figure(figsize=(8,5))\n",
    "sns.histplot(\n",
    "    user_activity_pd['unique_songs'],\n",
    "    bins=90,\n",
    "    log_scale=(True, False),\n",
    "    fill=True\n",
    ")\n",
    "plt.title('User unique songs distribution')\n",
    "plt.xlabel('Numer of unique songs (log scale)')\n",
    "plt.ylabel('Number of users')\n",
    "plt.show()"
   ]
  },
  {
   "cell_type": "code",
   "execution_count": 59,
   "id": "17bcb6f9-e976-4d52-962c-3fd5a34676b7",
   "metadata": {},
   "outputs": [
    {
     "data": {
      "image/png": "[encoded data removed]",
      "text/plain": [
       "<Figure size 800x500 with 1 Axes>"
      ]
     },
     "metadata": {},
     "output_type": "display_data"
    }
   ],
   "source": [
    "plt.figure(figsize=(8,5))\n",
    "sns.histplot(\n",
    "    user_activity_pd['total_play_count'],\n",
    "    bins=50,\n",
    "    log_scale=(True, False),\n",
    "    fill=True\n",
    ")\n",
    "plt.title('Distribution of play counts for users')\n",
    "plt.xlabel('Track play count frequency (log scale)')\n",
    "plt.ylabel('Number of users')\n",
    "plt.show()"
   ]
  },
  {
   "cell_type": "markdown",
   "id": "1c848e07-9a79-4d4a-97d3-781534f083b4",
   "metadata": {},
   "source": [
    "# Distribution of song popularity"
   ]
  },
  {
   "cell_type": "code",
   "execution_count": 22,
   "id": "e699b2f3-8fe6-4ecf-81fe-eae417646bf6",
   "metadata": {},
   "outputs": [
    {
     "name": "stderr",
     "output_type": "stream",
     "text": [
      "[Stage 57:==============================================>        (54 + 10) / 64]"
     ]
    },
    {
     "name": "stdout",
     "output_type": "stream",
     "text": [
      "+------------------+----------------+------------+\n",
      "|song_id           |total_play_count|unique_users|\n",
      "+------------------+----------------+------------+\n",
      "|SOAQMIX12AB0182045|423             |262         |\n",
      "|SOIXTDH12A6310D7CE|511             |394         |\n",
      "|SOMEWSH12A6D4F419F|925             |269         |\n",
      "|SOSJPIL12A6D4F820D|230             |102         |\n",
      "|SOZVUUB12A8C13B5EF|7477            |2139        |\n",
      "|SOPAYPV12AB017DB0C|83255           |26074       |\n",
      "|SOZYRWY12A8C13B721|124             |79          |\n",
      "|SOMYNFX12A8C1428FF|49              |21          |\n",
      "|SONJJXC12A6701D7BD|6763            |4336        |\n",
      "|SOADVUP12AB0185246|7108            |3361        |\n",
      "|SOPOFJQ12A58A7C946|715             |281         |\n",
      "|SORCNJV12A58A7A6EF|5484            |2372        |\n",
      "|SORNCHR12A6D4F6322|5039            |2409        |\n",
      "|SOAAKLA12A58A7A3CC|647             |208         |\n",
      "|SOAAOYI12AB01831CE|1954            |963         |\n",
      "|SOABGOB12A6701D1FA|3278            |1288        |\n",
      "|SOABSFT12A8C1428D6|230             |99          |\n",
      "|SOADJGO12AB0185D5B|5559            |1758        |\n",
      "|SOAEHLG12A8C13F272|904             |424         |\n",
      "|SOAESBP12AB0183837|172             |79          |\n",
      "+------------------+----------------+------------+\n",
      "only showing top 20 rows\n",
      "\n"
     ]
    },
    {
     "name": "stderr",
     "output_type": "stream",
     "text": [
      "                                                                                "
     ]
    }
   ],
   "source": [
    "song_popularity = (\n",
    "    triplets.groupBy('song_id')\n",
    "    .agg(\n",
    "        F.sum('play_count').alias('total_play_count'),\n",
    "        F.countDistinct('user_id').alias('unique_users')\n",
    "    )\n",
    ")\n",
    "\n",
    "song_popularity.show(truncate=False)"
   ]
  },
  {
   "cell_type": "code",
   "execution_count": 24,
   "id": "75c5b24c-01eb-462a-a949-5c4e995239fb",
   "metadata": {},
   "outputs": [
    {
     "name": "stderr",
     "output_type": "stream",
     "text": [
      "[Stage 63:=================================================>      (56 + 8) / 64]"
     ]
    },
    {
     "name": "stdout",
     "output_type": "stream",
     "text": [
      "+-------+------------------+------------------+\n",
      "|summary|unique_users      |total_play_count  |\n",
      "+-------+------------------+------------------+\n",
      "|count  |384546            |384546            |\n",
      "|mean   |125.79401684063805|360.63369011769726|\n",
      "|stddev |799.0258343095946 |3256.809395023508 |\n",
      "|min    |1                 |1                 |\n",
      "|max    |110479            |726885            |\n",
      "+-------+------------------+------------------+\n",
      "\n"
     ]
    },
    {
     "name": "stderr",
     "output_type": "stream",
     "text": [
      "                                                                                "
     ]
    }
   ],
   "source": [
    "song_popularity.describe(['unique_users', 'total_play_count']).show(truncate=False)"
   ]
  },
  {
   "cell_type": "code",
   "execution_count": 60,
   "id": "b71ceee3-51ac-4709-a3a6-0efa37b2ddb7",
   "metadata": {},
   "outputs": [
    {
     "name": "stderr",
     "output_type": "stream",
     "text": [
      "                                                                                "
     ]
    }
   ],
   "source": [
    "song_popularity_pd = song_popularity.toPandas()"
   ]
  },
  {
   "cell_type": "code",
   "execution_count": 77,
   "id": "7b8514ed-8a21-4d80-a713-6c418b76be12",
   "metadata": {},
   "outputs": [
    {
     "data": {
      "image/png": "[encoded data removed]",
      "text/plain": [
       "<Figure size 800x500 with 1 Axes>"
      ]
     },
     "metadata": {},
     "output_type": "display_data"
    }
   ],
   "source": [
    "plt.figure(figsize=(8,5))\n",
    "sns.histplot(\n",
    "    song_popularity_pd['unique_users'],\n",
    "    bins=30,\n",
    "    log_scale=(True, False)\n",
    ")\n",
    "plt.title('Distribution of unique users per track')\n",
    "plt.xlabel('Unique Users Count (log scale)')\n",
    "plt.ylabel('Number of tracks')\n",
    "plt.show()"
   ]
  },
  {
   "cell_type": "code",
   "execution_count": 76,
   "id": "48637923-aef6-425d-b2ef-243aee082acf",
   "metadata": {},
   "outputs": [
    {
     "data": {
      "image/png": "[encoded data removed]",
      "text/plain": [
       "<Figure size 800x500 with 1 Axes>"
      ]
     },
     "metadata": {},
     "output_type": "display_data"
    }
   ],
   "source": [
    "plt.figure(figsize=(8,5))\n",
    "sns.histplot(\n",
    "    song_popularity_pd['total_play_count'],\n",
    "    bins=22,\n",
    "    log_scale=(True, False)\n",
    ")\n",
    "plt.title('Distribution of play counts per track')\n",
    "plt.xlabel('Track play count (log scale)')\n",
    "plt.ylabel('Number of tracks')\n",
    "plt.show()"
   ]
  },
  {
   "cell_type": "code",
   "execution_count": 90,
   "id": "22684bed-7147-43e0-afae-3e756e239c59",
   "metadata": {},
   "outputs": [
    {
     "name": "stderr",
     "output_type": "stream",
     "text": [
      "                                                                                "
     ]
    }
   ],
   "source": [
    "metadata = spark.read.csv(\n",
    "    f'{directory_path}/main/metadata.csv.gz',\n",
    "    inferSchema=True,\n",
    "    header=True\n",
    ")"
   ]
  },
  {
   "cell_type": "code",
   "execution_count": 91,
   "id": "7e69fcbe-f7b1-46ec-bcb4-682ceab72438",
   "metadata": {},
   "outputs": [],
   "source": [
    "metadata = metadata.select('artist_name', 'song_id', 'title', 'release', 'artist_hotttnesss')"
   ]
  },
  {
   "cell_type": "code",
   "execution_count": 94,
   "id": "43bb5127-02b5-4d4e-99e3-5b6c16a7b7bf",
   "metadata": {},
   "outputs": [],
   "source": [
    "song_popularity_full = song_popularity.join(\n",
    "    metadata,\n",
    "    on='song_id',\n",
    "    how='left'\n",
    ")"
   ]
  },
  {
   "cell_type": "code",
   "execution_count": 98,
   "id": "a9a49876-cbbf-4758-9561-d42fce4afca4",
   "metadata": {},
   "outputs": [
    {
     "name": "stderr",
     "output_type": "stream",
     "text": [
      "[Stage 163:==========================================>              (6 + 2) / 8]"
     ]
    },
    {
     "name": "stdout",
     "output_type": "stream",
     "text": [
      "+----------------------------------------------------------------------+-------------------------------------------------------------------+\n",
      "|artist_name                                                           |title                                                              |\n",
      "+----------------------------------------------------------------------+-------------------------------------------------------------------+\n",
      "|Dwight Yoakam                                                         |You're The One                                                     |\n",
      "|Björk                                                                 |Undo                                                               |\n",
      "|Kings Of Leon                                                         |Revelry                                                            |\n",
      "|Harmonia                                                              |Sehr kosmisch                                                      |\n",
      "|Barry Tuckwell/Academy of St Martin-in-the-Fields/Sir Neville Marriner|Horn Concerto No. 4 in E flat K495: II. Romance (Andante cantabile)|\n",
      "|Florence + The Machine                                                |Dog Days Are Over (Radio Edit)                                     |\n",
      "|OneRepublic                                                           |Secrets                                                            |\n",
      "|Five Iron Frenzy                                                      |Canada                                                             |\n",
      "|Tub Ring                                                              |Invalid                                                            |\n",
      "|Sam Cooke                                                             |Ain't Misbehavin                                                   |\n",
      "+----------------------------------------------------------------------+-------------------------------------------------------------------+\n",
      "only showing top 10 rows\n",
      "\n"
     ]
    },
    {
     "name": "stderr",
     "output_type": "stream",
     "text": [
      "                                                                                "
     ]
    }
   ],
   "source": [
    "(song_popularity_full\n",
    " .orderBy(F.desc('total_play_count'))\n",
    " .select('artist_name', 'title')\n",
    " .show(10, False)\n",
    ")"
   ]
  },
  {
   "cell_type": "code",
   "execution_count": 99,
   "id": "84531750-f7aa-4648-b377-44fb2b5c111a",
   "metadata": {},
   "outputs": [
    {
     "name": "stderr",
     "output_type": "stream",
     "text": [
      "25/10/11 16:16:12 WARN ExecutorPodsWatchSnapshotSource: Kubernetes client has been closed.\n"
     ]
    },
    {
     "data": {
      "text/html": [
       "<p><b>Spark</b></p><p>The spark session is <b><span style=\"color:red\">stopped</span></b>, confirm that <code>rsh224 (notebook)</code> is under the completed applications section in the Spark UI.</p><ul><li><a href=\"http://mathmadslinux2p.canterbury.ac.nz:8080/\" target=\"_blank\">Spark UI</a></li></ul>"
      ],
      "text/plain": [
       "<IPython.core.display.HTML object>"
      ]
     },
     "metadata": {},
     "output_type": "display_data"
    }
   ],
   "source": [
    "stop_spark()"
   ]
  }
 ],
 "metadata": {
  "kernelspec": {
   "display_name": "Python 3 (ipykernel)",
   "language": "python",
   "name": "python3"
  },
  "language_info": {
   "codemirror_mode": {
    "name": "ipython",
    "version": 3
   },
   "file_extension": ".py",
   "mimetype": "text/x-python",
   "name": "python",
   "nbconvert_exporter": "python",
   "pygments_lexer": "ipython3",
   "version": "3.8.10"
  }
 },
 "nbformat": 4,
 "nbformat_minor": 5
}
