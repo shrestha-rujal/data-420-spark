{
 "cells": [
  {
   "cell_type": "code",
   "execution_count": 2,
   "id": "5f0d871f-957f-4314-94e3-16b9c1c4cf9b",
   "metadata": {},
   "outputs": [
    {
     "data": {
      "text/html": [
       "<style>pre { white-space: pre !important; }table.dataframe td { white-space: nowrap !important; }table.dataframe thead th:first-child, table.dataframe tbody th { display: none; }</style>"
      ],
      "text/plain": [
       "<IPython.core.display.HTML object>"
      ]
     },
     "metadata": {},
     "output_type": "display_data"
    }
   ],
   "source": [
    "# Run this cell to import pyspark and to define start_spark() and stop_spark()\n",
    "\n",
    "import findspark\n",
    "\n",
    "findspark.init()\n",
    "\n",
    "import getpass\n",
    "import pandas\n",
    "import pyspark\n",
    "import random\n",
    "import re\n",
    "\n",
    "from IPython.display import display, HTML\n",
    "from pyspark import SparkContext\n",
    "from pyspark.sql import SparkSession\n",
    "import pyspark.sql.functions as F\n",
    "\n",
    "\n",
    "# Constants used to interact with Azure Blob Storage using the hdfs command or Spark\n",
    "\n",
    "global username\n",
    "\n",
    "username = re.sub('@.*', '', getpass.getuser())\n",
    "\n",
    "global azure_account_name\n",
    "global azure_data_container_name\n",
    "global azure_user_container_name\n",
    "global azure_user_token\n",
    "\n",
    "azure_account_name = \"madsstorage002\"\n",
    "azure_data_container_name = \"campus-data\"\n",
    "azure_user_container_name = \"campus-user\"\n",
    "azure_user_token = r\"sp=racwdl&st=2025-08-01T09:41:33Z&se=2026-12-30T16:56:33Z&spr=https&sv=2024-11-04&sr=c&sig=GzR1hq7EJ0lRHj92oDO1MBNjkc602nrpfB5H8Cl7FFY%3D\"\n",
    "\n",
    "\n",
    "# Functions used below\n",
    "\n",
    "def dict_to_html(d):\n",
    "    \"\"\"Convert a Python dictionary into a two column table for display.\n",
    "    \"\"\"\n",
    "\n",
    "    html = []\n",
    "\n",
    "    html.append(f'<table width=\"100%\" style=\"width:100%; font-family: monospace;\">')\n",
    "    for k, v in d.items():\n",
    "        html.append(f'<tr><td style=\"text-align:left;\">{k}</td><td>{v}</td></tr>')\n",
    "    html.append(f'</table>')\n",
    "\n",
    "    return ''.join(html)\n",
    "\n",
    "\n",
    "def show_as_html(df, n=20):\n",
    "    \"\"\"Leverage existing pandas jupyter integration to show a spark dataframe as html.\n",
    "    \n",
    "    Args:\n",
    "        n (int): number of rows to show (default: 20)\n",
    "    \"\"\"\n",
    "\n",
    "    display(df.limit(n).toPandas())\n",
    "\n",
    "    \n",
    "def display_spark():\n",
    "    \"\"\"Display the status of the active Spark session if one is currently running.\n",
    "    \"\"\"\n",
    "    \n",
    "    if 'spark' in globals() and 'sc' in globals():\n",
    "\n",
    "        name = sc.getConf().get(\"spark.app.name\")\n",
    "\n",
    "        html = [\n",
    "            f'<p><b>Spark</b></p>',\n",
    "            f'<p>The spark session is <b><span style=\"color:green\">active</span></b>, look for <code>{name}</code> under the running applications section in the Spark UI.</p>',\n",
    "            f'<ul>',\n",
    "            f'<li><a href=\"http://localhost:{sc.uiWebUrl.split(\":\")[-1]}\" target=\"_blank\">Spark Application UI</a></li>',\n",
    "            f'</ul>',\n",
    "            f'<p><b>Config</b></p>',\n",
    "            dict_to_html(dict(sc.getConf().getAll())),\n",
    "            f'<p><b>Notes</b></p>',\n",
    "            f'<ul>',\n",
    "            f'<li>The spark session <code>spark</code> and spark context <code>sc</code> global variables have been defined by <code>start_spark()</code>.</li>',\n",
    "            f'<li>Please run <code>stop_spark()</code> before closing the notebook or restarting the kernel or kill <code>{name}</code> by hand using the link in the Spark UI.</li>',\n",
    "            f'</ul>',\n",
    "        ]\n",
    "        display(HTML(''.join(html)))\n",
    "        \n",
    "    else:\n",
    "        \n",
    "        html = [\n",
    "            f'<p><b>Spark</b></p>',\n",
    "            f'<p>The spark session is <b><span style=\"color:red\">stopped</span></b>, confirm that <code>{username} (notebook)</code> is under the completed applications section in the Spark UI.</p>',\n",
    "            f'<ul>',\n",
    "            f'<li><a href=\"http://mathmadslinux2p.canterbury.ac.nz:8080/\" target=\"_blank\">Spark UI</a></li>',\n",
    "            f'</ul>',\n",
    "        ]\n",
    "        display(HTML(''.join(html)))\n",
    "\n",
    "\n",
    "# Functions to start and stop spark\n",
    "\n",
    "def start_spark(executor_instances=2, executor_cores=1, worker_memory=1, master_memory=1):\n",
    "    \"\"\"Start a new Spark session and define globals for SparkSession (spark) and SparkContext (sc).\n",
    "    \n",
    "    Args:\n",
    "        executor_instances (int): number of executors (default: 2)\n",
    "        executor_cores (int): number of cores per executor (default: 1)\n",
    "        worker_memory (float): worker memory (default: 1)\n",
    "        master_memory (float): master memory (default: 1)\n",
    "    \"\"\"\n",
    "\n",
    "    global spark\n",
    "    global sc\n",
    "\n",
    "    cores = executor_instances * executor_cores\n",
    "    partitions = cores * 4\n",
    "    port = 4000 + random.randint(1, 999)\n",
    "\n",
    "    spark = (\n",
    "        SparkSession.builder\n",
    "        .config(\"spark.driver.extraJavaOptions\", f\"-Dderby.system.home=/tmp/{username}/spark/\")\n",
    "        .config(\"spark.dynamicAllocation.enabled\", \"false\")\n",
    "        .config(\"spark.executor.instances\", str(executor_instances))\n",
    "        .config(\"spark.executor.cores\", str(executor_cores))\n",
    "        .config(\"spark.cores.max\", str(cores))\n",
    "        .config(\"spark.driver.memory\", f'{master_memory}g')\n",
    "        .config(\"spark.executor.memory\", f'{worker_memory}g')\n",
    "        .config(\"spark.driver.maxResultSize\", \"0\")\n",
    "        .config(\"spark.sql.shuffle.partitions\", str(partitions))\n",
    "        .config(\"spark.kubernetes.container.image\", \"madsregistry001.azurecr.io/hadoop-spark:v3.3.5-openjdk-8\")\n",
    "        .config(\"spark.kubernetes.container.image.pullPolicy\", \"IfNotPresent\")\n",
    "        .config(\"spark.kubernetes.memoryOverheadFactor\", \"0.3\")\n",
    "        .config(\"spark.memory.fraction\", \"0.1\")\n",
    "        .config(f\"fs.azure.sas.{azure_user_container_name}.{azure_account_name}.blob.core.windows.net\",  azure_user_token)\n",
    "        .config(\"spark.app.name\", f\"{username} (notebook)\")\n",
    "        .getOrCreate()\n",
    "    )\n",
    "    sc = SparkContext.getOrCreate()\n",
    "    \n",
    "    display_spark()\n",
    "\n",
    "    \n",
    "def stop_spark():\n",
    "    \"\"\"Stop the active Spark session and delete globals for SparkSession (spark) and SparkContext (sc).\n",
    "    \"\"\"\n",
    "\n",
    "    global spark\n",
    "    global sc\n",
    "\n",
    "    if 'spark' in globals() and 'sc' in globals():\n",
    "\n",
    "        spark.stop()\n",
    "\n",
    "        del spark\n",
    "        del sc\n",
    "\n",
    "    display_spark()\n",
    "\n",
    "\n",
    "# Make css changes to improve spark output readability\n",
    "\n",
    "html = [\n",
    "    '<style>',\n",
    "    'pre { white-space: pre !important; }',\n",
    "    'table.dataframe td { white-space: nowrap !important; }',\n",
    "    'table.dataframe thead th:first-child, table.dataframe tbody th { display: none; }',\n",
    "    '</style>',\n",
    "]\n",
    "display(HTML(''.join(html)))"
   ]
  },
  {
   "cell_type": "code",
   "execution_count": 3,
   "id": "85832872-5393-4ea9-9f6c-6a49c94386ec",
   "metadata": {
    "scrolled": true
   },
   "outputs": [
    {
     "name": "stderr",
     "output_type": "stream",
     "text": [
      "Warning: Ignoring non-Spark config property: fs.azure.sas.campus-user.madsstorage002.blob.core.windows.net\n",
      "Warning: Ignoring non-Spark config property: SPARK_DRIVER_BIND_ADDRESS\n",
      "25/10/13 21:49:33 WARN NativeCodeLoader: Unable to load native-hadoop library for your platform... using builtin-java classes where applicable\n",
      "Setting default log level to \"WARN\".\n",
      "To adjust logging level use sc.setLogLevel(newLevel). For SparkR, use setLogLevel(newLevel).\n"
     ]
    },
    {
     "data": {
      "text/html": [
       "<p><b>Spark</b></p><p>The spark session is <b><span style=\"color:green\">active</span></b>, look for <code>rsh224 (notebook)</code> under the running applications section in the Spark UI.</p><ul><li><a href=\"http://localhost:4042\" target=\"_blank\">Spark Application UI</a></li></ul><p><b>Config</b></p><table width=\"100%\" style=\"width:100%; font-family: monospace;\"><tr><td style=\"text-align:left;\">spark.dynamicAllocation.enabled</td><td>false</td></tr><tr><td style=\"text-align:left;\">spark.app.submitTime</td><td>1760345373770</td></tr><tr><td style=\"text-align:left;\">spark.fs.azure.sas.campus-user.madsstorage002.blob.core.windows.net</td><td>\"sp=racwdl&st=2025-08-01T09:41:33Z&se=2026-12-30T16:56:33Z&spr=https&sv=2024-11-04&sr=c&sig=GzR1hq7EJ0lRHj92oDO1MBNjkc602nrpfB5H8Cl7FFY%3D\"</td></tr><tr><td style=\"text-align:left;\">spark.kubernetes.driver.pod.name</td><td>spark-master-driver</td></tr><tr><td style=\"text-align:left;\">spark.executor.instances</td><td>4</td></tr><tr><td style=\"text-align:left;\">spark.app.name</td><td>rsh224 (notebook)</td></tr><tr><td style=\"text-align:left;\">spark.cores.max</td><td>16</td></tr><tr><td style=\"text-align:left;\">spark.kubernetes.container.image.pullPolicy</td><td>IfNotPresent</td></tr><tr><td style=\"text-align:left;\">spark.kubernetes.namespace</td><td>rsh224</td></tr><tr><td style=\"text-align:left;\">spark.executor.cores</td><td>4</td></tr><tr><td style=\"text-align:left;\">spark.driver.memory</td><td>8g</td></tr><tr><td style=\"text-align:left;\">spark.serializer.objectStreamReset</td><td>100</td></tr><tr><td style=\"text-align:left;\">spark.driver.maxResultSize</td><td>0</td></tr><tr><td style=\"text-align:left;\">spark.executor.memory</td><td>8g</td></tr><tr><td style=\"text-align:left;\">spark.submit.deployMode</td><td>client</td></tr><tr><td style=\"text-align:left;\">spark.master</td><td>k8s://https://kubernetes.default.svc.cluster.local:443</td></tr><tr><td style=\"text-align:left;\">spark.fs.azure</td><td>org.apache.hadoop.fs.azure.NativeAzureFileSystem</td></tr><tr><td style=\"text-align:left;\">spark.sql.shuffle.partitions</td><td>64</td></tr><tr><td style=\"text-align:left;\">spark.driver.extraJavaOptions</td><td>-Djava.net.preferIPv6Addresses=false -XX:+IgnoreUnrecognizedVMOptions --add-opens=java.base/java.lang=ALL-UNNAMED --add-opens=java.base/java.lang.invoke=ALL-UNNAMED --add-opens=java.base/java.lang.reflect=ALL-UNNAMED --add-opens=java.base/java.io=ALL-UNNAMED --add-opens=java.base/java.net=ALL-UNNAMED --add-opens=java.base/java.nio=ALL-UNNAMED --add-opens=java.base/java.util=ALL-UNNAMED --add-opens=java.base/java.util.concurrent=ALL-UNNAMED --add-opens=java.base/java.util.concurrent.atomic=ALL-UNNAMED --add-opens=java.base/jdk.internal.ref=ALL-UNNAMED --add-opens=java.base/sun.nio.ch=ALL-UNNAMED --add-opens=java.base/sun.nio.cs=ALL-UNNAMED --add-opens=java.base/sun.security.action=ALL-UNNAMED --add-opens=java.base/sun.util.calendar=ALL-UNNAMED --add-opens=java.security.jgss/sun.security.krb5=ALL-UNNAMED -Djdk.reflect.useDirectMethodHandle=false -Dderby.system.home=/tmp/rsh224/spark/</td></tr><tr><td style=\"text-align:left;\">spark.memory.fraction</td><td>0.1</td></tr><tr><td style=\"text-align:left;\">spark.app.startTime</td><td>1760345373861</td></tr><tr><td style=\"text-align:left;\">spark.executor.id</td><td>driver</td></tr><tr><td style=\"text-align:left;\">spark.kubernetes.executor.container.image</td><td>madsregistry001.azurecr.io/hadoop-spark:v3.3.5-openjdk-8-1.0.16</td></tr><tr><td style=\"text-align:left;\">spark.kubernetes.executor.podNamePrefix</td><td>rsh224-notebook-4b87fe99dcc2bfbf</td></tr><tr><td style=\"text-align:left;\">spark.kubernetes.memoryOverheadFactor</td><td>0.3</td></tr><tr><td style=\"text-align:left;\">spark.driver.host</td><td>spark-master-svc</td></tr><tr><td style=\"text-align:left;\">spark.ui.port</td><td>${env:SPARK_UI_PORT}</td></tr><tr><td style=\"text-align:left;\">spark.kubernetes.container.image</td><td>madsregistry001.azurecr.io/hadoop-spark:v3.3.5-openjdk-8</td></tr><tr><td style=\"text-align:left;\">spark.kubernetes.executor.podTemplateFile</td><td>/opt/spark/conf/executor-pod-template.yaml</td></tr><tr><td style=\"text-align:left;\">fs.azure.sas.campus-user.madsstorage002.blob.core.windows.net</td><td>sp=racwdl&st=2025-08-01T09:41:33Z&se=2026-12-30T16:56:33Z&spr=https&sv=2024-11-04&sr=c&sig=GzR1hq7EJ0lRHj92oDO1MBNjkc602nrpfB5H8Cl7FFY%3D</td></tr><tr><td style=\"text-align:left;\">spark.rdd.compress</td><td>True</td></tr><tr><td style=\"text-align:left;\">spark.executor.extraJavaOptions</td><td>-Djava.net.preferIPv6Addresses=false -XX:+IgnoreUnrecognizedVMOptions --add-opens=java.base/java.lang=ALL-UNNAMED --add-opens=java.base/java.lang.invoke=ALL-UNNAMED --add-opens=java.base/java.lang.reflect=ALL-UNNAMED --add-opens=java.base/java.io=ALL-UNNAMED --add-opens=java.base/java.net=ALL-UNNAMED --add-opens=java.base/java.nio=ALL-UNNAMED --add-opens=java.base/java.util=ALL-UNNAMED --add-opens=java.base/java.util.concurrent=ALL-UNNAMED --add-opens=java.base/java.util.concurrent.atomic=ALL-UNNAMED --add-opens=java.base/jdk.internal.ref=ALL-UNNAMED --add-opens=java.base/sun.nio.ch=ALL-UNNAMED --add-opens=java.base/sun.nio.cs=ALL-UNNAMED --add-opens=java.base/sun.security.action=ALL-UNNAMED --add-opens=java.base/sun.util.calendar=ALL-UNNAMED --add-opens=java.security.jgss/sun.security.krb5=ALL-UNNAMED -Djdk.reflect.useDirectMethodHandle=false</td></tr><tr><td style=\"text-align:left;\">spark.driver.port</td><td>7077</td></tr><tr><td style=\"text-align:left;\">spark.submit.pyFiles</td><td></td></tr><tr><td style=\"text-align:left;\">spark.app.id</td><td>spark-e7553694feb1401ab7033bdc51c49503</td></tr><tr><td style=\"text-align:left;\">spark.fs.azure.sas.uco-user.madsstorage002.blob.core.windows.net</td><td>\"sp=racwdl&st=2025-09-21T20:54:03Z&se=2026-12-31T04:09:03Z&spr=https&sv=2024-11-04&sr=c&sig=5V91JeJe9mD%2FuPKUQ3LCErJh%2FwP0gNYoyl8MMx5pdkM%3D\"</td></tr><tr><td style=\"text-align:left;\">spark.ui.showConsoleProgress</td><td>true</td></tr></table><p><b>Notes</b></p><ul><li>The spark session <code>spark</code> and spark context <code>sc</code> global variables have been defined by <code>start_spark()</code>.</li><li>Please run <code>stop_spark()</code> before closing the notebook or restarting the kernel or kill <code>rsh224 (notebook)</code> by hand using the link in the Spark UI.</li></ul>"
      ],
      "text/plain": [
       "<IPython.core.display.HTML object>"
      ]
     },
     "metadata": {},
     "output_type": "display_data"
    }
   ],
   "source": [
    "# Run this cell to start a spark session in this notebook\n",
    "\n",
    "start_spark(executor_instances=4, executor_cores=4, worker_memory=8, master_memory=8)"
   ]
  },
  {
   "cell_type": "code",
   "execution_count": 80,
   "id": "787cdb5d-6b5a-4fe1-8cbe-5ef019d4537e",
   "metadata": {},
   "outputs": [],
   "source": [
    "# Write your imports here or insert cells below\n",
    "\n",
    "from pyspark.sql import functions as F\n",
    "from pyspark.sql.types import *\n",
    "from pyspark.ml.feature import VectorAssembler, StandardScaler, StringIndexer\n",
    "from pyspark.sql.window import Window\n",
    "from pyspark.ml.recommendation import ALS\n",
    "from pyspark.ml.evaluation import RankingEvaluator\n",
    "import sys\n",
    "import os\n",
    "\n",
    "\n",
    "sys.path.append(os.path.abspath(\"..\"))\n",
    "\n",
    "from helpers import load_feature, stratified_split, apply_class_weights, get_multiclass_metrics\n"
   ]
  },
  {
   "cell_type": "code",
   "execution_count": 4,
   "id": "71c52349-b2c1-4ec5-805e-55f9f2fa7e89",
   "metadata": {},
   "outputs": [],
   "source": [
    "directory_path = f'wasbs://{azure_data_container_name}@{azure_account_name}.blob.core.windows.net/msd'"
   ]
  },
  {
   "cell_type": "code",
   "execution_count": 5,
   "id": "e6046f4e-7ca2-4505-90b5-99b24afa671b",
   "metadata": {},
   "outputs": [],
   "source": [
    "schema = StructType([\n",
    "    StructField('user_id', StringType()),\n",
    "    StructField('song_id', StringType()),\n",
    "    StructField('play_count', IntegerType(), True)\n",
    "])"
   ]
  },
  {
   "cell_type": "code",
   "execution_count": 6,
   "id": "6e7fc7f9-ce5f-4d60-a849-7067b60537b6",
   "metadata": {},
   "outputs": [],
   "source": [
    "triplets = spark.read.csv(\n",
    "    f'{directory_path}/tasteprofile/triplets.tsv',\n",
    "    schema=schema,\n",
    "    sep='\\t'\n",
    ")"
   ]
  },
  {
   "cell_type": "code",
   "execution_count": 23,
   "id": "a0dbf937-d543-437d-b480-ae5b6ffc25d0",
   "metadata": {},
   "outputs": [
    {
     "name": "stderr",
     "output_type": "stream",
     "text": [
      "[Stage 45:===========================================>              (6 + 2) / 8]"
     ]
    },
    {
     "name": "stdout",
     "output_type": "stream",
     "text": [
      "+------------------+------------------+\n",
      "|unique_users_count|unique_songs_count|\n",
      "+------------------+------------------+\n",
      "|           1019318|            384546|\n",
      "+------------------+------------------+\n",
      "\n"
     ]
    },
    {
     "name": "stderr",
     "output_type": "stream",
     "text": [
      "                                                                                "
     ]
    }
   ],
   "source": [
    "triplets.select(\n",
    "    F.countDistinct('user_id').alias('unique_users_count'),\n",
    "    F.countDistinct('song_id').alias('unique_songs_count')\n",
    ").show()"
   ]
  },
  {
   "cell_type": "code",
   "execution_count": 7,
   "id": "9d08f51d-9bd5-4429-a7ff-70ceadff0bbe",
   "metadata": {},
   "outputs": [],
   "source": [
    "popularSongs = (triplets\n",
    "    .groupBy('song_id')\n",
    "    .agg(F.sum('play_count').alias('total_plays'))\n",
    "    .filter(F.col('total_plays') >= 20)\n",
    ")"
   ]
  },
  {
   "cell_type": "code",
   "execution_count": 8,
   "id": "6a8e7bfb-e292-49a2-97a8-e27f71484e44",
   "metadata": {},
   "outputs": [],
   "source": [
    "activeUsers = (triplets\n",
    "    .groupBy('user_id')\n",
    "    .agg(F.countDistinct('song_id').alias('songs_played'))\n",
    "    .filter(F.col('songs_played') >= 20)\n",
    ")"
   ]
  },
  {
   "cell_type": "code",
   "execution_count": 9,
   "id": "786cb45a-3ee0-415a-85e1-91acd9860bcb",
   "metadata": {},
   "outputs": [],
   "source": [
    "filtered_triplets = (triplets\n",
    "                    .join(popularSongs, on='song_id', how='inner')\n",
    "                    .join(activeUsers, on='user_id', how='inner')\n",
    ").drop('total_plays', 'songs_played')"
   ]
  },
  {
   "cell_type": "code",
   "execution_count": 10,
   "id": "8f43a032-41e1-4605-9704-9bd291ce9959",
   "metadata": {},
   "outputs": [
    {
     "name": "stderr",
     "output_type": "stream",
     "text": [
      "                                                                                "
     ]
    },
    {
     "data": {
      "text/plain": [
       "42792690"
      ]
     },
     "execution_count": 10,
     "metadata": {},
     "output_type": "execute_result"
    }
   ],
   "source": [
    "filtered_triplets.count()"
   ]
  },
  {
   "cell_type": "code",
   "execution_count": 40,
   "id": "199a8f79-7542-4f86-b342-da0a330ffbbe",
   "metadata": {},
   "outputs": [
    {
     "name": "stderr",
     "output_type": "stream",
     "text": [
      "[Stage 261:===================================================>   (60 + 4) / 64]"
     ]
    },
    {
     "name": "stdout",
     "output_type": "stream",
     "text": [
      "+------------------+------------------+\n",
      "|unique_users_count|unique_songs_count|\n",
      "+------------------+------------------+\n",
      "|            661103|            227695|\n",
      "+------------------+------------------+\n",
      "\n"
     ]
    },
    {
     "name": "stderr",
     "output_type": "stream",
     "text": [
      "                                                                                "
     ]
    }
   ],
   "source": [
    "filtered_triplets.select(\n",
    "    F.countDistinct('user_id').alias('unique_users_count'),\n",
    "    F.countDistinct('song_id').alias('unique_songs_count')\n",
    ").show()"
   ]
  },
  {
   "cell_type": "code",
   "execution_count": 41,
   "id": "10bccddf-90f9-480a-864a-c3f045aee468",
   "metadata": {},
   "outputs": [
    {
     "name": "stderr",
     "output_type": "stream",
     "text": [
      "                                                                                "
     ]
    }
   ],
   "source": [
    "original_count = triplets.count()"
   ]
  },
  {
   "cell_type": "code",
   "execution_count": 42,
   "id": "d8682a03-a9b9-47b1-862a-1b82b284607a",
   "metadata": {},
   "outputs": [
    {
     "name": "stderr",
     "output_type": "stream",
     "text": [
      "                                                                                "
     ]
    }
   ],
   "source": [
    "final_count = filtered_triplets.count()"
   ]
  },
  {
   "cell_type": "code",
   "execution_count": 37,
   "id": "6d73feaa-3824-4710-a2e0-7a2b5cbb8b60",
   "metadata": {},
   "outputs": [
    {
     "data": {
      "text/plain": [
       "11.537073145662594"
      ]
     },
     "execution_count": 37,
     "metadata": {},
     "output_type": "execute_result"
    }
   ],
   "source": [
    "filtered_percen = ((original_count - final_count)/original_count) * 100\n",
    "\n",
    "filtered_percen"
   ]
  },
  {
   "cell_type": "markdown",
   "id": "934bb0aa-4b45-4760-9428-9ce8597e16e4",
   "metadata": {},
   "source": [
    "# Encoding"
   ]
  },
  {
   "cell_type": "code",
   "execution_count": 11,
   "id": "98166f81-bf94-4e87-b73c-a95c8574b5a2",
   "metadata": {},
   "outputs": [
    {
     "name": "stderr",
     "output_type": "stream",
     "text": [
      "25/10/13 12:51:35 WARN DAGScheduler: Broadcasting large task binary with size 35.6 MiB\n",
      "25/10/13 12:51:35 WARN DAGScheduler: Broadcasting large task binary with size 35.7 MiB\n",
      "25/10/13 12:51:48 WARN DAGScheduler: Broadcasting large task binary with size 35.7 MiB\n",
      "25/10/13 12:52:03 WARN DAGScheduler: Broadcasting large task binary with size 35.7 MiB\n",
      "25/10/13 12:52:09 WARN DAGScheduler: Broadcasting large task binary with size 35.7 MiB\n",
      "25/10/13 12:52:16 WARN DAGScheduler: Broadcasting large task binary with size 35.7 MiB\n",
      "                                                                                "
     ]
    }
   ],
   "source": [
    "user_indexer = StringIndexer(inputCol='user_id', outputCol='user_index', handleInvalid='skip')\n",
    "song_indexer = StringIndexer(inputCol='song_id', outputCol='song_index', handleInvalid='skip')\n",
    "\n",
    "encoded_triplets = user_indexer.fit(filtered_triplets).transform(filtered_triplets)\n",
    "encoded_triplets = song_indexer.fit(encoded_triplets).transform(encoded_triplets)"
   ]
  },
  {
   "cell_type": "code",
   "execution_count": 46,
   "id": "187aca56-83fd-4141-9c53-760cca972725",
   "metadata": {},
   "outputs": [
    {
     "name": "stderr",
     "output_type": "stream",
     "text": [
      "25/10/12 15:20:31 WARN DAGScheduler: Broadcasting large task binary with size 35.6 MiB\n",
      "25/10/12 15:20:31 WARN DAGScheduler: Broadcasting large task binary with size 35.7 MiB\n",
      "25/10/12 15:20:45 WARN DAGScheduler: Broadcasting large task binary with size 35.7 MiB\n",
      "25/10/12 15:21:02 WARN DAGScheduler: Broadcasting large task binary with size 35.7 MiB\n",
      "25/10/12 15:21:09 WARN DAGScheduler: Broadcasting large task binary with size 48.9 MiB\n",
      "[Stage 412:>                                                        (0 + 1) / 1]"
     ]
    },
    {
     "name": "stdout",
     "output_type": "stream",
     "text": [
      "+----------------------------------------+------------------+----------+----------+----------+\n",
      "|user_id                                 |song_id           |play_count|user_index|song_index|\n",
      "+----------------------------------------+------------------+----------+----------+----------+\n",
      "|00007f902e31b0693a023e9c234461d4e6991eec|SOITDGY12A8C1334DA|1         |609874.0  |5705.0    |\n",
      "|00007f902e31b0693a023e9c234461d4e6991eec|SOPUDWU12A8AE4612A|1         |609874.0  |1326.0    |\n",
      "|00007f902e31b0693a023e9c234461d4e6991eec|SOAUUQZ12A6310E8C4|1         |609874.0  |143142.0  |\n",
      "|00007f902e31b0693a023e9c234461d4e6991eec|SOODVNE12AB018D4EA|3         |609874.0  |50363.0   |\n",
      "|00007f902e31b0693a023e9c234461d4e6991eec|SOSRJRK12AB0186FF4|1         |609874.0  |861.0     |\n",
      "|00007f902e31b0693a023e9c234461d4e6991eec|SOIGXKF12A6701E096|3         |609874.0  |828.0     |\n",
      "|00007f902e31b0693a023e9c234461d4e6991eec|SOLAIVS12A6D4FA40A|13        |609874.0  |86986.0   |\n",
      "|00007f902e31b0693a023e9c234461d4e6991eec|SOGPBAW12A6D4F9F22|3         |609874.0  |34.0      |\n",
      "|00007f902e31b0693a023e9c234461d4e6991eec|SOMPFYJ12A6D4FC4FB|3         |609874.0  |67118.0   |\n",
      "|00007f902e31b0693a023e9c234461d4e6991eec|SOBKLTU12A58A7FB77|4         |609874.0  |535.0     |\n",
      "|00007f902e31b0693a023e9c234461d4e6991eec|SOOXPPN12AB0180907|14        |609874.0  |14531.0   |\n",
      "|00007f902e31b0693a023e9c234461d4e6991eec|SOUUPZA12A8C136429|1         |609874.0  |2728.0    |\n",
      "|00007f902e31b0693a023e9c234461d4e6991eec|SOGTIXL12A6701C5D6|1         |609874.0  |15267.0   |\n",
      "|00007f902e31b0693a023e9c234461d4e6991eec|SOKKFVZ12A58A7A8B0|1         |609874.0  |20941.0   |\n",
      "|00007f902e31b0693a023e9c234461d4e6991eec|SOTAVJH12A67020D8C|2         |609874.0  |4278.0    |\n",
      "|00007f902e31b0693a023e9c234461d4e6991eec|SOTQUEC12AB01877F8|1         |609874.0  |4575.0    |\n",
      "|00007f902e31b0693a023e9c234461d4e6991eec|SOWYYUQ12A6701D68D|11        |609874.0  |129.0     |\n",
      "|00007f902e31b0693a023e9c234461d4e6991eec|SOPBPCY12AF72A827F|2         |609874.0  |5881.0    |\n",
      "|00007f902e31b0693a023e9c234461d4e6991eec|SODIKCN12A8C144F32|2         |609874.0  |27346.0   |\n",
      "|00007f902e31b0693a023e9c234461d4e6991eec|SODZJCH12A8C132ADC|4         |609874.0  |1151.0    |\n",
      "+----------------------------------------+------------------+----------+----------+----------+\n",
      "only showing top 20 rows\n",
      "\n"
     ]
    },
    {
     "name": "stderr",
     "output_type": "stream",
     "text": [
      "                                                                                "
     ]
    }
   ],
   "source": [
    "encoded_triplets.show(20, False)"
   ]
  },
  {
   "cell_type": "markdown",
   "id": "8ffc674f-9f1e-4c0e-bbba-7e72b75b4cd5",
   "metadata": {},
   "source": [
    "# Train test splitting"
   ]
  },
  {
   "cell_type": "code",
   "execution_count": 12,
   "id": "f376e532-9529-4906-a0cc-ba1c5f3bc51b",
   "metadata": {},
   "outputs": [],
   "source": [
    "train, test_unfiltered = encoded_triplets.randomSplit([0.2, 0.8], seed=43)"
   ]
  },
  {
   "cell_type": "code",
   "execution_count": 13,
   "id": "03c5302b-e5a8-42b9-a516-53483cbc521d",
   "metadata": {},
   "outputs": [
    {
     "name": "stderr",
     "output_type": "stream",
     "text": [
      "25/10/13 12:52:19 WARN DAGScheduler: Broadcasting large task binary with size 35.6 MiB\n",
      "25/10/13 12:52:20 WARN DAGScheduler: Broadcasting large task binary with size 35.7 MiB\n",
      "25/10/13 12:52:33 WARN DAGScheduler: Broadcasting large task binary with size 35.7 MiB\n",
      "25/10/13 12:52:49 WARN DAGScheduler: Broadcasting large task binary with size 35.7 MiB\n",
      "25/10/13 12:53:01 WARN DAGScheduler: Broadcasting large task binary with size 48.9 MiB\n",
      "                                                                                "
     ]
    },
    {
     "data": {
      "text/plain": [
       "34233835"
      ]
     },
     "execution_count": 13,
     "metadata": {},
     "output_type": "execute_result"
    }
   ],
   "source": [
    "test_unfiltered.count()"
   ]
  },
  {
   "cell_type": "code",
   "execution_count": 14,
   "id": "1b002310-b9c1-410d-8058-b1e408f21404",
   "metadata": {},
   "outputs": [],
   "source": [
    "train_users = train.select('user_id').distinct()\n",
    "test_users = test_unfiltered.select('user_id').distinct()"
   ]
  },
  {
   "cell_type": "code",
   "execution_count": 15,
   "id": "d0e91af9-b99d-4e99-9aaf-76310032ed4b",
   "metadata": {},
   "outputs": [],
   "source": [
    "test_only_users = test_users.join(train_users, on='user_id', how='left_anti')\n",
    "test = test_unfiltered.join(test_only_users, on='user_id', how='left_anti')"
   ]
  },
  {
   "cell_type": "code",
   "execution_count": 16,
   "id": "474c7d82-cbd5-4739-a508-ec1c2cba524b",
   "metadata": {},
   "outputs": [
    {
     "name": "stderr",
     "output_type": "stream",
     "text": [
      "25/10/13 12:53:13 WARN DAGScheduler: Broadcasting large task binary with size 35.6 MiB\n",
      "25/10/13 12:53:14 WARN DAGScheduler: Broadcasting large task binary with size 35.7 MiB\n",
      "25/10/13 12:53:28 WARN DAGScheduler: Broadcasting large task binary with size 35.7 MiB\n",
      "25/10/13 12:53:48 WARN DAGScheduler: Broadcasting large task binary with size 35.7 MiB\n",
      "25/10/13 12:53:56 WARN DAGScheduler: Broadcasting large task binary with size 48.9 MiB\n",
      "                                                                                "
     ]
    },
    {
     "data": {
      "text/plain": [
       "1222"
      ]
     },
     "execution_count": 16,
     "metadata": {},
     "output_type": "execute_result"
    }
   ],
   "source": [
    "# these are the 'cold-start' users that are in test set but not in train set\n",
    "# they have been removed using the left_anti join\n",
    "test_only_users.count()"
   ]
  },
  {
   "cell_type": "code",
   "execution_count": 17,
   "id": "46a06000-00e4-4b39-9cbb-b77237cca570",
   "metadata": {},
   "outputs": [
    {
     "name": "stderr",
     "output_type": "stream",
     "text": [
      "25/10/13 12:54:15 WARN DAGScheduler: Broadcasting large task binary with size 35.6 MiB\n",
      "25/10/13 12:54:16 WARN DAGScheduler: Broadcasting large task binary with size 35.7 MiB\n",
      "25/10/13 12:54:30 WARN DAGScheduler: Broadcasting large task binary with size 35.7 MiB\n",
      "25/10/13 12:54:49 WARN DAGScheduler: Broadcasting large task binary with size 35.7 MiB\n",
      "25/10/13 12:54:59 WARN DAGScheduler: Broadcasting large task binary with size 49.0 MiB\n",
      "                                                                                "
     ]
    },
    {
     "data": {
      "text/plain": [
       "34206398"
      ]
     },
     "execution_count": 17,
     "metadata": {},
     "output_type": "execute_result"
    }
   ],
   "source": [
    "test.count()"
   ]
  },
  {
   "cell_type": "code",
   "execution_count": 18,
   "id": "d05de7e5-23df-475a-8192-58cd12db0ff5",
   "metadata": {},
   "outputs": [
    {
     "data": {
      "text/plain": [
       "DataFrame[user_id: string, song_id: string, play_count: int, user_index: double, song_index: double]"
      ]
     },
     "execution_count": 18,
     "metadata": {},
     "output_type": "execute_result"
    }
   ],
   "source": [
    "train.cache()\n",
    "test.cache()"
   ]
  },
  {
   "cell_type": "markdown",
   "id": "21f6efe1-e960-4737-af2c-6047b43f6380",
   "metadata": {},
   "source": [
    "# Model Training"
   ]
  },
  {
   "cell_type": "code",
   "execution_count": null,
   "id": "95f71fc9-bf44-446e-bd0d-39dec2310f10",
   "metadata": {},
   "outputs": [],
   "source": [
    "als = ALS(\n",
    "    userCol='user_index',\n",
    "    itemCol='song_index',\n",
    "    ratingCol='play_count',\n",
    "    implicitPrefs=True,\n",
    "    seed=42,\n",
    "    maxIter=10,\n",
    "    regParam=0.1,\n",
    "    alpha=40\n",
    ")\n",
    "\n",
    "model = als.fit(train)"
   ]
  },
  {
   "cell_type": "markdown",
   "id": "b1ce75a7-0240-401e-b9c2-6ec517d87668",
   "metadata": {},
   "source": [
    "# Hand-testing model performance"
   ]
  },
  {
   "cell_type": "code",
   "execution_count": 20,
   "id": "91aac311-5ace-42f9-aaf1-124ae20fd901",
   "metadata": {},
   "outputs": [
    {
     "name": "stderr",
     "output_type": "stream",
     "text": [
      "25/10/13 12:57:41 WARN DAGScheduler: Broadcasting large task binary with size 35.6 MiB\n",
      "25/10/13 12:57:41 WARN DAGScheduler: Broadcasting large task binary with size 35.7 MiB\n",
      "25/10/13 12:57:57 WARN DAGScheduler: Broadcasting large task binary with size 35.7 MiB\n",
      "25/10/13 12:58:15 WARN DAGScheduler: Broadcasting large task binary with size 35.7 MiB\n",
      "25/10/13 12:58:24 WARN DAGScheduler: Broadcasting large task binary with size 49.0 MiB\n",
      "25/10/13 12:58:52 WARN DAGScheduler: Broadcasting large task binary with size 49.0 MiB\n",
      "25/10/13 12:58:56 WARN DAGScheduler: Broadcasting large task binary with size 49.0 MiB\n",
      "25/10/13 12:58:58 WARN DAGScheduler: Broadcasting large task binary with size 49.0 MiB\n",
      "25/10/13 12:59:00 WARN DAGScheduler: Broadcasting large task binary with size 49.0 MiB\n",
      "[Stage 643:>                                                        (0 + 1) / 1]"
     ]
    },
    {
     "name": "stdout",
     "output_type": "stream",
     "text": [
      "+----------+\n",
      "|user_index|\n",
      "+----------+\n",
      "|  596955.0|\n",
      "|  468765.0|\n",
      "|  628855.0|\n",
      "|  648877.0|\n",
      "|  646185.0|\n",
      "+----------+\n",
      "\n"
     ]
    },
    {
     "name": "stderr",
     "output_type": "stream",
     "text": [
      "                                                                                "
     ]
    }
   ],
   "source": [
    "test_user_activity = test.groupBy('user_index').agg(\n",
    "    F.countDistinct('song_index').alias('songs_listened'),\n",
    "    F.sum('play_count').alias('total_plays')\n",
    ")\n",
    "\n",
    "hand_test_users = (test_user_activity\n",
    "                   .filter(F.col('total_plays') == 15)\n",
    "                   .select('user_index')\n",
    "                   .distinct()\n",
    "                   .limit(5)\n",
    "                  )\n",
    "\n",
    "hand_test_users.cache()\n",
    "hand_test_users.show()"
   ]
  },
  {
   "cell_type": "code",
   "execution_count": 21,
   "id": "0c5ebc06-2d26-469d-966f-8a1543a94fd2",
   "metadata": {},
   "outputs": [
    {
     "name": "stderr",
     "output_type": "stream",
     "text": [
      "25/10/13 12:59:03 WARN DAGScheduler: Broadcasting large task binary with size 49.0 MiB\n",
      "25/10/13 12:59:04 WARN DAGScheduler: Broadcasting large task binary with size 49.2 MiB\n",
      "25/10/13 12:59:10 WARN DAGScheduler: Broadcasting large task binary with size 49.1 MiB\n",
      "[Stage 715:>                                                        (0 + 1) / 1]"
     ]
    },
    {
     "name": "stdout",
     "output_type": "stream",
     "text": [
      "+----------+---------------------------------------------------------------------------------------------------------------------------------------------------------------------------------------------+\n",
      "|user_index|recommendations                                                                                                                                                                              |\n",
      "+----------+---------------------------------------------------------------------------------------------------------------------------------------------------------------------------------------------+\n",
      "|648877    |[{247, 0.2377797}, {4, 0.2233335}, {9, 0.18882796}, {101, 0.17528135}, {176, 0.17458627}, {486, 0.16999}, {430, 0.16942908}, {597, 0.16840437}, {766, 0.16833577}, {1748, 0.16388376}]       |\n",
      "|596955    |[{1, 0.26126173}, {71, 0.24834356}, {14, 0.23733969}, {5, 0.23639767}, {92, 0.2339701}, {132, 0.23187818}, {88, 0.22946031}, {110, 0.21819355}, {0, 0.21778768}, {13, 0.20916529}]           |\n",
      "|646185    |[{213, 0.1975654}, {209, 0.19175874}, {263, 0.18644644}, {296, 0.17989723}, {182, 0.17886128}, {154, 0.1738212}, {299, 0.16669244}, {477, 0.16512457}, {598, 0.16479841}, {1100, 0.16273695}]|\n",
      "|468765    |[{13, 0.63378936}, {16, 0.60080063}, {96, 0.59467715}, {115, 0.5805102}, {36, 0.57369894}, {19, 0.5568106}, {193, 0.5298537}, {10, 0.5230598}, {122, 0.5162204}, {37, 0.48417148}]           |\n",
      "|628855    |[{9, 0.16661032}, {407, 0.15510224}, {203, 0.1442335}, {345, 0.14398651}, {316, 0.13882193}, {140, 0.13843735}, {24, 0.1375887}, {194, 0.13655047}, {529, 0.13638781}, {101, 0.13454522}]    |\n",
      "+----------+---------------------------------------------------------------------------------------------------------------------------------------------------------------------------------------------+\n",
      "\n"
     ]
    },
    {
     "name": "stderr",
     "output_type": "stream",
     "text": [
      "                                                                                "
     ]
    }
   ],
   "source": [
    "hand_test_recs = model.recommendForUserSubset(hand_test_users, numItems=10)\n",
    "hand_test_recs.show(truncate=False)"
   ]
  },
  {
   "cell_type": "code",
   "execution_count": 22,
   "id": "c4ab78c6-4e04-450c-abf8-761afbacf3da",
   "metadata": {},
   "outputs": [
    {
     "name": "stderr",
     "output_type": "stream",
     "text": [
      "                                                                                "
     ]
    }
   ],
   "source": [
    "metadata = spark.read.csv(\n",
    "    f'{directory_path}/main/metadata.csv.gz',\n",
    "    inferSchema=True,\n",
    "    header=True\n",
    ")"
   ]
  },
  {
   "cell_type": "code",
   "execution_count": 23,
   "id": "25a4dc47-07bc-43da-8f42-103a33014cb4",
   "metadata": {},
   "outputs": [],
   "source": [
    "song_id_mapper = encoded_triplets.select('song_id', 'song_index').distinct()"
   ]
  },
  {
   "cell_type": "code",
   "execution_count": 57,
   "id": "f56719f9-941e-470c-ba84-1a172c217e12",
   "metadata": {},
   "outputs": [],
   "source": [
    "recommended_full = (hand_test_recs\n",
    "               .withColumn('recs', F.explode('recommendations'))\n",
    "               .select('user_index', F.col('recs.song_index'), F.col('recs.rating'))\n",
    "               .join(song_id_mapper, on='song_index', how='inner')\n",
    "               .join(metadata, on='song_id', how='inner')                              \n",
    ")\n",
    "\n",
    "recommended_songs = recommended_full.groupBy('user_index').agg(F.collect_list('title').alias('recommended_songs'))        "
   ]
  },
  {
   "cell_type": "code",
   "execution_count": 25,
   "id": "1deada5d-c66f-4f4f-b4a1-da40b2173981",
   "metadata": {},
   "outputs": [
    {
     "name": "stderr",
     "output_type": "stream",
     "text": [
      "25/10/13 12:59:18 WARN DAGScheduler: Broadcasting large task binary with size 44.5 MiB\n",
      "25/10/13 12:59:18 WARN DAGScheduler: Broadcasting large task binary with size 9.0 MiB\n",
      "25/10/13 12:59:19 WARN DAGScheduler: Broadcasting large task binary with size 35.7 MiB\n",
      "25/10/13 12:59:19 WARN DAGScheduler: Broadcasting large task binary with size 8.9 MiB\n",
      "25/10/13 12:59:20 WARN DAGScheduler: Broadcasting large task binary with size 49.0 MiB\n",
      "25/10/13 12:59:33 WARN DAGScheduler: Broadcasting large task binary with size 49.2 MiB\n",
      "25/10/13 12:59:37 WARN DAGScheduler: Broadcasting large task binary with size 44.6 MiB\n",
      "25/10/13 12:59:44 WARN DAGScheduler: Broadcasting large task binary with size 49.1 MiB\n",
      "25/10/13 13:00:01 WARN DAGScheduler: Broadcasting large task binary with size 35.7 MiB\n",
      "25/10/13 13:00:08 WARN DAGScheduler: Broadcasting large task binary with size 45.7 MiB\n",
      "25/10/13 13:00:20 WARN DAGScheduler: Broadcasting large task binary with size 49.2 MiB\n",
      "25/10/13 13:00:22 WARN DAGScheduler: Broadcasting large task binary with size 49.2 MiB\n",
      "25/10/13 13:00:23 WARN DAGScheduler: Broadcasting large task binary with size 49.2 MiB\n",
      "[Stage 824:>                                                        (0 + 1) / 1]"
     ]
    },
    {
     "name": "stdout",
     "output_type": "stream",
     "text": [
      "+----------+--------------------------------------------------------------------------------------------------------------------------------------------------------------------------------------------------+\n",
      "|user_index|recommended_songs                                                                                                                                                                                 |\n",
      "+----------+--------------------------------------------------------------------------------------------------------------------------------------------------------------------------------------------------+\n",
      "|646185    |[Under Pressure, Have You Ever Seen The Rain, Ride The Lightning, Electric Avenue, Bad Moon Rising, Kun Puut Tekee Seittiä, Come As You Are, Burden In My Hand, Fortunate Son, The Memory Remains]|\n",
      "|648877    |[Wild World, Video Killed The Radio Star, Sweet And Wild, Where I Stand, Restless, Peace Train, Tive Sim, You're The One, A Beggar On A Beach Of Gold, If You Want To Sing Out_ Sing Out]         |\n",
      "|468765    |[Don't Panic, In My Place, When You Were Young, Speed Of Sound, The Scientist, Use Somebody, Use Somebody, Yellow, Yellow, Shiver, Fix You, Clocks]                                               |\n",
      "|628855    |[Make Her Say, Sayonara-Nostalgia, Transparency, (Nice Dream), Rayando el sol, Tive Sim, Creep (Explicit), Wish, Love Of My Life (1993 Digital Remaster), A Beggar On A Beach Of Gold]            |\n",
      "|596955    |[West One (Shine On Me), Dog Days Are Over (Radio Edit), The Scientist, Mia, Sehr kosmisch, Such Great Heights, Behind The Sea [Live In Chicago], Revelry, Canada, They Might Follow You]         |\n",
      "+----------+--------------------------------------------------------------------------------------------------------------------------------------------------------------------------------------------------+\n",
      "\n"
     ]
    },
    {
     "name": "stderr",
     "output_type": "stream",
     "text": [
      "                                                                                "
     ]
    }
   ],
   "source": [
    "recommended_songs.show(truncate=False)"
   ]
  },
  {
   "cell_type": "code",
   "execution_count": 44,
   "id": "518f9624-7264-4bda-b496-97fa56e471f7",
   "metadata": {},
   "outputs": [],
   "source": [
    "test_full = (test\n",
    " .join(hand_test_users, on='user_index', how='inner')\n",
    " .join(metadata, on='song_id', how='left')\n",
    " .select('user_index', 'song_index', 'artist_name', 'title', 'release')\n",
    ")\n",
    "\n",
    "actual = hand_test_users.join(\n",
    "    test_full,\n",
    "    how='inner',\n",
    "    on='user_index'\n",
    ")"
   ]
  },
  {
   "cell_type": "code",
   "execution_count": 27,
   "id": "c6f43c56-f016-4417-a0aa-84cbdf2b7858",
   "metadata": {},
   "outputs": [
    {
     "name": "stderr",
     "output_type": "stream",
     "text": [
      "25/10/13 13:00:26 WARN DAGScheduler: Broadcasting large task binary with size 49.0 MiB\n",
      "25/10/13 13:00:27 WARN DAGScheduler: Broadcasting large task binary with size 49.0 MiB\n",
      "25/10/13 13:00:28 WARN DAGScheduler: Broadcasting large task binary with size 49.0 MiB\n",
      "25/10/13 13:00:33 WARN DAGScheduler: Broadcasting large task binary with size 49.1 MiB\n",
      "25/10/13 13:00:36 WARN DAGScheduler: Broadcasting large task binary with size 49.0 MiB\n",
      "[Stage 877:>                                                        (0 + 1) / 1]"
     ]
    },
    {
     "name": "stdout",
     "output_type": "stream",
     "text": [
      "+----------+-----------------------------------------------------------------------------------------------------------------------------------------------------------------------------------------------------------------------------------------------------------------------------------------------------------------------------------------------------------+\n",
      "|user_index|songs_listened                                                                                                                                                                                                                                                                                                                                             |\n",
      "+----------+-----------------------------------------------------------------------------------------------------------------------------------------------------------------------------------------------------------------------------------------------------------------------------------------------------------------------------------------------------------+\n",
      "|646185.0  |[The Outsider, Dub On My Mind Dub, The Irony Of It All (Album Version), Ride The Lightning, Don't Mug Yourself (Out Takes), Weak Become Heroes, Faithless, Road To Hell, One, Bad Company, Weapon, Magdalena, Not Addicted, Spirit In The Sky]                                                                                                             |\n",
      "|648877.0  |[Jam On It (Accapella), Barry Prudom (Re-Mix), Tell Me There's A Heaven, Vincent, Love Song (Featuring C4), The Stoop (Explicit), Fast Car, Miss Sarajevo, La Gioconda (2005 Digital Remaster): Dance of the hours, Too Much Love Will Kill You, In den Nächten auf den Gassen II, Tio Alberto, If You See Him / If You See Her, Wooden Ships (LP Version)]|\n",
      "|596955.0  |[Skip The Youth, Hands Up, A Time To Be So Small, Electric Bloom, Walking On The Moon, Moon And Moon, You Mustn't Kick It Around, Goodnight Bad Morning, Mia, The Prize, Centre For Holy Wars, Again & Again, Cape Cod Kwassa Kwassa (Album), They Might Follow You, Country Mile]                                                                         |\n",
      "|628855.0  |[My Life, There's A Class For This (Album Version), Stone Me, Charade, En Glad Calypso Om Våren (Live '62), Break My Body, Rastafari Is, Come Share My Life, Uno Entre 1000, Hall of Fame, Intergalactic, Frank Sinatra, Without You, Daughter, Straight Lines]                                                                                            |\n",
      "|468765.0  |[Under The Gun, I Don't Need A Man, Breakin' Dishes, Speed Of Sound, Beautiful_ Dirty_ Rich, Not Fair (Clean Radio Edit), Not Fair, Talk Is Cheap, Watch Dis (Explicit Album Version), Happy Alone, Happy Alone, One And Only, Year 3000, The Trouble With Love Is, The Trouble With Love Is, Obsessed, Church, Human]                                     |\n",
      "+----------+-----------------------------------------------------------------------------------------------------------------------------------------------------------------------------------------------------------------------------------------------------------------------------------------------------------------------------------------------------------+\n",
      "\n"
     ]
    },
    {
     "name": "stderr",
     "output_type": "stream",
     "text": [
      "                                                                                "
     ]
    }
   ],
   "source": [
    "actual_songs.show(truncate=False)"
   ]
  },
  {
   "cell_type": "code",
   "execution_count": 28,
   "id": "a5e843b1-acb2-41fc-aa98-821732cb39e7",
   "metadata": {},
   "outputs": [],
   "source": [
    "actual_vs_recommended = actual_songs.join(\n",
    "    recommended_songs,\n",
    "    on='user_index',\n",
    "    how='inner'\n",
    ")"
   ]
  },
  {
   "cell_type": "code",
   "execution_count": 29,
   "id": "e91a89c9-bff0-490d-a203-1524c4c63758",
   "metadata": {},
   "outputs": [
    {
     "name": "stderr",
     "output_type": "stream",
     "text": [
      "25/10/13 13:14:49 WARN DAGScheduler: Broadcasting large task binary with size 44.5 MiB\n",
      "25/10/13 13:14:50 WARN DAGScheduler: Broadcasting large task binary with size 9.0 MiB\n",
      "25/10/13 13:14:50 WARN DAGScheduler: Broadcasting large task binary with size 35.7 MiB\n",
      "25/10/13 13:14:50 WARN DAGScheduler: Broadcasting large task binary with size 8.9 MiB\n",
      "25/10/13 13:14:52 WARN DAGScheduler: Broadcasting large task binary with size 49.0 MiB\n",
      "25/10/13 13:14:53 WARN DAGScheduler: Broadcasting large task binary with size 49.0 MiB\n",
      "25/10/13 13:14:53 WARN DAGScheduler: Broadcasting large task binary with size 49.0 MiB\n",
      "25/10/13 13:15:05 WARN DAGScheduler: Broadcasting large task binary with size 49.2 MiB\n",
      "25/10/13 13:15:06 WARN DAGScheduler: Broadcasting large task binary with size 49.0 MiB\n",
      "25/10/13 13:15:09 WARN DAGScheduler: Broadcasting large task binary with size 44.6 MiB\n",
      "25/10/13 13:15:20 WARN DAGScheduler: Broadcasting large task binary with size 49.1 MiB\n",
      "25/10/13 13:15:26 WARN DAGScheduler: Broadcasting large task binary with size 49.1 MiB\n",
      "25/10/13 13:15:32 WARN DAGScheduler: Broadcasting large task binary with size 35.7 MiB\n",
      "25/10/13 13:15:33 WARN DAGScheduler: Broadcasting large task binary with size 49.0 MiB\n",
      "25/10/13 13:15:41 WARN DAGScheduler: Broadcasting large task binary with size 45.7 MiB\n",
      "25/10/13 13:15:55 WARN DAGScheduler: Broadcasting large task binary with size 49.2 MiB\n",
      "25/10/13 13:15:57 WARN DAGScheduler: Broadcasting large task binary with size 49.2 MiB\n",
      "25/10/13 13:15:58 WARN DAGScheduler: Broadcasting large task binary with size 49.2 MiB\n",
      "[Stage 1005:>                                                       (0 + 1) / 1]"
     ]
    },
    {
     "name": "stdout",
     "output_type": "stream",
     "text": [
      "+----------+-----------------------------------------------------------------------------------------------------------------------------------------------------------------------------------------------------------------------------------------------------------------------------------------------------------------------------------------------------------+--------------------------------------------------------------------------------------------------------------------------------------------------------------------------------------------------+\n",
      "|user_index|songs_listened                                                                                                                                                                                                                                                                                                                                             |recommended_songs                                                                                                                                                                                 |\n",
      "+----------+-----------------------------------------------------------------------------------------------------------------------------------------------------------------------------------------------------------------------------------------------------------------------------------------------------------------------------------------------------------+--------------------------------------------------------------------------------------------------------------------------------------------------------------------------------------------------+\n",
      "|646185.0  |[The Outsider, Dub On My Mind Dub, Ride The Lightning, Don't Mug Yourself (Out Takes), Weak Become Heroes, Magdalena, Not Addicted, Spirit In The Sky, Faithless, The Irony Of It All (Album Version), One, Bad Company, Road To Hell, Weapon]                                                                                                             |[Under Pressure, Have You Ever Seen The Rain, Ride The Lightning, Electric Avenue, Bad Moon Rising, Kun Puut Tekee Seittiä, Come As You Are, Burden In My Hand, Fortunate Son, The Memory Remains]|\n",
      "|648877.0  |[Jam On It (Accapella), Barry Prudom (Re-Mix), Tell Me There's A Heaven, In den Nächten auf den Gassen II, Tio Alberto, If You See Him / If You See Her, Wooden Ships (LP Version), Vincent, Love Song (Featuring C4), Miss Sarajevo, La Gioconda (2005 Digital Remaster): Dance of the hours, Too Much Love Will Kill You, The Stoop (Explicit), Fast Car]|[Wild World, Video Killed The Radio Star, Sweet And Wild, Where I Stand, Restless, Peace Train, Tive Sim, You're The One, A Beggar On A Beach Of Gold, If You Want To Sing Out_ Sing Out]         |\n",
      "|468765.0  |[I Don't Need A Man, The Trouble With Love Is, The Trouble With Love Is, Obsessed, Church, Breakin' Dishes, Human, Under The Gun, Beautiful_ Dirty_ Rich, Talk Is Cheap, Watch Dis (Explicit Album Version), Happy Alone, Happy Alone, Speed Of Sound, Not Fair (Clean Radio Edit), Not Fair, One And Only, Year 3000]                                     |[Don't Panic, In My Place, When You Were Young, Speed Of Sound, The Scientist, Use Somebody, Use Somebody, Yellow, Yellow, Shiver, Fix You, Clocks]                                               |\n",
      "|628855.0  |[My Life, There's A Class For This (Album Version), Charade, Daughter, En Glad Calypso Om Våren (Live '62), Straight Lines, Stone Me, Break My Body, Rastafari Is, Intergalactic, Frank Sinatra, Come Share My Life, Without You, Uno Entre 1000, Hall of Fame]                                                                                            |[Make Her Say, Sayonara-Nostalgia, Transparency, (Nice Dream), Rayando el sol, Tive Sim, Creep (Explicit), Wish, Love Of My Life (1993 Digital Remaster), A Beggar On A Beach Of Gold]            |\n",
      "|596955.0  |[Skip The Youth, Hands Up, They Might Follow You, Country Mile, A Time To Be So Small, Electric Bloom, Walking On The Moon, Moon And Moon, You Mustn't Kick It Around, Goodnight Bad Morning, Mia, The Prize, Centre For Holy Wars, Again & Again, Cape Cod Kwassa Kwassa (Album)]                                                                         |[West One (Shine On Me), Dog Days Are Over (Radio Edit), The Scientist, Mia, Sehr kosmisch, Such Great Heights, Behind The Sea [Live In Chicago], Revelry, Canada, They Might Follow You]         |\n",
      "+----------+-----------------------------------------------------------------------------------------------------------------------------------------------------------------------------------------------------------------------------------------------------------------------------------------------------------------------------------------------------------+--------------------------------------------------------------------------------------------------------------------------------------------------------------------------------------------------+\n",
      "\n"
     ]
    },
    {
     "name": "stderr",
     "output_type": "stream",
     "text": [
      "                                                                                "
     ]
    }
   ],
   "source": [
    "# this dataframe contains the recommended vs actual songs for five hand-picked users\n",
    "actual_vs_recommended.show(truncate=False)                        "
   ]
  },
  {
   "cell_type": "code",
   "execution_count": 70,
   "id": "c43df5d1-b149-4ded-a95c-8b93bf19ba6e",
   "metadata": {},
   "outputs": [],
   "source": [
    "def display_songs(user_index):\n",
    "    print(f'User: {user_index}')\n",
    "    print('Songs Played:')\n",
    "    (actual\n",
    "         .filter(F.col('user_index') == user_index)\n",
    "         .select('artist_name', 'title')\n",
    "         .show(truncate=False)\n",
    "    )\n",
    "\n",
    "    print('Recommended Songs: ')\n",
    "    (recommended_full\n",
    "         .filter(F.col('user_index') == user_index)\n",
    "         .select('rating', 'artist_name', 'title')\n",
    "         .orderBy(F.desc('rating'))\n",
    "         .show(truncate=False))"
   ]
  },
  {
   "cell_type": "code",
   "execution_count": 71,
   "id": "81e66401-bf44-450a-a16e-3ffdba8bb84f",
   "metadata": {},
   "outputs": [
    {
     "name": "stdout",
     "output_type": "stream",
     "text": [
      "User: 596955.0\n",
      "Songs Played:\n"
     ]
    },
    {
     "name": "stderr",
     "output_type": "stream",
     "text": [
      "25/10/13 14:09:24 WARN DAGScheduler: Broadcasting large task binary with size 49.0 MiB\n",
      "25/10/13 14:09:25 WARN DAGScheduler: Broadcasting large task binary with size 49.0 MiB\n",
      "25/10/13 14:09:26 WARN DAGScheduler: Broadcasting large task binary with size 49.0 MiB\n",
      "25/10/13 14:09:31 WARN DAGScheduler: Broadcasting large task binary with size 49.1 MiB\n",
      "25/10/13 14:09:32 WARN DAGScheduler: Broadcasting large task binary with size 49.1 MiB\n",
      "25/10/13 14:09:33 WARN DAGScheduler: Broadcasting large task binary with size 49.1 MiB\n",
      "                                                                                "
     ]
    },
    {
     "name": "stdout",
     "output_type": "stream",
     "text": [
      "+---------------------+------------------------------+\n",
      "|artist_name          |title                         |\n",
      "+---------------------+------------------------------+\n",
      "|Frightened Rabbit    |Skip The Youth                |\n",
      "|Soltero              |Hands Up                      |\n",
      "|Interpol             |A Time To Be So Small         |\n",
      "|Foals                |Electric Bloom                |\n",
      "|The Police           |Walking On The Moon           |\n",
      "|Bat For Lashes       |Moon And Moon                 |\n",
      "|Erin McKeown         |You Mustn't Kick It Around    |\n",
      "|The Kills            |Goodnight Bad Morning         |\n",
      "|Emmy The Great       |Mia                           |\n",
      "|Soltero              |The Prize                     |\n",
      "|Vampire Weekend      |Cape Cod Kwassa Kwassa (Album)|\n",
      "|The New Pornographers|Centre For Holy Wars          |\n",
      "|the bird and the bee |Again & Again                 |\n",
      "|Camera Obscura       |Country Mile                  |\n",
      "|Tiny Vipers          |They Might Follow You         |\n",
      "+---------------------+------------------------------+\n",
      "\n",
      "Recommended Songs: \n"
     ]
    },
    {
     "name": "stderr",
     "output_type": "stream",
     "text": [
      "25/10/13 14:09:35 WARN DAGScheduler: Broadcasting large task binary with size 44.5 MiB\n",
      "25/10/13 14:09:35 WARN DAGScheduler: Broadcasting large task binary with size 9.0 MiB\n",
      "25/10/13 14:09:36 WARN DAGScheduler: Broadcasting large task binary with size 35.7 MiB\n",
      "25/10/13 14:09:36 WARN DAGScheduler: Broadcasting large task binary with size 8.9 MiB\n",
      "25/10/13 14:09:37 WARN DAGScheduler: Broadcasting large task binary with size 49.0 MiB\n",
      "25/10/13 14:09:52 WARN DAGScheduler: Broadcasting large task binary with size 49.2 MiB\n",
      "25/10/13 14:09:55 WARN DAGScheduler: Broadcasting large task binary with size 44.6 MiB\n",
      "25/10/13 14:10:03 WARN DAGScheduler: Broadcasting large task binary with size 49.1 MiB\n",
      "25/10/13 14:10:19 WARN DAGScheduler: Broadcasting large task binary with size 35.7 MiB\n",
      "25/10/13 14:10:26 WARN DAGScheduler: Broadcasting large task binary with size 45.7 MiB\n",
      "25/10/13 14:10:38 WARN DAGScheduler: Broadcasting large task binary with size 49.2 MiB\n",
      "25/10/13 14:10:42 WARN DAGScheduler: Broadcasting large task binary with size 49.2 MiB\n",
      "                                                                                "
     ]
    },
    {
     "name": "stdout",
     "output_type": "stream",
     "text": [
      "+----------+----------------------+--------------------------------+\n",
      "|rating    |artist_name           |title                           |\n",
      "+----------+----------------------+--------------------------------+\n",
      "|0.26126173|Florence + The Machine|Dog Days Are Over (Radio Edit)  |\n",
      "|0.24834356|Tiny Vipers           |They Might Follow You           |\n",
      "|0.23733969|Five Iron Frenzy      |Canada                          |\n",
      "|0.23639767|Kings Of Leon         |Revelry                         |\n",
      "|0.2339701 |The Postal Service    |Such Great Heights              |\n",
      "|0.23187818|Emmy The Great        |Mia                             |\n",
      "|0.22946031|The Ruts              |West One (Shine On Me)          |\n",
      "|0.21819355|Panic At The Disco    |Behind The Sea [Live In Chicago]|\n",
      "|0.21778768|Harmonia              |Sehr kosmisch                   |\n",
      "|0.20916529|Coldplay              |The Scientist                   |\n",
      "+----------+----------------------+--------------------------------+\n",
      "\n",
      "User: 468765.0\n",
      "Songs Played:\n"
     ]
    },
    {
     "name": "stderr",
     "output_type": "stream",
     "text": [
      "25/10/13 14:10:45 WARN DAGScheduler: Broadcasting large task binary with size 49.0 MiB\n",
      "25/10/13 14:10:45 WARN DAGScheduler: Broadcasting large task binary with size 49.0 MiB\n",
      "25/10/13 14:10:46 WARN DAGScheduler: Broadcasting large task binary with size 49.0 MiB\n",
      "25/10/13 14:10:52 WARN DAGScheduler: Broadcasting large task binary with size 49.1 MiB\n",
      "25/10/13 14:10:53 WARN DAGScheduler: Broadcasting large task binary with size 49.1 MiB\n",
      "25/10/13 14:10:54 WARN DAGScheduler: Broadcasting large task binary with size 49.1 MiB\n",
      "                                                                                "
     ]
    },
    {
     "name": "stdout",
     "output_type": "stream",
     "text": [
      "+------------------------------+----------------------------------+\n",
      "|artist_name                   |title                             |\n",
      "+------------------------------+----------------------------------+\n",
      "|The Killers                   |Under The Gun                     |\n",
      "|The Pussycat Dolls            |I Don't Need A Man                |\n",
      "|Rihanna                       |Breakin' Dishes                   |\n",
      "|Coldplay                      |Speed Of Sound                    |\n",
      "|Lady GaGa                     |Beautiful_ Dirty_ Rich            |\n",
      "|Lily Allen                    |Not Fair (Clean Radio Edit)       |\n",
      "|Lily Allen                    |Not Fair                          |\n",
      "|Miley Cyrus                   |Talk Is Cheap                     |\n",
      "|Plies                         |Watch Dis (Explicit Album Version)|\n",
      "|Kings Of Leon                 |Happy Alone                       |\n",
      "|Kings Of Leon                 |Happy Alone                       |\n",
      "|Mariah Carey / Twista         |One And Only                      |\n",
      "|Jonas Brothers                |Year 3000                         |\n",
      "|Kelly Clarkson                |The Trouble With Love Is          |\n",
      "|Kelly Clarkson                |The Trouble With Love Is          |\n",
      "|T-Pain featuring Teddy Verseti|Church                            |\n",
      "|Miley Cyrus                   |Obsessed                          |\n",
      "|The Killers                   |Human                             |\n",
      "+------------------------------+----------------------------------+\n",
      "\n",
      "Recommended Songs: \n"
     ]
    },
    {
     "name": "stderr",
     "output_type": "stream",
     "text": [
      "25/10/13 14:10:57 WARN DAGScheduler: Broadcasting large task binary with size 44.5 MiB\n",
      "25/10/13 14:10:57 WARN DAGScheduler: Broadcasting large task binary with size 9.0 MiB\n",
      "25/10/13 14:10:57 WARN DAGScheduler: Broadcasting large task binary with size 35.7 MiB\n",
      "25/10/13 14:10:57 WARN DAGScheduler: Broadcasting large task binary with size 8.9 MiB\n",
      "25/10/13 14:10:58 WARN DAGScheduler: Broadcasting large task binary with size 49.0 MiB\n",
      "25/10/13 14:11:13 WARN DAGScheduler: Broadcasting large task binary with size 49.2 MiB\n",
      "25/10/13 14:11:16 WARN DAGScheduler: Broadcasting large task binary with size 44.6 MiB\n",
      "25/10/13 14:11:23 WARN DAGScheduler: Broadcasting large task binary with size 49.1 MiB\n",
      "25/10/13 14:11:37 WARN DAGScheduler: Broadcasting large task binary with size 35.7 MiB\n",
      "25/10/13 14:11:45 WARN DAGScheduler: Broadcasting large task binary with size 45.7 MiB\n",
      "25/10/13 14:11:55 WARN DAGScheduler: Broadcasting large task binary with size 49.2 MiB\n",
      "25/10/13 14:11:59 WARN DAGScheduler: Broadcasting large task binary with size 49.2 MiB\n",
      "                                                                                "
     ]
    },
    {
     "name": "stdout",
     "output_type": "stream",
     "text": [
      "+----------+-------------+-------------------+\n",
      "|rating    |artist_name  |title              |\n",
      "+----------+-------------+-------------------+\n",
      "|0.63378936|Coldplay     |The Scientist      |\n",
      "|0.60080063|Coldplay     |Clocks             |\n",
      "|0.59467715|Coldplay     |Shiver             |\n",
      "|0.5805102 |Coldplay     |In My Place        |\n",
      "|0.57369894|Coldplay     |Fix You            |\n",
      "|0.5568106 |Coldplay     |Yellow             |\n",
      "|0.5568106 |Coldplay     |Yellow             |\n",
      "|0.5298537 |Coldplay     |Don't Panic        |\n",
      "|0.5230598 |Kings Of Leon|Use Somebody       |\n",
      "|0.5230598 |Kings Of Leon|Use Somebody       |\n",
      "|0.5162204 |Coldplay     |Speed Of Sound     |\n",
      "|0.48417148|The Killers  |When You Were Young|\n",
      "+----------+-------------+-------------------+\n",
      "\n",
      "User: 628855.0\n",
      "Songs Played:\n"
     ]
    },
    {
     "name": "stderr",
     "output_type": "stream",
     "text": [
      "25/10/13 14:12:02 WARN DAGScheduler: Broadcasting large task binary with size 49.0 MiB\n",
      "25/10/13 14:12:03 WARN DAGScheduler: Broadcasting large task binary with size 49.0 MiB\n",
      "25/10/13 14:12:03 WARN DAGScheduler: Broadcasting large task binary with size 49.0 MiB\n",
      "25/10/13 14:12:09 WARN DAGScheduler: Broadcasting large task binary with size 49.1 MiB\n",
      "25/10/13 14:12:11 WARN DAGScheduler: Broadcasting large task binary with size 49.1 MiB\n",
      "25/10/13 14:12:12 WARN DAGScheduler: Broadcasting large task binary with size 49.1 MiB\n",
      "                                                                                "
     ]
    },
    {
     "name": "stdout",
     "output_type": "stream",
     "text": [
      "+-----------------------+----------------------------------------+\n",
      "|artist_name            |title                                   |\n",
      "+-----------------------+----------------------------------------+\n",
      "|Deviates               |My Life                                 |\n",
      "|Cute Is What We Aim For|There's A Class For This (Album Version)|\n",
      "|Skids                  |Charade                                 |\n",
      "|G. Love                |Stone Me                                |\n",
      "|Olle Adolphson         |En Glad Calypso Om Våren (Live '62)     |\n",
      "|Pixies                 |Break My Body                           |\n",
      "|Peter Tosh             |Rastafari Is                            |\n",
      "|Legião Urbana          |Come Share My Life                      |\n",
      "|Gustavo Cerati         |Uno Entre 1000                          |\n",
      "|Guru                   |Hall of Fame                            |\n",
      "|Beastie Boys           |Intergalactic                           |\n",
      "|Cake                   |Frank Sinatra                           |\n",
      "|Mariah Carey           |Without You                             |\n",
      "|Pearl Jam              |Daughter                                |\n",
      "|Silverchair            |Straight Lines                          |\n",
      "+-----------------------+----------------------------------------+\n",
      "\n",
      "Recommended Songs: \n"
     ]
    },
    {
     "name": "stderr",
     "output_type": "stream",
     "text": [
      "25/10/13 14:12:14 WARN DAGScheduler: Broadcasting large task binary with size 44.5 MiB\n",
      "25/10/13 14:12:14 WARN DAGScheduler: Broadcasting large task binary with size 9.0 MiB\n",
      "25/10/13 14:12:14 WARN DAGScheduler: Broadcasting large task binary with size 35.7 MiB\n",
      "25/10/13 14:12:14 WARN DAGScheduler: Broadcasting large task binary with size 8.9 MiB\n",
      "25/10/13 14:12:16 WARN DAGScheduler: Broadcasting large task binary with size 49.0 MiB\n",
      "25/10/13 14:12:30 WARN DAGScheduler: Broadcasting large task binary with size 49.2 MiB\n",
      "25/10/13 14:12:34 WARN DAGScheduler: Broadcasting large task binary with size 44.6 MiB\n",
      "25/10/13 14:12:40 WARN DAGScheduler: Broadcasting large task binary with size 49.1 MiB\n",
      "25/10/13 14:12:55 WARN DAGScheduler: Broadcasting large task binary with size 35.7 MiB\n",
      "25/10/13 14:13:02 WARN DAGScheduler: Broadcasting large task binary with size 45.7 MiB\n",
      "25/10/13 14:13:13 WARN DAGScheduler: Broadcasting large task binary with size 49.2 MiB\n",
      "25/10/13 14:13:17 WARN DAGScheduler: Broadcasting large task binary with size 49.2 MiB\n",
      "                                                                                "
     ]
    },
    {
     "name": "stdout",
     "output_type": "stream",
     "text": [
      "+----------+------------------------------+---------------------------------------+\n",
      "|rating    |artist_name                   |title                                  |\n",
      "+----------+------------------------------+---------------------------------------+\n",
      "|0.16661032|Cartola                       |Tive Sim                               |\n",
      "|0.15510224|Nine Inch Nails               |Wish                                   |\n",
      "|0.1442335 |White Denim                   |Transparency                           |\n",
      "|0.14398651|Maná                          |Rayando el sol                         |\n",
      "|0.13882193|Queen                         |Love Of My Life (1993 Digital Remaster)|\n",
      "|0.13843735|Base Ball Bear                |Sayonara-Nostalgia                     |\n",
      "|0.1375887 |Radiohead                     |Creep (Explicit)                       |\n",
      "|0.13655047|Kid Cudi / Kanye West / Common|Make Her Say                           |\n",
      "|0.13638781|Radiohead                     |(Nice Dream)                           |\n",
      "|0.13454522|Mike And The Mechanics        |A Beggar On A Beach Of Gold            |\n",
      "+----------+------------------------------+---------------------------------------+\n",
      "\n",
      "User: 648877.0\n",
      "Songs Played:\n"
     ]
    },
    {
     "name": "stderr",
     "output_type": "stream",
     "text": [
      "25/10/13 14:13:20 WARN DAGScheduler: Broadcasting large task binary with size 49.0 MiB\n",
      "25/10/13 14:13:20 WARN DAGScheduler: Broadcasting large task binary with size 49.0 MiB\n",
      "25/10/13 14:13:21 WARN DAGScheduler: Broadcasting large task binary with size 49.0 MiB\n",
      "25/10/13 14:13:26 WARN DAGScheduler: Broadcasting large task binary with size 49.1 MiB\n",
      "25/10/13 14:13:27 WARN DAGScheduler: Broadcasting large task binary with size 49.1 MiB\n",
      "25/10/13 14:13:29 WARN DAGScheduler: Broadcasting large task binary with size 49.1 MiB\n",
      "                                                                                "
     ]
    },
    {
     "name": "stdout",
     "output_type": "stream",
     "text": [
      "+------------------------------------------+-------------------------------------------------------+\n",
      "|artist_name                               |title                                                  |\n",
      "+------------------------------------------+-------------------------------------------------------+\n",
      "|Newcleus                                  |Jam On It (Accapella)                                  |\n",
      "|Combat 84                                 |Barry Prudom (Re-Mix)                                  |\n",
      "|Chris Rea                                 |Tell Me There's A Heaven                               |\n",
      "|Don McLean                                |Vincent                                                |\n",
      "|Little Jackie                             |The Stoop (Explicit)                                   |\n",
      "|Jarvis Church                             |Love Song (Featuring C4)                               |\n",
      "|Wyclef Jean featuring Paul Simon          |Fast Car                                               |\n",
      "|Philharmonia Orchestra/Herbert von Karajan|La Gioconda (2005 Digital Remaster): Dance of the hours|\n",
      "|U2                                        |Miss Sarajevo                                          |\n",
      "|Brian May                                 |Too Much Love Will Kill You                            |\n",
      "|Popol Vuh                                 |In den Nächten auf den Gassen II                       |\n",
      "|Joan Manuel Serrat                        |Tio Alberto                                            |\n",
      "|Brooks & Dunn                             |If You See Him / If You See Her                        |\n",
      "|Crosby_ Stills & Nash                     |Wooden Ships (LP Version)                              |\n",
      "+------------------------------------------+-------------------------------------------------------+\n",
      "\n",
      "Recommended Songs: \n"
     ]
    },
    {
     "name": "stderr",
     "output_type": "stream",
     "text": [
      "25/10/13 14:13:30 WARN DAGScheduler: Broadcasting large task binary with size 44.5 MiB\n",
      "25/10/13 14:13:30 WARN DAGScheduler: Broadcasting large task binary with size 9.0 MiB\n",
      "25/10/13 14:13:31 WARN DAGScheduler: Broadcasting large task binary with size 35.7 MiB\n",
      "25/10/13 14:13:31 WARN DAGScheduler: Broadcasting large task binary with size 8.9 MiB\n",
      "25/10/13 14:13:32 WARN DAGScheduler: Broadcasting large task binary with size 49.0 MiB\n",
      "25/10/13 14:13:48 WARN DAGScheduler: Broadcasting large task binary with size 49.2 MiB\n",
      "25/10/13 14:13:51 WARN DAGScheduler: Broadcasting large task binary with size 44.6 MiB\n",
      "25/10/13 14:13:58 WARN DAGScheduler: Broadcasting large task binary with size 49.1 MiB\n",
      "25/10/13 14:14:13 WARN DAGScheduler: Broadcasting large task binary with size 35.7 MiB\n",
      "25/10/13 14:14:20 WARN DAGScheduler: Broadcasting large task binary with size 45.7 MiB\n",
      "25/10/13 14:14:30 WARN DAGScheduler: Broadcasting large task binary with size 49.2 MiB\n",
      "25/10/13 14:14:35 WARN DAGScheduler: Broadcasting large task binary with size 49.2 MiB\n",
      "                                                                                "
     ]
    },
    {
     "name": "stdout",
     "output_type": "stream",
     "text": [
      "+----------+-----------------------------+---------------------------------+\n",
      "|rating    |artist_name                  |title                            |\n",
      "+----------+-----------------------------+---------------------------------+\n",
      "|0.2377797 |Cat Stevens                  |Wild World                       |\n",
      "|0.2233335 |Dwight Yoakam                |You're The One                   |\n",
      "|0.18882796|Cartola                      |Tive Sim                         |\n",
      "|0.17528135|Mike And The Mechanics       |A Beggar On A Beach Of Gold      |\n",
      "|0.17458627|The Buggles                  |Video Killed The Radio Star      |\n",
      "|0.16999   |Cat Stevens                  |Peace Train                      |\n",
      "|0.16942908|Radney Foster                |Sweet And Wild                   |\n",
      "|0.16840437|Days Of The New              |Where I Stand                    |\n",
      "|0.16833577|Cat Stevens                  |If You Want To Sing Out_ Sing Out|\n",
      "|0.16388376|Alison Krauss / Union Station|Restless                         |\n",
      "+----------+-----------------------------+---------------------------------+\n",
      "\n",
      "User: 646185.0\n",
      "Songs Played:\n"
     ]
    },
    {
     "name": "stderr",
     "output_type": "stream",
     "text": [
      "25/10/13 14:14:38 WARN DAGScheduler: Broadcasting large task binary with size 49.0 MiB\n",
      "25/10/13 14:14:38 WARN DAGScheduler: Broadcasting large task binary with size 49.0 MiB\n",
      "25/10/13 14:14:39 WARN DAGScheduler: Broadcasting large task binary with size 49.0 MiB\n",
      "25/10/13 14:14:45 WARN DAGScheduler: Broadcasting large task binary with size 49.1 MiB\n",
      "25/10/13 14:14:46 WARN DAGScheduler: Broadcasting large task binary with size 49.1 MiB\n",
      "25/10/13 14:14:48 WARN DAGScheduler: Broadcasting large task binary with size 49.1 MiB\n",
      "                                                                                "
     ]
    },
    {
     "name": "stdout",
     "output_type": "stream",
     "text": [
      "+-----------------------+-----------------------------------+\n",
      "|artist_name            |title                              |\n",
      "+-----------------------+-----------------------------------+\n",
      "|A Perfect Circle       |The Outsider                       |\n",
      "|King Tubby             |Dub On My Mind Dub                 |\n",
      "|The Streets            |The Irony Of It All (Album Version)|\n",
      "|The Streets            |Don't Mug Yourself (Out Takes)     |\n",
      "|The Streets            |Weak Become Heroes                 |\n",
      "|Metallica              |Ride The Lightning                 |\n",
      "|BEFORE THE DAWN        |Faithless                          |\n",
      "|Bruce Dickinson        |Road To Hell                       |\n",
      "|Metallica              |One                                |\n",
      "|Five Finger Death Punch|Bad Company                        |\n",
      "|Matthew Good           |Weapon                             |\n",
      "|A Perfect Circle       |Magdalena                          |\n",
      "|The Streets            |Not Addicted                       |\n",
      "|Norman Greenbaum       |Spirit In The Sky                  |\n",
      "+-----------------------+-----------------------------------+\n",
      "\n",
      "Recommended Songs: \n"
     ]
    },
    {
     "name": "stderr",
     "output_type": "stream",
     "text": [
      "25/10/13 14:14:49 WARN DAGScheduler: Broadcasting large task binary with size 44.5 MiB\n",
      "25/10/13 14:14:49 WARN DAGScheduler: Broadcasting large task binary with size 9.0 MiB\n",
      "25/10/13 14:14:50 WARN DAGScheduler: Broadcasting large task binary with size 35.7 MiB\n",
      "25/10/13 14:14:50 WARN DAGScheduler: Broadcasting large task binary with size 8.9 MiB\n",
      "25/10/13 14:14:51 WARN DAGScheduler: Broadcasting large task binary with size 49.0 MiB\n",
      "25/10/13 14:15:06 WARN DAGScheduler: Broadcasting large task binary with size 49.2 MiB\n",
      "25/10/13 14:15:10 WARN DAGScheduler: Broadcasting large task binary with size 44.6 MiB\n",
      "25/10/13 14:15:17 WARN DAGScheduler: Broadcasting large task binary with size 49.1 MiB\n",
      "25/10/13 14:15:32 WARN DAGScheduler: Broadcasting large task binary with size 35.7 MiB\n",
      "25/10/13 14:15:40 WARN DAGScheduler: Broadcasting large task binary with size 45.7 MiB\n",
      "25/10/13 14:15:51 WARN DAGScheduler: Broadcasting large task binary with size 49.2 MiB\n",
      "25/10/13 14:15:55 WARN DAGScheduler: Broadcasting large task binary with size 49.2 MiB\n",
      "[Stage 4045:=========================================>             (9 + 3) / 12]"
     ]
    },
    {
     "name": "stdout",
     "output_type": "stream",
     "text": [
      "+----------+------------------------------+---------------------------+\n",
      "|rating    |artist_name                   |title                      |\n",
      "+----------+------------------------------+---------------------------+\n",
      "|0.1975654 |Creedence Clearwater Revival  |Fortunate Son              |\n",
      "|0.19175874|Creedence Clearwater Revival  |Have You Ever Seen The Rain|\n",
      "|0.18644644|Metallica                     |Ride The Lightning         |\n",
      "|0.17989723|Metallica / Marianne Faithfull|The Memory Remains         |\n",
      "|0.17886128|Queen                         |Under Pressure             |\n",
      "|0.1738212 |Nirvana                       |Come As You Are            |\n",
      "|0.16669244|Creedence Clearwater Revival  |Bad Moon Rising            |\n",
      "|0.16512457|Soundgarden                   |Burden In My Hand          |\n",
      "|0.16479841|Eddy Grant                    |Electric Avenue            |\n",
      "|0.16273695|Scandinavian Music Group      |Kun Puut Tekee Seittiä     |\n",
      "+----------+------------------------------+---------------------------+\n",
      "\n"
     ]
    },
    {
     "name": "stderr",
     "output_type": "stream",
     "text": [
      "                                                                                "
     ]
    }
   ],
   "source": [
    "hand_test_users_list = [596955.0, 468765.0, 628855.0, 648877.0, 646185.0]\n",
    "\n",
    "for user in hand_test_users_list:\n",
    "    display_songs(user)"
   ]
  },
  {
   "cell_type": "markdown",
   "id": "ba250e14-8528-450e-ae69-7fa237a8c33f",
   "metadata": {},
   "source": [
    "# Model Evaluation"
   ]
  },
  {
   "cell_type": "code",
   "execution_count": 76,
   "id": "5a41e696-493d-4cb4-9ba5-2a85de3a7d1f",
   "metadata": {},
   "outputs": [],
   "source": [
    "k=10\n",
    "\n",
    "als_recommendations = model.recommendForAllUsers(k)"
   ]
  },
  {
   "cell_type": "code",
   "execution_count": 77,
   "id": "59016b72-29df-45c2-9731-a334ad3335b8",
   "metadata": {},
   "outputs": [
    {
     "name": "stdout",
     "output_type": "stream",
     "text": [
      "root\n",
      " |-- user_index: integer (nullable = false)\n",
      " |-- recommendations: array (nullable = true)\n",
      " |    |-- element: struct (containsNull = true)\n",
      " |    |    |-- song_index: integer (nullable = true)\n",
      " |    |    |-- rating: float (nullable = true)\n",
      "\n"
     ]
    }
   ],
   "source": [
    "als_recommendations.printSchema()"
   ]
  },
  {
   "cell_type": "code",
   "execution_count": 78,
   "id": "ed6e400a-b160-4428-bd2d-14824ead7788",
   "metadata": {},
   "outputs": [
    {
     "name": "stderr",
     "output_type": "stream",
     "text": [
      "25/10/13 16:30:25 WARN DAGScheduler: Broadcasting large task binary with size 49.0 MiB\n",
      "25/10/13 16:34:02 WARN DAGScheduler: Broadcasting large task binary with size 49.0 MiB\n",
      "                                                                                "
     ]
    },
    {
     "data": {
      "text/html": [
       "<div>\n",
       "<style scoped>\n",
       "    .dataframe tbody tr th:only-of-type {\n",
       "        vertical-align: middle;\n",
       "    }\n",
       "\n",
       "    .dataframe tbody tr th {\n",
       "        vertical-align: top;\n",
       "    }\n",
       "\n",
       "    .dataframe thead th {\n",
       "        text-align: right;\n",
       "    }\n",
       "</style>\n",
       "<table border=\"1\" class=\"dataframe\">\n",
       "  <thead>\n",
       "    <tr style=\"text-align: right;\">\n",
       "      <th></th>\n",
       "      <th>user_index</th>\n",
       "      <th>recommendations</th>\n",
       "    </tr>\n",
       "  </thead>\n",
       "  <tbody>\n",
       "    <tr>\n",
       "      <th>0</th>\n",
       "      <td>38</td>\n",
       "      <td>[(235, 1.1846497058868408), (249, 1.1527633666...</td>\n",
       "    </tr>\n",
       "    <tr>\n",
       "      <th>1</th>\n",
       "      <td>57</td>\n",
       "      <td>[(206, 0.9366303086280823), (214, 0.8701990246...</td>\n",
       "    </tr>\n",
       "    <tr>\n",
       "      <th>2</th>\n",
       "      <td>64</td>\n",
       "      <td>[(85, 1.5044667720794678), (5, 1.4657384157180...</td>\n",
       "    </tr>\n",
       "    <tr>\n",
       "      <th>3</th>\n",
       "      <td>77</td>\n",
       "      <td>[(290, 1.086869716644287), (782, 1.02669608592...</td>\n",
       "    </tr>\n",
       "    <tr>\n",
       "      <th>4</th>\n",
       "      <td>80</td>\n",
       "      <td>[(494, 1.0465326309204102), (296, 0.9302388429...</td>\n",
       "    </tr>\n",
       "    <tr>\n",
       "      <th>5</th>\n",
       "      <td>85</td>\n",
       "      <td>[(290, 0.8564937710762024), (213, 0.8261248469...</td>\n",
       "    </tr>\n",
       "    <tr>\n",
       "      <th>6</th>\n",
       "      <td>94</td>\n",
       "      <td>[(470, 1.0850210189819336), (182, 1.0431475639...</td>\n",
       "    </tr>\n",
       "    <tr>\n",
       "      <th>7</th>\n",
       "      <td>104</td>\n",
       "      <td>[(363, 1.2611483335494995), (246, 1.2267875671...</td>\n",
       "    </tr>\n",
       "    <tr>\n",
       "      <th>8</th>\n",
       "      <td>111</td>\n",
       "      <td>[(306, 1.0983549356460571), (533, 1.0365855693...</td>\n",
       "    </tr>\n",
       "    <tr>\n",
       "      <th>9</th>\n",
       "      <td>146</td>\n",
       "      <td>[(226, 1.2012583017349243), (264, 1.1167669296...</td>\n",
       "    </tr>\n",
       "    <tr>\n",
       "      <th>10</th>\n",
       "      <td>176</td>\n",
       "      <td>[(290, 1.0178061723709106), (112, 0.9542841911...</td>\n",
       "    </tr>\n",
       "    <tr>\n",
       "      <th>11</th>\n",
       "      <td>178</td>\n",
       "      <td>[(226, 0.9191872477531433), (457, 0.9036017656...</td>\n",
       "    </tr>\n",
       "    <tr>\n",
       "      <th>12</th>\n",
       "      <td>270</td>\n",
       "      <td>[(296, 1.6117706298828125), (263, 1.5130088329...</td>\n",
       "    </tr>\n",
       "    <tr>\n",
       "      <th>13</th>\n",
       "      <td>273</td>\n",
       "      <td>[(214, 1.66286301612854), (182, 1.542755722999...</td>\n",
       "    </tr>\n",
       "    <tr>\n",
       "      <th>14</th>\n",
       "      <td>289</td>\n",
       "      <td>[(208, 0.944782555103302), (470, 0.92234718799...</td>\n",
       "    </tr>\n",
       "    <tr>\n",
       "      <th>15</th>\n",
       "      <td>300</td>\n",
       "      <td>[(246, 1.1081044673919678), (362, 1.0925149917...</td>\n",
       "    </tr>\n",
       "    <tr>\n",
       "      <th>16</th>\n",
       "      <td>334</td>\n",
       "      <td>[(363, 1.132777214050293), (249, 1.11136126518...</td>\n",
       "    </tr>\n",
       "    <tr>\n",
       "      <th>17</th>\n",
       "      <td>341</td>\n",
       "      <td>[(1, 1.9249091148376465), (53, 1.7596217393875...</td>\n",
       "    </tr>\n",
       "    <tr>\n",
       "      <th>18</th>\n",
       "      <td>345</td>\n",
       "      <td>[(249, 0.955548882484436), (363, 0.94432604312...</td>\n",
       "    </tr>\n",
       "    <tr>\n",
       "      <th>19</th>\n",
       "      <td>346</td>\n",
       "      <td>[(226, 1.359477162361145), (241, 1.25483143329...</td>\n",
       "    </tr>\n",
       "  </tbody>\n",
       "</table>\n",
       "</div>"
      ],
      "text/plain": [
       "    user_index                                    recommendations\n",
       "0           38  [(235, 1.1846497058868408), (249, 1.1527633666...\n",
       "1           57  [(206, 0.9366303086280823), (214, 0.8701990246...\n",
       "2           64  [(85, 1.5044667720794678), (5, 1.4657384157180...\n",
       "3           77  [(290, 1.086869716644287), (782, 1.02669608592...\n",
       "4           80  [(494, 1.0465326309204102), (296, 0.9302388429...\n",
       "5           85  [(290, 0.8564937710762024), (213, 0.8261248469...\n",
       "6           94  [(470, 1.0850210189819336), (182, 1.0431475639...\n",
       "7          104  [(363, 1.2611483335494995), (246, 1.2267875671...\n",
       "8          111  [(306, 1.0983549356460571), (533, 1.0365855693...\n",
       "9          146  [(226, 1.2012583017349243), (264, 1.1167669296...\n",
       "10         176  [(290, 1.0178061723709106), (112, 0.9542841911...\n",
       "11         178  [(226, 0.9191872477531433), (457, 0.9036017656...\n",
       "12         270  [(296, 1.6117706298828125), (263, 1.5130088329...\n",
       "13         273  [(214, 1.66286301612854), (182, 1.542755722999...\n",
       "14         289  [(208, 0.944782555103302), (470, 0.92234718799...\n",
       "15         300  [(246, 1.1081044673919678), (362, 1.0925149917...\n",
       "16         334  [(363, 1.132777214050293), (249, 1.11136126518...\n",
       "17         341  [(1, 1.9249091148376465), (53, 1.7596217393875...\n",
       "18         345  [(249, 0.955548882484436), (363, 0.94432604312...\n",
       "19         346  [(226, 1.359477162361145), (241, 1.25483143329..."
      ]
     },
     "metadata": {},
     "output_type": "display_data"
    }
   ],
   "source": [
    "show_as_html(als_recommendations)"
   ]
  },
  {
   "cell_type": "code",
   "execution_count": 84,
   "id": "6e73ad4d-337c-42ed-a7f6-56839bcc31bb",
   "metadata": {},
   "outputs": [],
   "source": [
    "predicted = (\n",
    "    als_recommendations\n",
    "    .withColumn('rec', F.explode('recommendations'))\n",
    "    .select('user_index', F.col('rec.song_index').alias('song_index'))\n",
    ")\n",
    "\n",
    "predicted_grouped = (\n",
    "    predicted\n",
    "    .groupBy('user_index')\n",
    "    .agg(F.collect_list('song_index').cast(ArrayType(DoubleType())).alias('predicted_songs'))\n",
    ")\n",
    "\n",
    "actual_grouped = (\n",
    "    test\n",
    "    .groupBy('user_index')\n",
    "    .agg(F.collect_set('song_index').cast(ArrayType(DoubleType())).alias('actual_songs'))\n",
    ")\n",
    "\n",
    "joined = predicted_grouped.join(actual_grouped, on='user_index', how='inner')"
   ]
  },
  {
   "cell_type": "code",
   "execution_count": 85,
   "id": "fc0ab559-4d55-416b-9eb0-1a1ea2100b8f",
   "metadata": {},
   "outputs": [
    {
     "name": "stderr",
     "output_type": "stream",
     "text": [
      "25/10/13 16:57:58 WARN DAGScheduler: Broadcasting large task binary with size 49.0 MiB\n",
      "25/10/13 16:57:58 WARN DAGScheduler: Broadcasting large task binary with size 49.0 MiB\n",
      "25/10/13 17:01:26 WARN DAGScheduler: Broadcasting large task binary with size 49.0 MiB\n",
      "25/10/13 17:01:32 WARN DAGScheduler: Broadcasting large task binary with size 49.0 MiB\n",
      "25/10/13 17:01:38 WARN DAGScheduler: Broadcasting large task binary with size 49.0 MiB\n",
      "25/10/13 17:01:42 WARN DAGScheduler: Broadcasting large task binary with size 49.2 MiB\n",
      "25/10/13 17:01:45 WARN DAGScheduler: Broadcasting large task binary with size 49.0 MiB\n",
      "25/10/13 17:01:45 WARN DAGScheduler: Broadcasting large task binary with size 49.0 MiB\n",
      "25/10/13 17:05:18 WARN DAGScheduler: Broadcasting large task binary with size 49.0 MiB\n",
      "25/10/13 17:05:19 WARN DAGScheduler: Broadcasting large task binary with size 49.0 MiB\n",
      "25/10/13 17:05:25 WARN DAGScheduler: Broadcasting large task binary with size 49.0 MiB\n",
      "25/10/13 17:05:29 WARN DAGScheduler: Broadcasting large task binary with size 49.2 MiB\n",
      "25/10/13 17:05:32 WARN DAGScheduler: Broadcasting large task binary with size 49.0 MiB\n",
      "25/10/13 17:05:32 WARN DAGScheduler: Broadcasting large task binary with size 49.0 MiB\n",
      "25/10/13 17:09:03 WARN DAGScheduler: Broadcasting large task binary with size 49.0 MiB\n",
      "25/10/13 17:09:03 WARN DAGScheduler: Broadcasting large task binary with size 49.0 MiB\n",
      "25/10/13 17:09:09 WARN DAGScheduler: Broadcasting large task binary with size 49.0 MiB\n",
      "25/10/13 17:09:13 WARN DAGScheduler: Broadcasting large task binary with size 49.2 MiB\n",
      "                                                                                "
     ]
    }
   ],
   "source": [
    "evaluator = RankingEvaluator(predictionCol='predicted_songs', labelCol='actual_songs')\n",
    "\n",
    "precisionAtK = evaluator.evaluate(joined, {evaluator.metricName: \"precisionAtK\", evaluator.k: k})\n",
    "mapAtK = evaluator.evaluate(joined, {evaluator.metricName: \"meanAveragePrecisionAtK\", evaluator.k: k})\n",
    "ndcgAtK = evaluator.evaluate(joined, {evaluator.metricName: \"ndcgAtK\", evaluator.k: k})"
   ]
  },
  {
   "cell_type": "code",
   "execution_count": 86,
   "id": "78b3f471-decf-4014-8f2e-fc90a3c8dab9",
   "metadata": {},
   "outputs": [
    {
     "name": "stdout",
     "output_type": "stream",
     "text": [
      "metrics for implicit feedback\n",
      "\n",
      "precision @ K: 0.10040\n",
      "MAP @ K:       0.05153\n",
      "NDCG @ K:      0.10578\n",
      "\n"
     ]
    }
   ],
   "source": [
    "print(f'metrics for implicit feedback')\n",
    "print(f'')\n",
    "print(f'precision @ K: {precisionAtK:.5f}')\n",
    "print(f'MAP @ K:       {mapAtK:.5f}')\n",
    "print(f'NDCG @ K:      {ndcgAtK:.5f}')\n",
    "print(f'')"
   ]
  },
  {
   "cell_type": "code",
   "execution_count": 99,
   "id": "84531750-f7aa-4648-b377-44fb2b5c111a",
   "metadata": {},
   "outputs": [
    {
     "name": "stderr",
     "output_type": "stream",
     "text": [
      "25/10/11 16:16:12 WARN ExecutorPodsWatchSnapshotSource: Kubernetes client has been closed.\n"
     ]
    },
    {
     "data": {
      "text/html": [
       "<p><b>Spark</b></p><p>The spark session is <b><span style=\"color:red\">stopped</span></b>, confirm that <code>rsh224 (notebook)</code> is under the completed applications section in the Spark UI.</p><ul><li><a href=\"http://mathmadslinux2p.canterbury.ac.nz:8080/\" target=\"_blank\">Spark UI</a></li></ul>"
      ],
      "text/plain": [
       "<IPython.core.display.HTML object>"
      ]
     },
     "metadata": {},
     "output_type": "display_data"
    }
   ],
   "source": [
    "stop_spark()"
   ]
  }
 ],
 "metadata": {
  "kernelspec": {
   "display_name": "Python 3 (ipykernel)",
   "language": "python",
   "name": "python3"
  },
  "language_info": {
   "codemirror_mode": {
    "name": "ipython",
    "version": 3
   },
   "file_extension": ".py",
   "mimetype": "text/x-python",
   "name": "python",
   "nbconvert_exporter": "python",
   "pygments_lexer": "ipython3",
   "version": "3.8.10"
  }
 },
 "nbformat": 4,
 "nbformat_minor": 5
}
