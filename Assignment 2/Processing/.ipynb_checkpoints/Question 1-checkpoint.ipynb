{
 "cells": [
  {
   "cell_type": "code",
   "execution_count": 69,
   "id": "5f0d871f-957f-4314-94e3-16b9c1c4cf9b",
   "metadata": {
    "jupyter": {
     "source_hidden": true
    }
   },
   "outputs": [
    {
     "data": {
      "text/html": [
       "<style>pre { white-space: pre !important; }table.dataframe td { white-space: nowrap !important; }table.dataframe thead th:first-child, table.dataframe tbody th { display: none; }</style>"
      ],
      "text/plain": [
       "<IPython.core.display.HTML object>"
      ]
     },
     "metadata": {},
     "output_type": "display_data"
    }
   ],
   "source": [
    "# Run this cell to import pyspark and to define start_spark() and stop_spark()\n",
    "\n",
    "import findspark\n",
    "\n",
    "findspark.init()\n",
    "\n",
    "import getpass\n",
    "import pandas\n",
    "import pyspark\n",
    "import random\n",
    "import re\n",
    "\n",
    "from IPython.display import display, HTML\n",
    "from pyspark import SparkContext\n",
    "from pyspark.sql import SparkSession\n",
    "import pyspark.sql.functions as F\n",
    "\n",
    "\n",
    "# Constants used to interact with Azure Blob Storage using the hdfs command or Spark\n",
    "\n",
    "global username\n",
    "\n",
    "username = re.sub('@.*', '', getpass.getuser())\n",
    "\n",
    "global azure_account_name\n",
    "global azure_data_container_name\n",
    "global azure_user_container_name\n",
    "global azure_user_token\n",
    "\n",
    "azure_account_name = \"madsstorage002\"\n",
    "azure_data_container_name = \"campus-data\"\n",
    "azure_user_container_name = \"campus-user\"\n",
    "azure_user_token = r\"sp=racwdl&st=2025-08-01T09:41:33Z&se=2026-12-30T16:56:33Z&spr=https&sv=2024-11-04&sr=c&sig=GzR1hq7EJ0lRHj92oDO1MBNjkc602nrpfB5H8Cl7FFY%3D\"\n",
    "\n",
    "\n",
    "# Functions used below\n",
    "\n",
    "def dict_to_html(d):\n",
    "    \"\"\"Convert a Python dictionary into a two column table for display.\n",
    "    \"\"\"\n",
    "\n",
    "    html = []\n",
    "\n",
    "    html.append(f'<table width=\"100%\" style=\"width:100%; font-family: monospace;\">')\n",
    "    for k, v in d.items():\n",
    "        html.append(f'<tr><td style=\"text-align:left;\">{k}</td><td>{v}</td></tr>')\n",
    "    html.append(f'</table>')\n",
    "\n",
    "    return ''.join(html)\n",
    "\n",
    "\n",
    "def show_as_html(df, n=20):\n",
    "    \"\"\"Leverage existing pandas jupyter integration to show a spark dataframe as html.\n",
    "    \n",
    "    Args:\n",
    "        n (int): number of rows to show (default: 20)\n",
    "    \"\"\"\n",
    "\n",
    "    display(df.limit(n).toPandas())\n",
    "\n",
    "    \n",
    "def display_spark():\n",
    "    \"\"\"Display the status of the active Spark session if one is currently running.\n",
    "    \"\"\"\n",
    "    \n",
    "    if 'spark' in globals() and 'sc' in globals():\n",
    "\n",
    "        name = sc.getConf().get(\"spark.app.name\")\n",
    "\n",
    "        html = [\n",
    "            f'<p><b>Spark</b></p>',\n",
    "            f'<p>The spark session is <b><span style=\"color:green\">active</span></b>, look for <code>{name}</code> under the running applications section in the Spark UI.</p>',\n",
    "            f'<ul>',\n",
    "            f'<li><a href=\"http://localhost:{sc.uiWebUrl.split(\":\")[-1]}\" target=\"_blank\">Spark Application UI</a></li>',\n",
    "            f'</ul>',\n",
    "            f'<p><b>Config</b></p>',\n",
    "            dict_to_html(dict(sc.getConf().getAll())),\n",
    "            f'<p><b>Notes</b></p>',\n",
    "            f'<ul>',\n",
    "            f'<li>The spark session <code>spark</code> and spark context <code>sc</code> global variables have been defined by <code>start_spark()</code>.</li>',\n",
    "            f'<li>Please run <code>stop_spark()</code> before closing the notebook or restarting the kernel or kill <code>{name}</code> by hand using the link in the Spark UI.</li>',\n",
    "            f'</ul>',\n",
    "        ]\n",
    "        display(HTML(''.join(html)))\n",
    "        \n",
    "    else:\n",
    "        \n",
    "        html = [\n",
    "            f'<p><b>Spark</b></p>',\n",
    "            f'<p>The spark session is <b><span style=\"color:red\">stopped</span></b>, confirm that <code>{username} (notebook)</code> is under the completed applications section in the Spark UI.</p>',\n",
    "            f'<ul>',\n",
    "            f'<li><a href=\"http://mathmadslinux2p.canterbury.ac.nz:8080/\" target=\"_blank\">Spark UI</a></li>',\n",
    "            f'</ul>',\n",
    "        ]\n",
    "        display(HTML(''.join(html)))\n",
    "\n",
    "\n",
    "# Functions to start and stop spark\n",
    "\n",
    "def start_spark(executor_instances=2, executor_cores=1, worker_memory=1, master_memory=1):\n",
    "    \"\"\"Start a new Spark session and define globals for SparkSession (spark) and SparkContext (sc).\n",
    "    \n",
    "    Args:\n",
    "        executor_instances (int): number of executors (default: 2)\n",
    "        executor_cores (int): number of cores per executor (default: 1)\n",
    "        worker_memory (float): worker memory (default: 1)\n",
    "        master_memory (float): master memory (default: 1)\n",
    "    \"\"\"\n",
    "\n",
    "    global spark\n",
    "    global sc\n",
    "\n",
    "    cores = executor_instances * executor_cores\n",
    "    partitions = cores * 4\n",
    "    port = 4000 + random.randint(1, 999)\n",
    "\n",
    "    spark = (\n",
    "        SparkSession.builder\n",
    "        .config(\"spark.driver.extraJavaOptions\", f\"-Dderby.system.home=/tmp/{username}/spark/\")\n",
    "        .config(\"spark.dynamicAllocation.enabled\", \"false\")\n",
    "        .config(\"spark.executor.instances\", str(executor_instances))\n",
    "        .config(\"spark.executor.cores\", str(executor_cores))\n",
    "        .config(\"spark.cores.max\", str(cores))\n",
    "        .config(\"spark.driver.memory\", f'{master_memory}g')\n",
    "        .config(\"spark.executor.memory\", f'{worker_memory}g')\n",
    "        .config(\"spark.driver.maxResultSize\", \"0\")\n",
    "        .config(\"spark.sql.shuffle.partitions\", str(partitions))\n",
    "        .config(\"spark.kubernetes.container.image\", \"madsregistry001.azurecr.io/hadoop-spark:v3.3.5-openjdk-8\")\n",
    "        .config(\"spark.kubernetes.container.image.pullPolicy\", \"IfNotPresent\")\n",
    "        .config(\"spark.kubernetes.memoryOverheadFactor\", \"0.3\")\n",
    "        .config(\"spark.memory.fraction\", \"0.1\")\n",
    "        .config(f\"fs.azure.sas.{azure_user_container_name}.{azure_account_name}.blob.core.windows.net\",  azure_user_token)\n",
    "        .config(\"spark.app.name\", f\"{username} (notebook)\")\n",
    "        .getOrCreate()\n",
    "    )\n",
    "    sc = SparkContext.getOrCreate()\n",
    "    \n",
    "    display_spark()\n",
    "\n",
    "    \n",
    "def stop_spark():\n",
    "    \"\"\"Stop the active Spark session and delete globals for SparkSession (spark) and SparkContext (sc).\n",
    "    \"\"\"\n",
    "\n",
    "    global spark\n",
    "    global sc\n",
    "\n",
    "    if 'spark' in globals() and 'sc' in globals():\n",
    "\n",
    "        spark.stop()\n",
    "\n",
    "        del spark\n",
    "        del sc\n",
    "\n",
    "    display_spark()\n",
    "\n",
    "\n",
    "# Make css changes to improve spark output readability\n",
    "\n",
    "html = [\n",
    "    '<style>',\n",
    "    'pre { white-space: pre !important; }',\n",
    "    'table.dataframe td { white-space: nowrap !important; }',\n",
    "    'table.dataframe thead th:first-child, table.dataframe tbody th { display: none; }',\n",
    "    '</style>',\n",
    "]\n",
    "display(HTML(''.join(html)))"
   ]
  },
  {
   "cell_type": "code",
   "execution_count": 70,
   "id": "85832872-5393-4ea9-9f6c-6a49c94386ec",
   "metadata": {
    "scrolled": true
   },
   "outputs": [
    {
     "data": {
      "text/html": [
       "<p><b>Spark</b></p><p>The spark session is <b><span style=\"color:green\">active</span></b>, look for <code>rsh224 (notebook)</code> under the running applications section in the Spark UI.</p><ul><li><a href=\"http://localhost:4040\" target=\"_blank\">Spark Application UI</a></li></ul><p><b>Config</b></p><table width=\"100%\" style=\"width:100%; font-family: monospace;\"><tr><td style=\"text-align:left;\">spark.dynamicAllocation.enabled</td><td>false</td></tr><tr><td style=\"text-align:left;\">spark.fs.azure.sas.campus-user.madsstorage002.blob.core.windows.net</td><td>\"sp=racwdl&st=2025-08-01T09:41:33Z&se=2026-12-30T16:56:33Z&spr=https&sv=2024-11-04&sr=c&sig=GzR1hq7EJ0lRHj92oDO1MBNjkc602nrpfB5H8Cl7FFY%3D\"</td></tr><tr><td style=\"text-align:left;\">spark.kubernetes.driver.pod.name</td><td>spark-master-driver</td></tr><tr><td style=\"text-align:left;\">spark.executor.instances</td><td>4</td></tr><tr><td style=\"text-align:left;\">spark.app.name</td><td>rsh224 (notebook)</td></tr><tr><td style=\"text-align:left;\">spark.cores.max</td><td>16</td></tr><tr><td style=\"text-align:left;\">spark.sql.warehouse.dir</td><td>file:/home/rsh224/data-420-spark/Assignment%202/Processing/spark-warehouse</td></tr><tr><td style=\"text-align:left;\">spark.app.startTime</td><td>1759617025075</td></tr><tr><td style=\"text-align:left;\">spark.kubernetes.container.image.pullPolicy</td><td>IfNotPresent</td></tr><tr><td style=\"text-align:left;\">spark.kubernetes.namespace</td><td>rsh224</td></tr><tr><td style=\"text-align:left;\">spark.app.id</td><td>spark-9a9f730e5d6f4718b3ea7f4dbf403de3</td></tr><tr><td style=\"text-align:left;\">spark.executor.cores</td><td>4</td></tr><tr><td style=\"text-align:left;\">spark.app.submitTime</td><td>1759617024939</td></tr><tr><td style=\"text-align:left;\">spark.driver.memory</td><td>8g</td></tr><tr><td style=\"text-align:left;\">spark.serializer.objectStreamReset</td><td>100</td></tr><tr><td style=\"text-align:left;\">spark.driver.maxResultSize</td><td>0</td></tr><tr><td style=\"text-align:left;\">spark.executor.memory</td><td>8g</td></tr><tr><td style=\"text-align:left;\">spark.submit.deployMode</td><td>client</td></tr><tr><td style=\"text-align:left;\">spark.master</td><td>k8s://https://kubernetes.default.svc.cluster.local:443</td></tr><tr><td style=\"text-align:left;\">spark.fs.azure</td><td>org.apache.hadoop.fs.azure.NativeAzureFileSystem</td></tr><tr><td style=\"text-align:left;\">spark.sql.shuffle.partitions</td><td>64</td></tr><tr><td style=\"text-align:left;\">spark.driver.extraJavaOptions</td><td>-Djava.net.preferIPv6Addresses=false -XX:+IgnoreUnrecognizedVMOptions --add-opens=java.base/java.lang=ALL-UNNAMED --add-opens=java.base/java.lang.invoke=ALL-UNNAMED --add-opens=java.base/java.lang.reflect=ALL-UNNAMED --add-opens=java.base/java.io=ALL-UNNAMED --add-opens=java.base/java.net=ALL-UNNAMED --add-opens=java.base/java.nio=ALL-UNNAMED --add-opens=java.base/java.util=ALL-UNNAMED --add-opens=java.base/java.util.concurrent=ALL-UNNAMED --add-opens=java.base/java.util.concurrent.atomic=ALL-UNNAMED --add-opens=java.base/jdk.internal.ref=ALL-UNNAMED --add-opens=java.base/sun.nio.ch=ALL-UNNAMED --add-opens=java.base/sun.nio.cs=ALL-UNNAMED --add-opens=java.base/sun.security.action=ALL-UNNAMED --add-opens=java.base/sun.util.calendar=ALL-UNNAMED --add-opens=java.security.jgss/sun.security.krb5=ALL-UNNAMED -Djdk.reflect.useDirectMethodHandle=false -Dderby.system.home=/tmp/rsh224/spark/</td></tr><tr><td style=\"text-align:left;\">spark.memory.fraction</td><td>0.1</td></tr><tr><td style=\"text-align:left;\">spark.executor.id</td><td>driver</td></tr><tr><td style=\"text-align:left;\">spark.kubernetes.executor.container.image</td><td>madsregistry001.azurecr.io/hadoop-spark:v3.3.5-openjdk-8-1.0.16</td></tr><tr><td style=\"text-align:left;\">spark.kubernetes.memoryOverheadFactor</td><td>0.3</td></tr><tr><td style=\"text-align:left;\">spark.driver.host</td><td>spark-master-svc</td></tr><tr><td style=\"text-align:left;\">spark.ui.port</td><td>${env:SPARK_UI_PORT}</td></tr><tr><td style=\"text-align:left;\">spark.kubernetes.container.image</td><td>madsregistry001.azurecr.io/hadoop-spark:v3.3.5-openjdk-8</td></tr><tr><td style=\"text-align:left;\">spark.kubernetes.executor.podTemplateFile</td><td>/opt/spark/conf/executor-pod-template.yaml</td></tr><tr><td style=\"text-align:left;\">fs.azure.sas.campus-user.madsstorage002.blob.core.windows.net</td><td>sp=racwdl&st=2025-08-01T09:41:33Z&se=2026-12-30T16:56:33Z&spr=https&sv=2024-11-04&sr=c&sig=GzR1hq7EJ0lRHj92oDO1MBNjkc602nrpfB5H8Cl7FFY%3D</td></tr><tr><td style=\"text-align:left;\">spark.rdd.compress</td><td>True</td></tr><tr><td style=\"text-align:left;\">spark.executor.extraJavaOptions</td><td>-Djava.net.preferIPv6Addresses=false -XX:+IgnoreUnrecognizedVMOptions --add-opens=java.base/java.lang=ALL-UNNAMED --add-opens=java.base/java.lang.invoke=ALL-UNNAMED --add-opens=java.base/java.lang.reflect=ALL-UNNAMED --add-opens=java.base/java.io=ALL-UNNAMED --add-opens=java.base/java.net=ALL-UNNAMED --add-opens=java.base/java.nio=ALL-UNNAMED --add-opens=java.base/java.util=ALL-UNNAMED --add-opens=java.base/java.util.concurrent=ALL-UNNAMED --add-opens=java.base/java.util.concurrent.atomic=ALL-UNNAMED --add-opens=java.base/jdk.internal.ref=ALL-UNNAMED --add-opens=java.base/sun.nio.ch=ALL-UNNAMED --add-opens=java.base/sun.nio.cs=ALL-UNNAMED --add-opens=java.base/sun.security.action=ALL-UNNAMED --add-opens=java.base/sun.util.calendar=ALL-UNNAMED --add-opens=java.security.jgss/sun.security.krb5=ALL-UNNAMED -Djdk.reflect.useDirectMethodHandle=false</td></tr><tr><td style=\"text-align:left;\">spark.driver.port</td><td>7077</td></tr><tr><td style=\"text-align:left;\">spark.submit.pyFiles</td><td></td></tr><tr><td style=\"text-align:left;\">spark.kubernetes.executor.podNamePrefix</td><td>rsh224-notebook-75ac6f99b1590766</td></tr><tr><td style=\"text-align:left;\">spark.fs.azure.sas.uco-user.madsstorage002.blob.core.windows.net</td><td>\"sp=racwdl&st=2025-09-21T20:54:03Z&se=2026-12-31T04:09:03Z&spr=https&sv=2024-11-04&sr=c&sig=5V91JeJe9mD%2FuPKUQ3LCErJh%2FwP0gNYoyl8MMx5pdkM%3D\"</td></tr><tr><td style=\"text-align:left;\">spark.ui.showConsoleProgress</td><td>true</td></tr></table><p><b>Notes</b></p><ul><li>The spark session <code>spark</code> and spark context <code>sc</code> global variables have been defined by <code>start_spark()</code>.</li><li>Please run <code>stop_spark()</code> before closing the notebook or restarting the kernel or kill <code>rsh224 (notebook)</code> by hand using the link in the Spark UI.</li></ul>"
      ],
      "text/plain": [
       "<IPython.core.display.HTML object>"
      ]
     },
     "metadata": {},
     "output_type": "display_data"
    }
   ],
   "source": [
    "# Run this cell to start a spark session in this notebook\n",
    "\n",
    "start_spark(executor_instances=4, executor_cores=4, worker_memory=8, master_memory=8)"
   ]
  },
  {
   "cell_type": "code",
   "execution_count": 71,
   "id": "787cdb5d-6b5a-4fe1-8cbe-5ef019d4537e",
   "metadata": {},
   "outputs": [],
   "source": [
    "# Write your imports here or insert cells below\n",
    "\n",
    "from pyspark.sql import functions as F\n",
    "from pyspark.sql.types import *"
   ]
  },
  {
   "cell_type": "code",
   "execution_count": 72,
   "id": "71c52349-b2c1-4ec5-805e-55f9f2fa7e89",
   "metadata": {},
   "outputs": [],
   "source": [
    "directory_path = f'wasbs://{azure_data_container_name}@{azure_account_name}.blob.core.windows.net/msd'"
   ]
  },
  {
   "cell_type": "code",
   "execution_count": 73,
   "id": "55d327c4-0c1d-4e1a-b3a0-8c6b04337b97",
   "metadata": {},
   "outputs": [
    {
     "name": "stdout",
     "output_type": "stream",
     "text": [
      "Found 4 items\n",
      "drwxrwxrwx   -          0 1970-01-01 12:00 wasbs://campus-data@madsstorage002.blob.core.windows.net/msd/audio\n",
      "drwxrwxrwx   -          0 1970-01-01 12:00 wasbs://campus-data@madsstorage002.blob.core.windows.net/msd/genre\n",
      "drwxrwxrwx   -          0 1970-01-01 12:00 wasbs://campus-data@madsstorage002.blob.core.windows.net/msd/main\n",
      "drwxrwxrwx   -          0 1970-01-01 12:00 wasbs://campus-data@madsstorage002.blob.core.windows.net/msd/tasteprofile\n"
     ]
    }
   ],
   "source": [
    "!hdfs dfs -ls {directory_path}"
   ]
  },
  {
   "cell_type": "code",
   "execution_count": 74,
   "id": "33980550-8b67-4b78-8e5c-c358fe12dac9",
   "metadata": {},
   "outputs": [
    {
     "name": "stdout",
     "output_type": "stream",
     "text": [
      "Found 2 items\n",
      "-rwxrwxrwx   1   58658141 2025-02-18 15:22 wasbs://campus-data@madsstorage002.blob.core.windows.net/msd/main/analysis.csv.gz\n",
      "-rwxrwxrwx   1  124211304 2025-02-18 15:22 wasbs://campus-data@madsstorage002.blob.core.windows.net/msd/main/metadata.csv.gz\n"
     ]
    }
   ],
   "source": [
    "!hdfs dfs -ls {directory_path}/main"
   ]
  },
  {
   "cell_type": "code",
   "execution_count": 75,
   "id": "d0e7a5ca-8d8e-4563-9882-44f83d52c6c1",
   "metadata": {},
   "outputs": [
    {
     "name": "stdout",
     "output_type": "stream",
     "text": [
      "Found 3 items\n",
      "-rwxrwxrwx   1   11625230 2024-09-13 12:00 wasbs://campus-data@madsstorage002.blob.core.windows.net/msd/genre/msd-MAGD-genreAssignment.tsv\n",
      "-rwxrwxrwx   1    8820054 2024-09-13 12:00 wasbs://campus-data@madsstorage002.blob.core.windows.net/msd/genre/msd-MASD-styleAssignment.tsv\n",
      "-rwxrwxrwx   1   11140605 2024-09-13 12:00 wasbs://campus-data@madsstorage002.blob.core.windows.net/msd/genre/msd-topMAGD-genreAssignment.tsv\n"
     ]
    }
   ],
   "source": [
    "!hdfs dfs -ls {directory_path}/genre"
   ]
  },
  {
   "cell_type": "code",
   "execution_count": 76,
   "id": "56921e8f-e893-4623-baf1-76ff512657fd",
   "metadata": {},
   "outputs": [
    {
     "name": "stdout",
     "output_type": "stream",
     "text": [
      "Found 2 items\n",
      "drwxrwxrwx   -          0 1970-01-01 12:00 wasbs://campus-data@madsstorage002.blob.core.windows.net/msd/audio/attributes\n",
      "drwxrwxrwx   -          0 1970-01-01 12:00 wasbs://campus-data@madsstorage002.blob.core.windows.net/msd/audio/features\n"
     ]
    }
   ],
   "source": [
    "!hdfs dfs -ls {directory_path}/audio"
   ]
  },
  {
   "cell_type": "code",
   "execution_count": 77,
   "id": "df74c44e-f7cf-42c1-943d-cb941196c466",
   "metadata": {},
   "outputs": [
    {
     "name": "stdout",
     "output_type": "stream",
     "text": [
      "Found 13 items\n",
      "-rwxrwxrwx   1       1051 2024-09-13 12:00 wasbs://campus-data@madsstorage002.blob.core.windows.net/msd/audio/attributes/msd-jmir-area-of-moments-all-v1.0.attributes.csv\n",
      "-rwxrwxrwx   1        671 2024-09-13 12:00 wasbs://campus-data@madsstorage002.blob.core.windows.net/msd/audio/attributes/msd-jmir-lpc-all-v1.0.attributes.csv\n",
      "-rwxrwxrwx   1        484 2024-09-13 12:00 wasbs://campus-data@madsstorage002.blob.core.windows.net/msd/audio/attributes/msd-jmir-methods-of-moments-all-v1.0.attributes.csv\n",
      "-rwxrwxrwx   1        898 2024-09-13 12:00 wasbs://campus-data@madsstorage002.blob.core.windows.net/msd/audio/attributes/msd-jmir-mfcc-all-v1.0.attributes.csv\n",
      "-rwxrwxrwx   1        777 2024-09-13 12:00 wasbs://campus-data@madsstorage002.blob.core.windows.net/msd/audio/attributes/msd-jmir-spectral-all-all-v1.0.attributes.csv\n",
      "-rwxrwxrwx   1        777 2024-09-13 12:00 wasbs://campus-data@madsstorage002.blob.core.windows.net/msd/audio/attributes/msd-jmir-spectral-derivatives-all-all-v1.0.attributes.csv\n",
      "-rwxrwxrwx   1      12317 2024-09-13 12:00 wasbs://campus-data@madsstorage002.blob.core.windows.net/msd/audio/attributes/msd-marsyas-timbral-v1.0.attributes.csv\n",
      "-rwxrwxrwx   1       9990 2024-09-13 12:00 wasbs://campus-data@madsstorage002.blob.core.windows.net/msd/audio/attributes/msd-mvd-v1.0.attributes.csv\n",
      "-rwxrwxrwx   1       1390 2024-09-13 12:00 wasbs://campus-data@madsstorage002.blob.core.windows.net/msd/audio/attributes/msd-rh-v1.0.attributes.csv\n",
      "-rwxrwxrwx   1      34913 2024-09-13 12:00 wasbs://campus-data@madsstorage002.blob.core.windows.net/msd/audio/attributes/msd-rp-v1.0.attributes.csv\n",
      "-rwxrwxrwx   1       3942 2024-09-13 12:00 wasbs://campus-data@madsstorage002.blob.core.windows.net/msd/audio/attributes/msd-ssd-v1.0.attributes.csv\n",
      "-rwxrwxrwx   1       9990 2024-09-13 12:00 wasbs://campus-data@madsstorage002.blob.core.windows.net/msd/audio/attributes/msd-trh-v1.0.attributes.csv\n",
      "-rwxrwxrwx   1      28313 2024-09-13 12:00 wasbs://campus-data@madsstorage002.blob.core.windows.net/msd/audio/attributes/msd-tssd-v1.0.attributes.csv\n"
     ]
    }
   ],
   "source": [
    "!hdfs dfs -ls {directory_path}/audio/attributes"
   ]
  },
  {
   "cell_type": "code",
   "execution_count": 78,
   "id": "abd37e5c-56e3-4307-938d-4b5b29a869b4",
   "metadata": {},
   "outputs": [
    {
     "name": "stdout",
     "output_type": "stream",
     "text": [
      "Found 13 items\n",
      "drwxrwxrwx   -          0 1970-01-01 12:00 wasbs://campus-data@madsstorage002.blob.core.windows.net/msd/audio/features/msd-jmir-area-of-moments-all-v1.0.csv\n",
      "drwxrwxrwx   -          0 1970-01-01 12:00 wasbs://campus-data@madsstorage002.blob.core.windows.net/msd/audio/features/msd-jmir-lpc-all-v1.0.csv\n",
      "drwxrwxrwx   -          0 1970-01-01 12:00 wasbs://campus-data@madsstorage002.blob.core.windows.net/msd/audio/features/msd-jmir-methods-of-moments-all-v1.0.csv\n",
      "drwxrwxrwx   -          0 1970-01-01 12:00 wasbs://campus-data@madsstorage002.blob.core.windows.net/msd/audio/features/msd-jmir-mfcc-all-v1.0.csv\n",
      "drwxrwxrwx   -          0 1970-01-01 12:00 wasbs://campus-data@madsstorage002.blob.core.windows.net/msd/audio/features/msd-jmir-spectral-all-all-v1.0.csv\n",
      "drwxrwxrwx   -          0 1970-01-01 12:00 wasbs://campus-data@madsstorage002.blob.core.windows.net/msd/audio/features/msd-jmir-spectral-derivatives-all-all-v1.0.csv\n",
      "drwxrwxrwx   -          0 1970-01-01 12:00 wasbs://campus-data@madsstorage002.blob.core.windows.net/msd/audio/features/msd-marsyas-timbral-v1.0.csv\n",
      "drwxrwxrwx   -          0 1970-01-01 12:00 wasbs://campus-data@madsstorage002.blob.core.windows.net/msd/audio/features/msd-mvd-v1.0.csv\n",
      "drwxrwxrwx   -          0 1970-01-01 12:00 wasbs://campus-data@madsstorage002.blob.core.windows.net/msd/audio/features/msd-rh-v1.0.csv\n",
      "drwxrwxrwx   -          0 1970-01-01 12:00 wasbs://campus-data@madsstorage002.blob.core.windows.net/msd/audio/features/msd-rp-v1.0.csv\n",
      "drwxrwxrwx   -          0 1970-01-01 12:00 wasbs://campus-data@madsstorage002.blob.core.windows.net/msd/audio/features/msd-ssd-v1.0.csv\n",
      "drwxrwxrwx   -          0 1970-01-01 12:00 wasbs://campus-data@madsstorage002.blob.core.windows.net/msd/audio/features/msd-trh-v1.0.csv\n",
      "drwxrwxrwx   -          0 1970-01-01 12:00 wasbs://campus-data@madsstorage002.blob.core.windows.net/msd/audio/features/msd-tssd-v1.0.csv\n"
     ]
    }
   ],
   "source": [
    "!hdfs dfs -ls {directory_path}/audio/features"
   ]
  },
  {
   "cell_type": "code",
   "execution_count": 79,
   "id": "5eb05016-67a6-47aa-ae9b-86bbab16dbea",
   "metadata": {},
   "outputs": [
    {
     "name": "stdout",
     "output_type": "stream",
     "text": [
      "Found 2 items\n",
      "drwxrwxrwx   -          0 1970-01-01 12:00 wasbs://campus-data@madsstorage002.blob.core.windows.net/msd/tasteprofile/mismatches\n",
      "drwxrwxrwx   -          0 1970-01-01 12:00 wasbs://campus-data@madsstorage002.blob.core.windows.net/msd/tasteprofile/triplets.tsv\n"
     ]
    }
   ],
   "source": [
    "!hdfs dfs -ls {directory_path}/tasteprofile"
   ]
  },
  {
   "cell_type": "code",
   "execution_count": 80,
   "id": "fddf85db-07c5-44e0-bcaa-39c86288d067",
   "metadata": {},
   "outputs": [
    {
     "name": "stdout",
     "output_type": "stream",
     "text": [
      "ls: `wasbs://campus-data@madsstorage002.blob.core.windows.net/msd/msd/tasteprofile/mismatches': No such file or directory\n"
     ]
    }
   ],
   "source": [
    "!hdfs dfs -ls {directory_path}/msd/tasteprofile/mismatches"
   ]
  },
  {
   "cell_type": "code",
   "execution_count": 81,
   "id": "de47164e-9074-4b8d-8dd3-53c27aca54b3",
   "metadata": {},
   "outputs": [
    {
     "name": "stdout",
     "output_type": "stream",
     "text": [
      "12.9 G  12.9 G  wasbs://campus-data@madsstorage002.blob.core.windows.net/msd\n"
     ]
    }
   ],
   "source": [
    "!hdfs dfs -du -s -h {directory_path}"
   ]
  },
  {
   "cell_type": "code",
   "execution_count": 82,
   "id": "ba661e32-347a-4c7f-823a-06382bc5dec7",
   "metadata": {},
   "outputs": [
    {
     "name": "stdout",
     "output_type": "stream",
     "text": [
      "55.9 M   55.9 M   wasbs://campus-data@madsstorage002.blob.core.windows.net/msd/main/analysis.csv.gz\n",
      "118.5 M  118.5 M  wasbs://campus-data@madsstorage002.blob.core.windows.net/msd/main/metadata.csv.gz\n"
     ]
    }
   ],
   "source": [
    "!hdfs dfs -du -h {directory_path}/main/"
   ]
  },
  {
   "cell_type": "code",
   "execution_count": 83,
   "id": "0808d83c-ba8a-4336-b249-03754c68a10d",
   "metadata": {},
   "outputs": [
    {
     "name": "stdout",
     "output_type": "stream",
     "text": [
      "8.4 M   8.4 M   wasbs://campus-data@madsstorage002.blob.core.windows.net/msd/genre/msd-MASD-styleAssignment.tsv\n",
      "10.6 M  10.6 M  wasbs://campus-data@madsstorage002.blob.core.windows.net/msd/genre/msd-topMAGD-genreAssignment.tsv\n",
      "11.1 M  11.1 M  wasbs://campus-data@madsstorage002.blob.core.windows.net/msd/genre/msd-MAGD-genreAssignment.tsv\n"
     ]
    }
   ],
   "source": [
    "!hdfs dfs -du -h {directory_path}/genre"
   ]
  },
  {
   "cell_type": "code",
   "execution_count": 84,
   "id": "d4649786-ed95-4e7e-bafd-0508f8a99a9e",
   "metadata": {},
   "outputs": [
    {
     "name": "stdout",
     "output_type": "stream",
     "text": [
      "103.0 K  103.0 K  wasbs://campus-data@madsstorage002.blob.core.windows.net/msd/audio/attributes\n",
      "12.2 G   12.2 G   wasbs://campus-data@madsstorage002.blob.core.windows.net/msd/audio/features\n"
     ]
    }
   ],
   "source": [
    "!hdfs dfs -du -h {directory_path}/audio"
   ]
  },
  {
   "cell_type": "code",
   "execution_count": 85,
   "id": "815aa445-4e4b-40fe-81b8-dc56a57ad384",
   "metadata": {},
   "outputs": [
    {
     "name": "stdout",
     "output_type": "stream",
     "text": [
      "488.4 M  488.4 M  wasbs://campus-data@madsstorage002.blob.core.windows.net/msd/tasteprofile/triplets.tsv\n",
      "2.0 M    2.0 M    wasbs://campus-data@madsstorage002.blob.core.windows.net/msd/tasteprofile/mismatches\n"
     ]
    }
   ],
   "source": [
    "!hdfs dfs -du -h {directory_path}/tasteprofile"
   ]
  },
  {
   "cell_type": "code",
   "execution_count": 86,
   "id": "4b846d06-9ce5-4ab2-9de6-9e2cfd68d4c5",
   "metadata": {},
   "outputs": [
    {
     "name": "stdout",
     "output_type": "stream",
     "text": [
      "1.9 M   1.9 M   wasbs://campus-data@madsstorage002.blob.core.windows.net/msd/tasteprofile/mismatches/sid_mismatches.txt\n",
      "89.2 K  89.2 K  wasbs://campus-data@madsstorage002.blob.core.windows.net/msd/tasteprofile/mismatches/sid_matches_manually_accepted.txt\n"
     ]
    }
   ],
   "source": [
    "!hdfs dfs -du -h {directory_path}/tasteprofile/mismatches"
   ]
  },
  {
   "cell_type": "code",
   "execution_count": 87,
   "id": "01633339-cb4b-4c71-bc1f-4abd835b37d9",
   "metadata": {},
   "outputs": [
    {
     "name": "stderr",
     "output_type": "stream",
     "text": [
      "                                                                                "
     ]
    }
   ],
   "source": [
    "metadata = spark.read.csv(\n",
    "    f'{directory_path}/main/metadata.csv.gz',\n",
    "    inferSchema=True,\n",
    "    header=True\n",
    ")"
   ]
  },
  {
   "cell_type": "code",
   "execution_count": 88,
   "id": "22f1522f-c6ae-43fd-8254-7b85d853ba12",
   "metadata": {},
   "outputs": [
    {
     "name": "stdout",
     "output_type": "stream",
     "text": [
      "root\n",
      " |-- analyzer_version: string (nullable = true)\n",
      " |-- artist_7digitalid: integer (nullable = true)\n",
      " |-- artist_familiarity: double (nullable = true)\n",
      " |-- artist_hotttnesss: double (nullable = true)\n",
      " |-- artist_id: string (nullable = true)\n",
      " |-- artist_latitude: double (nullable = true)\n",
      " |-- artist_location: string (nullable = true)\n",
      " |-- artist_longitude: string (nullable = true)\n",
      " |-- artist_mbid: string (nullable = true)\n",
      " |-- artist_name: string (nullable = true)\n",
      " |-- artist_playmeid: string (nullable = true)\n",
      " |-- genre: string (nullable = true)\n",
      " |-- idx_artist_terms: integer (nullable = true)\n",
      " |-- idx_similar_artists: integer (nullable = true)\n",
      " |-- release: string (nullable = true)\n",
      " |-- release_7digitalid: integer (nullable = true)\n",
      " |-- song_hotttnesss: string (nullable = true)\n",
      " |-- song_id: string (nullable = true)\n",
      " |-- title: string (nullable = true)\n",
      " |-- track_7digitalid: string (nullable = true)\n",
      "\n"
     ]
    }
   ],
   "source": [
    "metadata.printSchema()"
   ]
  },
  {
   "cell_type": "code",
   "execution_count": 89,
   "id": "ceea8ba7-0659-4c3f-8c01-d5014ece367a",
   "metadata": {},
   "outputs": [
    {
     "name": "stderr",
     "output_type": "stream",
     "text": [
      "                                                                                "
     ]
    },
    {
     "data": {
      "text/plain": [
       "1000000"
      ]
     },
     "execution_count": 89,
     "metadata": {},
     "output_type": "execute_result"
    }
   ],
   "source": [
    "metadata.count()"
   ]
  },
  {
   "cell_type": "code",
   "execution_count": 90,
   "id": "d16e10f0-1dff-4cbf-a089-f3bf669fe075",
   "metadata": {},
   "outputs": [
    {
     "name": "stderr",
     "output_type": "stream",
     "text": [
      "                                                                                "
     ]
    }
   ],
   "source": [
    "analysis = spark.read.csv(\n",
    "    f'{directory_path}/main/analysis.csv.gz',\n",
    "    inferSchema=True,\n",
    "    header=True\n",
    ")"
   ]
  },
  {
   "cell_type": "code",
   "execution_count": 91,
   "id": "2d053c0f-e2a5-48d2-80ba-d6aa8a6181ec",
   "metadata": {},
   "outputs": [
    {
     "name": "stdout",
     "output_type": "stream",
     "text": [
      "root\n",
      " |-- analysis_sample_rate: integer (nullable = true)\n",
      " |-- audio_md5: string (nullable = true)\n",
      " |-- danceability: double (nullable = true)\n",
      " |-- duration: double (nullable = true)\n",
      " |-- end_of_fade_in: double (nullable = true)\n",
      " |-- energy: double (nullable = true)\n",
      " |-- idx_bars_confidence: integer (nullable = true)\n",
      " |-- idx_bars_start: integer (nullable = true)\n",
      " |-- idx_beats_confidence: integer (nullable = true)\n",
      " |-- idx_beats_start: integer (nullable = true)\n",
      " |-- idx_sections_confidence: integer (nullable = true)\n",
      " |-- idx_sections_start: integer (nullable = true)\n",
      " |-- idx_segments_confidence: integer (nullable = true)\n",
      " |-- idx_segments_loudness_max: integer (nullable = true)\n",
      " |-- idx_segments_loudness_max_time: integer (nullable = true)\n",
      " |-- idx_segments_loudness_start: integer (nullable = true)\n",
      " |-- idx_segments_pitches: integer (nullable = true)\n",
      " |-- idx_segments_start: integer (nullable = true)\n",
      " |-- idx_segments_timbre: integer (nullable = true)\n",
      " |-- idx_tatums_confidence: integer (nullable = true)\n",
      " |-- idx_tatums_start: integer (nullable = true)\n",
      " |-- key: integer (nullable = true)\n",
      " |-- key_confidence: double (nullable = true)\n",
      " |-- loudness: double (nullable = true)\n",
      " |-- mode: integer (nullable = true)\n",
      " |-- mode_confidence: double (nullable = true)\n",
      " |-- start_of_fade_out: double (nullable = true)\n",
      " |-- tempo: double (nullable = true)\n",
      " |-- time_signature: integer (nullable = true)\n",
      " |-- time_signature_confidence: double (nullable = true)\n",
      " |-- track_id: string (nullable = true)\n",
      "\n"
     ]
    }
   ],
   "source": [
    "analysis.printSchema()"
   ]
  },
  {
   "cell_type": "code",
   "execution_count": 92,
   "id": "816b2a9e-170d-4e1d-b18b-5ba9e9b4e247",
   "metadata": {},
   "outputs": [
    {
     "name": "stderr",
     "output_type": "stream",
     "text": [
      "                                                                                "
     ]
    },
    {
     "data": {
      "text/plain": [
       "1000000"
      ]
     },
     "execution_count": 92,
     "metadata": {},
     "output_type": "execute_result"
    }
   ],
   "source": [
    "analysis.count()"
   ]
  },
  {
   "cell_type": "code",
   "execution_count": 93,
   "id": "123775cd-7ada-4317-93c7-557868558dd3",
   "metadata": {},
   "outputs": [],
   "source": [
    "magd = spark.read.csv(\n",
    "    f'{directory_path}/genre/msd-MAGD-genreAssignment.tsv',\n",
    "    sep='\\t',\n",
    "    inferSchema=True\n",
    ")"
   ]
  },
  {
   "cell_type": "code",
   "execution_count": 126,
   "id": "bdc35f73-4bf3-465e-8b86-583bc9ca81c6",
   "metadata": {},
   "outputs": [
    {
     "name": "stdout",
     "output_type": "stream",
     "text": [
      "+------------------+--------------+\n",
      "|_c0               |_c1           |\n",
      "+------------------+--------------+\n",
      "|TRAAAAK128F9318786|Pop_Rock      |\n",
      "|TRAAAAV128F421A322|Pop_Rock      |\n",
      "|TRAAAAW128F429D538|Rap           |\n",
      "|TRAAABD128F429CF47|Pop_Rock      |\n",
      "|TRAAACV128F423E09E|Pop_Rock      |\n",
      "|TRAAADT12903CCC339|Easy_Listening|\n",
      "|TRAAAED128E0783FAB|Vocal         |\n",
      "|TRAAAEF128F4273421|Pop_Rock      |\n",
      "|TRAAAEM128F93347B9|Electronic    |\n",
      "|TRAAAFD128F92F423A|Pop_Rock      |\n",
      "|TRAAAFP128F931B4E3|Rap           |\n",
      "|TRAAAGR128F425B14B|Pop_Rock      |\n",
      "|TRAAAGW12903CC1049|Blues         |\n",
      "|TRAAAHD128F42635A5|Pop_Rock      |\n",
      "|TRAAAHE12903C9669C|Pop_Rock      |\n",
      "|TRAAAHJ128F931194C|Pop_Rock      |\n",
      "|TRAAAHZ128E0799171|Rap           |\n",
      "|TRAAAIR128F1480971|RnB           |\n",
      "|TRAAAJG128F9308A25|Folk          |\n",
      "|TRAAAMO128F1481E7F|Religious     |\n",
      "+------------------+--------------+\n",
      "only showing top 20 rows\n",
      "\n"
     ]
    }
   ],
   "source": [
    "magd.show(20, False)"
   ]
  },
  {
   "cell_type": "code",
   "execution_count": 119,
   "id": "1259781d-6abd-463e-9d29-b5dcb8e6dedc",
   "metadata": {},
   "outputs": [
    {
     "name": "stdout",
     "output_type": "stream",
     "text": [
      "root\n",
      " |-- _c0: string (nullable = true)\n",
      " |-- _c1: string (nullable = true)\n",
      "\n"
     ]
    }
   ],
   "source": [
    "magd.printSchema()"
   ]
  },
  {
   "cell_type": "code",
   "execution_count": 94,
   "id": "d6d8c68f-cc62-4d45-9eff-508ec0533dbe",
   "metadata": {},
   "outputs": [
    {
     "data": {
      "text/plain": [
       "422714"
      ]
     },
     "execution_count": 94,
     "metadata": {},
     "output_type": "execute_result"
    }
   ],
   "source": [
    "magd.count()"
   ]
  },
  {
   "cell_type": "code",
   "execution_count": 95,
   "id": "bf47be01-e11b-4685-a736-aa94eb9e8426",
   "metadata": {},
   "outputs": [],
   "source": [
    "masd = spark.read.csv(\n",
    "    f'{directory_path}/genre/msd-MASD-styleAssignment.tsv',\n",
    "    inferSchema=True,\n",
    "    sep='\\t'\n",
    ")"
   ]
  },
  {
   "cell_type": "code",
   "execution_count": 120,
   "id": "a977cf0b-8bfb-4ddf-bea1-ba1e659391a8",
   "metadata": {},
   "outputs": [
    {
     "name": "stdout",
     "output_type": "stream",
     "text": [
      "root\n",
      " |-- _c0: string (nullable = true)\n",
      " |-- _c1: string (nullable = true)\n",
      "\n"
     ]
    }
   ],
   "source": [
    "masd.printSchema()"
   ]
  },
  {
   "cell_type": "code",
   "execution_count": 96,
   "id": "39ee7e28-2cbf-482d-9f04-fd8e2b7f09de",
   "metadata": {},
   "outputs": [
    {
     "data": {
      "text/plain": [
       "273936"
      ]
     },
     "execution_count": 96,
     "metadata": {},
     "output_type": "execute_result"
    }
   ],
   "source": [
    "masd.count()"
   ]
  },
  {
   "cell_type": "code",
   "execution_count": 97,
   "id": "19adc2d8-1369-40e8-afd5-57dc95b686ff",
   "metadata": {},
   "outputs": [],
   "source": [
    "topMagd = spark.read.csv(\n",
    "    f'{directory_path}/genre/msd-topMAGD-genreAssignment.tsv',\n",
    "    inferSchema=True,\n",
    "    sep='\\t'\n",
    ")"
   ]
  },
  {
   "cell_type": "code",
   "execution_count": 121,
   "id": "b7a110b7-7951-40a9-b0dc-02dd9616f51b",
   "metadata": {},
   "outputs": [
    {
     "name": "stdout",
     "output_type": "stream",
     "text": [
      "root\n",
      " |-- _c0: string (nullable = true)\n",
      " |-- _c1: string (nullable = true)\n",
      "\n"
     ]
    }
   ],
   "source": [
    "topMagd.printSchema()"
   ]
  },
  {
   "cell_type": "code",
   "execution_count": 98,
   "id": "b7a3d430-dc4f-4b2a-9a4d-000a9eec1ab3",
   "metadata": {},
   "outputs": [
    {
     "data": {
      "text/plain": [
       "406427"
      ]
     },
     "execution_count": 98,
     "metadata": {},
     "output_type": "execute_result"
    }
   ],
   "source": [
    "topMagd.count()"
   ]
  },
  {
   "cell_type": "code",
   "execution_count": 99,
   "id": "c5f08dcc-38c8-4c24-a89c-632c1249bc18",
   "metadata": {},
   "outputs": [],
   "source": [
    "attributes = spark.read.csv(\n",
    "    f'{directory_path}/audio/attributes/',\n",
    "    inferSchema=True\n",
    ")"
   ]
  },
  {
   "cell_type": "code",
   "execution_count": 123,
   "id": "8933c52d-2254-4bdd-a6b5-88acf370bd22",
   "metadata": {},
   "outputs": [
    {
     "name": "stdout",
     "output_type": "stream",
     "text": [
      "root\n",
      " |-- _c0: string (nullable = true)\n",
      " |-- _c1: string (nullable = true)\n",
      "\n"
     ]
    }
   ],
   "source": [
    "attributes.printSchema()"
   ]
  },
  {
   "cell_type": "code",
   "execution_count": 130,
   "id": "53231600-b9ef-4b74-bb5f-9646c95dea37",
   "metadata": {},
   "outputs": [
    {
     "name": "stdout",
     "output_type": "stream",
     "text": [
      "+------------+-------+\n",
      "|_c0         |_c1    |\n",
      "+------------+-------+\n",
      "|component_1 |NUMERIC|\n",
      "|component_2 |NUMERIC|\n",
      "|component_3 |NUMERIC|\n",
      "|component_4 |NUMERIC|\n",
      "|component_5 |NUMERIC|\n",
      "|component_6 |NUMERIC|\n",
      "|component_7 |NUMERIC|\n",
      "|component_8 |NUMERIC|\n",
      "|component_9 |NUMERIC|\n",
      "|component_10|NUMERIC|\n",
      "|component_11|NUMERIC|\n",
      "|component_12|NUMERIC|\n",
      "|component_13|NUMERIC|\n",
      "|component_14|NUMERIC|\n",
      "|component_15|NUMERIC|\n",
      "|component_16|NUMERIC|\n",
      "|component_17|NUMERIC|\n",
      "|component_18|NUMERIC|\n",
      "|component_19|NUMERIC|\n",
      "|component_20|NUMERIC|\n",
      "+------------+-------+\n",
      "only showing top 20 rows\n",
      "\n"
     ]
    }
   ],
   "source": [
    "attributes.show(20, False)"
   ]
  },
  {
   "cell_type": "code",
   "execution_count": 100,
   "id": "12a9b85b-0428-4b93-9051-b6008bae987d",
   "metadata": {},
   "outputs": [
    {
     "data": {
      "text/plain": [
       "3929"
      ]
     },
     "execution_count": 100,
     "metadata": {},
     "output_type": "execute_result"
    }
   ],
   "source": [
    "attributes.count()"
   ]
  },
  {
   "cell_type": "code",
   "execution_count": null,
   "id": "54a14511-0de7-4b0e-97ed-93e3bccc95fb",
   "metadata": {},
   "outputs": [],
   "source": [
    "triplets = spark.read.csv(\n",
    "    f'{directory_path}/tasteprofile/triplets.tsv',\n",
    "    inferSchema=True,\n",
    "    sep='\\t'\n",
    ")"
   ]
  },
  {
   "cell_type": "code",
   "execution_count": 127,
   "id": "84ec7d3a-50e7-4e0c-9a97-83bb8368fec1",
   "metadata": {},
   "outputs": [
    {
     "name": "stdout",
     "output_type": "stream",
     "text": [
      "+----------------------------------------+------------------+---+\n",
      "|_c0                                     |_c1               |_c2|\n",
      "+----------------------------------------+------------------+---+\n",
      "|f1bfc2a4597a3642f232e7a4e5d5ab2a99cf80e5|SOQEFDN12AB017C52B|1  |\n",
      "|f1bfc2a4597a3642f232e7a4e5d5ab2a99cf80e5|SOQOIUJ12A6701DAA7|2  |\n",
      "|f1bfc2a4597a3642f232e7a4e5d5ab2a99cf80e5|SOQOKKD12A6701F92E|4  |\n",
      "|f1bfc2a4597a3642f232e7a4e5d5ab2a99cf80e5|SOSDVHO12AB01882C7|1  |\n",
      "|f1bfc2a4597a3642f232e7a4e5d5ab2a99cf80e5|SOSKICX12A6701F932|1  |\n",
      "|f1bfc2a4597a3642f232e7a4e5d5ab2a99cf80e5|SOSNUPV12A8C13939B|1  |\n",
      "|f1bfc2a4597a3642f232e7a4e5d5ab2a99cf80e5|SOSVMII12A6701F92D|1  |\n",
      "|f1bfc2a4597a3642f232e7a4e5d5ab2a99cf80e5|SOTUNHI12B0B80AFE2|1  |\n",
      "|f1bfc2a4597a3642f232e7a4e5d5ab2a99cf80e5|SOTXLTZ12AB017C535|1  |\n",
      "|f1bfc2a4597a3642f232e7a4e5d5ab2a99cf80e5|SOTZDDX12A6701F935|1  |\n",
      "|f1bfc2a4597a3642f232e7a4e5d5ab2a99cf80e5|SOTZTVF12A58A79B9F|1  |\n",
      "|f1bfc2a4597a3642f232e7a4e5d5ab2a99cf80e5|SOUGTZZ12A8C13B8CC|1  |\n",
      "|f1bfc2a4597a3642f232e7a4e5d5ab2a99cf80e5|SOVDLVW12A6701F92F|1  |\n",
      "|f1bfc2a4597a3642f232e7a4e5d5ab2a99cf80e5|SOVKHBC12AF72A5DE7|1  |\n",
      "|f1bfc2a4597a3642f232e7a4e5d5ab2a99cf80e5|SOVKJMM12AF72AAF3C|1  |\n",
      "|f1bfc2a4597a3642f232e7a4e5d5ab2a99cf80e5|SOVMWUC12A8C13750B|1  |\n",
      "|f1bfc2a4597a3642f232e7a4e5d5ab2a99cf80e5|SOVQPUM12A6D4F8F18|1  |\n",
      "|f1bfc2a4597a3642f232e7a4e5d5ab2a99cf80e5|SOVVTJV12AB017B20E|1  |\n",
      "|f1bfc2a4597a3642f232e7a4e5d5ab2a99cf80e5|SOXREWC12A6D4FAD3C|1  |\n",
      "|f1bfc2a4597a3642f232e7a4e5d5ab2a99cf80e5|SOXTVVG12A6D4F8F16|1  |\n",
      "+----------------------------------------+------------------+---+\n",
      "only showing top 20 rows\n",
      "\n"
     ]
    }
   ],
   "source": [
    "triplets.show(20, False)"
   ]
  },
  {
   "cell_type": "code",
   "execution_count": 124,
   "id": "8890387d-0c8d-4048-979f-967c6ca53a24",
   "metadata": {},
   "outputs": [
    {
     "name": "stdout",
     "output_type": "stream",
     "text": [
      "root\n",
      " |-- _c0: string (nullable = true)\n",
      " |-- _c1: string (nullable = true)\n",
      " |-- _c2: integer (nullable = true)\n",
      "\n"
     ]
    }
   ],
   "source": [
    "triplets.printSchema()"
   ]
  },
  {
   "cell_type": "code",
   "execution_count": null,
   "id": "6792efc5-e71c-4cc2-9684-6fd78065b83d",
   "metadata": {},
   "outputs": [],
   "source": [
    "triplets.count()"
   ]
  },
  {
   "cell_type": "code",
   "execution_count": null,
   "id": "8ed5b45b-1991-4a9b-8e67-179963129bca",
   "metadata": {},
   "outputs": [],
   "source": [
    "mismatches = spark.read.text(\n",
    "    f'{directory_path}/tasteprofile/mismatches/sid_mismatches.txt'\n",
    ")"
   ]
  },
  {
   "cell_type": "code",
   "execution_count": null,
   "id": "e31e46d1-0164-4e2f-bdaa-f6be1d25dc12",
   "metadata": {},
   "outputs": [],
   "source": [
    "mismatches.count()"
   ]
  },
  {
   "cell_type": "code",
   "execution_count": null,
   "id": "89f177a1-6847-417c-ab71-d8a9ef06f2f9",
   "metadata": {},
   "outputs": [],
   "source": [
    "manually_accepted = spark.read.text(\n",
    "    f'{directory_path}/tasteprofile/mismatches/sid_matches_manually_accepted.txt'\n",
    ")"
   ]
  },
  {
   "cell_type": "code",
   "execution_count": 68,
   "id": "517626cb-220d-413b-803a-61a6902ce739",
   "metadata": {},
   "outputs": [
    {
     "data": {
      "text/plain": [
       "938"
      ]
     },
     "execution_count": 68,
     "metadata": {},
     "output_type": "execute_result"
    }
   ],
   "source": [
    "manually_accepted.count()"
   ]
  },
  {
   "cell_type": "code",
   "execution_count": 115,
   "id": "b70c0ee1-40a0-41a4-9d14-f50ef9087d23",
   "metadata": {},
   "outputs": [
    {
     "name": "stderr",
     "output_type": "stream",
     "text": [
      "                                                                                "
     ]
    }
   ],
   "source": [
    "features = spark.read.csv(\n",
    "    f'{directory_path}/audio/features/msd-marsyas-timbral-v1.0.csv',\n",
    "    inferSchema=True\n",
    ")"
   ]
  },
  {
   "cell_type": "code",
   "execution_count": 116,
   "id": "f8614679-c13f-44f7-b833-8af4fd6617ba",
   "metadata": {},
   "outputs": [
    {
     "name": "stdout",
     "output_type": "stream",
     "text": [
      "+--------+--------+--------+--------+----------+--------+---------+---------+---------+---------+---------+---------+---------+---------+---------+---------+---------+--------+--------+--------+--------+--------+--------+--------+--------+--------+--------+--------+--------+--------+---------+--------+--------+--------+--------+--------+--------+--------+--------+--------+--------+--------+--------+--------+--------+--------+--------+--------+--------+--------+--------+--------+--------+--------+--------+--------+--------+--------+--------+--------+--------+---------+--------+--------+--------+--------+---------+--------+--------+--------+--------+--------+--------+--------+--------+--------+--------+--------+--------+--------+--------+--------+--------+--------+--------+--------+--------+--------+--------+--------+--------+--------+---------+--------+--------+--------+--------+--------+--------+--------+--------+--------+--------+--------+--------+--------+--------+--------+--------+--------+--------+--------+--------+--------+--------+--------+--------+--------+--------+--------+--------+--------+--------+---------+------------------+\n",
      "|_c0     |_c1     |_c2     |_c3     |_c4       |_c5     |_c6      |_c7      |_c8      |_c9      |_c10     |_c11     |_c12     |_c13     |_c14     |_c15     |_c16     |_c17    |_c18    |_c19    |_c20    |_c21    |_c22    |_c23    |_c24    |_c25    |_c26    |_c27    |_c28    |_c29    |_c30     |_c31    |_c32    |_c33    |_c34    |_c35    |_c36    |_c37    |_c38    |_c39    |_c40    |_c41    |_c42    |_c43    |_c44    |_c45    |_c46    |_c47    |_c48    |_c49    |_c50    |_c51    |_c52    |_c53    |_c54    |_c55    |_c56    |_c57    |_c58    |_c59    |_c60    |_c61     |_c62    |_c63    |_c64    |_c65    |_c66     |_c67    |_c68    |_c69    |_c70    |_c71    |_c72    |_c73    |_c74    |_c75    |_c76    |_c77    |_c78    |_c79    |_c80    |_c81    |_c82    |_c83    |_c84    |_c85    |_c86    |_c87    |_c88    |_c89    |_c90    |_c91    |_c92     |_c93    |_c94    |_c95    |_c96    |_c97    |_c98    |_c99    |_c100   |_c101   |_c102   |_c103   |_c104   |_c105   |_c106   |_c107   |_c108   |_c109   |_c110   |_c111   |_c112   |_c113   |_c114   |_c115   |_c116   |_c117   |_c118   |_c119   |_c120   |_c121   |_c122   |_c123    |_c124             |\n",
      "+--------+--------+--------+--------+----------+--------+---------+---------+---------+---------+---------+---------+---------+---------+---------+---------+---------+--------+--------+--------+--------+--------+--------+--------+--------+--------+--------+--------+--------+--------+---------+--------+--------+--------+--------+--------+--------+--------+--------+--------+--------+--------+--------+--------+--------+--------+--------+--------+--------+--------+--------+--------+--------+--------+--------+--------+--------+--------+--------+--------+--------+---------+--------+--------+--------+--------+---------+--------+--------+--------+--------+--------+--------+--------+--------+--------+--------+--------+--------+--------+--------+--------+--------+--------+--------+--------+--------+--------+--------+--------+--------+--------+---------+--------+--------+--------+--------+--------+--------+--------+--------+--------+--------+--------+--------+--------+--------+--------+--------+--------+--------+--------+--------+--------+--------+--------+--------+--------+--------+--------+--------+--------+--------+---------+------------------+\n",
      "|0.112178|0.088561|0.210064|0.094495|-43.977376|3.548018|0.346619 |0.580689 |-0.226928|0.21863  |-0.163673|0.048519 |-0.25583 |-0.202648|-0.295994|-0.422755|-0.134532|0.002668|0.002469|0.002223|0.002298|0.002225|0.002313|0.002366|0.002337|0.002404|0.002438|0.002522|0.002727|1.923665|10.410383|0.063564|0.058016|0.164679|0.032274|2.884403|1.426246|0.956513|0.886668|0.686351|0.652124|0.611941|0.592136|0.491631|0.523804|0.487275|0.528071|0.465728|0.001982|0.001959|0.00178 |0.001855|0.001833|0.001872|0.001916|0.001909|0.001938|0.001891|0.001854|0.001988|0.581509|12.367092|0.0544  |0.05772 |0.124616|0.046837|5.737739 |1.305528|0.812598|0.706769|0.511418|0.484988|0.505138|0.370563|0.35001 |0.385525|0.329969|0.401404|0.339856|0.001876|0.001406|0.001249|0.001291|0.001261|0.001348|0.001419|0.001485|0.001465|0.001461|0.001551|0.001924|0.520902|14.678274|0.040947|0.046176|0.09658 |0.02609 |2.374072|0.565896|0.319445|0.275593|0.181042|0.176735|0.166376|0.169111|0.126225|0.120827|0.128479|0.150805|0.122294|0.001178|0.001124|9.08E-4 |9.57E-4 |0.001031|9.76E-4 |0.001009|0.001089|0.001077|0.001037|9.82E-4 |0.001076|0.277586|20.106226|TRSUFWB128F4255BAE|\n",
      "|0.133675|0.100968|0.229477|0.087755|-42.694424|3.856577|-0.623697|0.510768 |0.157851 |-0.191616|0.30185  |0.024015 |-0.091436|-0.015676|-0.061823|-0.30368 |-0.147749|0.001125|0.001033|0.001005|9.6E-4  |9.64E-4 |0.001072|0.001062|0.001071|0.001032|0.001069|0.001056|0.001062|1.889073|4.576693 |0.047304|0.041961|0.127763|0.0287  |2.080116|0.847814|0.682191|0.664379|0.531058|0.501719|0.464267|0.479464|0.429433|0.497675|0.465323|0.43553 |0.456517|0.001132|9.87E-4 |9.44E-4 |0.001017|0.001143|0.001297|0.001372|0.001466|0.001481|0.001415|0.001304|0.001208|0.533734|3.395275 |0.026419|0.036922|0.083331|0.055278|5.860358 |0.66379 |0.576297|0.551533|0.353514|0.255108|0.272622|0.257163|0.20536 |0.347612|0.266346|0.219657|0.281354|5.02E-4 |5.06E-4 |5.05E-4 |4.43E-4 |3.6E-4  |3.86E-4 |3.62E-4 |3.93E-4 |3.38E-4 |3.41E-4 |4.11E-4 |4.02E-4 |0.331519|2.064383 |0.02121 |0.025327|0.073653|0.032038|2.390127|0.239003|0.266194|0.193064|0.145407|0.109732|0.103178|0.11857 |0.098087|0.117216|0.099851|0.090568|0.101732|4.13E-4 |3.47E-4 |3.45E-4 |3.45E-4 |4.1E-4  |4.9E-4  |4.8E-4  |5.06E-4 |4.96E-4 |4.61E-4 |4.48E-4 |4.25E-4 |0.256402|2.877227 |TRSUFSW128F4284B04|\n",
      "|0.198948|0.17707 |0.292963|0.087348|-38.52392 |0.690861|-2.264458|1.314971 |0.207455 |0.143965 |1.007137 |0.50512  |0.303066 |0.493323 |0.30164  |0.22609  |0.082468 |0.001979|0.001788|0.001804|0.001865|0.002273|0.00259 |0.002595|0.002395|0.002028|0.00165 |0.001471|0.001692|1.812164|3.514465 |0.018457|0.021169|0.033571|0.028851|0.859717|0.494049|0.469065|0.473079|0.387274|0.407956|0.423817|0.383566|0.390205|0.361329|0.359586|0.354579|0.343141|7.76E-4 |7.65E-4 |7.91E-4 |7.4E-4  |9.23E-4 |9.86E-4 |9.2E-4  |8.44E-4 |7.38E-4 |6.46E-4 |5.99E-4 |6.66E-4 |0.348366|1.288151 |0.020438|0.022533|0.049599|0.055093|5.640201 |0.35884 |0.359931|0.39577 |0.22348 |0.278801|0.271367|0.242014|0.251893|0.167755|0.22946 |0.188632|0.159122|7.48E-4 |7.64E-4 |7.64E-4 |6.84E-4 |7.12E-4 |7.7E-4  |7.58E-4 |7.02E-4 |6.35E-4 |5.54E-4 |5.49E-4 |6.35E-4 |0.158691|0.794035 |0.009173|0.010585|0.03004 |0.031351|2.450831|0.141124|0.151407|0.171247|0.081675|0.103687|0.099022|0.079496|0.086558|0.065442|0.06829 |0.064714|0.06803 |3.97E-4 |4.99E-4 |4.82E-4 |3.29E-4 |3.61E-4 |3.51E-4 |2.82E-4 |2.88E-4 |2.92E-4 |2.81E-4 |2.89E-4 |3.75E-4 |0.080737|0.524488 |TRSUFUP128F42561A2|\n",
      "|0.086491|0.061144|0.132627|0.094506|-43.728943|3.964348|0.94362  |1.687271 |0.44188  |0.541842 |-0.058364|0.127661 |0.088111 |0.105801 |0.013288 |0.102788 |0.084221 |0.002155|0.002014|0.002011|0.002117|0.002081|0.002159|0.002038|0.00186 |0.001757|0.001782|0.001842|0.002061|1.692281|4.827314 |0.038269|0.033496|0.09941 |0.034816|2.375141|0.939956|0.709136|0.672817|0.565731|0.4916  |0.510435|0.467404|0.484078|0.457284|0.441238|0.429194|0.398032|0.001468|0.001371|0.001392|0.001512|0.001439|0.001555|0.001513|0.001437|0.001381|0.001343|0.001375|0.00149 |0.419706|3.930602 |0.039932|0.046902|0.10644 |0.072483|4.353098 |0.975812|0.740976|0.760546|0.488242|0.393467|0.441562|0.308043|0.431733|0.36411 |0.306119|0.281761|0.260603|0.001619|0.001541|0.001449|0.0017  |0.001381|0.001369|0.001237|0.001085|9.69E-4 |9.6E-4  |0.001099|0.001498|0.462038|5.764095 |0.035231|0.041308|0.085476|0.04298 |3.904459|0.417581|0.23976 |0.214273|0.153733|0.100785|0.139485|0.130159|0.142109|0.122172|0.109806|0.106446|0.083339|8.64E-4 |0.001027|0.001059|0.0013  |9.92E-4 |0.001156|0.001039|9.51E-4 |8.96E-4 |8.22E-4 |7.7E-4  |8.47E-4 |0.277738|7.509386 |TRSUFWL128F42956C9|\n",
      "|0.170560|0.206775|0.451917|0.108458|-62.959637|1.115836|0.030579 |-0.110063|-0.17779 |0.222752 |-0.536507|0.096879 |0.102882 |0.306839 |0.083992 |0.061811 |-0.130472|4.22E-4 |3.67E-4 |3.81E-4 |3.58E-4 |3.39E-4 |4.85E-4 |5.55E-4 |5.48E-4 |5.42E-4 |5.14E-4 |6.48E-4 |6.38E-4 |2.369891|36.178238|0.079667|0.099986|0.163347|0.04217 |6.310115|2.018629|1.355843|1.089582|0.879828|0.778749|0.716442|0.607306|0.59116 |0.594907|0.600131|0.568071|0.613181|6.65E-4 |6.18E-4 |6.61E-4 |6.01E-4 |5.96E-4 |9.09E-4 |0.001021|0.001014|9.44E-4 |8.18E-4 |9.33E-4 |9.41E-4 |0.767603|54.423875|0.066498|0.06248 |0.20429 |0.073654|17.842917|1.447569|1.324457|1.346694|0.884019|0.941769|0.711167|0.38058 |0.45293 |0.564256|0.441313|0.375995|0.55016 |6.31E-4 |5.58E-4 |6.17E-4 |6.78E-4 |5.33E-4 |8.14E-4 |8.78E-4 |8.33E-4 |9.18E-4 |7.02E-4 |0.001272|0.00116 |0.95277 |46.725964|0.054666|0.051081|0.084144|0.041758|5.434857|1.446931|0.836987|0.593838|0.448567|0.35088 |0.295985|0.224155|0.233647|0.223175|0.285323|0.292657|0.38621 |0.001084|9.99E-4 |0.001083|0.001081|9.65E-4 |0.001632|0.001724|0.001587|0.001472|0.001094|0.001588|0.001523|0.51268 |80.313907|TRSUFQR12903CD493C|\n",
      "|0.151466|0.108977|0.262887|0.083422|-36.271229|3.478046|-0.382493|0.235853 |-0.560301|-0.025379|-0.566693|0.087607 |0.097451 |0.462105 |0.33932  |0.060384 |0.250824 |0.003612|0.003331|0.00385 |0.003692|0.003903|0.00465 |0.004692|0.004481|0.004487|0.005478|0.004871|0.003823|1.617366|2.733445 |0.034975|0.030797|0.087644|0.027652|0.965867|0.579066|0.40687 |0.463874|0.457437|0.407585|0.400203|0.394622|0.381308|0.35605 |0.362484|0.354051|0.335232|0.001651|0.0014  |0.001432|0.001518|0.00162 |0.001804|0.001849|0.002053|0.002014|0.002118|0.001963|0.001734|0.347169|1.088163 |0.018128|0.033161|0.069921|0.074595|2.345509 |0.412546|0.199994|0.231491|0.205061|0.218347|0.194942|0.163488|0.158383|0.179301|0.144707|0.239228|0.16784 |7.76E-4 |7.45E-4 |8.93E-4 |8.57E-4 |9.2E-4  |0.001235|0.001033|0.001102|9.83E-4 |0.00126 |0.001135|7.99E-4 |0.195179|0.545678 |0.008589|0.016631|0.033877|0.042363|3.133478|0.178088|0.087756|0.09866 |0.077472|0.075541|0.068726|0.076004|0.071554|0.072711|0.076408|0.068391|0.06172 |4.23E-4 |3.81E-4 |3.84E-4 |4.16E-4 |4.38E-4 |5.15E-4 |5.25E-4 |6.1E-4  |5.41E-4 |5.04E-4 |5.23E-4 |4.59E-4 |0.122107|0.483312 |TRSUFHU12903CD842F|\n",
      "|0.157378|0.123143|0.297925|0.097529|-42.808992|2.122223|-0.139964|1.220489 |0.418734 |0.42664  |0.273076 |-0.073336|0.322281 |0.272294 |0.045902 |0.102321 |0.044605 |0.002301|0.00214 |0.002022|0.002103|0.00218 |0.002241|0.002355|0.002513|0.002551|0.002478|0.002441|0.00239 |1.578443|3.118019 |0.079651|0.082379|0.182732|0.034694|3.401209|1.333518|1.103847|0.996951|0.797161|0.647573|0.603677|0.51099 |0.495452|0.506542|0.476543|0.443408|0.41806 |0.002477|0.002526|0.002476|0.002532|0.002553|0.002514|0.002549|0.00263 |0.002643|0.002474|0.00244 |0.002459|0.404506|2.117459 |0.050703|0.049497|0.09948 |0.056401|5.65096  |0.764706|0.66602 |0.449485|0.355949|0.33627 |0.274689|0.227494|0.218177|0.189251|0.158492|0.151122|0.141899|0.001247|0.001212|0.001239|0.001385|0.001458|0.001512|0.001568|0.001616|0.001615|0.001541|0.001412|0.001298|0.213603|1.206688 |0.037586|0.040444|0.066821|0.03169 |2.220204|0.437099|0.418566|0.26748 |0.212149|0.174396|0.143125|0.118236|0.099688|0.110432|0.091521|0.086221|0.082118|0.001451|0.001626|0.001763|0.002019|0.002095|0.002093|0.002092|0.002031|0.001923|0.001749|0.001572|0.001424|0.181828|1.447693 |TRSUQWS128F4288B48|\n",
      "|0.089715|0.068383|0.127582|0.083627|-48.063674|4.515956|-0.742087|0.692391 |0.242253 |0.726215 |0.29087  |0.380071 |-0.040808|-0.116243|-0.144806|-0.067332|-0.04807 |2.43E-4 |2.66E-4 |2.7E-4  |2.57E-4 |3.12E-4 |2.93E-4 |2.85E-4 |3.29E-4 |3.2E-4  |3.03E-4 |2.56E-4 |2.41E-4 |2.355863|7.813027 |0.02028 |0.018694|0.042552|0.027577|1.119621|0.701057|0.582414|0.474171|0.466397|0.437941|0.437797|0.435191|0.433   |0.447715|0.444153|0.459328|0.437623|1.51E-4 |1.41E-4 |1.53E-4 |1.52E-4 |1.75E-4 |1.71E-4 |1.68E-4 |1.96E-4 |1.93E-4 |1.85E-4 |1.48E-4 |1.43E-4 |0.593062|5.000054 |0.027677|0.04102 |0.070657|0.055728|5.292372 |0.847275|0.658523|0.581104|0.335789|0.444622|0.462662|0.541338|0.487184|0.809795|0.799218|0.731675|0.663637|1.63E-4 |2.37E-4 |2.16E-4 |1.32E-4 |1.87E-4 |1.73E-4 |1.9E-4  |3.08E-4 |2.35E-4 |2.11E-4 |1.77E-4 |1.34E-4 |0.928111|9.912289 |0.020257|0.028472|0.049635|0.030536|2.326823|0.342656|0.15621 |0.087188|0.110418|0.099368|0.106766|0.11282 |0.084179|0.119091|0.149178|0.153746|0.174899|1.5E-4  |1.4E-4  |1.45E-4 |1.04E-4 |1.14E-4 |1.17E-4 |1.1E-4  |1.55E-4 |1.66E-4 |1.58E-4 |9.4E-5  |9.1E-5  |0.328613|6.928565 |TRSUQVH12903CB2BFE|\n",
      "|0.081881|0.059107|0.134811|0.086008|-42.227095|4.59491 |0.353708 |1.388084 |0.330637 |0.638689 |0.313339 |0.333922 |0.152141 |0.180791 |-0.022597|0.13039  |0.189078 |0.002276|0.002356|0.002879|0.002826|0.002367|0.002267|0.002379|0.002564|0.002201|0.001973|0.00204 |0.002167|1.69853 |3.677151 |0.023932|0.02046 |0.060539|0.027432|1.411412|0.729934|0.458949|0.504799|0.419605|0.444987|0.428711|0.40767 |0.395367|0.444985|0.452751|0.424783|0.426006|0.001247|0.0012  |0.001474|0.001649|0.00129 |0.001228|0.00123 |0.001297|0.001193|9.95E-4 |0.001042|0.001177|0.333443|1.95147  |0.032067|0.038684|0.08256 |0.049864|6.08806  |1.732396|0.424533|0.294095|0.274706|0.38768 |0.24018 |0.259064|0.345931|0.344673|0.333365|0.260032|0.365108|0.001038|9.76E-4 |0.001208|0.001231|0.001086|0.001113|0.001168|0.001279|0.001216|0.001079|9.85E-4 |0.001028|0.241212|1.396028 |0.009578|0.022167|0.04193 |0.027346|2.352057|0.344589|0.101276|0.115341|0.080662|0.090544|0.105417|0.083451|0.084097|0.110019|0.099915|0.104479|0.090184|7.62E-4 |7.32E-4 |9.36E-4 |0.00104 |8.22E-4 |8.13E-4 |7.44E-4 |8.02E-4 |8.82E-4 |7.08E-4 |6.18E-4 |7.23E-4 |0.143789|1.665064 |TRSUQCO128F9303B4C|\n",
      "|0.078381|0.059711|0.118103|0.092642|-50.912577|5.738254|0.715501 |0.261605 |0.339573 |-0.061473|0.296339 |0.027683 |-0.003622|-0.08281 |-0.178328|0.346526 |0.375818 |1.22E-4 |1.41E-4 |2.23E-4 |2.71E-4 |2.07E-4 |2.09E-4 |2.23E-4 |2.2E-4  |1.8E-4  |1.42E-4 |1.38E-4 |1.19E-4 |2.019983|8.159917 |0.033387|0.029814|0.080019|0.032491|2.555974|1.018472|0.657476|0.694943|0.554635|0.51972 |0.493552|0.523959|0.464664|0.445094|0.4263  |0.433386|0.393717|8.6E-5  |9.6E-5  |1.57E-4 |1.92E-4 |1.48E-4 |1.82E-4 |1.83E-4 |1.73E-4 |1.37E-4 |1.03E-4 |9.7E-5  |8.4E-5  |0.513307|6.299828 |0.035762|0.043551|0.100415|0.072939|4.409049 |1.175357|0.721846|0.882013|0.647081|0.513689|0.469029|0.4275  |0.394639|0.360226|0.3405  |0.453996|0.282232|1.13E-4 |1.19E-4 |2.09E-4 |3.22E-4 |2.24E-4 |3.22E-4 |3.47E-4 |3.66E-4 |2.47E-4 |1.27E-4 |1.12E-4 |9.6E-5  |0.745444|12.205863|0.031633|0.037778|0.082526|0.042095|3.767885|0.465829|0.23288 |0.282823|0.213802|0.142256|0.158701|0.14908 |0.138329|0.103687|0.113533|0.128044|0.088445|1.24E-4 |1.23E-4 |1.57E-4 |2.24E-4 |1.71E-4 |3.38E-4 |2.96E-4 |2.85E-4 |2.01E-4 |1.12E-4 |9.0E-5  |1.01E-4 |0.310401|12.070976|TRSUQBM128F148CF83|\n",
      "|0.042945|0.028716|0.211297|0.098616|-48.95492 |4.0366  |-1.219849|0.377426 |-0.200885|0.950464 |0.381515 |0.505716 |0.430298 |0.745693 |0.663671 |0.504273 |0.504342 |5.36E-4 |4.6E-4  |4.37E-4 |4.91E-4 |5.43E-4 |5.94E-4 |6.11E-4 |6.31E-4 |6.34E-4 |6.05E-4 |5.76E-4 |5.57E-4 |1.454263|2.411491 |0.016464|0.014576|0.231551|0.050227|1.525099|0.907213|0.693718|0.699047|0.670376|0.681939|0.675697|0.649201|0.613445|0.612089|0.532953|0.525313|0.498109|4.82E-4 |4.35E-4 |4.23E-4 |4.72E-4 |5.17E-4 |5.58E-4 |5.87E-4 |6.06E-4 |6.03E-4 |5.79E-4 |5.5E-4  |5.16E-4 |0.336793|1.319837 |0.013219|0.02823 |0.166256|0.051517|3.166601 |0.635803|0.588517|0.608859|0.582157|0.934492|1.075019|1.036984|0.605219|0.540789|0.415723|0.31456 |0.372485|4.01E-4 |3.59E-4 |3.42E-4 |3.8E-4  |4.19E-4 |4.52E-4 |4.75E-4 |4.83E-4 |4.7E-4  |4.66E-4 |4.52E-4 |4.3E-4  |0.271602|1.020687 |0.003715|0.016666|0.181124|0.032041|2.924631|0.212804|0.131345|0.175941|0.135759|0.159541|0.158075|0.167622|0.132138|0.18307 |0.099174|0.099033|0.093096|3.65E-4 |3.35E-4 |3.27E-4 |3.65E-4 |4.0E-4  |4.31E-4 |4.62E-4 |4.78E-4 |4.64E-4 |4.52E-4 |4.25E-4 |3.96E-4 |0.185557|1.177885 |TRSUQGU128F427D54A|\n",
      "|0.091242|0.07398 |0.159439|0.089004|-47.803892|3.712662|0.078695 |1.555109 |0.719729 |0.635646 |0.096096 |0.122478 |-0.152256|0.227723 |-0.041468|0.149983 |0.47497  |7.49E-4 |7.87E-4 |9.29E-4 |9.29E-4 |8.61E-4 |8.13E-4 |7.18E-4 |6.97E-4 |6.34E-4 |7.16E-4 |7.38E-4 |7.09E-4 |1.861056|5.687723 |0.037028|0.037138|0.087853|0.031276|2.494741|1.004638|0.72741 |0.603314|0.550768|0.544132|0.481908|0.513319|0.486876|0.464042|0.491531|0.459018|0.476853|7.74E-4 |7.71E-4 |8.21E-4 |8.4E-4  |6.93E-4 |6.05E-4 |5.54E-4 |5.47E-4 |5.04E-4 |5.46E-4 |6.2E-4  |7.22E-4 |0.514691|4.848068 |0.046977|0.047526|0.106713|0.047003|5.727135 |1.585788|1.000443|0.732762|0.552379|0.710648|0.775955|0.601733|0.527067|0.567153|0.643235|0.586724|0.541392|3.33E-4 |4.1E-4  |5.43E-4 |6.4E-4  |5.56E-4 |4.98E-4 |4.43E-4 |4.28E-4 |3.59E-4 |3.73E-4 |3.63E-4 |3.11E-4 |0.410697|5.000866 |0.031755|0.033965|0.085477|0.027495|1.914194|0.440028|0.248173|0.273103|0.167164|0.198617|0.121014|0.116013|0.134659|0.144127|0.179768|0.129738|0.152449|4.04E-4 |4.04E-4 |4.54E-4 |5.87E-4 |4.41E-4 |4.72E-4 |4.27E-4 |3.17E-4 |2.56E-4 |2.54E-4 |2.79E-4 |3.73E-4 |0.258621|6.322934 |TRSUQLA128F422612D|\n",
      "|0.103440|0.073735|0.404953|0.097474|-49.378796|2.117646|0.068182 |1.370082 |-0.577158|0.246244 |-0.038904|0.538545 |0.067043 |0.56896  |0.073318 |0.232855 |-0.176528|5.01E-4 |4.58E-4 |4.51E-4 |5.13E-4 |5.72E-4 |6.24E-4 |6.63E-4 |6.87E-4 |6.83E-4 |6.49E-4 |6.01E-4 |5.5E-4  |1.38372 |2.15971  |0.051468|0.048149|0.21005 |0.038057|3.258518|1.060446|0.707415|0.755932|0.689761|0.56683 |0.639077|0.507972|0.463373|0.500317|0.472981|0.419451|0.45463 |7.17E-4 |6.58E-4 |6.53E-4 |7.56E-4 |8.5E-4  |9.26E-4 |9.83E-4 |0.001012|0.001   |9.42E-4 |8.66E-4 |7.85E-4 |0.284774|0.995808 |0.052609|0.0534  |0.261407|0.074268|3.925814 |0.869665|0.493621|0.450528|0.313449|0.263529|0.294037|0.28458 |0.284933|0.379579|0.289124|0.297805|0.300779|3.68E-4 |3.11E-4 |2.89E-4 |3.43E-4 |4.0E-4  |4.52E-4 |4.96E-4 |5.21E-4 |5.23E-4 |5.05E-4 |4.7E-4  |4.23E-4 |0.190395|0.549046 |0.02912 |0.034546|0.129096|0.040095|3.487818|0.346099|0.244398|0.226277|0.157785|0.141202|0.169196|0.130603|0.116936|0.090586|0.096837|0.101678|0.082573|4.51E-4 |3.83E-4 |3.63E-4 |4.31E-4 |4.99E-4 |5.65E-4 |6.23E-4 |6.61E-4 |6.68E-4 |6.43E-4 |5.93E-4 |5.25E-4 |0.174156|0.795005 |TRSUQQR128F933AD81|\n",
      "|0.124417|0.104547|0.196706|0.098757|-46.495395|4.429615|-1.759981|2.658229 |-0.656179|1.313264 |0.043121 |0.427191 |-0.37935 |0.408131 |-0.051307|0.050365 |0.046523 |3.57E-4 |2.81E-4 |2.95E-4 |3.75E-4 |3.83E-4 |3.95E-4 |3.35E-4 |4.21E-4 |3.69E-4 |2.97E-4 |2.97E-4 |3.15E-4 |2.443318|13.466279|0.042195|0.04203 |0.072724|0.035265|3.759581|1.362464|0.6751  |0.781894|0.550339|0.601274|0.583543|0.513438|0.608804|0.543764|0.525988|0.54735 |0.498533|3.92E-4 |2.85E-4 |2.82E-4 |3.87E-4 |4.34E-4 |4.41E-4 |3.36E-4 |4.46E-4 |3.71E-4 |3.05E-4 |2.95E-4 |3.43E-4 |0.906926|17.013012|0.037147|0.046485|0.083004|0.072538|3.526908 |1.222879|0.549591|0.583736|0.301145|0.452715|0.379125|0.351661|0.439857|0.286218|0.294143|0.346306|0.351718|2.32E-4 |1.52E-4 |1.47E-4 |2.23E-4 |2.82E-4 |3.4E-4  |2.23E-4 |3.56E-4 |2.28E-4 |1.74E-4 |2.08E-4 |1.91E-4 |0.798993|18.808222|0.014048|0.020834|0.035937|0.041783|3.331923|0.480658|0.191524|0.280244|0.136969|0.170345|0.146839|0.138182|0.214085|0.157419|0.140598|0.187091|0.142151|3.38E-4 |2.46E-4 |2.06E-4 |3.27E-4 |5.21E-4 |5.9E-4  |3.47E-4 |5.14E-4 |3.3E-4  |2.86E-4 |3.33E-4 |3.11E-4 |0.474207|34.718396|TRSUQGW12903CDC3EE|\n",
      "|0.065475|0.059892|0.110567|0.089908|-58.599719|7.395938|-1.038903|1.814264 |-0.948842|0.064864 |-0.378453|-0.523306|-0.325475|-0.602912|-0.345409|-0.03119 |-0.036026|9.0E-6  |1.4E-5  |1.5E-5  |1.6E-5  |1.6E-5  |1.5E-5  |1.2E-5  |1.0E-5  |8.0E-6  |6.0E-6  |7.0E-6  |7.0E-6  |2.914314|24.723287|0.014024|0.011477|0.042251|0.030394|1.445449|0.625622|0.516242|0.53561 |0.518271|0.510188|0.474429|0.512786|0.472106|0.490344|0.468456|0.478819|0.455613|7.0E-6  |1.2E-5  |1.3E-5  |1.5E-5  |1.6E-5  |1.2E-5  |9.0E-6  |7.0E-6  |6.0E-6  |4.0E-6  |4.0E-6  |4.0E-6  |0.631713|19.907483|0.012763|0.037082|0.12226 |0.072483|5.026851 |1.170874|0.653735|0.662575|0.660567|0.680533|0.463556|0.568139|0.52404 |0.717598|0.613066|0.772796|0.508445|1.0E-5  |2.0E-5  |1.9E-5  |2.2E-5  |2.4E-5  |2.6E-5  |2.1E-5  |1.3E-5  |1.2E-5  |7.0E-6  |9.0E-6  |7.0E-6  |0.623777|23.158071|0.005538|0.024229|0.069769|0.043656|4.118566|0.311731|0.145331|0.14128 |0.136199|0.120727|0.093321|0.12985 |0.125985|0.129996|0.120045|0.158018|0.137241|1.1E-5  |2.2E-5  |2.0E-5  |2.4E-5  |2.7E-5  |2.3E-5  |1.8E-5  |1.4E-5  |1.3E-5  |7.0E-6  |4.0E-6  |5.0E-6  |0.218086|21.979279|TRSUQVD128F14803C1|\n",
      "|0.106077|0.074236|0.162753|0.089126|-40.863969|3.554112|-0.406129|0.768955 |-0.021291|0.256583 |0.04114  |0.473778 |0.339973 |0.035646 |0.045168 |-0.027288|0.073044 |0.003256|0.002555|0.002368|0.002328|0.002248|0.002422|0.00264 |0.002909|0.002822|0.002499|0.002369|0.002693|2.009783|3.836638 |0.023582|0.023228|0.068518|0.029174|1.39978 |0.675297|0.607812|0.513238|0.486516|0.451525|0.450102|0.420509|0.436801|0.399108|0.431284|0.385248|0.412145|0.001903|0.001525|0.001344|0.001497|0.001626|0.0018  |0.001948|0.002087|0.002149|0.002009|0.00184 |0.001815|0.579954|2.165017 |0.016334|0.032796|0.06333 |0.052706|6.043751 |0.450119|0.32367 |0.509272|0.382002|0.354527|0.490418|0.51711 |0.368701|0.351652|0.445596|0.373626|0.391208|0.002238|0.001132|0.001208|7.72E-4 |6.0E-4  |6.96E-4 |8.58E-4 |0.001029|0.001035|7.73E-4 |6.74E-4 |0.001017|0.572903|1.772502 |0.008563|0.018459|0.048695|0.030354|2.647187|0.190221|0.173419|0.145584|0.123137|0.0921  |0.100294|0.109558|0.122974|0.098072|0.109357|0.10349 |0.095335|8.83E-4 |6.11E-4 |4.39E-4 |5.46E-4 |5.51E-4 |6.1E-4  |6.8E-4  |7.26E-4 |7.29E-4 |7.35E-4 |6.18E-4 |6.12E-4 |0.25369 |1.346762 |TRSUQTB12903CA4725|\n",
      "|0.192311|0.14124 |0.389941|0.086191|-41.897903|1.391599|0.3684   |0.848749 |0.398526 |0.787981 |0.497217 |0.412692 |0.336754 |0.11027  |0.08426  |-0.16862 |-0.232727|0.001149|8.77E-4 |8.53E-4 |7.94E-4 |8.58E-4 |0.001015|9.75E-4 |0.001068|0.001019|0.001165|0.001319|0.001207|1.729699|3.47646  |0.046414|0.045516|0.121621|0.028314|1.563838|0.613395|0.534459|0.500247|0.478561|0.496744|0.430407|0.443601|0.411609|0.426155|0.427929|0.436079|0.479034|8.46E-4 |6.1E-4  |5.08E-4 |5.45E-4 |5.85E-4 |7.67E-4 |7.4E-4  |8.04E-4 |7.95E-4 |8.36E-4 |8.76E-4 |8.38E-4 |0.367756|1.632921 |0.048233|0.052976|0.108554|0.07451 |3.221488 |0.687741|0.374355|0.50824 |0.348776|0.359714|0.249631|0.320158|0.384416|0.39619 |0.408122|0.358201|0.555371|6.43E-4 |4.24E-4 |3.43E-4 |3.45E-4 |3.59E-4 |4.99E-4 |3.86E-4 |3.99E-4 |3.73E-4 |4.56E-4 |6.38E-4 |5.61E-4 |0.398259|1.727756 |0.015623|0.018926|0.043722|0.041779|3.164336|0.224668|0.150866|0.127089|0.108781|0.129754|0.093337|0.10834 |0.099033|0.118011|0.104462|0.151541|0.188267|5.87E-4 |3.17E-4 |1.9E-4  |2.09E-4 |2.43E-4 |3.66E-4 |3.2E-4  |3.6E-4  |3.82E-4 |3.83E-4 |4.24E-4 |4.7E-4  |0.214153|1.431822 |TRSUQBA128F424A951|\n",
      "|0.111773|0.081682|0.245543|0.090925|-42.319296|3.639878|0.472781 |0.601739 |0.044067 |0.14765  |0.08216  |0.383049 |0.104507 |-0.173886|-0.183984|-0.129181|-0.061618|0.003279|0.003141|0.003017|0.003518|0.003763|0.004096|0.004226|0.004321|0.004281|0.00392 |0.003667|0.003368|1.624163|4.815367 |0.068571|0.061995|0.241801|0.030819|2.476507|0.993611|0.714564|0.67807 |0.54877 |0.524985|0.523903|0.483591|0.479459|0.477002|0.485103|0.459814|0.420784|0.002884|0.002736|0.002739|0.003202|0.003543|0.003854|0.004041|0.004117|0.004042|0.0038  |0.003526|0.003149|0.469916|4.159882 |0.045746|0.057493|0.129246|0.074117|3.722387 |0.972915|0.557969|0.60207 |0.36779 |0.294493|0.292031|0.262835|0.333843|0.299717|0.332407|0.342321|0.283765|0.001015|0.001055|9.4E-4  |0.001093|0.001098|0.001164|0.001163|0.001217|0.001259|0.001113|0.001043|9.54E-4 |0.345414|8.532816 |0.046073|0.050072|0.105745|0.041347|3.256838|0.368952|0.222397|0.265295|0.150118|0.139452|0.133347|0.102573|0.131304|0.089841|0.129385|0.136808|0.108138|8.35E-4 |7.97E-4 |8.06E-4 |9.47E-4 |0.001026|0.001086|0.001166|0.001211|0.001212|0.001146|0.001035|8.86E-4 |0.240317|8.452296 |TRSUQCF12903CCD7BF|\n",
      "|0.055104|0.03456 |0.077727|0.0884  |-53.334003|4.956407|2.399235 |-0.011957|0.607726 |0.742711 |0.655549 |0.249075 |0.162303 |0.234734 |0.202617 |0.235805 |0.059454 |5.31E-4 |5.34E-4 |5.61E-4 |6.33E-4 |6.67E-4 |6.84E-4 |6.89E-4 |6.82E-4 |6.49E-4 |5.97E-4 |5.6E-4  |5.36E-4 |1.311369|1.986704 |0.03521 |0.025056|0.109148|0.032168|2.542843|1.246547|0.7725  |0.576904|0.418107|0.434336|0.432844|0.443441|0.410295|0.414626|0.391361|0.420847|0.378058|4.64E-4 |4.87E-4 |5.3E-4  |5.9E-4  |6.04E-4 |6.0E-4  |5.95E-4 |5.89E-4 |5.64E-4 |5.18E-4 |4.82E-4 |4.61E-4 |0.147619|0.579034 |0.037102|0.045795|0.115292|0.074543|3.786878 |0.885653|0.566515|0.359067|0.299168|0.29606 |0.3575  |0.231626|0.224436|0.224708|0.192463|0.236172|0.21875 |2.58E-4 |2.7E-4  |2.99E-4 |3.38E-4 |3.48E-4 |3.49E-4 |3.48E-4 |3.47E-4 |3.35E-4 |3.1E-4  |2.86E-4 |2.65E-4 |0.126702|0.353099 |0.025356|0.032151|0.116888|0.041879|3.642818|0.363178|0.180413|0.143822|0.098433|0.09565 |0.094632|0.095988|0.096243|0.118598|0.100931|0.084913|0.080467|2.29E-4 |2.49E-4 |2.84E-4 |3.16E-4 |3.2E-4  |3.15E-4 |3.17E-4 |3.19E-4 |3.12E-4 |2.91E-4 |2.64E-4 |2.38E-4 |0.104559|0.378809 |TRSUQZQ128F93172E9|\n",
      "|0.129672|0.091617|0.253288|0.089504|-45.953513|1.92692 |-0.362781|0.645129 |0.412979 |0.868084 |0.83155  |0.337106 |0.411661 |0.359822 |0.213515 |0.067469 |-0.24794 |4.31E-4 |4.28E-4 |4.47E-4 |4.83E-4 |4.88E-4 |5.07E-4 |4.97E-4 |4.86E-4 |4.71E-4 |4.38E-4 |4.24E-4 |4.26E-4 |1.522388|3.31225  |0.050664|0.045463|0.153463|0.028171|1.913703|1.085028|0.828549|0.678049|0.581658|0.557149|0.487847|0.509412|0.485586|0.460522|0.49691 |0.469754|0.457948|3.76E-4 |3.99E-4 |4.35E-4 |4.84E-4 |4.98E-4 |5.04E-4 |4.94E-4 |4.86E-4 |4.56E-4 |4.21E-4 |3.98E-4 |3.79E-4 |0.399568|2.910863 |0.034668|0.042826|0.09977 |0.073579|3.230945 |0.640427|0.769166|0.830306|0.381982|0.241712|0.340684|0.324434|0.264024|0.24897 |0.240265|0.22799 |0.361912|1.46E-4 |1.48E-4 |1.53E-4 |1.69E-4 |1.69E-4 |1.57E-4 |1.65E-4 |1.69E-4 |1.61E-4 |1.47E-4 |1.31E-4 |1.3E-4  |0.272369|1.919845 |0.017033|0.022382|0.073659|0.0424  |3.465521|0.467021|0.288414|0.190291|0.147059|0.143267|0.110373|0.107615|0.100391|0.099863|0.120603|0.102701|0.138966|1.6E-4  |1.85E-4 |2.15E-4 |2.33E-4 |2.31E-4 |2.09E-4 |2.06E-4 |2.03E-4 |1.94E-4 |1.85E-4 |1.72E-4 |1.59E-4 |0.257462|3.778043 |TRSUQYP12903CE4751|\n",
      "+--------+--------+--------+--------+----------+--------+---------+---------+---------+---------+---------+---------+---------+---------+---------+---------+---------+--------+--------+--------+--------+--------+--------+--------+--------+--------+--------+--------+--------+--------+---------+--------+--------+--------+--------+--------+--------+--------+--------+--------+--------+--------+--------+--------+--------+--------+--------+--------+--------+--------+--------+--------+--------+--------+--------+--------+--------+--------+--------+--------+--------+---------+--------+--------+--------+--------+---------+--------+--------+--------+--------+--------+--------+--------+--------+--------+--------+--------+--------+--------+--------+--------+--------+--------+--------+--------+--------+--------+--------+--------+--------+--------+---------+--------+--------+--------+--------+--------+--------+--------+--------+--------+--------+--------+--------+--------+--------+--------+--------+--------+--------+--------+--------+--------+--------+--------+--------+--------+--------+--------+--------+--------+--------+---------+------------------+\n",
      "only showing top 20 rows\n",
      "\n"
     ]
    }
   ],
   "source": [
    "features.show(20, False)"
   ]
  },
  {
   "cell_type": "code",
   "execution_count": 117,
   "id": "df89c334-d7c8-4f68-90c5-3c2ba9ae94e8",
   "metadata": {},
   "outputs": [
    {
     "name": "stderr",
     "output_type": "stream",
     "text": [
      "                                                                                "
     ]
    },
    {
     "data": {
      "text/plain": [
       "995001"
      ]
     },
     "execution_count": 117,
     "metadata": {},
     "output_type": "execute_result"
    }
   ],
   "source": [
    "features.count()"
   ]
  },
  {
   "cell_type": "code",
   "execution_count": 118,
   "id": "46d843b1-619d-49c5-b453-f67680d191df",
   "metadata": {
    "collapsed": true,
    "jupyter": {
     "outputs_hidden": true
    },
    "scrolled": true
   },
   "outputs": [
    {
     "name": "stdout",
     "output_type": "stream",
     "text": [
      "root\n",
      " |-- _c0: string (nullable = true)\n",
      " |-- _c1: double (nullable = true)\n",
      " |-- _c2: double (nullable = true)\n",
      " |-- _c3: double (nullable = true)\n",
      " |-- _c4: double (nullable = true)\n",
      " |-- _c5: double (nullable = true)\n",
      " |-- _c6: double (nullable = true)\n",
      " |-- _c7: double (nullable = true)\n",
      " |-- _c8: double (nullable = true)\n",
      " |-- _c9: double (nullable = true)\n",
      " |-- _c10: double (nullable = true)\n",
      " |-- _c11: double (nullable = true)\n",
      " |-- _c12: double (nullable = true)\n",
      " |-- _c13: double (nullable = true)\n",
      " |-- _c14: double (nullable = true)\n",
      " |-- _c15: double (nullable = true)\n",
      " |-- _c16: double (nullable = true)\n",
      " |-- _c17: double (nullable = true)\n",
      " |-- _c18: double (nullable = true)\n",
      " |-- _c19: double (nullable = true)\n",
      " |-- _c20: double (nullable = true)\n",
      " |-- _c21: double (nullable = true)\n",
      " |-- _c22: double (nullable = true)\n",
      " |-- _c23: double (nullable = true)\n",
      " |-- _c24: double (nullable = true)\n",
      " |-- _c25: double (nullable = true)\n",
      " |-- _c26: double (nullable = true)\n",
      " |-- _c27: double (nullable = true)\n",
      " |-- _c28: double (nullable = true)\n",
      " |-- _c29: double (nullable = true)\n",
      " |-- _c30: double (nullable = true)\n",
      " |-- _c31: double (nullable = true)\n",
      " |-- _c32: double (nullable = true)\n",
      " |-- _c33: double (nullable = true)\n",
      " |-- _c34: double (nullable = true)\n",
      " |-- _c35: double (nullable = true)\n",
      " |-- _c36: double (nullable = true)\n",
      " |-- _c37: double (nullable = true)\n",
      " |-- _c38: double (nullable = true)\n",
      " |-- _c39: double (nullable = true)\n",
      " |-- _c40: double (nullable = true)\n",
      " |-- _c41: double (nullable = true)\n",
      " |-- _c42: double (nullable = true)\n",
      " |-- _c43: double (nullable = true)\n",
      " |-- _c44: double (nullable = true)\n",
      " |-- _c45: double (nullable = true)\n",
      " |-- _c46: double (nullable = true)\n",
      " |-- _c47: double (nullable = true)\n",
      " |-- _c48: double (nullable = true)\n",
      " |-- _c49: double (nullable = true)\n",
      " |-- _c50: double (nullable = true)\n",
      " |-- _c51: double (nullable = true)\n",
      " |-- _c52: double (nullable = true)\n",
      " |-- _c53: double (nullable = true)\n",
      " |-- _c54: double (nullable = true)\n",
      " |-- _c55: double (nullable = true)\n",
      " |-- _c56: double (nullable = true)\n",
      " |-- _c57: double (nullable = true)\n",
      " |-- _c58: double (nullable = true)\n",
      " |-- _c59: double (nullable = true)\n",
      " |-- _c60: double (nullable = true)\n",
      " |-- _c61: double (nullable = true)\n",
      " |-- _c62: double (nullable = true)\n",
      " |-- _c63: double (nullable = true)\n",
      " |-- _c64: double (nullable = true)\n",
      " |-- _c65: double (nullable = true)\n",
      " |-- _c66: double (nullable = true)\n",
      " |-- _c67: double (nullable = true)\n",
      " |-- _c68: double (nullable = true)\n",
      " |-- _c69: double (nullable = true)\n",
      " |-- _c70: double (nullable = true)\n",
      " |-- _c71: double (nullable = true)\n",
      " |-- _c72: double (nullable = true)\n",
      " |-- _c73: double (nullable = true)\n",
      " |-- _c74: double (nullable = true)\n",
      " |-- _c75: double (nullable = true)\n",
      " |-- _c76: double (nullable = true)\n",
      " |-- _c77: double (nullable = true)\n",
      " |-- _c78: double (nullable = true)\n",
      " |-- _c79: double (nullable = true)\n",
      " |-- _c80: double (nullable = true)\n",
      " |-- _c81: double (nullable = true)\n",
      " |-- _c82: double (nullable = true)\n",
      " |-- _c83: double (nullable = true)\n",
      " |-- _c84: double (nullable = true)\n",
      " |-- _c85: double (nullable = true)\n",
      " |-- _c86: double (nullable = true)\n",
      " |-- _c87: double (nullable = true)\n",
      " |-- _c88: double (nullable = true)\n",
      " |-- _c89: double (nullable = true)\n",
      " |-- _c90: double (nullable = true)\n",
      " |-- _c91: double (nullable = true)\n",
      " |-- _c92: double (nullable = true)\n",
      " |-- _c93: double (nullable = true)\n",
      " |-- _c94: double (nullable = true)\n",
      " |-- _c95: double (nullable = true)\n",
      " |-- _c96: double (nullable = true)\n",
      " |-- _c97: double (nullable = true)\n",
      " |-- _c98: double (nullable = true)\n",
      " |-- _c99: double (nullable = true)\n",
      " |-- _c100: double (nullable = true)\n",
      " |-- _c101: double (nullable = true)\n",
      " |-- _c102: double (nullable = true)\n",
      " |-- _c103: double (nullable = true)\n",
      " |-- _c104: double (nullable = true)\n",
      " |-- _c105: double (nullable = true)\n",
      " |-- _c106: double (nullable = true)\n",
      " |-- _c107: double (nullable = true)\n",
      " |-- _c108: double (nullable = true)\n",
      " |-- _c109: double (nullable = true)\n",
      " |-- _c110: double (nullable = true)\n",
      " |-- _c111: double (nullable = true)\n",
      " |-- _c112: double (nullable = true)\n",
      " |-- _c113: double (nullable = true)\n",
      " |-- _c114: double (nullable = true)\n",
      " |-- _c115: double (nullable = true)\n",
      " |-- _c116: double (nullable = true)\n",
      " |-- _c117: double (nullable = true)\n",
      " |-- _c118: double (nullable = true)\n",
      " |-- _c119: double (nullable = true)\n",
      " |-- _c120: double (nullable = true)\n",
      " |-- _c121: double (nullable = true)\n",
      " |-- _c122: double (nullable = true)\n",
      " |-- _c123: double (nullable = true)\n",
      " |-- _c124: string (nullable = true)\n",
      "\n"
     ]
    }
   ],
   "source": [
    "features.printSchema()"
   ]
  },
  {
   "cell_type": "code",
   "execution_count": 131,
   "id": "e0484b39-2b75-4af8-a1de-b1a7a2d19e4b",
   "metadata": {},
   "outputs": [
    {
     "name": "stderr",
     "output_type": "stream",
     "text": [
      "25/10/05 14:00:30 WARN ExecutorPodsWatchSnapshotSource: Kubernetes client has been closed.\n"
     ]
    },
    {
     "data": {
      "text/html": [
       "<p><b>Spark</b></p><p>The spark session is <b><span style=\"color:red\">stopped</span></b>, confirm that <code>rsh224 (notebook)</code> is under the completed applications section in the Spark UI.</p><ul><li><a href=\"http://mathmadslinux2p.canterbury.ac.nz:8080/\" target=\"_blank\">Spark UI</a></li></ul>"
      ],
      "text/plain": [
       "<IPython.core.display.HTML object>"
      ]
     },
     "metadata": {},
     "output_type": "display_data"
    }
   ],
   "source": [
    "stop_spark()"
   ]
  },
  {
   "cell_type": "code",
   "execution_count": null,
   "id": "d2647e5d-00d6-47e0-a70d-152fc48d97b6",
   "metadata": {},
   "outputs": [],
   "source": []
  }
 ],
 "metadata": {
  "kernelspec": {
   "display_name": "Python 3 (ipykernel)",
   "language": "python",
   "name": "python3"
  },
  "language_info": {
   "codemirror_mode": {
    "name": "ipython",
    "version": 3
   },
   "file_extension": ".py",
   "mimetype": "text/x-python",
   "name": "python",
   "nbconvert_exporter": "python",
   "pygments_lexer": "ipython3",
   "version": "3.8.10"
  }
 },
 "nbformat": 4,
 "nbformat_minor": 5
}
