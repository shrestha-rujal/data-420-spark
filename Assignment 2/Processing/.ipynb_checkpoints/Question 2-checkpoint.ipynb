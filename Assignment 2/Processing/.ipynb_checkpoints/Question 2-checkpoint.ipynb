{
 "cells": [
  {
   "cell_type": "code",
   "execution_count": 1,
   "id": "5f0d871f-957f-4314-94e3-16b9c1c4cf9b",
   "metadata": {
    "jupyter": {
     "source_hidden": true
    }
   },
   "outputs": [
    {
     "data": {
      "text/html": [
       "<style>pre { white-space: pre !important; }table.dataframe td { white-space: nowrap !important; }table.dataframe thead th:first-child, table.dataframe tbody th { display: none; }</style>"
      ],
      "text/plain": [
       "<IPython.core.display.HTML object>"
      ]
     },
     "metadata": {},
     "output_type": "display_data"
    }
   ],
   "source": [
    "# Run this cell to import pyspark and to define start_spark() and stop_spark()\n",
    "\n",
    "import findspark\n",
    "\n",
    "findspark.init()\n",
    "\n",
    "import getpass\n",
    "import pandas\n",
    "import pyspark\n",
    "import random\n",
    "import re\n",
    "\n",
    "from IPython.display import display, HTML\n",
    "from pyspark import SparkContext\n",
    "from pyspark.sql import SparkSession\n",
    "import pyspark.sql.functions as F\n",
    "\n",
    "\n",
    "# Constants used to interact with Azure Blob Storage using the hdfs command or Spark\n",
    "\n",
    "global username\n",
    "\n",
    "username = re.sub('@.*', '', getpass.getuser())\n",
    "\n",
    "global azure_account_name\n",
    "global azure_data_container_name\n",
    "global azure_user_container_name\n",
    "global azure_user_token\n",
    "\n",
    "azure_account_name = \"madsstorage002\"\n",
    "azure_data_container_name = \"campus-data\"\n",
    "azure_user_container_name = \"campus-user\"\n",
    "azure_user_token = r\"sp=racwdl&st=2025-08-01T09:41:33Z&se=2026-12-30T16:56:33Z&spr=https&sv=2024-11-04&sr=c&sig=GzR1hq7EJ0lRHj92oDO1MBNjkc602nrpfB5H8Cl7FFY%3D\"\n",
    "\n",
    "\n",
    "# Functions used below\n",
    "\n",
    "def dict_to_html(d):\n",
    "    \"\"\"Convert a Python dictionary into a two column table for display.\n",
    "    \"\"\"\n",
    "\n",
    "    html = []\n",
    "\n",
    "    html.append(f'<table width=\"100%\" style=\"width:100%; font-family: monospace;\">')\n",
    "    for k, v in d.items():\n",
    "        html.append(f'<tr><td style=\"text-align:left;\">{k}</td><td>{v}</td></tr>')\n",
    "    html.append(f'</table>')\n",
    "\n",
    "    return ''.join(html)\n",
    "\n",
    "\n",
    "def show_as_html(df, n=20):\n",
    "    \"\"\"Leverage existing pandas jupyter integration to show a spark dataframe as html.\n",
    "    \n",
    "    Args:\n",
    "        n (int): number of rows to show (default: 20)\n",
    "    \"\"\"\n",
    "\n",
    "    display(df.limit(n).toPandas())\n",
    "\n",
    "    \n",
    "def display_spark():\n",
    "    \"\"\"Display the status of the active Spark session if one is currently running.\n",
    "    \"\"\"\n",
    "    \n",
    "    if 'spark' in globals() and 'sc' in globals():\n",
    "\n",
    "        name = sc.getConf().get(\"spark.app.name\")\n",
    "\n",
    "        html = [\n",
    "            f'<p><b>Spark</b></p>',\n",
    "            f'<p>The spark session is <b><span style=\"color:green\">active</span></b>, look for <code>{name}</code> under the running applications section in the Spark UI.</p>',\n",
    "            f'<ul>',\n",
    "            f'<li><a href=\"http://localhost:{sc.uiWebUrl.split(\":\")[-1]}\" target=\"_blank\">Spark Application UI</a></li>',\n",
    "            f'</ul>',\n",
    "            f'<p><b>Config</b></p>',\n",
    "            dict_to_html(dict(sc.getConf().getAll())),\n",
    "            f'<p><b>Notes</b></p>',\n",
    "            f'<ul>',\n",
    "            f'<li>The spark session <code>spark</code> and spark context <code>sc</code> global variables have been defined by <code>start_spark()</code>.</li>',\n",
    "            f'<li>Please run <code>stop_spark()</code> before closing the notebook or restarting the kernel or kill <code>{name}</code> by hand using the link in the Spark UI.</li>',\n",
    "            f'</ul>',\n",
    "        ]\n",
    "        display(HTML(''.join(html)))\n",
    "        \n",
    "    else:\n",
    "        \n",
    "        html = [\n",
    "            f'<p><b>Spark</b></p>',\n",
    "            f'<p>The spark session is <b><span style=\"color:red\">stopped</span></b>, confirm that <code>{username} (notebook)</code> is under the completed applications section in the Spark UI.</p>',\n",
    "            f'<ul>',\n",
    "            f'<li><a href=\"http://mathmadslinux2p.canterbury.ac.nz:8080/\" target=\"_blank\">Spark UI</a></li>',\n",
    "            f'</ul>',\n",
    "        ]\n",
    "        display(HTML(''.join(html)))\n",
    "\n",
    "\n",
    "# Functions to start and stop spark\n",
    "\n",
    "def start_spark(executor_instances=2, executor_cores=1, worker_memory=1, master_memory=1):\n",
    "    \"\"\"Start a new Spark session and define globals for SparkSession (spark) and SparkContext (sc).\n",
    "    \n",
    "    Args:\n",
    "        executor_instances (int): number of executors (default: 2)\n",
    "        executor_cores (int): number of cores per executor (default: 1)\n",
    "        worker_memory (float): worker memory (default: 1)\n",
    "        master_memory (float): master memory (default: 1)\n",
    "    \"\"\"\n",
    "\n",
    "    global spark\n",
    "    global sc\n",
    "\n",
    "    cores = executor_instances * executor_cores\n",
    "    partitions = cores * 4\n",
    "    port = 4000 + random.randint(1, 999)\n",
    "\n",
    "    spark = (\n",
    "        SparkSession.builder\n",
    "        .config(\"spark.driver.extraJavaOptions\", f\"-Dderby.system.home=/tmp/{username}/spark/\")\n",
    "        .config(\"spark.dynamicAllocation.enabled\", \"false\")\n",
    "        .config(\"spark.executor.instances\", str(executor_instances))\n",
    "        .config(\"spark.executor.cores\", str(executor_cores))\n",
    "        .config(\"spark.cores.max\", str(cores))\n",
    "        .config(\"spark.driver.memory\", f'{master_memory}g')\n",
    "        .config(\"spark.executor.memory\", f'{worker_memory}g')\n",
    "        .config(\"spark.driver.maxResultSize\", \"0\")\n",
    "        .config(\"spark.sql.shuffle.partitions\", str(partitions))\n",
    "        .config(\"spark.kubernetes.container.image\", \"madsregistry001.azurecr.io/hadoop-spark:v3.3.5-openjdk-8\")\n",
    "        .config(\"spark.kubernetes.container.image.pullPolicy\", \"IfNotPresent\")\n",
    "        .config(\"spark.kubernetes.memoryOverheadFactor\", \"0.3\")\n",
    "        .config(\"spark.memory.fraction\", \"0.1\")\n",
    "        .config(f\"fs.azure.sas.{azure_user_container_name}.{azure_account_name}.blob.core.windows.net\",  azure_user_token)\n",
    "        .config(\"spark.app.name\", f\"{username} (notebook)\")\n",
    "        .getOrCreate()\n",
    "    )\n",
    "    sc = SparkContext.getOrCreate()\n",
    "    \n",
    "    display_spark()\n",
    "\n",
    "    \n",
    "def stop_spark():\n",
    "    \"\"\"Stop the active Spark session and delete globals for SparkSession (spark) and SparkContext (sc).\n",
    "    \"\"\"\n",
    "\n",
    "    global spark\n",
    "    global sc\n",
    "\n",
    "    if 'spark' in globals() and 'sc' in globals():\n",
    "\n",
    "        spark.stop()\n",
    "\n",
    "        del spark\n",
    "        del sc\n",
    "\n",
    "    display_spark()\n",
    "\n",
    "\n",
    "# Make css changes to improve spark output readability\n",
    "\n",
    "html = [\n",
    "    '<style>',\n",
    "    'pre { white-space: pre !important; }',\n",
    "    'table.dataframe td { white-space: nowrap !important; }',\n",
    "    'table.dataframe thead th:first-child, table.dataframe tbody th { display: none; }',\n",
    "    '</style>',\n",
    "]\n",
    "display(HTML(''.join(html)))"
   ]
  },
  {
   "cell_type": "code",
   "execution_count": 2,
   "id": "85832872-5393-4ea9-9f6c-6a49c94386ec",
   "metadata": {
    "scrolled": true
   },
   "outputs": [
    {
     "name": "stderr",
     "output_type": "stream",
     "text": [
      "Warning: Ignoring non-Spark config property: fs.azure.sas.campus-user.madsstorage002.blob.core.windows.net\n",
      "Warning: Ignoring non-Spark config property: SPARK_DRIVER_BIND_ADDRESS\n",
      "25/10/05 14:01:20 WARN NativeCodeLoader: Unable to load native-hadoop library for your platform... using builtin-java classes where applicable\n",
      "Setting default log level to \"WARN\".\n",
      "To adjust logging level use sc.setLogLevel(newLevel). For SparkR, use setLogLevel(newLevel).\n"
     ]
    },
    {
     "data": {
      "text/html": [
       "<p><b>Spark</b></p><p>The spark session is <b><span style=\"color:green\">active</span></b>, look for <code>rsh224 (notebook)</code> under the running applications section in the Spark UI.</p><ul><li><a href=\"http://localhost:4040\" target=\"_blank\">Spark Application UI</a></li></ul><p><b>Config</b></p><table width=\"100%\" style=\"width:100%; font-family: monospace;\"><tr><td style=\"text-align:left;\">spark.dynamicAllocation.enabled</td><td>false</td></tr><tr><td style=\"text-align:left;\">spark.fs.azure.sas.campus-user.madsstorage002.blob.core.windows.net</td><td>\"sp=racwdl&st=2025-08-01T09:41:33Z&se=2026-12-30T16:56:33Z&spr=https&sv=2024-11-04&sr=c&sig=GzR1hq7EJ0lRHj92oDO1MBNjkc602nrpfB5H8Cl7FFY%3D\"</td></tr><tr><td style=\"text-align:left;\">spark.kubernetes.driver.pod.name</td><td>spark-master-driver</td></tr><tr><td style=\"text-align:left;\">spark.executor.instances</td><td>4</td></tr><tr><td style=\"text-align:left;\">spark.app.id</td><td>spark-e83e7004e26c40538f650b1ed2f5d6bc</td></tr><tr><td style=\"text-align:left;\">spark.app.name</td><td>rsh224 (notebook)</td></tr><tr><td style=\"text-align:left;\">spark.cores.max</td><td>16</td></tr><tr><td style=\"text-align:left;\">spark.kubernetes.container.image.pullPolicy</td><td>IfNotPresent</td></tr><tr><td style=\"text-align:left;\">spark.kubernetes.namespace</td><td>rsh224</td></tr><tr><td style=\"text-align:left;\">spark.executor.cores</td><td>4</td></tr><tr><td style=\"text-align:left;\">spark.kubernetes.executor.podNamePrefix</td><td>rsh224-notebook-8c4d6b99b1e335cf</td></tr><tr><td style=\"text-align:left;\">spark.driver.memory</td><td>8g</td></tr><tr><td style=\"text-align:left;\">spark.serializer.objectStreamReset</td><td>100</td></tr><tr><td style=\"text-align:left;\">spark.driver.maxResultSize</td><td>0</td></tr><tr><td style=\"text-align:left;\">spark.executor.memory</td><td>8g</td></tr><tr><td style=\"text-align:left;\">spark.submit.deployMode</td><td>client</td></tr><tr><td style=\"text-align:left;\">spark.master</td><td>k8s://https://kubernetes.default.svc.cluster.local:443</td></tr><tr><td style=\"text-align:left;\">spark.fs.azure</td><td>org.apache.hadoop.fs.azure.NativeAzureFileSystem</td></tr><tr><td style=\"text-align:left;\">spark.sql.shuffle.partitions</td><td>64</td></tr><tr><td style=\"text-align:left;\">spark.driver.extraJavaOptions</td><td>-Djava.net.preferIPv6Addresses=false -XX:+IgnoreUnrecognizedVMOptions --add-opens=java.base/java.lang=ALL-UNNAMED --add-opens=java.base/java.lang.invoke=ALL-UNNAMED --add-opens=java.base/java.lang.reflect=ALL-UNNAMED --add-opens=java.base/java.io=ALL-UNNAMED --add-opens=java.base/java.net=ALL-UNNAMED --add-opens=java.base/java.nio=ALL-UNNAMED --add-opens=java.base/java.util=ALL-UNNAMED --add-opens=java.base/java.util.concurrent=ALL-UNNAMED --add-opens=java.base/java.util.concurrent.atomic=ALL-UNNAMED --add-opens=java.base/jdk.internal.ref=ALL-UNNAMED --add-opens=java.base/sun.nio.ch=ALL-UNNAMED --add-opens=java.base/sun.nio.cs=ALL-UNNAMED --add-opens=java.base/sun.security.action=ALL-UNNAMED --add-opens=java.base/sun.util.calendar=ALL-UNNAMED --add-opens=java.security.jgss/sun.security.krb5=ALL-UNNAMED -Djdk.reflect.useDirectMethodHandle=false -Dderby.system.home=/tmp/rsh224/spark/</td></tr><tr><td style=\"text-align:left;\">spark.memory.fraction</td><td>0.1</td></tr><tr><td style=\"text-align:left;\">spark.executor.id</td><td>driver</td></tr><tr><td style=\"text-align:left;\">spark.kubernetes.executor.container.image</td><td>madsregistry001.azurecr.io/hadoop-spark:v3.3.5-openjdk-8-1.0.16</td></tr><tr><td style=\"text-align:left;\">spark.kubernetes.memoryOverheadFactor</td><td>0.3</td></tr><tr><td style=\"text-align:left;\">spark.driver.host</td><td>spark-master-svc</td></tr><tr><td style=\"text-align:left;\">spark.ui.port</td><td>${env:SPARK_UI_PORT}</td></tr><tr><td style=\"text-align:left;\">spark.kubernetes.container.image</td><td>madsregistry001.azurecr.io/hadoop-spark:v3.3.5-openjdk-8</td></tr><tr><td style=\"text-align:left;\">spark.kubernetes.executor.podTemplateFile</td><td>/opt/spark/conf/executor-pod-template.yaml</td></tr><tr><td style=\"text-align:left;\">fs.azure.sas.campus-user.madsstorage002.blob.core.windows.net</td><td>sp=racwdl&st=2025-08-01T09:41:33Z&se=2026-12-30T16:56:33Z&spr=https&sv=2024-11-04&sr=c&sig=GzR1hq7EJ0lRHj92oDO1MBNjkc602nrpfB5H8Cl7FFY%3D</td></tr><tr><td style=\"text-align:left;\">spark.rdd.compress</td><td>True</td></tr><tr><td style=\"text-align:left;\">spark.executor.extraJavaOptions</td><td>-Djava.net.preferIPv6Addresses=false -XX:+IgnoreUnrecognizedVMOptions --add-opens=java.base/java.lang=ALL-UNNAMED --add-opens=java.base/java.lang.invoke=ALL-UNNAMED --add-opens=java.base/java.lang.reflect=ALL-UNNAMED --add-opens=java.base/java.io=ALL-UNNAMED --add-opens=java.base/java.net=ALL-UNNAMED --add-opens=java.base/java.nio=ALL-UNNAMED --add-opens=java.base/java.util=ALL-UNNAMED --add-opens=java.base/java.util.concurrent=ALL-UNNAMED --add-opens=java.base/java.util.concurrent.atomic=ALL-UNNAMED --add-opens=java.base/jdk.internal.ref=ALL-UNNAMED --add-opens=java.base/sun.nio.ch=ALL-UNNAMED --add-opens=java.base/sun.nio.cs=ALL-UNNAMED --add-opens=java.base/sun.security.action=ALL-UNNAMED --add-opens=java.base/sun.util.calendar=ALL-UNNAMED --add-opens=java.security.jgss/sun.security.krb5=ALL-UNNAMED -Djdk.reflect.useDirectMethodHandle=false</td></tr><tr><td style=\"text-align:left;\">spark.driver.port</td><td>7077</td></tr><tr><td style=\"text-align:left;\">spark.submit.pyFiles</td><td></td></tr><tr><td style=\"text-align:left;\">spark.app.startTime</td><td>1759626080928</td></tr><tr><td style=\"text-align:left;\">spark.app.submitTime</td><td>1759626080812</td></tr><tr><td style=\"text-align:left;\">spark.fs.azure.sas.uco-user.madsstorage002.blob.core.windows.net</td><td>\"sp=racwdl&st=2025-09-21T20:54:03Z&se=2026-12-31T04:09:03Z&spr=https&sv=2024-11-04&sr=c&sig=5V91JeJe9mD%2FuPKUQ3LCErJh%2FwP0gNYoyl8MMx5pdkM%3D\"</td></tr><tr><td style=\"text-align:left;\">spark.ui.showConsoleProgress</td><td>true</td></tr></table><p><b>Notes</b></p><ul><li>The spark session <code>spark</code> and spark context <code>sc</code> global variables have been defined by <code>start_spark()</code>.</li><li>Please run <code>stop_spark()</code> before closing the notebook or restarting the kernel or kill <code>rsh224 (notebook)</code> by hand using the link in the Spark UI.</li></ul>"
      ],
      "text/plain": [
       "<IPython.core.display.HTML object>"
      ]
     },
     "metadata": {},
     "output_type": "display_data"
    }
   ],
   "source": [
    "# Run this cell to start a spark session in this notebook\n",
    "\n",
    "start_spark(executor_instances=4, executor_cores=4, worker_memory=8, master_memory=8)"
   ]
  },
  {
   "cell_type": "code",
   "execution_count": 3,
   "id": "787cdb5d-6b5a-4fe1-8cbe-5ef019d4537e",
   "metadata": {},
   "outputs": [],
   "source": [
    "# Write your imports here or insert cells below\n",
    "\n",
    "from pyspark.sql import functions as F\n",
    "from pyspark.sql.types import *"
   ]
  },
  {
   "cell_type": "code",
   "execution_count": 4,
   "id": "71c52349-b2c1-4ec5-805e-55f9f2fa7e89",
   "metadata": {},
   "outputs": [],
   "source": [
    "directory_path = f'wasbs://{azure_data_container_name}@{azure_account_name}.blob.core.windows.net/msd'"
   ]
  },
  {
   "cell_type": "code",
   "execution_count": 77,
   "id": "df74c44e-f7cf-42c1-943d-cb941196c466",
   "metadata": {},
   "outputs": [
    {
     "name": "stdout",
     "output_type": "stream",
     "text": [
      "Found 13 items\n",
      "-rwxrwxrwx   1       1051 2024-09-13 12:00 wasbs://campus-data@madsstorage002.blob.core.windows.net/msd/audio/attributes/msd-jmir-area-of-moments-all-v1.0.attributes.csv\n",
      "-rwxrwxrwx   1        671 2024-09-13 12:00 wasbs://campus-data@madsstorage002.blob.core.windows.net/msd/audio/attributes/msd-jmir-lpc-all-v1.0.attributes.csv\n",
      "-rwxrwxrwx   1        484 2024-09-13 12:00 wasbs://campus-data@madsstorage002.blob.core.windows.net/msd/audio/attributes/msd-jmir-methods-of-moments-all-v1.0.attributes.csv\n",
      "-rwxrwxrwx   1        898 2024-09-13 12:00 wasbs://campus-data@madsstorage002.blob.core.windows.net/msd/audio/attributes/msd-jmir-mfcc-all-v1.0.attributes.csv\n",
      "-rwxrwxrwx   1        777 2024-09-13 12:00 wasbs://campus-data@madsstorage002.blob.core.windows.net/msd/audio/attributes/msd-jmir-spectral-all-all-v1.0.attributes.csv\n",
      "-rwxrwxrwx   1        777 2024-09-13 12:00 wasbs://campus-data@madsstorage002.blob.core.windows.net/msd/audio/attributes/msd-jmir-spectral-derivatives-all-all-v1.0.attributes.csv\n",
      "-rwxrwxrwx   1      12317 2024-09-13 12:00 wasbs://campus-data@madsstorage002.blob.core.windows.net/msd/audio/attributes/msd-marsyas-timbral-v1.0.attributes.csv\n",
      "-rwxrwxrwx   1       9990 2024-09-13 12:00 wasbs://campus-data@madsstorage002.blob.core.windows.net/msd/audio/attributes/msd-mvd-v1.0.attributes.csv\n",
      "-rwxrwxrwx   1       1390 2024-09-13 12:00 wasbs://campus-data@madsstorage002.blob.core.windows.net/msd/audio/attributes/msd-rh-v1.0.attributes.csv\n",
      "-rwxrwxrwx   1      34913 2024-09-13 12:00 wasbs://campus-data@madsstorage002.blob.core.windows.net/msd/audio/attributes/msd-rp-v1.0.attributes.csv\n",
      "-rwxrwxrwx   1       3942 2024-09-13 12:00 wasbs://campus-data@madsstorage002.blob.core.windows.net/msd/audio/attributes/msd-ssd-v1.0.attributes.csv\n",
      "-rwxrwxrwx   1       9990 2024-09-13 12:00 wasbs://campus-data@madsstorage002.blob.core.windows.net/msd/audio/attributes/msd-trh-v1.0.attributes.csv\n",
      "-rwxrwxrwx   1      28313 2024-09-13 12:00 wasbs://campus-data@madsstorage002.blob.core.windows.net/msd/audio/attributes/msd-tssd-v1.0.attributes.csv\n"
     ]
    }
   ],
   "source": [
    "!hdfs dfs -ls {directory_path}/audio/attributes"
   ]
  },
  {
   "cell_type": "code",
   "execution_count": 78,
   "id": "abd37e5c-56e3-4307-938d-4b5b29a869b4",
   "metadata": {},
   "outputs": [
    {
     "name": "stdout",
     "output_type": "stream",
     "text": [
      "Found 13 items\n",
      "drwxrwxrwx   -          0 1970-01-01 12:00 wasbs://campus-data@madsstorage002.blob.core.windows.net/msd/audio/features/msd-jmir-area-of-moments-all-v1.0.csv\n",
      "drwxrwxrwx   -          0 1970-01-01 12:00 wasbs://campus-data@madsstorage002.blob.core.windows.net/msd/audio/features/msd-jmir-lpc-all-v1.0.csv\n",
      "drwxrwxrwx   -          0 1970-01-01 12:00 wasbs://campus-data@madsstorage002.blob.core.windows.net/msd/audio/features/msd-jmir-methods-of-moments-all-v1.0.csv\n",
      "drwxrwxrwx   -          0 1970-01-01 12:00 wasbs://campus-data@madsstorage002.blob.core.windows.net/msd/audio/features/msd-jmir-mfcc-all-v1.0.csv\n",
      "drwxrwxrwx   -          0 1970-01-01 12:00 wasbs://campus-data@madsstorage002.blob.core.windows.net/msd/audio/features/msd-jmir-spectral-all-all-v1.0.csv\n",
      "drwxrwxrwx   -          0 1970-01-01 12:00 wasbs://campus-data@madsstorage002.blob.core.windows.net/msd/audio/features/msd-jmir-spectral-derivatives-all-all-v1.0.csv\n",
      "drwxrwxrwx   -          0 1970-01-01 12:00 wasbs://campus-data@madsstorage002.blob.core.windows.net/msd/audio/features/msd-marsyas-timbral-v1.0.csv\n",
      "drwxrwxrwx   -          0 1970-01-01 12:00 wasbs://campus-data@madsstorage002.blob.core.windows.net/msd/audio/features/msd-mvd-v1.0.csv\n",
      "drwxrwxrwx   -          0 1970-01-01 12:00 wasbs://campus-data@madsstorage002.blob.core.windows.net/msd/audio/features/msd-rh-v1.0.csv\n",
      "drwxrwxrwx   -          0 1970-01-01 12:00 wasbs://campus-data@madsstorage002.blob.core.windows.net/msd/audio/features/msd-rp-v1.0.csv\n",
      "drwxrwxrwx   -          0 1970-01-01 12:00 wasbs://campus-data@madsstorage002.blob.core.windows.net/msd/audio/features/msd-ssd-v1.0.csv\n",
      "drwxrwxrwx   -          0 1970-01-01 12:00 wasbs://campus-data@madsstorage002.blob.core.windows.net/msd/audio/features/msd-trh-v1.0.csv\n",
      "drwxrwxrwx   -          0 1970-01-01 12:00 wasbs://campus-data@madsstorage002.blob.core.windows.net/msd/audio/features/msd-tssd-v1.0.csv\n"
     ]
    }
   ],
   "source": [
    "!hdfs dfs -ls {directory_path}/audio/features"
   ]
  },
  {
   "cell_type": "code",
   "execution_count": 38,
   "id": "53df899b-464e-4670-a579-b5a2962678c7",
   "metadata": {},
   "outputs": [],
   "source": [
    "# map data types defined in attribute files to spark data types\n",
    "TYPE_MAPPER = {\n",
    "    \"real\": FloatType(),\n",
    "    \"numeric\": FloatType(),\n",
    "    \"integer\": IntegerType(),\n",
    "    \"string\": StringType()\n",
    "}\n",
    "\n",
    "# function to format columns to snake case and add prefix\n",
    "def rename_columns(df, prefix):\n",
    "    new_names = []\n",
    "    \n",
    "    for old_name in df.columns:\n",
    "        # filters out alphanumeric characters and replace remaining (' ', '-', '_') with underscore '_'\n",
    "        # then converts everything to lower case \n",
    "        new_name = re.sub('[^0-9a-zA-Z]+', '_', old_name).lower()\n",
    "        new_names.append(f'{prefix}_{new_name}')\n",
    "\n",
    "    renamed_df = df.toDF(*new_names)\n",
    "    return renamed_df\n",
    "\n",
    "# single function to automate everything. This function loads the attributes, extracts the schema,\n",
    "# loads the associated feature and renames the columns\n",
    "# prepares and returns the dataset with formatted column names ready for use\n",
    "def load_feature(feature_name, prefix):\n",
    "    attributes = spark.read.csv(f'{directory_path}/audio/attributes/{feature_name}.attributes.csv')   \n",
    "\n",
    "    attributes_list = [(row._c0.strip(), row._c1.strip()) for row in attributes.collect()]\n",
    "\n",
    "    schema = StructType([\n",
    "        StructField(name, TYPE_MAPPER.get(dtype.lower(), StringType()), True)\n",
    "        for name, dtype in attributes_list\n",
    "    ])\n",
    "    \n",
    "    features = spark.read.csv(\n",
    "        f'{directory_path}/audio/features/{feature_name}.csv',\n",
    "        schema=schema,\n",
    "        header=False\n",
    "    )\n",
    "\n",
    "    renamed_features = rename_columns(features, prefix)\n",
    "\n",
    "    return renamed_features\n"
   ]
  },
  {
   "cell_type": "code",
   "execution_count": 39,
   "id": "9d859392-a7c5-4942-9f3e-fc6695353cd0",
   "metadata": {},
   "outputs": [],
   "source": [
    "jmom = load_feature('msd-jmir-area-of-moments-all-v1.0', prefix='jmom')"
   ]
  },
  {
   "cell_type": "code",
   "execution_count": 34,
   "id": "279225eb-e8b7-4807-ad8f-5cb0c4bcbcd5",
   "metadata": {},
   "outputs": [
    {
     "name": "stdout",
     "output_type": "stream",
     "text": [
      "root\n",
      " |-- jmom_area_method_of_moments_overall_standard_deviation_1: float (nullable = true)\n",
      " |-- jmom_area_method_of_moments_overall_standard_deviation_2: float (nullable = true)\n",
      " |-- jmom_area_method_of_moments_overall_standard_deviation_3: float (nullable = true)\n",
      " |-- jmom_area_method_of_moments_overall_standard_deviation_4: float (nullable = true)\n",
      " |-- jmom_area_method_of_moments_overall_standard_deviation_5: float (nullable = true)\n",
      " |-- jmom_area_method_of_moments_overall_standard_deviation_6: float (nullable = true)\n",
      " |-- jmom_area_method_of_moments_overall_standard_deviation_7: float (nullable = true)\n",
      " |-- jmom_area_method_of_moments_overall_standard_deviation_8: float (nullable = true)\n",
      " |-- jmom_area_method_of_moments_overall_standard_deviation_9: float (nullable = true)\n",
      " |-- jmom_area_method_of_moments_overall_standard_deviation_10: float (nullable = true)\n",
      " |-- jmom_area_method_of_moments_overall_average_1: float (nullable = true)\n",
      " |-- jmom_area_method_of_moments_overall_average_2: float (nullable = true)\n",
      " |-- jmom_area_method_of_moments_overall_average_3: float (nullable = true)\n",
      " |-- jmom_area_method_of_moments_overall_average_4: float (nullable = true)\n",
      " |-- jmom_area_method_of_moments_overall_average_5: float (nullable = true)\n",
      " |-- jmom_area_method_of_moments_overall_average_6: float (nullable = true)\n",
      " |-- jmom_area_method_of_moments_overall_average_7: float (nullable = true)\n",
      " |-- jmom_area_method_of_moments_overall_average_8: float (nullable = true)\n",
      " |-- jmom_area_method_of_moments_overall_average_9: float (nullable = true)\n",
      " |-- jmom_area_method_of_moments_overall_average_10: float (nullable = true)\n",
      " |-- jmom_msd_trackid: string (nullable = true)\n",
      "\n"
     ]
    }
   ],
   "source": [
    "jmom.printSchema()"
   ]
  },
  {
   "cell_type": "code",
   "execution_count": 35,
   "id": "856ece50-2ed4-4dca-b75b-24f8f3d63a9f",
   "metadata": {},
   "outputs": [
    {
     "name": "stdout",
     "output_type": "stream",
     "text": [
      "+--------------------------------------------------------+--------------------------------------------------------+--------------------------------------------------------+--------------------------------------------------------+--------------------------------------------------------+--------------------------------------------------------+--------------------------------------------------------+--------------------------------------------------------+--------------------------------------------------------+---------------------------------------------------------+---------------------------------------------+---------------------------------------------+---------------------------------------------+---------------------------------------------+---------------------------------------------+---------------------------------------------+---------------------------------------------+---------------------------------------------+---------------------------------------------+----------------------------------------------+--------------------+\n",
      "|jmom_area_method_of_moments_overall_standard_deviation_1|jmom_area_method_of_moments_overall_standard_deviation_2|jmom_area_method_of_moments_overall_standard_deviation_3|jmom_area_method_of_moments_overall_standard_deviation_4|jmom_area_method_of_moments_overall_standard_deviation_5|jmom_area_method_of_moments_overall_standard_deviation_6|jmom_area_method_of_moments_overall_standard_deviation_7|jmom_area_method_of_moments_overall_standard_deviation_8|jmom_area_method_of_moments_overall_standard_deviation_9|jmom_area_method_of_moments_overall_standard_deviation_10|jmom_area_method_of_moments_overall_average_1|jmom_area_method_of_moments_overall_average_2|jmom_area_method_of_moments_overall_average_3|jmom_area_method_of_moments_overall_average_4|jmom_area_method_of_moments_overall_average_5|jmom_area_method_of_moments_overall_average_6|jmom_area_method_of_moments_overall_average_7|jmom_area_method_of_moments_overall_average_8|jmom_area_method_of_moments_overall_average_9|jmom_area_method_of_moments_overall_average_10|jmom_msd_trackid    |\n",
      "+--------------------------------------------------------+--------------------------------------------------------+--------------------------------------------------------+--------------------------------------------------------+--------------------------------------------------------+--------------------------------------------------------+--------------------------------------------------------+--------------------------------------------------------+--------------------------------------------------------+---------------------------------------------------------+---------------------------------------------+---------------------------------------------+---------------------------------------------+---------------------------------------------+---------------------------------------------+---------------------------------------------+---------------------------------------------+---------------------------------------------+---------------------------------------------+----------------------------------------------+--------------------+\n",
      "|1.2                                                     |3355.0                                                  |26270.0                                                 |3.985E7                                                 |3.096E8                                                 |2.40300006E9                                            |8.7490003E11                                            |2.77500006E9                                            |2.15500001E10                                           |4.06400006E14                                            |3.201                                        |5746.0                                       |43470.0                                      |-4.422E7                                     |-3.376E8                                     |-2.576E9                                     |7.6650001E11                                 |3.01500006E9                                 |2.30199992E10                                |3.46000015E14                                 |'TRHFHQZ12903C9E2D5'|\n",
      "|0.9295                                                  |6720.0                                                  |44100.0                                                 |1.608E8                                                 |1.06E9                                                  |6.9849999E9                                             |7.0950002E12                                            |9.5449999E9                                             |6.2930002E10                                            |2.03700004E15                                            |2.666                                        |11580.0                                      |74040.0                                      |-1.792E8                                     |-1.15299994E9                                |-7.4200003E9                                 |6.2419999E12                                 |1.03699999E10                                |6.6800001E10                                 |1.69400006E15                                 |'TRHFHYX12903CAF953'|\n",
      "|1.883                                                   |6712.0                                                  |49060.0                                                 |1.606E8                                                 |1.176E9                                                 |8.6090004E9                                             |7.0829998E12                                            |1.05799997E10                                           |7.744E10                                                |2.78099991E15                                            |8.87                                         |11580.0                                      |85200.0                                      |-1.791E8                                     |-1.316E9                                     |-9.6600003E9                                 |6.233E12                                     |1.18200003E10                                |8.6799999E10                                 |2.463E15                                      |'TRHFHAU128F9341A0E'|\n",
      "|1.884                                                   |6722.0                                                  |56130.0                                                 |1.61E8                                                  |1.346E9                                                 |1.12699996E10                                           |7.1119998E12                                            |1.21100001E10                                           |1.01400003E11                                           |4.19299994E15                                            |4.328                                        |11600.0                                      |93320.0                                      |-1.797E8                                     |-1.45900006E9                                |-1.18500004E10                               |6.2619999E12                                 |1.31099996E10                                |1.06599997E11                                |3.43199992E15                                 |'TRHFHLP128F14947A7'|\n",
      "|1.52                                                    |6709.0                                                  |53230.0                                                 |1.605E8                                                 |1.29500006E9                                            |1.04499999E10                                           |7.076E12                                                |1.16400005E10                                           |9.3920002E10                                            |3.75100002E15                                            |8.452                                        |11580.0                                      |93650.0                                      |-1.79E8                                      |-1.44099994E9                                |-1.15899996E10                               |6.23E12                                      |1.29299999E10                                |1.04100004E11                                |3.24800003E15                                 |'TRHFHFF128F930AC11'|\n",
      "|1.363                                                   |6710.0                                                  |28750.0                                                 |1.605E8                                                 |6.9E8                                                   |2.96499994E9                                            |7.0750002E12                                            |6.1939999E9                                             |2.66300006E10                                           |5.62099986E14                                            |2.787                                        |11580.0                                      |49990.0                                      |-1.79E8                                      |-7.7129997E8                                 |-3.32199987E9                                |6.227E12                                     |6.92E9                                       |2.98300006E10                                |4.96999992E14                                 |'TRHFHYJ128F4234782'|\n",
      "|0.8262                                                  |3355.0                                                  |17310.0                                                 |3.993E7                                                 |2.08E8                                                  |1.082E9                                                 |8.7749997E11                                            |1.85699994E9                                            |9.6729999E9                                             |1.24799997E14                                            |2.137                                        |5759.0                                       |30380.0                                      |-4.438E7                                     |-2.328E8                                     |-1.22E9                                      |7.7000003E11                                 |2.07299994E9                                 |1.088E10                                     |1.10300003E14                                 |'TRHFHHR128F9339010'|\n",
      "|0.7786                                                  |6717.0                                                  |35320.0                                                 |1.609E8                                                 |8.322E8                                                 |4.3000003E9                                             |7.108E12                                                |7.48E9                                                  |3.867E10                                                |9.783E14                                                 |1.112                                        |11600.0                                      |60300.0                                      |-1.796E8                                     |-9.362E8                                     |-4.8780001E9                                 |6.259E12                                     |8.4169999E9                                  |4.389E10                                     |8.8119998E14                                  |'TRHFHMB128F4213BC9'|\n",
      "|0.7986                                                  |6712.0                                                  |21250.0                                                 |1.606E8                                                 |5.063E8                                                 |1.59500006E9                                            |7.0859998E12                                            |4.5430001E9                                             |1.432E10                                                |2.21599995E14                                            |2.462                                        |11580.0                                      |35580.0                                      |-1.791E8                                     |-5.544E8                                     |-1.714E9                                     |6.2350001E12                                 |4.9699999E9                                  |1.53900001E10                                |1.87399993E14                                 |'TRHFHWT128F429032D'|\n",
      "|1.778                                                   |6735.0                                                  |49540.0                                                 |1.617E8                                                 |1.21500006E9                                            |9.1349996E9                                             |7.1560001E12                                            |1.09299999E10                                           |8.2249998E10                                            |3.0680001E15                                             |4.074                                        |11630.0                                      |98780.0                                      |-1.804E8                                     |-1.478E9                                     |-1.21999995E10                               |6.302E12                                     |1.32999997E10                                |1.09899997E11                                |3.28800013E15                                 |'TRHFHKO12903CBAF09'|\n",
      "|2.191                                                   |6742.0                                                  |54680.0                                                 |1.621E8                                                 |1.30700006E9                                            |1.05200005E10                                           |7.188E12                                                |1.17700004E10                                           |9.4870004E10                                            |3.7559999E15                                             |5.563                                        |11650.0                                      |93180.0                                      |-1.811E8                                     |-1.454E9                                     |-1.16600003E10                               |6.3330001E12                                 |1.30800005E10                                |1.05000002E11                                |3.2850001E15                                  |'TRHFHOB128F425F027'|\n",
      "|1.106                                                   |1956.0                                                  |16440.0                                                 |1.31E7                                                  |1.11E8                                                  |9.392E8                                                 |1.63899998E11                                           |9.952E8                                                 |8.432E9                                                 |9.9819998E13                                             |1.439                                        |3237.0                                       |27660.0                                      |-1.428E7                                     |-1.216E8                                     |-1.033E9                                     |1.41799997E11                                |1.08700006E9                                 |9.2499999E9                                  |8.6830003E13                                  |'TRHFHTT128E0789A6E'|\n",
      "|1.702                                                   |3354.0                                                  |21520.0                                                 |3.996E7                                                 |2.622E8                                                 |1.71900006E9                                            |8.7890002E11                                            |2.34599987E9                                            |1.53900001E10                                           |2.51699998E14                                            |5.053                                        |5769.0                                       |37770.0                                      |-4.449E7                                     |-2.898E8                                     |-1.886E9                                     |7.7230001E11                                 |2.58599987E9                                 |1.68499999E10                                |2.13799999E14                                 |'TRHFHQQ128EF3601ED'|\n",
      "|1.3                                                     |6717.0                                                  |35630.0                                                 |1.608E8                                                 |8.5310003E8                                             |4.5240003E9                                             |7.099E12                                                |7.6700001E9                                             |4.069E10                                                |1.05400001E15                                            |4.314                                        |11590.0                                      |61920.0                                      |-1.793E8                                     |-9.566E8                                     |-5.0979999E9                                 |6.247E12                                     |8.5979996E9                                  |4.586E10                                     |9.4339997E14                                  |'TRHFHOX128F92E6483'|\n",
      "|1.295                                                   |6710.0                                                  |46460.0                                                 |1.606E8                                                 |1.116E9                                                 |7.7570002E9                                             |7.0810002E12                                            |1.00499999E10                                           |6.986E10                                                |2.38799994E15                                            |5.558                                        |11580.0                                      |79580.0                                      |-1.791E8                                     |-1.23299994E9                                |-8.4839997E9                                 |6.2339998E12                                 |1.10899999E10                                |7.6349997E10                                 |2.04699994E15                                 |'TRHFHSJ128F92EEFFD'|\n",
      "|0.4827                                                  |6723.0                                                  |60320.0                                                 |1.613E8                                                 |1.44899994E9                                            |1.30099999E10                                           |7.1270002E12                                            |1.30200003E10                                           |1.17000004E11                                           |5.1610002E15                                             |6.758                                        |11610.0                                      |105500.0                                     |-1.8E8                                       |-1.63100006E9                                |-1.47699999E10                               |6.2769998E12                                 |1.46500004E10                                |1.32699996E11                                |4.6370002E15                                  |'TRHFHVK128F425EA92'|\n",
      "|1.511                                                   |6715.0                                                  |46650.0                                                 |1.607E8                                                 |1.13E9                                                  |7.9459999E9                                             |7.0900001E12                                            |1.016E10                                                |7.1439999E10                                            |2.46600003E15                                            |2.891                                        |11580.0                                      |82820.0                                      |-1.791E8                                     |-1.272E9                                     |-9.0270003E9                                 |6.2369998E12                                 |1.14200003E10                                |8.1090003E10                                 |2.21300002E15                                 |'TRHFHRG128F931A920'|\n",
      "|1.395                                                   |3357.0                                                  |14420.0                                                 |3.998E7                                                 |1.71E8                                                  |7.316E8                                                 |8.7909997E11                                            |1.532E9                                                 |6.56E9                                                  |6.8219998E13                                             |3.519                                        |5763.0                                       |25150.0                                      |-4.444E7                                     |-1.932E8                                     |-8.3870003E8                                 |7.7160002E11                                 |1.72899994E9                                 |7.5149998E9                                  |6.2569998E13                                  |'TRHFHZI128F42ADA12'|\n",
      "|2.1                                                     |3356.0                                                  |25760.0                                                 |3.999E7                                                 |3.053E8                                                 |2.32899994E9                                            |8.7989997E11                                            |2.74099994E9                                            |2.09200005E10                                           |3.91200016E14                                            |6.412                                        |5765.0                                       |43040.0                                      |-4.446E7                                     |-3.343E8                                     |-2.512E9                                     |7.721E11                                     |2.99399987E9                                 |2.25200005E10                                |3.31999999E14                                 |'TRHFHIC128F149297B'|\n",
      "|0.6198                                                  |6712.0                                                  |29890.0                                                 |1.607E8                                                 |7.0790003E8                                             |3.11900006E9                                            |7.0909999E12                                            |6.3500001E9                                             |2.79899996E10                                           |6.002E14                                                 |1.494                                        |11590.0                                      |51670.0                                      |-1.793E8                                     |-7.992E8                                     |-3.55900006E9                                |6.2449999E12                                 |7.1699999E9                                  |3.19600005E10                                |5.48100003E14                                 |'TRHFHQX128F934415F'|\n",
      "+--------------------------------------------------------+--------------------------------------------------------+--------------------------------------------------------+--------------------------------------------------------+--------------------------------------------------------+--------------------------------------------------------+--------------------------------------------------------+--------------------------------------------------------+--------------------------------------------------------+---------------------------------------------------------+---------------------------------------------+---------------------------------------------+---------------------------------------------+---------------------------------------------+---------------------------------------------+---------------------------------------------+---------------------------------------------+---------------------------------------------+---------------------------------------------+----------------------------------------------+--------------------+\n",
      "only showing top 20 rows\n",
      "\n"
     ]
    }
   ],
   "source": [
    "jmom.show(20, False)"
   ]
  },
  {
   "cell_type": "code",
   "execution_count": 40,
   "id": "e0484b39-2b75-4af8-a1de-b1a7a2d19e4b",
   "metadata": {},
   "outputs": [
    {
     "name": "stderr",
     "output_type": "stream",
     "text": [
      "25/10/05 15:51:16 WARN ExecutorPodsWatchSnapshotSource: Kubernetes client has been closed.\n"
     ]
    },
    {
     "data": {
      "text/html": [
       "<p><b>Spark</b></p><p>The spark session is <b><span style=\"color:red\">stopped</span></b>, confirm that <code>rsh224 (notebook)</code> is under the completed applications section in the Spark UI.</p><ul><li><a href=\"http://mathmadslinux2p.canterbury.ac.nz:8080/\" target=\"_blank\">Spark UI</a></li></ul>"
      ],
      "text/plain": [
       "<IPython.core.display.HTML object>"
      ]
     },
     "metadata": {},
     "output_type": "display_data"
    }
   ],
   "source": [
    "stop_spark()"
   ]
  },
  {
   "cell_type": "code",
   "execution_count": null,
   "id": "92e5c44b-52c2-4a1a-b2e6-bbf55eb0f43d",
   "metadata": {},
   "outputs": [],
   "source": []
  }
 ],
 "metadata": {
  "kernelspec": {
   "display_name": "Python 3 (ipykernel)",
   "language": "python",
   "name": "python3"
  },
  "language_info": {
   "codemirror_mode": {
    "name": "ipython",
    "version": 3
   },
   "file_extension": ".py",
   "mimetype": "text/x-python",
   "name": "python",
   "nbconvert_exporter": "python",
   "pygments_lexer": "ipython3",
   "version": "3.8.10"
  }
 },
 "nbformat": 4,
 "nbformat_minor": 5
}
